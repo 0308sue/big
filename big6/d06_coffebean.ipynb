{
 "cells": [
  {
   "cell_type": "code",
   "execution_count": 1,
   "id": "41f85176",
   "metadata": {},
   "outputs": [],
   "source": [
    "from selenium import webdriver\n",
    "from unittest import result\n",
    "import requests\n",
    "import pymysql\n",
    "from bs4 import BeautifulSoup\n",
    "import time"
   ]
  },
  {
   "cell_type": "code",
   "execution_count": 2,
   "id": "3cc3a233",
   "metadata": {},
   "outputs": [
    {
     "name": "stderr",
     "output_type": "stream",
     "text": [
      "C:\\Users\\admin\\AppData\\Local\\Temp\\ipykernel_2480\\1981463026.py:5: DeprecationWarning: executable_path has been deprecated, please pass in a Service object\n",
      "  driver=webdriver.Chrome(path)\n"
     ]
    },
    {
     "name": "stdout",
     "output_type": "stream",
     "text": [
      "학동역 DT점\n",
      "차병원점\n",
      "강남대로점\n"
     ]
    }
   ],
   "source": [
    "def coffeebean_store(result):\n",
    "    CoffeeBean_URL = 'https://www.coffeebeankorea.com/store/store.asp'\n",
    "    \n",
    "    path = 'D:\\\\chromdriver\\\\chromedriver_win32\\\\chromedriver.exe'\n",
    "    driver=webdriver.Chrome(path)\n",
    "    \n",
    "    for i in range(1,10):\n",
    "        driver.get(CoffeeBean_URL)\n",
    "        time.sleep(2)\n",
    "        try:\n",
    "            driver.execute_script('storePop2(%d)'%i)\n",
    "            time.sleep(2)\n",
    "            html = driver.page_source\n",
    "            soupCB = BeautifulSoup(html,'html.parser')\n",
    "            store_name_h2 = soupCB.select('div.store_txt > h2')\n",
    "            store_name = store_name_h2[0].string\n",
    "            print(store_name)\n",
    "        except:\n",
    "            continue\n",
    "    return\n",
    "result = []\n",
    "coffeebean_store(result)\n",
    "    "
   ]
  },
  {
   "cell_type": "code",
   "execution_count": null,
   "id": "17ae00aa",
   "metadata": {},
   "outputs": [],
   "source": []
  }
 ],
 "metadata": {
  "kernelspec": {
   "display_name": "Python 3 (ipykernel)",
   "language": "python",
   "name": "python3"
  },
  "language_info": {
   "codemirror_mode": {
    "name": "ipython",
    "version": 3
   },
   "file_extension": ".py",
   "mimetype": "text/x-python",
   "name": "python",
   "nbconvert_exporter": "python",
   "pygments_lexer": "ipython3",
   "version": "3.9.12"
  }
 },
 "nbformat": 4,
 "nbformat_minor": 5
}
