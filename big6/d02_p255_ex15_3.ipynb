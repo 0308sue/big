{
 "cells": [
  {
   "cell_type": "code",
   "execution_count": 1,
   "id": "ad8ce234",
   "metadata": {},
   "outputs": [
    {
     "name": "stdout",
     "output_type": "stream",
     "text": [
      "['sepal length (cm)', 'sepal width (cm)', 'petal length (cm)', 'petal width (cm)']\n",
      "['setosa' 'versicolor' 'virginica']\n",
      "[5.1 3.5 1.4 0.2]\n",
      "0\n"
     ]
    }
   ],
   "source": [
    "from sklearn.datasets import load_iris\n",
    "iris = load_iris()\n",
    "print(iris.feature_names)\n",
    "print(iris.target_names)\n",
    "print(iris.data[0])\n",
    "print(iris.target[0])"
   ]
  },
  {
   "cell_type": "code",
   "execution_count": 2,
   "id": "4b628c8b",
   "metadata": {},
   "outputs": [
    {
     "name": "stdout",
     "output_type": "stream",
     "text": [
      "Example 0 : label 0 , features [5.1 3.5 1.4 0.2]\n",
      "Example 1 : label 0 , features [4.9 3.  1.4 0.2]\n",
      "Example 2 : label 0 , features [4.7 3.2 1.3 0.2]\n",
      "Example 3 : label 0 , features [4.6 3.1 1.5 0.2]\n",
      "Example 4 : label 0 , features [5.  3.6 1.4 0.2]\n",
      "Example 5 : label 0 , features [5.4 3.9 1.7 0.4]\n",
      "Example 6 : label 0 , features [4.6 3.4 1.4 0.3]\n",
      "Example 7 : label 0 , features [5.  3.4 1.5 0.2]\n",
      "Example 8 : label 0 , features [4.4 2.9 1.4 0.2]\n",
      "Example 9 : label 0 , features [4.9 3.1 1.5 0.1]\n",
      "Example 10 : label 0 , features [5.4 3.7 1.5 0.2]\n",
      "Example 11 : label 0 , features [4.8 3.4 1.6 0.2]\n",
      "Example 12 : label 0 , features [4.8 3.  1.4 0.1]\n",
      "Example 13 : label 0 , features [4.3 3.  1.1 0.1]\n",
      "Example 14 : label 0 , features [5.8 4.  1.2 0.2]\n",
      "Example 15 : label 0 , features [5.7 4.4 1.5 0.4]\n",
      "Example 16 : label 0 , features [5.4 3.9 1.3 0.4]\n",
      "Example 17 : label 0 , features [5.1 3.5 1.4 0.3]\n",
      "Example 18 : label 0 , features [5.7 3.8 1.7 0.3]\n",
      "Example 19 : label 0 , features [5.1 3.8 1.5 0.3]\n",
      "Example 20 : label 0 , features [5.4 3.4 1.7 0.2]\n",
      "Example 21 : label 0 , features [5.1 3.7 1.5 0.4]\n",
      "Example 22 : label 0 , features [4.6 3.6 1.  0.2]\n",
      "Example 23 : label 0 , features [5.1 3.3 1.7 0.5]\n",
      "Example 24 : label 0 , features [4.8 3.4 1.9 0.2]\n",
      "Example 25 : label 0 , features [5.  3.  1.6 0.2]\n",
      "Example 26 : label 0 , features [5.  3.4 1.6 0.4]\n",
      "Example 27 : label 0 , features [5.2 3.5 1.5 0.2]\n",
      "Example 28 : label 0 , features [5.2 3.4 1.4 0.2]\n",
      "Example 29 : label 0 , features [4.7 3.2 1.6 0.2]\n",
      "Example 30 : label 0 , features [4.8 3.1 1.6 0.2]\n",
      "Example 31 : label 0 , features [5.4 3.4 1.5 0.4]\n",
      "Example 32 : label 0 , features [5.2 4.1 1.5 0.1]\n",
      "Example 33 : label 0 , features [5.5 4.2 1.4 0.2]\n",
      "Example 34 : label 0 , features [4.9 3.1 1.5 0.2]\n",
      "Example 35 : label 0 , features [5.  3.2 1.2 0.2]\n",
      "Example 36 : label 0 , features [5.5 3.5 1.3 0.2]\n",
      "Example 37 : label 0 , features [4.9 3.6 1.4 0.1]\n",
      "Example 38 : label 0 , features [4.4 3.  1.3 0.2]\n",
      "Example 39 : label 0 , features [5.1 3.4 1.5 0.2]\n",
      "Example 40 : label 0 , features [5.  3.5 1.3 0.3]\n",
      "Example 41 : label 0 , features [4.5 2.3 1.3 0.3]\n",
      "Example 42 : label 0 , features [4.4 3.2 1.3 0.2]\n",
      "Example 43 : label 0 , features [5.  3.5 1.6 0.6]\n",
      "Example 44 : label 0 , features [5.1 3.8 1.9 0.4]\n",
      "Example 45 : label 0 , features [4.8 3.  1.4 0.3]\n",
      "Example 46 : label 0 , features [5.1 3.8 1.6 0.2]\n",
      "Example 47 : label 0 , features [4.6 3.2 1.4 0.2]\n",
      "Example 48 : label 0 , features [5.3 3.7 1.5 0.2]\n",
      "Example 49 : label 0 , features [5.  3.3 1.4 0.2]\n",
      "Example 50 : label 1 , features [7.  3.2 4.7 1.4]\n",
      "Example 51 : label 1 , features [6.4 3.2 4.5 1.5]\n",
      "Example 52 : label 1 , features [6.9 3.1 4.9 1.5]\n",
      "Example 53 : label 1 , features [5.5 2.3 4.  1.3]\n",
      "Example 54 : label 1 , features [6.5 2.8 4.6 1.5]\n",
      "Example 55 : label 1 , features [5.7 2.8 4.5 1.3]\n",
      "Example 56 : label 1 , features [6.3 3.3 4.7 1.6]\n",
      "Example 57 : label 1 , features [4.9 2.4 3.3 1. ]\n",
      "Example 58 : label 1 , features [6.6 2.9 4.6 1.3]\n",
      "Example 59 : label 1 , features [5.2 2.7 3.9 1.4]\n",
      "Example 60 : label 1 , features [5.  2.  3.5 1. ]\n",
      "Example 61 : label 1 , features [5.9 3.  4.2 1.5]\n",
      "Example 62 : label 1 , features [6.  2.2 4.  1. ]\n",
      "Example 63 : label 1 , features [6.1 2.9 4.7 1.4]\n",
      "Example 64 : label 1 , features [5.6 2.9 3.6 1.3]\n",
      "Example 65 : label 1 , features [6.7 3.1 4.4 1.4]\n",
      "Example 66 : label 1 , features [5.6 3.  4.5 1.5]\n",
      "Example 67 : label 1 , features [5.8 2.7 4.1 1. ]\n",
      "Example 68 : label 1 , features [6.2 2.2 4.5 1.5]\n",
      "Example 69 : label 1 , features [5.6 2.5 3.9 1.1]\n",
      "Example 70 : label 1 , features [5.9 3.2 4.8 1.8]\n",
      "Example 71 : label 1 , features [6.1 2.8 4.  1.3]\n",
      "Example 72 : label 1 , features [6.3 2.5 4.9 1.5]\n",
      "Example 73 : label 1 , features [6.1 2.8 4.7 1.2]\n",
      "Example 74 : label 1 , features [6.4 2.9 4.3 1.3]\n",
      "Example 75 : label 1 , features [6.6 3.  4.4 1.4]\n",
      "Example 76 : label 1 , features [6.8 2.8 4.8 1.4]\n",
      "Example 77 : label 1 , features [6.7 3.  5.  1.7]\n",
      "Example 78 : label 1 , features [6.  2.9 4.5 1.5]\n",
      "Example 79 : label 1 , features [5.7 2.6 3.5 1. ]\n",
      "Example 80 : label 1 , features [5.5 2.4 3.8 1.1]\n",
      "Example 81 : label 1 , features [5.5 2.4 3.7 1. ]\n",
      "Example 82 : label 1 , features [5.8 2.7 3.9 1.2]\n",
      "Example 83 : label 1 , features [6.  2.7 5.1 1.6]\n",
      "Example 84 : label 1 , features [5.4 3.  4.5 1.5]\n",
      "Example 85 : label 1 , features [6.  3.4 4.5 1.6]\n",
      "Example 86 : label 1 , features [6.7 3.1 4.7 1.5]\n",
      "Example 87 : label 1 , features [6.3 2.3 4.4 1.3]\n",
      "Example 88 : label 1 , features [5.6 3.  4.1 1.3]\n",
      "Example 89 : label 1 , features [5.5 2.5 4.  1.3]\n",
      "Example 90 : label 1 , features [5.5 2.6 4.4 1.2]\n",
      "Example 91 : label 1 , features [6.1 3.  4.6 1.4]\n",
      "Example 92 : label 1 , features [5.8 2.6 4.  1.2]\n",
      "Example 93 : label 1 , features [5.  2.3 3.3 1. ]\n",
      "Example 94 : label 1 , features [5.6 2.7 4.2 1.3]\n",
      "Example 95 : label 1 , features [5.7 3.  4.2 1.2]\n",
      "Example 96 : label 1 , features [5.7 2.9 4.2 1.3]\n",
      "Example 97 : label 1 , features [6.2 2.9 4.3 1.3]\n",
      "Example 98 : label 1 , features [5.1 2.5 3.  1.1]\n",
      "Example 99 : label 1 , features [5.7 2.8 4.1 1.3]\n",
      "Example 100 : label 2 , features [6.3 3.3 6.  2.5]\n",
      "Example 101 : label 2 , features [5.8 2.7 5.1 1.9]\n",
      "Example 102 : label 2 , features [7.1 3.  5.9 2.1]\n",
      "Example 103 : label 2 , features [6.3 2.9 5.6 1.8]\n",
      "Example 104 : label 2 , features [6.5 3.  5.8 2.2]\n",
      "Example 105 : label 2 , features [7.6 3.  6.6 2.1]\n",
      "Example 106 : label 2 , features [4.9 2.5 4.5 1.7]\n",
      "Example 107 : label 2 , features [7.3 2.9 6.3 1.8]\n",
      "Example 108 : label 2 , features [6.7 2.5 5.8 1.8]\n",
      "Example 109 : label 2 , features [7.2 3.6 6.1 2.5]\n",
      "Example 110 : label 2 , features [6.5 3.2 5.1 2. ]\n",
      "Example 111 : label 2 , features [6.4 2.7 5.3 1.9]\n",
      "Example 112 : label 2 , features [6.8 3.  5.5 2.1]\n",
      "Example 113 : label 2 , features [5.7 2.5 5.  2. ]\n",
      "Example 114 : label 2 , features [5.8 2.8 5.1 2.4]\n",
      "Example 115 : label 2 , features [6.4 3.2 5.3 2.3]\n",
      "Example 116 : label 2 , features [6.5 3.  5.5 1.8]\n",
      "Example 117 : label 2 , features [7.7 3.8 6.7 2.2]\n",
      "Example 118 : label 2 , features [7.7 2.6 6.9 2.3]\n",
      "Example 119 : label 2 , features [6.  2.2 5.  1.5]\n",
      "Example 120 : label 2 , features [6.9 3.2 5.7 2.3]\n",
      "Example 121 : label 2 , features [5.6 2.8 4.9 2. ]\n",
      "Example 122 : label 2 , features [7.7 2.8 6.7 2. ]\n",
      "Example 123 : label 2 , features [6.3 2.7 4.9 1.8]\n",
      "Example 124 : label 2 , features [6.7 3.3 5.7 2.1]\n",
      "Example 125 : label 2 , features [7.2 3.2 6.  1.8]\n",
      "Example 126 : label 2 , features [6.2 2.8 4.8 1.8]\n",
      "Example 127 : label 2 , features [6.1 3.  4.9 1.8]\n",
      "Example 128 : label 2 , features [6.4 2.8 5.6 2.1]\n",
      "Example 129 : label 2 , features [7.2 3.  5.8 1.6]\n",
      "Example 130 : label 2 , features [7.4 2.8 6.1 1.9]\n",
      "Example 131 : label 2 , features [7.9 3.8 6.4 2. ]\n",
      "Example 132 : label 2 , features [6.4 2.8 5.6 2.2]\n",
      "Example 133 : label 2 , features [6.3 2.8 5.1 1.5]\n",
      "Example 134 : label 2 , features [6.1 2.6 5.6 1.4]\n",
      "Example 135 : label 2 , features [7.7 3.  6.1 2.3]\n",
      "Example 136 : label 2 , features [6.3 3.4 5.6 2.4]\n",
      "Example 137 : label 2 , features [6.4 3.1 5.5 1.8]\n",
      "Example 138 : label 2 , features [6.  3.  4.8 1.8]\n",
      "Example 139 : label 2 , features [6.9 3.1 5.4 2.1]\n",
      "Example 140 : label 2 , features [6.7 3.1 5.6 2.4]\n",
      "Example 141 : label 2 , features [6.9 3.1 5.1 2.3]\n",
      "Example 142 : label 2 , features [5.8 2.7 5.1 1.9]\n",
      "Example 143 : label 2 , features [6.8 3.2 5.9 2.3]\n",
      "Example 144 : label 2 , features [6.7 3.3 5.7 2.5]\n",
      "Example 145 : label 2 , features [6.7 3.  5.2 2.3]\n",
      "Example 146 : label 2 , features [6.3 2.5 5.  1.9]\n",
      "Example 147 : label 2 , features [6.5 3.  5.2 2. ]\n",
      "Example 148 : label 2 , features [6.2 3.4 5.4 2.3]\n",
      "Example 149 : label 2 , features [5.9 3.  5.1 1.8]\n"
     ]
    }
   ],
   "source": [
    "for i in range(len(iris.target)):\n",
    "    print(\"Example %d : label %s , features %s\" %(i,iris.target[i],iris.data[i]))"
   ]
  },
  {
   "cell_type": "code",
   "execution_count": 3,
   "id": "d4cdc074",
   "metadata": {},
   "outputs": [
    {
     "name": "stdout",
     "output_type": "stream",
     "text": [
      "[0 1 2]\n",
      "[0 1 2]\n"
     ]
    }
   ],
   "source": [
    "import numpy as np\n",
    "test = [0,50,100]\n",
    "#training data 준비과정\n",
    "#세 개의 데이터들을 데이터 변수에서 제거\n",
    "train_data = np.delete(iris.data,test,axis =0)\n",
    "train_target = np.delete(iris.target,test,axis =0)\n",
    "\n",
    "#test data 준비\n",
    "test_data = iris.data[test]\n",
    "test_target = iris.target[test]\n",
    "\n",
    "#결정 트리 생성\n",
    "from sklearn import tree\n",
    "\n",
    "clf = tree.DecisionTreeClassifier()\n",
    "clf.fit(train_data,train_target)\n",
    "\n",
    "print(test_target)\n",
    "print(clf.predict(test_data))"
   ]
  },
  {
   "cell_type": "code",
   "execution_count": 4,
   "id": "6c94f09d",
   "metadata": {},
   "outputs": [
    {
     "name": "stdout",
     "output_type": "stream",
     "text": [
      "[1 2 3 4]\n",
      "[1 3 2 4]\n"
     ]
    }
   ],
   "source": [
    "#p.259\n",
    "a = np.array([[1,2],[3,4]])\n",
    "print(a.flatten('C'))\n",
    "print(a.flatten('F'))"
   ]
  },
  {
   "cell_type": "code",
   "execution_count": 5,
   "id": "17e84a28",
   "metadata": {},
   "outputs": [
    {
     "data": {
      "text/plain": [
       "<function matplotlib.pyplot.legend(*args, **kwargs)>"
      ]
     },
     "execution_count": 5,
     "metadata": {},
     "output_type": "execute_result"
    },
    {
     "data": {
      "image/png": "[encoded data removed]",
      "text/plain": [
       "<Figure size 432x288 with 1 Axes>"
      ]
     },
     "metadata": {
      "needs_background": "light"
     },
     "output_type": "display_data"
    }
   ],
   "source": [
    "import matplotlib.pyplot as plt\n",
    "sepal = iris.data[:,0:2]\n",
    "kind = iris.target\n",
    "plt.xlabel('Sepal Length')\n",
    "plt.ylabel('Sepal width')\n",
    "plt.plot(sepal[kind==0][:,0],sepal[kind==0][:,1],\"ro\",label=\"Setosa\")\n",
    "plt.plot(sepal[kind==1][:,0],sepal[kind==1][:,1],\"bo\",label=\"Versicolor\")\n",
    "plt.plot(sepal[kind==2][:,0],sepal[kind==2][:,1],\"yo\",label=\"Verginica\")\n",
    "plt.legend"
   ]
  },
  {
   "cell_type": "code",
   "execution_count": 6,
   "id": "b33519ad",
   "metadata": {},
   "outputs": [
    {
     "data": {
      "image/svg+xml": [
       "<?xml version=\"1.0\" encoding=\"UTF-8\" standalone=\"no\"?>\n",
       "<!DOCTYPE svg PUBLIC \"-//W3C//DTD SVG 1.1//EN\"\n",
       " \"http://www.w3.org/Graphics/SVG/1.1/DTD/svg11.dtd\">\n",
       "<!-- Generated by graphviz version 2.50.0 (20211204.2007)\n",
       " -->\n",
       "<!-- Title: Tree Pages: 1 -->\n",
       "<svg width=\"892pt\" height=\"671pt\"\n",
       " viewBox=\"0.00 0.00 892.00 671.00\" xmlns=\"http://www.w3.org/2000/svg\" xmlns:xlink=\"http://www.w3.org/1999/xlink\">\n",
       "<g id=\"graph0\" class=\"graph\" transform=\"scale(1 1) rotate(0) translate(4 667)\">\n",
       "<title>Tree</title>\n",
       "<polygon fill=\"white\" stroke=\"transparent\" points=\"-4,4 -4,-667 888,-667 888,4 -4,4\"/>\n",
       "<!-- 0 -->\n",
       "<g id=\"node1\" class=\"node\">\n",
       "<title>0</title>\n",
       "<path fill=\"#ffffff\" stroke=\"black\" d=\"M536,-663C536,-663 395,-663 395,-663 389,-663 383,-657 383,-651 383,-651 383,-592 383,-592 383,-586 389,-580 395,-580 395,-580 536,-580 536,-580 542,-580 548,-586 548,-592 548,-592 548,-651 548,-651 548,-657 542,-663 536,-663\"/>\n",
       "<text text-anchor=\"start\" x=\"391\" y=\"-647.8\" font-family=\"Helvetica,sans-Serif\" font-size=\"14.00\">petal length (cm) ≤ 2.45</text>\n",
       "<text text-anchor=\"start\" x=\"428\" y=\"-632.8\" font-family=\"Helvetica,sans-Serif\" font-size=\"14.00\">gini = 0.667</text>\n",
       "<text text-anchor=\"start\" x=\"418\" y=\"-617.8\" font-family=\"Helvetica,sans-Serif\" font-size=\"14.00\">samples = 147</text>\n",
       "<text text-anchor=\"start\" x=\"405\" y=\"-602.8\" font-family=\"Helvetica,sans-Serif\" font-size=\"14.00\">value = [49, 49, 49]</text>\n",
       "<text text-anchor=\"start\" x=\"419.5\" y=\"-587.8\" font-family=\"Helvetica,sans-Serif\" font-size=\"14.00\">class = setosa</text>\n",
       "</g>\n",
       "<!-- 1 -->\n",
       "<g id=\"node2\" class=\"node\">\n",
       "<title>1</title>\n",
       "<path fill=\"#e58139\" stroke=\"black\" d=\"M435,-536.5C435,-536.5 338,-536.5 338,-536.5 332,-536.5 326,-530.5 326,-524.5 326,-524.5 326,-480.5 326,-480.5 326,-474.5 332,-468.5 338,-468.5 338,-468.5 435,-468.5 435,-468.5 441,-468.5 447,-474.5 447,-480.5 447,-480.5 447,-524.5 447,-524.5 447,-530.5 441,-536.5 435,-536.5\"/>\n",
       "<text text-anchor=\"start\" x=\"357.5\" y=\"-521.3\" font-family=\"Helvetica,sans-Serif\" font-size=\"14.00\">gini = 0.0</text>\n",
       "<text text-anchor=\"start\" x=\"343\" y=\"-506.3\" font-family=\"Helvetica,sans-Serif\" font-size=\"14.00\">samples = 49</text>\n",
       "<text text-anchor=\"start\" x=\"334\" y=\"-491.3\" font-family=\"Helvetica,sans-Serif\" font-size=\"14.00\">value = [49, 0, 0]</text>\n",
       "<text text-anchor=\"start\" x=\"340.5\" y=\"-476.3\" font-family=\"Helvetica,sans-Serif\" font-size=\"14.00\">class = setosa</text>\n",
       "</g>\n",
       "<!-- 0&#45;&gt;1 -->\n",
       "<g id=\"edge1\" class=\"edge\">\n",
       "<title>0&#45;&gt;1</title>\n",
       "<path fill=\"none\" stroke=\"black\" d=\"M438.09,-579.91C430.49,-568.65 422.23,-556.42 414.59,-545.11\"/>\n",
       "<polygon fill=\"black\" stroke=\"black\" points=\"417.39,-543 408.89,-536.67 411.59,-546.91 417.39,-543\"/>\n",
       "<text text-anchor=\"middle\" x=\"404.14\" y=\"-557.51\" font-family=\"Helvetica,sans-Serif\" font-size=\"14.00\">True</text>\n",
       "</g>\n",
       "<!-- 2 -->\n",
       "<g id=\"node3\" class=\"node\">\n",
       "<title>2</title>\n",
       "<path fill=\"#ffffff\" stroke=\"black\" d=\"M612,-544C612,-544 477,-544 477,-544 471,-544 465,-538 465,-532 465,-532 465,-473 465,-473 465,-467 471,-461 477,-461 477,-461 612,-461 612,-461 618,-461 624,-467 624,-473 624,-473 624,-532 624,-532 624,-538 618,-544 612,-544\"/>\n",
       "<text text-anchor=\"start\" x=\"473\" y=\"-528.8\" font-family=\"Helvetica,sans-Serif\" font-size=\"14.00\">petal width (cm) ≤ 1.75</text>\n",
       "<text text-anchor=\"start\" x=\"515.5\" y=\"-513.8\" font-family=\"Helvetica,sans-Serif\" font-size=\"14.00\">gini = 0.5</text>\n",
       "<text text-anchor=\"start\" x=\"501\" y=\"-498.8\" font-family=\"Helvetica,sans-Serif\" font-size=\"14.00\">samples = 98</text>\n",
       "<text text-anchor=\"start\" x=\"488\" y=\"-483.8\" font-family=\"Helvetica,sans-Serif\" font-size=\"14.00\">value = [0, 49, 49]</text>\n",
       "<text text-anchor=\"start\" x=\"489\" y=\"-468.8\" font-family=\"Helvetica,sans-Serif\" font-size=\"14.00\">class = versicolor</text>\n",
       "</g>\n",
       "<!-- 0&#45;&gt;2 -->\n",
       "<g id=\"edge2\" class=\"edge\">\n",
       "<title>0&#45;&gt;2</title>\n",
       "<path fill=\"none\" stroke=\"black\" d=\"M492.91,-579.91C498.91,-571.01 505.33,-561.51 511.53,-552.33\"/>\n",
       "<polygon fill=\"black\" stroke=\"black\" points=\"514.44,-554.27 517.14,-544.02 508.64,-550.35 514.44,-554.27\"/>\n",
       "<text text-anchor=\"middle\" x=\"521.9\" y=\"-564.86\" font-family=\"Helvetica,sans-Serif\" font-size=\"14.00\">False</text>\n",
       "</g>\n",
       "<!-- 3 -->\n",
       "<g id=\"node4\" class=\"node\">\n",
       "<title>3</title>\n",
       "<path fill=\"#4ee88e\" stroke=\"black\" d=\"M499,-425C499,-425 358,-425 358,-425 352,-425 346,-419 346,-413 346,-413 346,-354 346,-354 346,-348 352,-342 358,-342 358,-342 499,-342 499,-342 505,-342 511,-348 511,-354 511,-354 511,-413 511,-413 511,-419 505,-425 499,-425\"/>\n",
       "<text text-anchor=\"start\" x=\"354\" y=\"-409.8\" font-family=\"Helvetica,sans-Serif\" font-size=\"14.00\">petal length (cm) ≤ 4.95</text>\n",
       "<text text-anchor=\"start\" x=\"391\" y=\"-394.8\" font-family=\"Helvetica,sans-Serif\" font-size=\"14.00\">gini = 0.171</text>\n",
       "<text text-anchor=\"start\" x=\"385\" y=\"-379.8\" font-family=\"Helvetica,sans-Serif\" font-size=\"14.00\">samples = 53</text>\n",
       "<text text-anchor=\"start\" x=\"376\" y=\"-364.8\" font-family=\"Helvetica,sans-Serif\" font-size=\"14.00\">value = [0, 48, 5]</text>\n",
       "<text text-anchor=\"start\" x=\"373\" y=\"-349.8\" font-family=\"Helvetica,sans-Serif\" font-size=\"14.00\">class = versicolor</text>\n",
       "</g>\n",
       "<!-- 2&#45;&gt;3 -->\n",
       "<g id=\"edge3\" class=\"edge\">\n",
       "<title>2&#45;&gt;3</title>\n",
       "<path fill=\"none\" stroke=\"black\" d=\"M504.25,-460.91C495.08,-451.65 485.24,-441.73 475.8,-432.21\"/>\n",
       "<polygon fill=\"black\" stroke=\"black\" points=\"478.2,-429.66 468.67,-425.02 473.23,-434.59 478.2,-429.66\"/>\n",
       "</g>\n",
       "<!-- 12 -->\n",
       "<g id=\"node13\" class=\"node\">\n",
       "<title>12</title>\n",
       "<path fill=\"#843de6\" stroke=\"black\" d=\"M731,-425C731,-425 590,-425 590,-425 584,-425 578,-419 578,-413 578,-413 578,-354 578,-354 578,-348 584,-342 590,-342 590,-342 731,-342 731,-342 737,-342 743,-348 743,-354 743,-354 743,-413 743,-413 743,-419 737,-425 731,-425\"/>\n",
       "<text text-anchor=\"start\" x=\"586\" y=\"-409.8\" font-family=\"Helvetica,sans-Serif\" font-size=\"14.00\">petal length (cm) ≤ 4.85</text>\n",
       "<text text-anchor=\"start\" x=\"623\" y=\"-394.8\" font-family=\"Helvetica,sans-Serif\" font-size=\"14.00\">gini = 0.043</text>\n",
       "<text text-anchor=\"start\" x=\"617\" y=\"-379.8\" font-family=\"Helvetica,sans-Serif\" font-size=\"14.00\">samples = 45</text>\n",
       "<text text-anchor=\"start\" x=\"608\" y=\"-364.8\" font-family=\"Helvetica,sans-Serif\" font-size=\"14.00\">value = [0, 1, 44]</text>\n",
       "<text text-anchor=\"start\" x=\"610.5\" y=\"-349.8\" font-family=\"Helvetica,sans-Serif\" font-size=\"14.00\">class = virginica</text>\n",
       "</g>\n",
       "<!-- 2&#45;&gt;12 -->\n",
       "<g id=\"edge12\" class=\"edge\">\n",
       "<title>2&#45;&gt;12</title>\n",
       "<path fill=\"none\" stroke=\"black\" d=\"M584.75,-460.91C593.92,-451.65 603.76,-441.73 613.2,-432.21\"/>\n",
       "<polygon fill=\"black\" stroke=\"black\" points=\"615.77,-434.59 620.33,-425.02 610.8,-429.66 615.77,-434.59\"/>\n",
       "</g>\n",
       "<!-- 4 -->\n",
       "<g id=\"node5\" class=\"node\">\n",
       "<title>4</title>\n",
       "<path fill=\"#3de684\" stroke=\"black\" d=\"M271,-306C271,-306 136,-306 136,-306 130,-306 124,-300 124,-294 124,-294 124,-235 124,-235 124,-229 130,-223 136,-223 136,-223 271,-223 271,-223 277,-223 283,-229 283,-235 283,-235 283,-294 283,-294 283,-300 277,-306 271,-306\"/>\n",
       "<text text-anchor=\"start\" x=\"132\" y=\"-290.8\" font-family=\"Helvetica,sans-Serif\" font-size=\"14.00\">petal width (cm) ≤ 1.65</text>\n",
       "<text text-anchor=\"start\" x=\"166\" y=\"-275.8\" font-family=\"Helvetica,sans-Serif\" font-size=\"14.00\">gini = 0.042</text>\n",
       "<text text-anchor=\"start\" x=\"160\" y=\"-260.8\" font-family=\"Helvetica,sans-Serif\" font-size=\"14.00\">samples = 47</text>\n",
       "<text text-anchor=\"start\" x=\"151\" y=\"-245.8\" font-family=\"Helvetica,sans-Serif\" font-size=\"14.00\">value = [0, 46, 1]</text>\n",
       "<text text-anchor=\"start\" x=\"148\" y=\"-230.8\" font-family=\"Helvetica,sans-Serif\" font-size=\"14.00\">class = versicolor</text>\n",
       "</g>\n",
       "<!-- 3&#45;&gt;4 -->\n",
       "<g id=\"edge4\" class=\"edge\">\n",
       "<title>3&#45;&gt;4</title>\n",
       "<path fill=\"none\" stroke=\"black\" d=\"M350.44,-341.91C331.07,-331.83 310.19,-320.98 290.42,-310.7\"/>\n",
       "<polygon fill=\"black\" stroke=\"black\" points=\"291.91,-307.53 281.42,-306.02 288.68,-313.74 291.91,-307.53\"/>\n",
       "</g>\n",
       "<!-- 7 -->\n",
       "<g id=\"node8\" class=\"node\">\n",
       "<title>7</title>\n",
       "<path fill=\"#c09cf2\" stroke=\"black\" d=\"M496,-306C496,-306 361,-306 361,-306 355,-306 349,-300 349,-294 349,-294 349,-235 349,-235 349,-229 355,-223 361,-223 361,-223 496,-223 496,-223 502,-223 508,-229 508,-235 508,-235 508,-294 508,-294 508,-300 502,-306 496,-306\"/>\n",
       "<text text-anchor=\"start\" x=\"357\" y=\"-290.8\" font-family=\"Helvetica,sans-Serif\" font-size=\"14.00\">petal width (cm) ≤ 1.55</text>\n",
       "<text text-anchor=\"start\" x=\"391\" y=\"-275.8\" font-family=\"Helvetica,sans-Serif\" font-size=\"14.00\">gini = 0.444</text>\n",
       "<text text-anchor=\"start\" x=\"389\" y=\"-260.8\" font-family=\"Helvetica,sans-Serif\" font-size=\"14.00\">samples = 6</text>\n",
       "<text text-anchor=\"start\" x=\"380\" y=\"-245.8\" font-family=\"Helvetica,sans-Serif\" font-size=\"14.00\">value = [0, 2, 4]</text>\n",
       "<text text-anchor=\"start\" x=\"378.5\" y=\"-230.8\" font-family=\"Helvetica,sans-Serif\" font-size=\"14.00\">class = virginica</text>\n",
       "</g>\n",
       "<!-- 3&#45;&gt;7 -->\n",
       "<g id=\"edge7\" class=\"edge\">\n",
       "<title>3&#45;&gt;7</title>\n",
       "<path fill=\"none\" stroke=\"black\" d=\"M428.5,-341.91C428.5,-333.65 428.5,-324.86 428.5,-316.3\"/>\n",
       "<polygon fill=\"black\" stroke=\"black\" points=\"432,-316.02 428.5,-306.02 425,-316.02 432,-316.02\"/>\n",
       "</g>\n",
       "<!-- 5 -->\n",
       "<g id=\"node6\" class=\"node\">\n",
       "<title>5</title>\n",
       "<path fill=\"#39e581\" stroke=\"black\" d=\"M115,-179.5C115,-179.5 12,-179.5 12,-179.5 6,-179.5 0,-173.5 0,-167.5 0,-167.5 0,-123.5 0,-123.5 0,-117.5 6,-111.5 12,-111.5 12,-111.5 115,-111.5 115,-111.5 121,-111.5 127,-117.5 127,-123.5 127,-123.5 127,-167.5 127,-167.5 127,-173.5 121,-179.5 115,-179.5\"/>\n",
       "<text text-anchor=\"start\" x=\"34.5\" y=\"-164.3\" font-family=\"Helvetica,sans-Serif\" font-size=\"14.00\">gini = 0.0</text>\n",
       "<text text-anchor=\"start\" x=\"20\" y=\"-149.3\" font-family=\"Helvetica,sans-Serif\" font-size=\"14.00\">samples = 46</text>\n",
       "<text text-anchor=\"start\" x=\"11\" y=\"-134.3\" font-family=\"Helvetica,sans-Serif\" font-size=\"14.00\">value = [0, 46, 0]</text>\n",
       "<text text-anchor=\"start\" x=\"8\" y=\"-119.3\" font-family=\"Helvetica,sans-Serif\" font-size=\"14.00\">class = versicolor</text>\n",
       "</g>\n",
       "<!-- 4&#45;&gt;5 -->\n",
       "<g id=\"edge5\" class=\"edge\">\n",
       "<title>4&#45;&gt;5</title>\n",
       "<path fill=\"none\" stroke=\"black\" d=\"M154.93,-222.91C140.67,-210.99 125.09,-197.98 110.91,-186.12\"/>\n",
       "<polygon fill=\"black\" stroke=\"black\" points=\"113.1,-183.39 103.19,-179.67 108.62,-188.77 113.1,-183.39\"/>\n",
       "</g>\n",
       "<!-- 6 -->\n",
       "<g id=\"node7\" class=\"node\">\n",
       "<title>6</title>\n",
       "<path fill=\"#8139e5\" stroke=\"black\" d=\"M249.5,-179.5C249.5,-179.5 157.5,-179.5 157.5,-179.5 151.5,-179.5 145.5,-173.5 145.5,-167.5 145.5,-167.5 145.5,-123.5 145.5,-123.5 145.5,-117.5 151.5,-111.5 157.5,-111.5 157.5,-111.5 249.5,-111.5 249.5,-111.5 255.5,-111.5 261.5,-117.5 261.5,-123.5 261.5,-123.5 261.5,-167.5 261.5,-167.5 261.5,-173.5 255.5,-179.5 249.5,-179.5\"/>\n",
       "<text text-anchor=\"start\" x=\"174.5\" y=\"-164.3\" font-family=\"Helvetica,sans-Serif\" font-size=\"14.00\">gini = 0.0</text>\n",
       "<text text-anchor=\"start\" x=\"164\" y=\"-149.3\" font-family=\"Helvetica,sans-Serif\" font-size=\"14.00\">samples = 1</text>\n",
       "<text text-anchor=\"start\" x=\"155\" y=\"-134.3\" font-family=\"Helvetica,sans-Serif\" font-size=\"14.00\">value = [0, 0, 1]</text>\n",
       "<text text-anchor=\"start\" x=\"153.5\" y=\"-119.3\" font-family=\"Helvetica,sans-Serif\" font-size=\"14.00\">class = virginica</text>\n",
       "</g>\n",
       "<!-- 4&#45;&gt;6 -->\n",
       "<g id=\"edge6\" class=\"edge\">\n",
       "<title>4&#45;&gt;6</title>\n",
       "<path fill=\"none\" stroke=\"black\" d=\"M203.5,-222.91C203.5,-212.2 203.5,-200.62 203.5,-189.78\"/>\n",
       "<polygon fill=\"black\" stroke=\"black\" points=\"207,-189.67 203.5,-179.67 200,-189.67 207,-189.67\"/>\n",
       "</g>\n",
       "<!-- 8 -->\n",
       "<g id=\"node9\" class=\"node\">\n",
       "<title>8</title>\n",
       "<path fill=\"#8139e5\" stroke=\"black\" d=\"M383.5,-179.5C383.5,-179.5 291.5,-179.5 291.5,-179.5 285.5,-179.5 279.5,-173.5 279.5,-167.5 279.5,-167.5 279.5,-123.5 279.5,-123.5 279.5,-117.5 285.5,-111.5 291.5,-111.5 291.5,-111.5 383.5,-111.5 383.5,-111.5 389.5,-111.5 395.5,-117.5 395.5,-123.5 395.5,-123.5 395.5,-167.5 395.5,-167.5 395.5,-173.5 389.5,-179.5 383.5,-179.5\"/>\n",
       "<text text-anchor=\"start\" x=\"308.5\" y=\"-164.3\" font-family=\"Helvetica,sans-Serif\" font-size=\"14.00\">gini = 0.0</text>\n",
       "<text text-anchor=\"start\" x=\"298\" y=\"-149.3\" font-family=\"Helvetica,sans-Serif\" font-size=\"14.00\">samples = 3</text>\n",
       "<text text-anchor=\"start\" x=\"289\" y=\"-134.3\" font-family=\"Helvetica,sans-Serif\" font-size=\"14.00\">value = [0, 0, 3]</text>\n",
       "<text text-anchor=\"start\" x=\"287.5\" y=\"-119.3\" font-family=\"Helvetica,sans-Serif\" font-size=\"14.00\">class = virginica</text>\n",
       "</g>\n",
       "<!-- 7&#45;&gt;8 -->\n",
       "<g id=\"edge8\" class=\"edge\">\n",
       "<title>7&#45;&gt;8</title>\n",
       "<path fill=\"none\" stroke=\"black\" d=\"M396.93,-222.91C388.09,-211.54 378.47,-199.18 369.6,-187.77\"/>\n",
       "<polygon fill=\"black\" stroke=\"black\" points=\"372.2,-185.41 363.3,-179.67 366.67,-189.71 372.2,-185.41\"/>\n",
       "</g>\n",
       "<!-- 9 -->\n",
       "<g id=\"node10\" class=\"node\">\n",
       "<title>9</title>\n",
       "<path fill=\"#9cf2c0\" stroke=\"black\" d=\"M567,-187C567,-187 426,-187 426,-187 420,-187 414,-181 414,-175 414,-175 414,-116 414,-116 414,-110 420,-104 426,-104 426,-104 567,-104 567,-104 573,-104 579,-110 579,-116 579,-116 579,-175 579,-175 579,-181 573,-187 567,-187\"/>\n",
       "<text text-anchor=\"start\" x=\"422\" y=\"-171.8\" font-family=\"Helvetica,sans-Serif\" font-size=\"14.00\">petal length (cm) ≤ 5.45</text>\n",
       "<text text-anchor=\"start\" x=\"459\" y=\"-156.8\" font-family=\"Helvetica,sans-Serif\" font-size=\"14.00\">gini = 0.444</text>\n",
       "<text text-anchor=\"start\" x=\"457\" y=\"-141.8\" font-family=\"Helvetica,sans-Serif\" font-size=\"14.00\">samples = 3</text>\n",
       "<text text-anchor=\"start\" x=\"448\" y=\"-126.8\" font-family=\"Helvetica,sans-Serif\" font-size=\"14.00\">value = [0, 2, 1]</text>\n",
       "<text text-anchor=\"start\" x=\"441\" y=\"-111.8\" font-family=\"Helvetica,sans-Serif\" font-size=\"14.00\">class = versicolor</text>\n",
       "</g>\n",
       "<!-- 7&#45;&gt;9 -->\n",
       "<g id=\"edge9\" class=\"edge\">\n",
       "<title>7&#45;&gt;9</title>\n",
       "<path fill=\"none\" stroke=\"black\" d=\"M452.09,-222.91C457.16,-214.2 462.56,-204.9 467.79,-195.89\"/>\n",
       "<polygon fill=\"black\" stroke=\"black\" points=\"470.95,-197.43 472.95,-187.02 464.9,-193.91 470.95,-197.43\"/>\n",
       "</g>\n",
       "<!-- 10 -->\n",
       "<g id=\"node11\" class=\"node\">\n",
       "<title>10</title>\n",
       "<path fill=\"#39e581\" stroke=\"black\" d=\"M478,-68C478,-68 375,-68 375,-68 369,-68 363,-62 363,-56 363,-56 363,-12 363,-12 363,-6 369,0 375,0 375,0 478,0 478,0 484,0 490,-6 490,-12 490,-12 490,-56 490,-56 490,-62 484,-68 478,-68\"/>\n",
       "<text text-anchor=\"start\" x=\"397.5\" y=\"-52.8\" font-family=\"Helvetica,sans-Serif\" font-size=\"14.00\">gini = 0.0</text>\n",
       "<text text-anchor=\"start\" x=\"387\" y=\"-37.8\" font-family=\"Helvetica,sans-Serif\" font-size=\"14.00\">samples = 2</text>\n",
       "<text text-anchor=\"start\" x=\"378\" y=\"-22.8\" font-family=\"Helvetica,sans-Serif\" font-size=\"14.00\">value = [0, 2, 0]</text>\n",
       "<text text-anchor=\"start\" x=\"371\" y=\"-7.8\" font-family=\"Helvetica,sans-Serif\" font-size=\"14.00\">class = versicolor</text>\n",
       "</g>\n",
       "<!-- 9&#45;&gt;10 -->\n",
       "<g id=\"edge10\" class=\"edge\">\n",
       "<title>9&#45;&gt;10</title>\n",
       "<path fill=\"none\" stroke=\"black\" d=\"M470.43,-103.73C464.84,-94.97 458.91,-85.7 453.29,-76.91\"/>\n",
       "<polygon fill=\"black\" stroke=\"black\" points=\"456.12,-74.84 447.79,-68.3 450.22,-78.61 456.12,-74.84\"/>\n",
       "</g>\n",
       "<!-- 11 -->\n",
       "<g id=\"node12\" class=\"node\">\n",
       "<title>11</title>\n",
       "<path fill=\"#8139e5\" stroke=\"black\" d=\"M612.5,-68C612.5,-68 520.5,-68 520.5,-68 514.5,-68 508.5,-62 508.5,-56 508.5,-56 508.5,-12 508.5,-12 508.5,-6 514.5,0 520.5,0 520.5,0 612.5,0 612.5,0 618.5,0 624.5,-6 624.5,-12 624.5,-12 624.5,-56 624.5,-56 624.5,-62 618.5,-68 612.5,-68\"/>\n",
       "<text text-anchor=\"start\" x=\"537.5\" y=\"-52.8\" font-family=\"Helvetica,sans-Serif\" font-size=\"14.00\">gini = 0.0</text>\n",
       "<text text-anchor=\"start\" x=\"527\" y=\"-37.8\" font-family=\"Helvetica,sans-Serif\" font-size=\"14.00\">samples = 1</text>\n",
       "<text text-anchor=\"start\" x=\"518\" y=\"-22.8\" font-family=\"Helvetica,sans-Serif\" font-size=\"14.00\">value = [0, 0, 1]</text>\n",
       "<text text-anchor=\"start\" x=\"516.5\" y=\"-7.8\" font-family=\"Helvetica,sans-Serif\" font-size=\"14.00\">class = virginica</text>\n",
       "</g>\n",
       "<!-- 9&#45;&gt;11 -->\n",
       "<g id=\"edge11\" class=\"edge\">\n",
       "<title>9&#45;&gt;11</title>\n",
       "<path fill=\"none\" stroke=\"black\" d=\"M522.57,-103.73C528.16,-94.97 534.09,-85.7 539.71,-76.91\"/>\n",
       "<polygon fill=\"black\" stroke=\"black\" points=\"542.78,-78.61 545.21,-68.3 536.88,-74.84 542.78,-78.61\"/>\n",
       "</g>\n",
       "<!-- 13 -->\n",
       "<g id=\"node14\" class=\"node\">\n",
       "<title>13</title>\n",
       "<path fill=\"#c09cf2\" stroke=\"black\" d=\"M733,-306C733,-306 588,-306 588,-306 582,-306 576,-300 576,-294 576,-294 576,-235 576,-235 576,-229 582,-223 588,-223 588,-223 733,-223 733,-223 739,-223 745,-229 745,-235 745,-235 745,-294 745,-294 745,-300 739,-306 733,-306\"/>\n",
       "<text text-anchor=\"start\" x=\"584\" y=\"-290.8\" font-family=\"Helvetica,sans-Serif\" font-size=\"14.00\">sepal length (cm) ≤ 5.95</text>\n",
       "<text text-anchor=\"start\" x=\"623\" y=\"-275.8\" font-family=\"Helvetica,sans-Serif\" font-size=\"14.00\">gini = 0.444</text>\n",
       "<text text-anchor=\"start\" x=\"621\" y=\"-260.8\" font-family=\"Helvetica,sans-Serif\" font-size=\"14.00\">samples = 3</text>\n",
       "<text text-anchor=\"start\" x=\"612\" y=\"-245.8\" font-family=\"Helvetica,sans-Serif\" font-size=\"14.00\">value = [0, 1, 2]</text>\n",
       "<text text-anchor=\"start\" x=\"610.5\" y=\"-230.8\" font-family=\"Helvetica,sans-Serif\" font-size=\"14.00\">class = virginica</text>\n",
       "</g>\n",
       "<!-- 12&#45;&gt;13 -->\n",
       "<g id=\"edge13\" class=\"edge\">\n",
       "<title>12&#45;&gt;13</title>\n",
       "<path fill=\"none\" stroke=\"black\" d=\"M660.5,-341.91C660.5,-333.65 660.5,-324.86 660.5,-316.3\"/>\n",
       "<polygon fill=\"black\" stroke=\"black\" points=\"664,-316.02 660.5,-306.02 657,-316.02 664,-316.02\"/>\n",
       "</g>\n",
       "<!-- 16 -->\n",
       "<g id=\"node17\" class=\"node\">\n",
       "<title>16</title>\n",
       "<path fill=\"#8139e5\" stroke=\"black\" d=\"M872,-298.5C872,-298.5 775,-298.5 775,-298.5 769,-298.5 763,-292.5 763,-286.5 763,-286.5 763,-242.5 763,-242.5 763,-236.5 769,-230.5 775,-230.5 775,-230.5 872,-230.5 872,-230.5 878,-230.5 884,-236.5 884,-242.5 884,-242.5 884,-286.5 884,-286.5 884,-292.5 878,-298.5 872,-298.5\"/>\n",
       "<text text-anchor=\"start\" x=\"794.5\" y=\"-283.3\" font-family=\"Helvetica,sans-Serif\" font-size=\"14.00\">gini = 0.0</text>\n",
       "<text text-anchor=\"start\" x=\"780\" y=\"-268.3\" font-family=\"Helvetica,sans-Serif\" font-size=\"14.00\">samples = 42</text>\n",
       "<text text-anchor=\"start\" x=\"771\" y=\"-253.3\" font-family=\"Helvetica,sans-Serif\" font-size=\"14.00\">value = [0, 0, 42]</text>\n",
       "<text text-anchor=\"start\" x=\"773.5\" y=\"-238.3\" font-family=\"Helvetica,sans-Serif\" font-size=\"14.00\">class = virginica</text>\n",
       "</g>\n",
       "<!-- 12&#45;&gt;16 -->\n",
       "<g id=\"edge16\" class=\"edge\">\n",
       "<title>12&#45;&gt;16</title>\n",
       "<path fill=\"none\" stroke=\"black\" d=\"M717.05,-341.91C733.81,-329.88 752.12,-316.73 768.76,-304.79\"/>\n",
       "<polygon fill=\"black\" stroke=\"black\" points=\"771.21,-307.34 777.29,-298.67 767.13,-301.65 771.21,-307.34\"/>\n",
       "</g>\n",
       "<!-- 14 -->\n",
       "<g id=\"node15\" class=\"node\">\n",
       "<title>14</title>\n",
       "<path fill=\"#39e581\" stroke=\"black\" d=\"M712,-179.5C712,-179.5 609,-179.5 609,-179.5 603,-179.5 597,-173.5 597,-167.5 597,-167.5 597,-123.5 597,-123.5 597,-117.5 603,-111.5 609,-111.5 609,-111.5 712,-111.5 712,-111.5 718,-111.5 724,-117.5 724,-123.5 724,-123.5 724,-167.5 724,-167.5 724,-173.5 718,-179.5 712,-179.5\"/>\n",
       "<text text-anchor=\"start\" x=\"631.5\" y=\"-164.3\" font-family=\"Helvetica,sans-Serif\" font-size=\"14.00\">gini = 0.0</text>\n",
       "<text text-anchor=\"start\" x=\"621\" y=\"-149.3\" font-family=\"Helvetica,sans-Serif\" font-size=\"14.00\">samples = 1</text>\n",
       "<text text-anchor=\"start\" x=\"612\" y=\"-134.3\" font-family=\"Helvetica,sans-Serif\" font-size=\"14.00\">value = [0, 1, 0]</text>\n",
       "<text text-anchor=\"start\" x=\"605\" y=\"-119.3\" font-family=\"Helvetica,sans-Serif\" font-size=\"14.00\">class = versicolor</text>\n",
       "</g>\n",
       "<!-- 13&#45;&gt;14 -->\n",
       "<g id=\"edge14\" class=\"edge\">\n",
       "<title>13&#45;&gt;14</title>\n",
       "<path fill=\"none\" stroke=\"black\" d=\"M660.5,-222.91C660.5,-212.2 660.5,-200.62 660.5,-189.78\"/>\n",
       "<polygon fill=\"black\" stroke=\"black\" points=\"664,-189.67 660.5,-179.67 657,-189.67 664,-189.67\"/>\n",
       "</g>\n",
       "<!-- 15 -->\n",
       "<g id=\"node16\" class=\"node\">\n",
       "<title>15</title>\n",
       "<path fill=\"#8139e5\" stroke=\"black\" d=\"M846.5,-179.5C846.5,-179.5 754.5,-179.5 754.5,-179.5 748.5,-179.5 742.5,-173.5 742.5,-167.5 742.5,-167.5 742.5,-123.5 742.5,-123.5 742.5,-117.5 748.5,-111.5 754.5,-111.5 754.5,-111.5 846.5,-111.5 846.5,-111.5 852.5,-111.5 858.5,-117.5 858.5,-123.5 858.5,-123.5 858.5,-167.5 858.5,-167.5 858.5,-173.5 852.5,-179.5 846.5,-179.5\"/>\n",
       "<text text-anchor=\"start\" x=\"771.5\" y=\"-164.3\" font-family=\"Helvetica,sans-Serif\" font-size=\"14.00\">gini = 0.0</text>\n",
       "<text text-anchor=\"start\" x=\"761\" y=\"-149.3\" font-family=\"Helvetica,sans-Serif\" font-size=\"14.00\">samples = 2</text>\n",
       "<text text-anchor=\"start\" x=\"752\" y=\"-134.3\" font-family=\"Helvetica,sans-Serif\" font-size=\"14.00\">value = [0, 0, 2]</text>\n",
       "<text text-anchor=\"start\" x=\"750.5\" y=\"-119.3\" font-family=\"Helvetica,sans-Serif\" font-size=\"14.00\">class = virginica</text>\n",
       "</g>\n",
       "<!-- 13&#45;&gt;15 -->\n",
       "<g id=\"edge15\" class=\"edge\">\n",
       "<title>13&#45;&gt;15</title>\n",
       "<path fill=\"none\" stroke=\"black\" d=\"M709.07,-222.91C723.33,-210.99 738.91,-197.98 753.09,-186.12\"/>\n",
       "<polygon fill=\"black\" stroke=\"black\" points=\"755.38,-188.77 760.81,-179.67 750.9,-183.39 755.38,-188.77\"/>\n",
       "</g>\n",
       "</g>\n",
       "</svg>\n"
      ],
      "text/plain": [
       "<graphviz.sources.Source at 0x1de171c2a60>"
      ]
     },
     "execution_count": 6,
     "metadata": {},
     "output_type": "execute_result"
    }
   ],
   "source": [
    "# 시각화\n",
    "import graphviz\n",
    "dot_data = tree.export_graphviz(clf,out_file=None)\n",
    "graph = graphviz.Source(dot_data)\n",
    "graph.render(\"iris\")\n",
    "dot_data = tree.export_graphviz(clf,out_file=None,feature_names=iris.feature_names,class_names=iris.target_names,\n",
    "                                filled=True,rounded=True,special_characters=True)\n",
    "graph = graphviz.Source(dot_data)\n",
    "graph"
   ]
  },
  {
   "cell_type": "code",
   "execution_count": 7,
   "id": "76054808",
   "metadata": {},
   "outputs": [
    {
     "name": "stdout",
     "output_type": "stream",
     "text": [
      "[[ 0  1]\n",
      " [ 2  3]\n",
      " [ 4  5]\n",
      " [ 6  7]\n",
      " [ 8  9]\n",
      " [10 11]]\n",
      "[0, 1, 2, 3, 4, 5]\n"
     ]
    }
   ],
   "source": [
    "from sklearn.model_selection import train_test_split\n",
    "X = np.arange(12).reshape((6,2))\n",
    "print(X)\n",
    "Y = range(6)\n",
    "print(list(Y))"
   ]
  },
  {
   "cell_type": "code",
   "execution_count": 8,
   "id": "a00e841a",
   "metadata": {},
   "outputs": [
    {
     "name": "stdout",
     "output_type": "stream",
     "text": [
      "[[6 7]\n",
      " [0 1]\n",
      " [8 9]\n",
      " [2 3]]\n",
      "[[10 11]\n",
      " [ 4  5]]\n",
      "[3, 0, 4, 1]\n",
      "[5, 2]\n"
     ]
    }
   ],
   "source": [
    "X_train,X_test,Y_train,Y_test = train_test_split(X,Y,test_size=0.33)\n",
    "print(X_train)\n",
    "print(X_test)\n",
    "print(Y_train)\n",
    "print(Y_test)"
   ]
  },
  {
   "cell_type": "code",
   "execution_count": 9,
   "id": "43d4c585",
   "metadata": {},
   "outputs": [
    {
     "name": "stdout",
     "output_type": "stream",
     "text": [
      "예측 : \n",
      " [0 0 2 2 0 0 1 2 0 0 0 0 1 1 2 2 1 2 1 1 0 0 2 0 2 0 2 2 0 0 0 2 1 0 0 1 2\n",
      " 1 2 1 1 2 2 1 0 2 2 2 1 0]\n",
      "정답 : \n",
      " [0 0 2 2 0 0 1 2 0 0 0 0 1 1 2 2 1 2 1 1 0 0 2 0 1 0 2 2 0 0 0 2 1 0 0 1 2\n",
      " 1 2 1 1 2 2 1 0 2 2 1 1 0]\n"
     ]
    }
   ],
   "source": [
    "X = iris.data\n",
    "Y = iris.target\n",
    "X_train,X_test,Y_train,Y_test = train_test_split(X,Y,test_size=0.33)\n",
    "clf = tree.DecisionTreeClassifier()\n",
    "clf.fit(X_train,Y_train)\n",
    "predicts = clf.predict(X_test)\n",
    "print('예측 : \\n',predicts)\n",
    "print('정답 : \\n',Y_test)"
   ]
  },
  {
   "cell_type": "code",
   "execution_count": 10,
   "id": "ba12a680",
   "metadata": {},
   "outputs": [
    {
     "name": "stdout",
     "output_type": "stream",
     "text": [
      "0.9\n"
     ]
    }
   ],
   "source": [
    "from sklearn.metrics import accuracy_score\n",
    "a = [1,2,3,4,5,6,7,8,9,10]\n",
    "b = [1,2,4,4,5,6,7,8,9,10]\n",
    "print(accuracy_score(a,b))"
   ]
  },
  {
   "cell_type": "code",
   "execution_count": 11,
   "id": "4db15ce8",
   "metadata": {},
   "outputs": [
    {
     "name": "stdout",
     "output_type": "stream",
     "text": [
      "0.96\n",
      "0.96\n"
     ]
    }
   ],
   "source": [
    "print(accuracy_score(Y_test,predicts))\n",
    "print(accuracy_score(predicts,Y_test))"
   ]
  },
  {
   "cell_type": "code",
   "execution_count": 12,
   "id": "71e28815",
   "metadata": {},
   "outputs": [
    {
     "data": {
      "text/plain": [
       "KNeighborsClassifier(n_neighbors=3)"
      ]
     },
     "execution_count": 12,
     "metadata": {},
     "output_type": "execute_result"
    }
   ],
   "source": [
    "#최근접 이웃 탐색(Nearest Neighbor Search) 모델\n",
    "\n",
    "from sklearn.neighbors import KNeighborsClassifier\n",
    "X=[[0],[1],[2],[3],[4],[5]]\n",
    "Y=[0,0,0,1,1,1]\n",
    "neigh = KNeighborsClassifier(n_neighbors=3)\n",
    "neigh.fit(X,Y)\n"
   ]
  },
  {
   "cell_type": "code",
   "execution_count": 13,
   "id": "16e0df05",
   "metadata": {},
   "outputs": [
    {
     "name": "stdout",
     "output_type": "stream",
     "text": [
      "[1]\n"
     ]
    }
   ],
   "source": [
    "print(neigh.predict([[2.8]]))"
   ]
  },
  {
   "cell_type": "code",
   "execution_count": 14,
   "id": "c8e1880a",
   "metadata": {},
   "outputs": [
    {
     "name": "stdout",
     "output_type": "stream",
     "text": [
      "[[0.33333333 0.66666667]]\n"
     ]
    }
   ],
   "source": [
    "print(neigh.predict_proba([[2.8]]))"
   ]
  },
  {
   "cell_type": "code",
   "execution_count": 15,
   "id": "aa8763b1",
   "metadata": {},
   "outputs": [
    {
     "name": "stdout",
     "output_type": "stream",
     "text": [
      "[0]\n"
     ]
    }
   ],
   "source": [
    "print(neigh.predict([[2.3]]))"
   ]
  },
  {
   "cell_type": "code",
   "execution_count": 16,
   "id": "164205dd",
   "metadata": {},
   "outputs": [
    {
     "name": "stdout",
     "output_type": "stream",
     "text": [
      "[[0.66666667 0.33333333]]\n"
     ]
    }
   ],
   "source": [
    "print(neigh.predict_proba([[2.3]]))"
   ]
  },
  {
   "cell_type": "code",
   "execution_count": 17,
   "id": "0296116f",
   "metadata": {},
   "outputs": [
    {
     "name": "stdout",
     "output_type": "stream",
     "text": [
      "예측 : \n",
      " [2 1 1 1 1 1 1 2 0 0 0 0 2 1 1 1 0 1 1 0 1 2 0 0 0 1 2 1 2 0 1 0 1 0 2 2 0\n",
      " 1 2 2 1 0 1 0 2 1 2 1 0 1 2 2 1 1 0 2 0 2 0 1 2 1 2 1 2 1 2 2 2 0 1 2 2 1\n",
      " 1]\n",
      "정답 : \n",
      " [2 1 1 1 1 1 1 2 0 0 0 0 2 1 1 1 0 1 1 0 1 2 0 0 0 1 2 1 2 0 1 0 1 0 1 2 0\n",
      " 1 2 2 1 0 1 0 2 1 2 1 0 2 2 2 1 1 0 2 0 2 0 1 2 1 2 1 2 1 2 2 2 0 1 2 2 1\n",
      " 1]\n",
      "0.9733333333333334\n"
     ]
    }
   ],
   "source": [
    "X = iris.data\n",
    "Y = iris.target\n",
    "X_train,X_test,Y_train,Y_test = train_test_split(X,Y,test_size=.5)\n",
    "clf = KNeighborsClassifier()\n",
    "clf.fit(X_train,Y_train)\n",
    "predicts = clf.predict(X_test)\n",
    "print('예측 : \\n',predicts)\n",
    "print('정답 : \\n',Y_test)\n",
    "print(accuracy_score(Y_test,predicts))"
   ]
  },
  {
   "cell_type": "code",
   "execution_count": 18,
   "id": "661a9119",
   "metadata": {},
   "outputs": [],
   "source": [
    "# 나만의 분류자 만들기 \n",
    "import random\n",
    "class myKNN():\n",
    "    def fit(self,X_train,Y_train):\n",
    "        self.X_train = X_train\n",
    "        self.Y_train = Y_train\n",
    "    def predict(self,X_test):\n",
    "        predictions = []\n",
    "        for row in X_test:\n",
    "            lable = random.choice(self.Y_train)\n",
    "            predictions.append(lable)\n",
    "        return predictions"
   ]
  },
  {
   "cell_type": "code",
   "execution_count": 19,
   "id": "62f18f61",
   "metadata": {},
   "outputs": [
    {
     "name": "stdout",
     "output_type": "stream",
     "text": [
      "0.22666666666666666\n"
     ]
    }
   ],
   "source": [
    "clf = myKNN()\n",
    "clf.fit(X_train,Y_train)\n",
    "predictions = clf.predict(X_test)\n",
    "from sklearn.metrics import accuracy_score\n",
    "print(accuracy_score(Y_test,predictions))"
   ]
  },
  {
   "cell_type": "code",
   "execution_count": 20,
   "id": "06259010",
   "metadata": {},
   "outputs": [
    {
     "data": {
      "text/plain": [
       "4.242640687119285"
      ]
     },
     "execution_count": 20,
     "metadata": {},
     "output_type": "execute_result"
    }
   ],
   "source": [
    "import numpy as np\n",
    "def euc(p1,p2):\n",
    "    return np.sqrt(np.sum(np.power(p2-p1,2)))\n",
    "\n",
    "p1 = np.array([1,1])\n",
    "p2 = np.array([4,4])\n",
    "euc(p1,p2)"
   ]
  },
  {
   "cell_type": "code",
   "execution_count": 21,
   "id": "b1903565",
   "metadata": {},
   "outputs": [
    {
     "data": {
      "text/plain": [
       "5.0990195135927845"
      ]
     },
     "execution_count": 21,
     "metadata": {},
     "output_type": "execute_result"
    }
   ],
   "source": [
    "from scipy.spatial import distance\n",
    "\n",
    "def euc(a,b):\n",
    "    return distance.euclidean(a,b)\n",
    "p1=np.array([1,1,3,3])\n",
    "p2=np.array([4,4,5,5])\n",
    "euc(p1,p2)"
   ]
  },
  {
   "cell_type": "code",
   "execution_count": 22,
   "id": "e6bcb337",
   "metadata": {},
   "outputs": [],
   "source": [
    "def euc(a,b):\n",
    "    return distance.euclidean(a,b)\n",
    "\n",
    "class eucKNN():\n",
    "    def fit(self,X_train,Y_train):\n",
    "        self.X_train = X_train\n",
    "        self.Y_train = Y_train\n",
    "    def predict(self,X_test):\n",
    "        predictions = []\n",
    "        for row in X_test:\n",
    "            lable = self.closest(row)\n",
    "            predictions.append(lable)\n",
    "        return predictions\n",
    "    def closest(self,row):\n",
    "        best_dist = euc(row,self.X_train[0])\n",
    "        best_index=0\n",
    "        for i in range(1,len(self.X_train)):\n",
    "            dist = euc(row,self.X_train[i])\n",
    "            if dist <best_dist:\n",
    "                best_dist = dist\n",
    "                best_index = i\n",
    "        return self.Y_train[best_index]"
   ]
  },
  {
   "cell_type": "code",
   "execution_count": 23,
   "id": "24e9eecf",
   "metadata": {},
   "outputs": [
    {
     "name": "stdout",
     "output_type": "stream",
     "text": [
      "0.9333333333333333\n"
     ]
    }
   ],
   "source": [
    "clf = eucKNN()\n",
    "clf.fit(X_train,Y_train)\n",
    "predictions = clf.predict(X_test)\n",
    "print(accuracy_score(Y_test,predictions))"
   ]
  },
  {
   "cell_type": "code",
   "execution_count": 24,
   "id": "7feb8a92",
   "metadata": {},
   "outputs": [
    {
     "name": "stdout",
     "output_type": "stream",
     "text": [
      "0.96\n"
     ]
    }
   ],
   "source": [
    "from sklearn import svm\n",
    "clf = svm.SVC(gamma=0.001,C=100.)\n",
    "clf.fit(X_train,Y_train)\n",
    "predictions = clf.predict(X_test)\n",
    "print(accuracy_score(Y_test,predictions))"
   ]
  },
  {
   "cell_type": "code",
   "execution_count": 25,
   "id": "caddc37f",
   "metadata": {},
   "outputs": [
    {
     "data": {
      "text/plain": [
       "<matplotlib.collections.PathCollection at 0x1de172a3a60>"
      ]
     },
     "execution_count": 25,
     "metadata": {},
     "output_type": "execute_result"
    },
    {
     "data": {
      "image/png": "[encoded data removed]",
      "text/plain": [
       "<Figure size 432x288 with 1 Axes>"
      ]
     },
     "metadata": {
      "needs_background": "light"
     },
     "output_type": "display_data"
    }
   ],
   "source": [
    "#p.276\n",
    "import numpy as np\n",
    "import matplotlib.pyplot as plt \n",
    "points = 500\n",
    "vectors = []\n",
    "for i in range(points):\n",
    "    x1 = np.random.normal(0.0,0.5)\n",
    "    y1 = x1*0.3+0.5+np.random.normal(0.0,0.05)\n",
    "    vectors.append([x1,y1])\n",
    "x_data = [v[0] for v in vectors]\n",
    "y_data = [v[1] for v in vectors]\n",
    "plt.scatter(x_data,y_data,color='yellow',label='TrainingData')"
   ]
  },
  {
   "cell_type": "code",
   "execution_count": 26,
   "id": "4dd54150",
   "metadata": {},
   "outputs": [],
   "source": [
    "from tensorflow.keras import models\n",
    "from tensorflow.keras import layers"
   ]
  },
  {
   "cell_type": "code",
   "execution_count": 32,
   "id": "472f5a54",
   "metadata": {},
   "outputs": [
    {
     "data": {
      "image/png": "[encoded data removed]",
      "text/plain": [
       "<Figure size 432x288 with 1 Axes>"
      ]
     },
     "metadata": {
      "needs_background": "light"
     },
     "output_type": "display_data"
    }
   ],
   "source": [
    "#딥러닝 모델링\n",
    "model = models.Sequential()\n",
    "model.add(layers.Dense(units=1,input_shape=[1]))\n",
    "model.compile(loss='mse',optimizer='SGD')\n",
    "history = model.fit(x_data,y_data,epochs=100,verbose=False)\n",
    "#경계선 그래프\n",
    "weights, bias = model.get_weights()\n",
    "result_line = x_data * weights[0] +bias\n",
    "plt.scatter(x_data,y_data,color='yellow',label='TrainingData')\n",
    "plt.plot(x_data,result_line,color='red',label='ResultLine')\n",
    "plt.legend()\n",
    "plt.show()"
   ]
  },
  {
   "cell_type": "code",
   "execution_count": 33,
   "id": "c8f566fd",
   "metadata": {},
   "outputs": [
    {
     "name": "stdout",
     "output_type": "stream",
     "text": [
      "1/1 [==============================] - 0s 33ms/step\n",
      "[[0.19912028]\n",
      " [0.49460775]\n",
      " [0.7900952 ]]\n"
     ]
    }
   ],
   "source": [
    "test = np.array([[-1],[0],[1]])\n",
    "pred = model.predict(test)\n",
    "print(pred)"
   ]
  },
  {
   "cell_type": "code",
   "execution_count": null,
   "id": "386b6b24",
   "metadata": {},
   "outputs": [],
   "source": []
  }
 ],
 "metadata": {
  "kernelspec": {
   "display_name": "Python 3 (ipykernel)",
   "language": "python",
   "name": "python3"
  },
  "language_info": {
   "codemirror_mode": {
    "name": "ipython",
    "version": 3
   },
   "file_extension": ".py",
   "mimetype": "text/x-python",
   "name": "python",
   "nbconvert_exporter": "python",
   "pygments_lexer": "ipython3",
   "version": "3.9.12"
  }
 },
 "nbformat": 4,
 "nbformat_minor": 5
}
