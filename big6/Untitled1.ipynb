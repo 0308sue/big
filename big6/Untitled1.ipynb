{
 "cells": [
  {
   "cell_type": "code",
   "execution_count": 1,
   "id": "86e8b4fc",
   "metadata": {},
   "outputs": [],
   "source": [
    "# ! pip install pytagcloud\n",
    "# ! pip install pygame\n",
    "# ! pip install simplejson"
   ]
  },
  {
   "cell_type": "code",
   "execution_count": 2,
   "id": "c7dc0e0e",
   "metadata": {},
   "outputs": [
    {
     "name": "stdout",
     "output_type": "stream",
     "text": [
      "pygame 2.1.2 (SDL 2.0.18, Python 3.9.12)\n",
      "Hello from the pygame community. https://www.pygame.org/contribute.html\n"
     ]
    }
   ],
   "source": [
    "import json\n",
    "from konlpy.tag import Okt\n",
    "from collections import Counter\n",
    "import pytagcloud"
   ]
  },
  {
   "cell_type": "code",
   "execution_count": 3,
   "id": "f299d84a",
   "metadata": {},
   "outputs": [
    {
     "name": "stdout",
     "output_type": "stream",
     "text": [
      "지금은 지금은 공부 공부 자바 자바 자바 공부 자바 자바 파이썬\n"
     ]
    }
   ],
   "source": [
    "f= open('data.txt',encoding='utf-8')\n",
    "data = f.read()\n",
    "print(data)\n",
    "f.close()"
   ]
  },
  {
   "cell_type": "code",
   "execution_count": 4,
   "id": "ecd53c09",
   "metadata": {},
   "outputs": [
    {
     "data": {
      "text/plain": [
       "[('자바', 5), ('공부', 3), ('지금', 2), ('파이썬', 1)]"
      ]
     },
     "execution_count": 4,
     "metadata": {},
     "output_type": "execute_result"
    }
   ],
   "source": [
    "nlp = Okt()\n",
    "nouns = nlp.nouns(data)\n",
    "count = Counter(nouns)\n",
    "tag2 = count.most_common(10)\n",
    "tag2"
   ]
  },
  {
   "cell_type": "code",
   "execution_count": 5,
   "id": "397a79d2",
   "metadata": {},
   "outputs": [],
   "source": [
    "taglist = pytagcloud.make_tags(tag2,maxsize=50)\n",
    "pytagcloud.create_tag_image(taglist,'pytag_word_data.png',size=(640,480),fontname='korean',rectangular=False)"
   ]
  },
  {
   "cell_type": "code",
   "execution_count": null,
   "id": "22b94962",
   "metadata": {},
   "outputs": [],
   "source": []
  }
 ],
 "metadata": {
  "kernelspec": {
   "display_name": "Python 3 (ipykernel)",
   "language": "python",
   "name": "python3"
  },
  "language_info": {
   "codemirror_mode": {
    "name": "ipython",
    "version": 3
   },
   "file_extension": ".py",
   "mimetype": "text/x-python",
   "name": "python",
   "nbconvert_exporter": "python",
   "pygments_lexer": "ipython3",
   "version": "3.9.12"
  }
 },
 "nbformat": 4,
 "nbformat_minor": 5
}
