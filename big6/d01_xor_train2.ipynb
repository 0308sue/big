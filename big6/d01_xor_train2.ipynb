{
 "cells": [
  {
   "cell_type": "code",
   "execution_count": 1,
   "id": "fdcd7858",
   "metadata": {},
   "outputs": [],
   "source": [
    "from sklearn import svm,metrics\n",
    "import pandas as pd"
   ]
  },
  {
   "cell_type": "code",
   "execution_count": 4,
   "id": "b661dd3f",
   "metadata": {},
   "outputs": [
    {
     "name": "stdout",
     "output_type": "stream",
     "text": [
      "   0  1  2\n",
      "0  0  0  0\n",
      "1  0  1  1\n",
      "2  1  0  1\n",
      "3  1  1  0\n"
     ]
    },
    {
     "data": {
      "text/plain": [
       "0    0\n",
       "1    1\n",
       "2    1\n",
       "3    0\n",
       "Name: 2, dtype: int64"
      ]
     },
     "execution_count": 4,
     "metadata": {},
     "output_type": "execute_result"
    }
   ],
   "source": [
    "xor_data =[\n",
    "    [0,0,0],[0,1,1],[1,0,1],[1,1,0]\n",
    "]\n",
    "xor_df = pd.DataFrame(xor_data)\n",
    "print(xor_df)\n",
    "\n",
    "#데이터와 레이블 분리\n",
    "xor_data = xor_df.loc[:,0:1]\n",
    "xor_label = xor_df.loc[:,2]\n",
    "xor_label"
   ]
  },
  {
   "cell_type": "code",
   "execution_count": 5,
   "id": "aabedb40",
   "metadata": {},
   "outputs": [
    {
     "data": {
      "text/plain": [
       "SVC()"
      ]
     },
     "execution_count": 5,
     "metadata": {},
     "output_type": "execute_result"
    }
   ],
   "source": [
    "#데이터 학습\n",
    "clf = svm.SVC()\n",
    "clf.fit(xor_data,xor_label)"
   ]
  },
  {
   "cell_type": "code",
   "execution_count": 6,
   "id": "edfe1b4b",
   "metadata": {},
   "outputs": [],
   "source": [
    "pre = clf.predict(xor_data)"
   ]
  },
  {
   "cell_type": "code",
   "execution_count": 8,
   "id": "f1f32342",
   "metadata": {},
   "outputs": [
    {
     "name": "stdout",
     "output_type": "stream",
     "text": [
      "정답률 :  1.0\n"
     ]
    }
   ],
   "source": [
    "ac_score = metrics.accuracy_score(xor_label,pre)\n",
    "print('정답률 : ',ac_score)"
   ]
  },
  {
   "cell_type": "code",
   "execution_count": null,
   "id": "f93ba3dd",
   "metadata": {},
   "outputs": [],
   "source": []
  }
 ],
 "metadata": {
  "kernelspec": {
   "display_name": "Python 3 (ipykernel)",
   "language": "python",
   "name": "python3"
  },
  "language_info": {
   "codemirror_mode": {
    "name": "ipython",
    "version": 3
   },
   "file_extension": ".py",
   "mimetype": "text/x-python",
   "name": "python",
   "nbconvert_exporter": "python",
   "pygments_lexer": "ipython3",
   "version": "3.9.12"
  }
 },
 "nbformat": 4,
 "nbformat_minor": 5
}
