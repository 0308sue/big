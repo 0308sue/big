{
 "cells": [
  {
   "cell_type": "code",
   "execution_count": 1,
   "id": "4ddde41b",
   "metadata": {},
   "outputs": [
    {
     "data": {
      "text/html": [
       "<div>\n",
       "<style scoped>\n",
       "    .dataframe tbody tr th:only-of-type {\n",
       "        vertical-align: middle;\n",
       "    }\n",
       "\n",
       "    .dataframe tbody tr th {\n",
       "        vertical-align: top;\n",
       "    }\n",
       "\n",
       "    .dataframe thead th {\n",
       "        text-align: right;\n",
       "    }\n",
       "</style>\n",
       "<table border=\"1\" class=\"dataframe\">\n",
       "  <thead>\n",
       "    <tr style=\"text-align: right;\">\n",
       "      <th></th>\n",
       "      <th>PassengerId</th>\n",
       "      <th>Survived</th>\n",
       "      <th>Pclass</th>\n",
       "      <th>Name</th>\n",
       "      <th>Sex</th>\n",
       "      <th>Age</th>\n",
       "      <th>SibSp</th>\n",
       "      <th>Parch</th>\n",
       "      <th>Ticket</th>\n",
       "      <th>Fare</th>\n",
       "      <th>Cabin</th>\n",
       "      <th>Embarked</th>\n",
       "    </tr>\n",
       "  </thead>\n",
       "  <tbody>\n",
       "    <tr>\n",
       "      <th>0</th>\n",
       "      <td>1</td>\n",
       "      <td>0</td>\n",
       "      <td>3</td>\n",
       "      <td>Braund, Mr. Owen Harris</td>\n",
       "      <td>male</td>\n",
       "      <td>22.0</td>\n",
       "      <td>1</td>\n",
       "      <td>0</td>\n",
       "      <td>A/5 21171</td>\n",
       "      <td>7.2500</td>\n",
       "      <td>NaN</td>\n",
       "      <td>S</td>\n",
       "    </tr>\n",
       "    <tr>\n",
       "      <th>1</th>\n",
       "      <td>2</td>\n",
       "      <td>1</td>\n",
       "      <td>1</td>\n",
       "      <td>Cumings, Mrs. John Bradley (Florence Briggs Th...</td>\n",
       "      <td>female</td>\n",
       "      <td>38.0</td>\n",
       "      <td>1</td>\n",
       "      <td>0</td>\n",
       "      <td>PC 17599</td>\n",
       "      <td>71.2833</td>\n",
       "      <td>C85</td>\n",
       "      <td>C</td>\n",
       "    </tr>\n",
       "    <tr>\n",
       "      <th>2</th>\n",
       "      <td>3</td>\n",
       "      <td>1</td>\n",
       "      <td>3</td>\n",
       "      <td>Heikkinen, Miss. Laina</td>\n",
       "      <td>female</td>\n",
       "      <td>26.0</td>\n",
       "      <td>0</td>\n",
       "      <td>0</td>\n",
       "      <td>STON/O2. 3101282</td>\n",
       "      <td>7.9250</td>\n",
       "      <td>NaN</td>\n",
       "      <td>S</td>\n",
       "    </tr>\n",
       "    <tr>\n",
       "      <th>3</th>\n",
       "      <td>4</td>\n",
       "      <td>1</td>\n",
       "      <td>1</td>\n",
       "      <td>Futrelle, Mrs. Jacques Heath (Lily May Peel)</td>\n",
       "      <td>female</td>\n",
       "      <td>35.0</td>\n",
       "      <td>1</td>\n",
       "      <td>0</td>\n",
       "      <td>113803</td>\n",
       "      <td>53.1000</td>\n",
       "      <td>C123</td>\n",
       "      <td>S</td>\n",
       "    </tr>\n",
       "    <tr>\n",
       "      <th>4</th>\n",
       "      <td>5</td>\n",
       "      <td>0</td>\n",
       "      <td>3</td>\n",
       "      <td>Allen, Mr. William Henry</td>\n",
       "      <td>male</td>\n",
       "      <td>35.0</td>\n",
       "      <td>0</td>\n",
       "      <td>0</td>\n",
       "      <td>373450</td>\n",
       "      <td>8.0500</td>\n",
       "      <td>NaN</td>\n",
       "      <td>S</td>\n",
       "    </tr>\n",
       "  </tbody>\n",
       "</table>\n",
       "</div>"
      ],
      "text/plain": [
       "   PassengerId  Survived  Pclass  \\\n",
       "0            1         0       3   \n",
       "1            2         1       1   \n",
       "2            3         1       3   \n",
       "3            4         1       1   \n",
       "4            5         0       3   \n",
       "\n",
       "                                                Name     Sex   Age  SibSp  \\\n",
       "0                            Braund, Mr. Owen Harris    male  22.0      1   \n",
       "1  Cumings, Mrs. John Bradley (Florence Briggs Th...  female  38.0      1   \n",
       "2                             Heikkinen, Miss. Laina  female  26.0      0   \n",
       "3       Futrelle, Mrs. Jacques Heath (Lily May Peel)  female  35.0      1   \n",
       "4                           Allen, Mr. William Henry    male  35.0      0   \n",
       "\n",
       "   Parch            Ticket     Fare Cabin Embarked  \n",
       "0      0         A/5 21171   7.2500   NaN        S  \n",
       "1      0          PC 17599  71.2833   C85        C  \n",
       "2      0  STON/O2. 3101282   7.9250   NaN        S  \n",
       "3      0            113803  53.1000  C123        S  \n",
       "4      0            373450   8.0500   NaN        S  "
      ]
     },
     "execution_count": 1,
     "metadata": {},
     "output_type": "execute_result"
    }
   ],
   "source": [
    "import pandas as pd\n",
    "import numpy as np\n",
    "\n",
    "#train.csv 읽어와서 5줄 출력\n",
    "df = pd.read_csv('train.csv')\n",
    "df.head()"
   ]
  },
  {
   "cell_type": "code",
   "execution_count": 2,
   "id": "2a90a078",
   "metadata": {},
   "outputs": [
    {
     "data": {
      "text/html": [
       "<div>\n",
       "<style scoped>\n",
       "    .dataframe tbody tr th:only-of-type {\n",
       "        vertical-align: middle;\n",
       "    }\n",
       "\n",
       "    .dataframe tbody tr th {\n",
       "        vertical-align: top;\n",
       "    }\n",
       "\n",
       "    .dataframe thead th {\n",
       "        text-align: right;\n",
       "    }\n",
       "</style>\n",
       "<table border=\"1\" class=\"dataframe\">\n",
       "  <thead>\n",
       "    <tr style=\"text-align: right;\">\n",
       "      <th></th>\n",
       "      <th>Pclass</th>\n",
       "      <th>Sex</th>\n",
       "      <th>Embarked</th>\n",
       "    </tr>\n",
       "  </thead>\n",
       "  <tbody>\n",
       "    <tr>\n",
       "      <th>0</th>\n",
       "      <td>3</td>\n",
       "      <td>male</td>\n",
       "      <td>S</td>\n",
       "    </tr>\n",
       "    <tr>\n",
       "      <th>1</th>\n",
       "      <td>1</td>\n",
       "      <td>female</td>\n",
       "      <td>C</td>\n",
       "    </tr>\n",
       "    <tr>\n",
       "      <th>2</th>\n",
       "      <td>3</td>\n",
       "      <td>female</td>\n",
       "      <td>S</td>\n",
       "    </tr>\n",
       "    <tr>\n",
       "      <th>3</th>\n",
       "      <td>1</td>\n",
       "      <td>female</td>\n",
       "      <td>S</td>\n",
       "    </tr>\n",
       "    <tr>\n",
       "      <th>4</th>\n",
       "      <td>3</td>\n",
       "      <td>male</td>\n",
       "      <td>S</td>\n",
       "    </tr>\n",
       "  </tbody>\n",
       "</table>\n",
       "</div>"
      ],
      "text/plain": [
       "   Pclass     Sex Embarked\n",
       "0       3    male        S\n",
       "1       1  female        C\n",
       "2       3  female        S\n",
       "3       1  female        S\n",
       "4       3    male        S"
      ]
     },
     "execution_count": 2,
     "metadata": {},
     "output_type": "execute_result"
    }
   ],
   "source": [
    "df[['Pclass','Sex','Embarked']].head()"
   ]
  },
  {
   "cell_type": "code",
   "execution_count": 3,
   "id": "a9a88c48",
   "metadata": {
    "scrolled": true
   },
   "outputs": [
    {
     "data": {
      "text/html": [
       "<div>\n",
       "<style scoped>\n",
       "    .dataframe tbody tr th:only-of-type {\n",
       "        vertical-align: middle;\n",
       "    }\n",
       "\n",
       "    .dataframe tbody tr th {\n",
       "        vertical-align: top;\n",
       "    }\n",
       "\n",
       "    .dataframe thead th {\n",
       "        text-align: right;\n",
       "    }\n",
       "</style>\n",
       "<table border=\"1\" class=\"dataframe\">\n",
       "  <thead>\n",
       "    <tr style=\"text-align: right;\">\n",
       "      <th></th>\n",
       "      <th>PassengerId</th>\n",
       "      <th>Pclass</th>\n",
       "      <th>Name</th>\n",
       "      <th>Sex</th>\n",
       "      <th>Age</th>\n",
       "      <th>SibSp</th>\n",
       "      <th>Parch</th>\n",
       "      <th>Ticket</th>\n",
       "      <th>Fare</th>\n",
       "      <th>Cabin</th>\n",
       "      <th>Embarked</th>\n",
       "    </tr>\n",
       "  </thead>\n",
       "  <tbody>\n",
       "    <tr>\n",
       "      <th>0</th>\n",
       "      <td>892</td>\n",
       "      <td>3</td>\n",
       "      <td>Kelly, Mr. James</td>\n",
       "      <td>male</td>\n",
       "      <td>34.5</td>\n",
       "      <td>0</td>\n",
       "      <td>0</td>\n",
       "      <td>330911</td>\n",
       "      <td>7.8292</td>\n",
       "      <td>NaN</td>\n",
       "      <td>Q</td>\n",
       "    </tr>\n",
       "    <tr>\n",
       "      <th>1</th>\n",
       "      <td>893</td>\n",
       "      <td>3</td>\n",
       "      <td>Wilkes, Mrs. James (Ellen Needs)</td>\n",
       "      <td>female</td>\n",
       "      <td>47.0</td>\n",
       "      <td>1</td>\n",
       "      <td>0</td>\n",
       "      <td>363272</td>\n",
       "      <td>7.0000</td>\n",
       "      <td>NaN</td>\n",
       "      <td>S</td>\n",
       "    </tr>\n",
       "    <tr>\n",
       "      <th>2</th>\n",
       "      <td>894</td>\n",
       "      <td>2</td>\n",
       "      <td>Myles, Mr. Thomas Francis</td>\n",
       "      <td>male</td>\n",
       "      <td>62.0</td>\n",
       "      <td>0</td>\n",
       "      <td>0</td>\n",
       "      <td>240276</td>\n",
       "      <td>9.6875</td>\n",
       "      <td>NaN</td>\n",
       "      <td>Q</td>\n",
       "    </tr>\n",
       "    <tr>\n",
       "      <th>3</th>\n",
       "      <td>895</td>\n",
       "      <td>3</td>\n",
       "      <td>Wirz, Mr. Albert</td>\n",
       "      <td>male</td>\n",
       "      <td>27.0</td>\n",
       "      <td>0</td>\n",
       "      <td>0</td>\n",
       "      <td>315154</td>\n",
       "      <td>8.6625</td>\n",
       "      <td>NaN</td>\n",
       "      <td>S</td>\n",
       "    </tr>\n",
       "    <tr>\n",
       "      <th>4</th>\n",
       "      <td>896</td>\n",
       "      <td>3</td>\n",
       "      <td>Hirvonen, Mrs. Alexander (Helga E Lindqvist)</td>\n",
       "      <td>female</td>\n",
       "      <td>22.0</td>\n",
       "      <td>1</td>\n",
       "      <td>1</td>\n",
       "      <td>3101298</td>\n",
       "      <td>12.2875</td>\n",
       "      <td>NaN</td>\n",
       "      <td>S</td>\n",
       "    </tr>\n",
       "  </tbody>\n",
       "</table>\n",
       "</div>"
      ],
      "text/plain": [
       "   PassengerId  Pclass                                          Name     Sex  \\\n",
       "0          892       3                              Kelly, Mr. James    male   \n",
       "1          893       3              Wilkes, Mrs. James (Ellen Needs)  female   \n",
       "2          894       2                     Myles, Mr. Thomas Francis    male   \n",
       "3          895       3                              Wirz, Mr. Albert    male   \n",
       "4          896       3  Hirvonen, Mrs. Alexander (Helga E Lindqvist)  female   \n",
       "\n",
       "    Age  SibSp  Parch   Ticket     Fare Cabin Embarked  \n",
       "0  34.5      0      0   330911   7.8292   NaN        Q  \n",
       "1  47.0      1      0   363272   7.0000   NaN        S  \n",
       "2  62.0      0      0   240276   9.6875   NaN        Q  \n",
       "3  27.0      0      0   315154   8.6625   NaN        S  \n",
       "4  22.0      1      1  3101298  12.2875   NaN        S  "
      ]
     },
     "execution_count": 3,
     "metadata": {},
     "output_type": "execute_result"
    }
   ],
   "source": [
    "df_test = pd.read_csv('test.csv')\n",
    "df_test.head()"
   ]
  },
  {
   "cell_type": "code",
   "execution_count": 4,
   "id": "c2034890",
   "metadata": {},
   "outputs": [
    {
     "data": {
      "text/plain": [
       "0       NaN\n",
       "1       C85\n",
       "2       NaN\n",
       "3      C123\n",
       "4       NaN\n",
       "       ... \n",
       "886     NaN\n",
       "887     B42\n",
       "888     NaN\n",
       "889    C148\n",
       "890     NaN\n",
       "Name: Cabin, Length: 891, dtype: object"
      ]
     },
     "execution_count": 4,
     "metadata": {},
     "output_type": "execute_result"
    }
   ],
   "source": [
    "df['Cabin']"
   ]
  },
  {
   "cell_type": "code",
   "execution_count": 5,
   "id": "0b9beae0",
   "metadata": {},
   "outputs": [
    {
     "data": {
      "text/plain": [
       "PassengerId      0\n",
       "Pclass           0\n",
       "Name             0\n",
       "Sex              0\n",
       "Age             86\n",
       "SibSp            0\n",
       "Parch            0\n",
       "Ticket           0\n",
       "Fare             1\n",
       "Cabin          327\n",
       "Embarked         0\n",
       "dtype: int64"
      ]
     },
     "execution_count": 5,
     "metadata": {},
     "output_type": "execute_result"
    }
   ],
   "source": [
    "df_test.isnull().sum()"
   ]
  },
  {
   "cell_type": "code",
   "execution_count": 6,
   "id": "4436af98",
   "metadata": {},
   "outputs": [
    {
     "data": {
      "text/html": [
       "<div>\n",
       "<style scoped>\n",
       "    .dataframe tbody tr th:only-of-type {\n",
       "        vertical-align: middle;\n",
       "    }\n",
       "\n",
       "    .dataframe tbody tr th {\n",
       "        vertical-align: top;\n",
       "    }\n",
       "\n",
       "    .dataframe thead th {\n",
       "        text-align: right;\n",
       "    }\n",
       "</style>\n",
       "<table border=\"1\" class=\"dataframe\">\n",
       "  <thead>\n",
       "    <tr style=\"text-align: right;\">\n",
       "      <th></th>\n",
       "      <th>PassengerId</th>\n",
       "      <th>Survived</th>\n",
       "      <th>Pclass</th>\n",
       "      <th>Name</th>\n",
       "      <th>Sex</th>\n",
       "      <th>Age</th>\n",
       "      <th>SibSp</th>\n",
       "      <th>Parch</th>\n",
       "      <th>Ticket</th>\n",
       "      <th>Fare</th>\n",
       "      <th>Cabin</th>\n",
       "      <th>Embarked</th>\n",
       "    </tr>\n",
       "  </thead>\n",
       "  <tbody>\n",
       "    <tr>\n",
       "      <th>0</th>\n",
       "      <td>1</td>\n",
       "      <td>0</td>\n",
       "      <td>3</td>\n",
       "      <td>Braund, Mr. Owen Harris</td>\n",
       "      <td>male</td>\n",
       "      <td>22.000000</td>\n",
       "      <td>1</td>\n",
       "      <td>0</td>\n",
       "      <td>A/5 21171</td>\n",
       "      <td>7.2500</td>\n",
       "      <td>NaN</td>\n",
       "      <td>S</td>\n",
       "    </tr>\n",
       "    <tr>\n",
       "      <th>1</th>\n",
       "      <td>2</td>\n",
       "      <td>1</td>\n",
       "      <td>1</td>\n",
       "      <td>Cumings, Mrs. John Bradley (Florence Briggs Th...</td>\n",
       "      <td>female</td>\n",
       "      <td>38.000000</td>\n",
       "      <td>1</td>\n",
       "      <td>0</td>\n",
       "      <td>PC 17599</td>\n",
       "      <td>71.2833</td>\n",
       "      <td>C85</td>\n",
       "      <td>C</td>\n",
       "    </tr>\n",
       "    <tr>\n",
       "      <th>2</th>\n",
       "      <td>3</td>\n",
       "      <td>1</td>\n",
       "      <td>3</td>\n",
       "      <td>Heikkinen, Miss. Laina</td>\n",
       "      <td>female</td>\n",
       "      <td>26.000000</td>\n",
       "      <td>0</td>\n",
       "      <td>0</td>\n",
       "      <td>STON/O2. 3101282</td>\n",
       "      <td>7.9250</td>\n",
       "      <td>NaN</td>\n",
       "      <td>S</td>\n",
       "    </tr>\n",
       "    <tr>\n",
       "      <th>3</th>\n",
       "      <td>4</td>\n",
       "      <td>1</td>\n",
       "      <td>1</td>\n",
       "      <td>Futrelle, Mrs. Jacques Heath (Lily May Peel)</td>\n",
       "      <td>female</td>\n",
       "      <td>35.000000</td>\n",
       "      <td>1</td>\n",
       "      <td>0</td>\n",
       "      <td>113803</td>\n",
       "      <td>53.1000</td>\n",
       "      <td>C123</td>\n",
       "      <td>S</td>\n",
       "    </tr>\n",
       "    <tr>\n",
       "      <th>4</th>\n",
       "      <td>5</td>\n",
       "      <td>0</td>\n",
       "      <td>3</td>\n",
       "      <td>Allen, Mr. William Henry</td>\n",
       "      <td>male</td>\n",
       "      <td>35.000000</td>\n",
       "      <td>0</td>\n",
       "      <td>0</td>\n",
       "      <td>373450</td>\n",
       "      <td>8.0500</td>\n",
       "      <td>NaN</td>\n",
       "      <td>S</td>\n",
       "    </tr>\n",
       "    <tr>\n",
       "      <th>5</th>\n",
       "      <td>6</td>\n",
       "      <td>0</td>\n",
       "      <td>3</td>\n",
       "      <td>Moran, Mr. James</td>\n",
       "      <td>male</td>\n",
       "      <td>29.699118</td>\n",
       "      <td>0</td>\n",
       "      <td>0</td>\n",
       "      <td>330877</td>\n",
       "      <td>8.4583</td>\n",
       "      <td>NaN</td>\n",
       "      <td>Q</td>\n",
       "    </tr>\n",
       "    <tr>\n",
       "      <th>6</th>\n",
       "      <td>7</td>\n",
       "      <td>0</td>\n",
       "      <td>1</td>\n",
       "      <td>McCarthy, Mr. Timothy J</td>\n",
       "      <td>male</td>\n",
       "      <td>54.000000</td>\n",
       "      <td>0</td>\n",
       "      <td>0</td>\n",
       "      <td>17463</td>\n",
       "      <td>51.8625</td>\n",
       "      <td>E46</td>\n",
       "      <td>S</td>\n",
       "    </tr>\n",
       "    <tr>\n",
       "      <th>7</th>\n",
       "      <td>8</td>\n",
       "      <td>0</td>\n",
       "      <td>3</td>\n",
       "      <td>Palsson, Master. Gosta Leonard</td>\n",
       "      <td>male</td>\n",
       "      <td>2.000000</td>\n",
       "      <td>3</td>\n",
       "      <td>1</td>\n",
       "      <td>349909</td>\n",
       "      <td>21.0750</td>\n",
       "      <td>NaN</td>\n",
       "      <td>S</td>\n",
       "    </tr>\n",
       "    <tr>\n",
       "      <th>8</th>\n",
       "      <td>9</td>\n",
       "      <td>1</td>\n",
       "      <td>3</td>\n",
       "      <td>Johnson, Mrs. Oscar W (Elisabeth Vilhelmina Berg)</td>\n",
       "      <td>female</td>\n",
       "      <td>27.000000</td>\n",
       "      <td>0</td>\n",
       "      <td>2</td>\n",
       "      <td>347742</td>\n",
       "      <td>11.1333</td>\n",
       "      <td>NaN</td>\n",
       "      <td>S</td>\n",
       "    </tr>\n",
       "    <tr>\n",
       "      <th>9</th>\n",
       "      <td>10</td>\n",
       "      <td>1</td>\n",
       "      <td>2</td>\n",
       "      <td>Nasser, Mrs. Nicholas (Adele Achem)</td>\n",
       "      <td>female</td>\n",
       "      <td>14.000000</td>\n",
       "      <td>1</td>\n",
       "      <td>0</td>\n",
       "      <td>237736</td>\n",
       "      <td>30.0708</td>\n",
       "      <td>NaN</td>\n",
       "      <td>C</td>\n",
       "    </tr>\n",
       "  </tbody>\n",
       "</table>\n",
       "</div>"
      ],
      "text/plain": [
       "   PassengerId  Survived  Pclass  \\\n",
       "0            1         0       3   \n",
       "1            2         1       1   \n",
       "2            3         1       3   \n",
       "3            4         1       1   \n",
       "4            5         0       3   \n",
       "5            6         0       3   \n",
       "6            7         0       1   \n",
       "7            8         0       3   \n",
       "8            9         1       3   \n",
       "9           10         1       2   \n",
       "\n",
       "                                                Name     Sex        Age  \\\n",
       "0                            Braund, Mr. Owen Harris    male  22.000000   \n",
       "1  Cumings, Mrs. John Bradley (Florence Briggs Th...  female  38.000000   \n",
       "2                             Heikkinen, Miss. Laina  female  26.000000   \n",
       "3       Futrelle, Mrs. Jacques Heath (Lily May Peel)  female  35.000000   \n",
       "4                           Allen, Mr. William Henry    male  35.000000   \n",
       "5                                   Moran, Mr. James    male  29.699118   \n",
       "6                            McCarthy, Mr. Timothy J    male  54.000000   \n",
       "7                     Palsson, Master. Gosta Leonard    male   2.000000   \n",
       "8  Johnson, Mrs. Oscar W (Elisabeth Vilhelmina Berg)  female  27.000000   \n",
       "9                Nasser, Mrs. Nicholas (Adele Achem)  female  14.000000   \n",
       "\n",
       "   SibSp  Parch            Ticket     Fare Cabin Embarked  \n",
       "0      1      0         A/5 21171   7.2500   NaN        S  \n",
       "1      1      0          PC 17599  71.2833   C85        C  \n",
       "2      0      0  STON/O2. 3101282   7.9250   NaN        S  \n",
       "3      1      0            113803  53.1000  C123        S  \n",
       "4      0      0            373450   8.0500   NaN        S  \n",
       "5      0      0            330877   8.4583   NaN        Q  \n",
       "6      0      0             17463  51.8625   E46        S  \n",
       "7      3      1            349909  21.0750   NaN        S  \n",
       "8      0      2            347742  11.1333   NaN        S  \n",
       "9      1      0            237736  30.0708   NaN        C  "
      ]
     },
     "execution_count": 6,
     "metadata": {},
     "output_type": "execute_result"
    }
   ],
   "source": [
    "# Age : 비어 있는 값을 나이의 평균으로 채우기\n",
    "df['Age'] = df['Age'].fillna(df['Age'].mean())\n",
    "df.head(10)"
   ]
  },
  {
   "cell_type": "code",
   "execution_count": 7,
   "id": "abfaa09e",
   "metadata": {},
   "outputs": [
    {
     "data": {
      "text/plain": [
       "PassengerId      0\n",
       "Pclass           0\n",
       "Name             0\n",
       "Sex              0\n",
       "Age             86\n",
       "SibSp            0\n",
       "Parch            0\n",
       "Ticket           0\n",
       "Fare             1\n",
       "Cabin          327\n",
       "Embarked         0\n",
       "dtype: int64"
      ]
     },
     "execution_count": 7,
     "metadata": {},
     "output_type": "execute_result"
    }
   ],
   "source": [
    "df_test.isnull().sum()"
   ]
  },
  {
   "cell_type": "code",
   "execution_count": 8,
   "id": "48f5cf5f",
   "metadata": {},
   "outputs": [],
   "source": [
    "df_test['Age']=df_test['Age'].fillna(df_test['Age'].mean())"
   ]
  },
  {
   "cell_type": "code",
   "execution_count": 9,
   "id": "28e90cc6",
   "metadata": {},
   "outputs": [
    {
     "data": {
      "text/plain": [
       "PassengerId      0\n",
       "Pclass           0\n",
       "Name             0\n",
       "Sex              0\n",
       "Age              0\n",
       "SibSp            0\n",
       "Parch            0\n",
       "Ticket           0\n",
       "Fare             1\n",
       "Cabin          327\n",
       "Embarked         0\n",
       "dtype: int64"
      ]
     },
     "execution_count": 9,
     "metadata": {},
     "output_type": "execute_result"
    }
   ],
   "source": [
    "df_test.isnull().sum()"
   ]
  },
  {
   "cell_type": "code",
   "execution_count": 70,
   "id": "c5ac4a89",
   "metadata": {},
   "outputs": [],
   "source": [
    "#Fare 빈칸(NaN)을 평균으로 대체(훈련용,테스트용 모두 대체)\n",
    "df['Fare'] = df['Fare'].fillna(df['Fare'].mean())\n",
    "df_test['Fare']=df_test['Fare'].fillna(df_test['Fare'].mean())"
   ]
  },
  {
   "cell_type": "code",
   "execution_count": 11,
   "id": "ae437704",
   "metadata": {},
   "outputs": [
    {
     "data": {
      "text/plain": [
       "PassengerId      0\n",
       "Pclass           0\n",
       "Name             0\n",
       "Sex              0\n",
       "Age              0\n",
       "SibSp            0\n",
       "Parch            0\n",
       "Ticket           0\n",
       "Fare             0\n",
       "Cabin          327\n",
       "Embarked         0\n",
       "dtype: int64"
      ]
     },
     "execution_count": 11,
     "metadata": {},
     "output_type": "execute_result"
    }
   ],
   "source": [
    "df_test.isnull().sum()"
   ]
  },
  {
   "cell_type": "code",
   "execution_count": 12,
   "id": "c56469a2",
   "metadata": {},
   "outputs": [
    {
     "data": {
      "text/html": [
       "<div>\n",
       "<style scoped>\n",
       "    .dataframe tbody tr th:only-of-type {\n",
       "        vertical-align: middle;\n",
       "    }\n",
       "\n",
       "    .dataframe tbody tr th {\n",
       "        vertical-align: top;\n",
       "    }\n",
       "\n",
       "    .dataframe thead th {\n",
       "        text-align: right;\n",
       "    }\n",
       "</style>\n",
       "<table border=\"1\" class=\"dataframe\">\n",
       "  <thead>\n",
       "    <tr style=\"text-align: right;\">\n",
       "      <th></th>\n",
       "      <th>PassengerId</th>\n",
       "      <th>Survived</th>\n",
       "      <th>Pclass</th>\n",
       "      <th>Name</th>\n",
       "      <th>Sex</th>\n",
       "      <th>Age</th>\n",
       "      <th>SibSp</th>\n",
       "      <th>Parch</th>\n",
       "      <th>Ticket</th>\n",
       "      <th>Fare</th>\n",
       "      <th>Cabin</th>\n",
       "      <th>Embarked</th>\n",
       "      <th>FamilySize</th>\n",
       "    </tr>\n",
       "  </thead>\n",
       "  <tbody>\n",
       "    <tr>\n",
       "      <th>0</th>\n",
       "      <td>1</td>\n",
       "      <td>0</td>\n",
       "      <td>3</td>\n",
       "      <td>Braund, Mr. Owen Harris</td>\n",
       "      <td>male</td>\n",
       "      <td>22.0</td>\n",
       "      <td>1</td>\n",
       "      <td>0</td>\n",
       "      <td>A/5 21171</td>\n",
       "      <td>7.2500</td>\n",
       "      <td>NaN</td>\n",
       "      <td>S</td>\n",
       "      <td>1</td>\n",
       "    </tr>\n",
       "    <tr>\n",
       "      <th>1</th>\n",
       "      <td>2</td>\n",
       "      <td>1</td>\n",
       "      <td>1</td>\n",
       "      <td>Cumings, Mrs. John Bradley (Florence Briggs Th...</td>\n",
       "      <td>female</td>\n",
       "      <td>38.0</td>\n",
       "      <td>1</td>\n",
       "      <td>0</td>\n",
       "      <td>PC 17599</td>\n",
       "      <td>71.2833</td>\n",
       "      <td>C85</td>\n",
       "      <td>C</td>\n",
       "      <td>1</td>\n",
       "    </tr>\n",
       "    <tr>\n",
       "      <th>2</th>\n",
       "      <td>3</td>\n",
       "      <td>1</td>\n",
       "      <td>3</td>\n",
       "      <td>Heikkinen, Miss. Laina</td>\n",
       "      <td>female</td>\n",
       "      <td>26.0</td>\n",
       "      <td>0</td>\n",
       "      <td>0</td>\n",
       "      <td>STON/O2. 3101282</td>\n",
       "      <td>7.9250</td>\n",
       "      <td>NaN</td>\n",
       "      <td>S</td>\n",
       "      <td>0</td>\n",
       "    </tr>\n",
       "    <tr>\n",
       "      <th>3</th>\n",
       "      <td>4</td>\n",
       "      <td>1</td>\n",
       "      <td>1</td>\n",
       "      <td>Futrelle, Mrs. Jacques Heath (Lily May Peel)</td>\n",
       "      <td>female</td>\n",
       "      <td>35.0</td>\n",
       "      <td>1</td>\n",
       "      <td>0</td>\n",
       "      <td>113803</td>\n",
       "      <td>53.1000</td>\n",
       "      <td>C123</td>\n",
       "      <td>S</td>\n",
       "      <td>1</td>\n",
       "    </tr>\n",
       "    <tr>\n",
       "      <th>4</th>\n",
       "      <td>5</td>\n",
       "      <td>0</td>\n",
       "      <td>3</td>\n",
       "      <td>Allen, Mr. William Henry</td>\n",
       "      <td>male</td>\n",
       "      <td>35.0</td>\n",
       "      <td>0</td>\n",
       "      <td>0</td>\n",
       "      <td>373450</td>\n",
       "      <td>8.0500</td>\n",
       "      <td>NaN</td>\n",
       "      <td>S</td>\n",
       "      <td>0</td>\n",
       "    </tr>\n",
       "  </tbody>\n",
       "</table>\n",
       "</div>"
      ],
      "text/plain": [
       "   PassengerId  Survived  Pclass  \\\n",
       "0            1         0       3   \n",
       "1            2         1       1   \n",
       "2            3         1       3   \n",
       "3            4         1       1   \n",
       "4            5         0       3   \n",
       "\n",
       "                                                Name     Sex   Age  SibSp  \\\n",
       "0                            Braund, Mr. Owen Harris    male  22.0      1   \n",
       "1  Cumings, Mrs. John Bradley (Florence Briggs Th...  female  38.0      1   \n",
       "2                             Heikkinen, Miss. Laina  female  26.0      0   \n",
       "3       Futrelle, Mrs. Jacques Heath (Lily May Peel)  female  35.0      1   \n",
       "4                           Allen, Mr. William Henry    male  35.0      0   \n",
       "\n",
       "   Parch            Ticket     Fare Cabin Embarked  FamilySize  \n",
       "0      0         A/5 21171   7.2500   NaN        S           1  \n",
       "1      0          PC 17599  71.2833   C85        C           1  \n",
       "2      0  STON/O2. 3101282   7.9250   NaN        S           0  \n",
       "3      0            113803  53.1000  C123        S           1  \n",
       "4      0            373450   8.0500   NaN        S           0  "
      ]
     },
     "execution_count": 12,
     "metadata": {},
     "output_type": "execute_result"
    }
   ],
   "source": [
    "df['FamilySize'] = df['SibSp']+df['Parch']\n",
    "df.head()"
   ]
  },
  {
   "cell_type": "code",
   "execution_count": 13,
   "id": "5b577cd3",
   "metadata": {},
   "outputs": [
    {
     "data": {
      "text/html": [
       "<div>\n",
       "<style scoped>\n",
       "    .dataframe tbody tr th:only-of-type {\n",
       "        vertical-align: middle;\n",
       "    }\n",
       "\n",
       "    .dataframe tbody tr th {\n",
       "        vertical-align: top;\n",
       "    }\n",
       "\n",
       "    .dataframe thead th {\n",
       "        text-align: right;\n",
       "    }\n",
       "</style>\n",
       "<table border=\"1\" class=\"dataframe\">\n",
       "  <thead>\n",
       "    <tr style=\"text-align: right;\">\n",
       "      <th></th>\n",
       "      <th>PassengerId</th>\n",
       "      <th>Pclass</th>\n",
       "      <th>Name</th>\n",
       "      <th>Sex</th>\n",
       "      <th>Age</th>\n",
       "      <th>SibSp</th>\n",
       "      <th>Parch</th>\n",
       "      <th>Ticket</th>\n",
       "      <th>Fare</th>\n",
       "      <th>Cabin</th>\n",
       "      <th>Embarked</th>\n",
       "      <th>FamilySize</th>\n",
       "    </tr>\n",
       "  </thead>\n",
       "  <tbody>\n",
       "    <tr>\n",
       "      <th>0</th>\n",
       "      <td>892</td>\n",
       "      <td>3</td>\n",
       "      <td>Kelly, Mr. James</td>\n",
       "      <td>male</td>\n",
       "      <td>34.5</td>\n",
       "      <td>0</td>\n",
       "      <td>0</td>\n",
       "      <td>330911</td>\n",
       "      <td>7.8292</td>\n",
       "      <td>NaN</td>\n",
       "      <td>Q</td>\n",
       "      <td>0</td>\n",
       "    </tr>\n",
       "    <tr>\n",
       "      <th>1</th>\n",
       "      <td>893</td>\n",
       "      <td>3</td>\n",
       "      <td>Wilkes, Mrs. James (Ellen Needs)</td>\n",
       "      <td>female</td>\n",
       "      <td>47.0</td>\n",
       "      <td>1</td>\n",
       "      <td>0</td>\n",
       "      <td>363272</td>\n",
       "      <td>7.0000</td>\n",
       "      <td>NaN</td>\n",
       "      <td>S</td>\n",
       "      <td>1</td>\n",
       "    </tr>\n",
       "    <tr>\n",
       "      <th>2</th>\n",
       "      <td>894</td>\n",
       "      <td>2</td>\n",
       "      <td>Myles, Mr. Thomas Francis</td>\n",
       "      <td>male</td>\n",
       "      <td>62.0</td>\n",
       "      <td>0</td>\n",
       "      <td>0</td>\n",
       "      <td>240276</td>\n",
       "      <td>9.6875</td>\n",
       "      <td>NaN</td>\n",
       "      <td>Q</td>\n",
       "      <td>0</td>\n",
       "    </tr>\n",
       "    <tr>\n",
       "      <th>3</th>\n",
       "      <td>895</td>\n",
       "      <td>3</td>\n",
       "      <td>Wirz, Mr. Albert</td>\n",
       "      <td>male</td>\n",
       "      <td>27.0</td>\n",
       "      <td>0</td>\n",
       "      <td>0</td>\n",
       "      <td>315154</td>\n",
       "      <td>8.6625</td>\n",
       "      <td>NaN</td>\n",
       "      <td>S</td>\n",
       "      <td>0</td>\n",
       "    </tr>\n",
       "    <tr>\n",
       "      <th>4</th>\n",
       "      <td>896</td>\n",
       "      <td>3</td>\n",
       "      <td>Hirvonen, Mrs. Alexander (Helga E Lindqvist)</td>\n",
       "      <td>female</td>\n",
       "      <td>22.0</td>\n",
       "      <td>1</td>\n",
       "      <td>1</td>\n",
       "      <td>3101298</td>\n",
       "      <td>12.2875</td>\n",
       "      <td>NaN</td>\n",
       "      <td>S</td>\n",
       "      <td>2</td>\n",
       "    </tr>\n",
       "  </tbody>\n",
       "</table>\n",
       "</div>"
      ],
      "text/plain": [
       "   PassengerId  Pclass                                          Name     Sex  \\\n",
       "0          892       3                              Kelly, Mr. James    male   \n",
       "1          893       3              Wilkes, Mrs. James (Ellen Needs)  female   \n",
       "2          894       2                     Myles, Mr. Thomas Francis    male   \n",
       "3          895       3                              Wirz, Mr. Albert    male   \n",
       "4          896       3  Hirvonen, Mrs. Alexander (Helga E Lindqvist)  female   \n",
       "\n",
       "    Age  SibSp  Parch   Ticket     Fare Cabin Embarked  FamilySize  \n",
       "0  34.5      0      0   330911   7.8292   NaN        Q           0  \n",
       "1  47.0      1      0   363272   7.0000   NaN        S           1  \n",
       "2  62.0      0      0   240276   9.6875   NaN        Q           0  \n",
       "3  27.0      0      0   315154   8.6625   NaN        S           0  \n",
       "4  22.0      1      1  3101298  12.2875   NaN        S           2  "
      ]
     },
     "execution_count": 13,
     "metadata": {},
     "output_type": "execute_result"
    }
   ],
   "source": [
    "df_test['FamilySize'] = df_test['SibSp']+df_test['Parch']\n",
    "df_test.head()"
   ]
  },
  {
   "cell_type": "code",
   "execution_count": 14,
   "id": "9cc21328",
   "metadata": {},
   "outputs": [
    {
     "data": {
      "text/plain": [
       "0       NaN\n",
       "1       C85\n",
       "2       NaN\n",
       "3      C123\n",
       "4       NaN\n",
       "       ... \n",
       "886     NaN\n",
       "887     B42\n",
       "888     NaN\n",
       "889    C148\n",
       "890     NaN\n",
       "Name: Cabin, Length: 891, dtype: object"
      ]
     },
     "execution_count": 14,
     "metadata": {},
     "output_type": "execute_result"
    }
   ],
   "source": [
    "df['Cabin']"
   ]
  },
  {
   "cell_type": "code",
   "execution_count": 15,
   "id": "47b29555",
   "metadata": {},
   "outputs": [
    {
     "data": {
      "text/html": [
       "<div>\n",
       "<style scoped>\n",
       "    .dataframe tbody tr th:only-of-type {\n",
       "        vertical-align: middle;\n",
       "    }\n",
       "\n",
       "    .dataframe tbody tr th {\n",
       "        vertical-align: top;\n",
       "    }\n",
       "\n",
       "    .dataframe thead th {\n",
       "        text-align: right;\n",
       "    }\n",
       "</style>\n",
       "<table border=\"1\" class=\"dataframe\">\n",
       "  <thead>\n",
       "    <tr style=\"text-align: right;\">\n",
       "      <th></th>\n",
       "      <th>PassengerId</th>\n",
       "      <th>Survived</th>\n",
       "      <th>Pclass</th>\n",
       "      <th>Name</th>\n",
       "      <th>Sex</th>\n",
       "      <th>Age</th>\n",
       "      <th>SibSp</th>\n",
       "      <th>Parch</th>\n",
       "      <th>Ticket</th>\n",
       "      <th>Fare</th>\n",
       "      <th>Cabin</th>\n",
       "      <th>Embarked</th>\n",
       "      <th>FamilySize</th>\n",
       "    </tr>\n",
       "  </thead>\n",
       "  <tbody>\n",
       "    <tr>\n",
       "      <th>0</th>\n",
       "      <td>1</td>\n",
       "      <td>0</td>\n",
       "      <td>3</td>\n",
       "      <td>Braund, Mr. Owen Harris</td>\n",
       "      <td>male</td>\n",
       "      <td>22.0</td>\n",
       "      <td>1</td>\n",
       "      <td>0</td>\n",
       "      <td>A/5 21171</td>\n",
       "      <td>7.2500</td>\n",
       "      <td>NaN</td>\n",
       "      <td>S</td>\n",
       "      <td>1</td>\n",
       "    </tr>\n",
       "    <tr>\n",
       "      <th>1</th>\n",
       "      <td>2</td>\n",
       "      <td>1</td>\n",
       "      <td>1</td>\n",
       "      <td>Cumings, Mrs. John Bradley (Florence Briggs Th...</td>\n",
       "      <td>female</td>\n",
       "      <td>38.0</td>\n",
       "      <td>1</td>\n",
       "      <td>0</td>\n",
       "      <td>PC 17599</td>\n",
       "      <td>71.2833</td>\n",
       "      <td>C</td>\n",
       "      <td>C</td>\n",
       "      <td>1</td>\n",
       "    </tr>\n",
       "    <tr>\n",
       "      <th>2</th>\n",
       "      <td>3</td>\n",
       "      <td>1</td>\n",
       "      <td>3</td>\n",
       "      <td>Heikkinen, Miss. Laina</td>\n",
       "      <td>female</td>\n",
       "      <td>26.0</td>\n",
       "      <td>0</td>\n",
       "      <td>0</td>\n",
       "      <td>STON/O2. 3101282</td>\n",
       "      <td>7.9250</td>\n",
       "      <td>NaN</td>\n",
       "      <td>S</td>\n",
       "      <td>0</td>\n",
       "    </tr>\n",
       "    <tr>\n",
       "      <th>3</th>\n",
       "      <td>4</td>\n",
       "      <td>1</td>\n",
       "      <td>1</td>\n",
       "      <td>Futrelle, Mrs. Jacques Heath (Lily May Peel)</td>\n",
       "      <td>female</td>\n",
       "      <td>35.0</td>\n",
       "      <td>1</td>\n",
       "      <td>0</td>\n",
       "      <td>113803</td>\n",
       "      <td>53.1000</td>\n",
       "      <td>C</td>\n",
       "      <td>S</td>\n",
       "      <td>1</td>\n",
       "    </tr>\n",
       "    <tr>\n",
       "      <th>4</th>\n",
       "      <td>5</td>\n",
       "      <td>0</td>\n",
       "      <td>3</td>\n",
       "      <td>Allen, Mr. William Henry</td>\n",
       "      <td>male</td>\n",
       "      <td>35.0</td>\n",
       "      <td>0</td>\n",
       "      <td>0</td>\n",
       "      <td>373450</td>\n",
       "      <td>8.0500</td>\n",
       "      <td>NaN</td>\n",
       "      <td>S</td>\n",
       "      <td>0</td>\n",
       "    </tr>\n",
       "  </tbody>\n",
       "</table>\n",
       "</div>"
      ],
      "text/plain": [
       "   PassengerId  Survived  Pclass  \\\n",
       "0            1         0       3   \n",
       "1            2         1       1   \n",
       "2            3         1       3   \n",
       "3            4         1       1   \n",
       "4            5         0       3   \n",
       "\n",
       "                                                Name     Sex   Age  SibSp  \\\n",
       "0                            Braund, Mr. Owen Harris    male  22.0      1   \n",
       "1  Cumings, Mrs. John Bradley (Florence Briggs Th...  female  38.0      1   \n",
       "2                             Heikkinen, Miss. Laina  female  26.0      0   \n",
       "3       Futrelle, Mrs. Jacques Heath (Lily May Peel)  female  35.0      1   \n",
       "4                           Allen, Mr. William Henry    male  35.0      0   \n",
       "\n",
       "   Parch            Ticket     Fare Cabin Embarked  FamilySize  \n",
       "0      0         A/5 21171   7.2500   NaN        S           1  \n",
       "1      0          PC 17599  71.2833     C        C           1  \n",
       "2      0  STON/O2. 3101282   7.9250   NaN        S           0  \n",
       "3      0            113803  53.1000     C        S           1  \n",
       "4      0            373450   8.0500   NaN        S           0  "
      ]
     },
     "execution_count": 15,
     "metadata": {},
     "output_type": "execute_result"
    }
   ],
   "source": [
    "#Cabin(객실) 정보에서 번호만 삭제하고 객실 종류에 해당하는 알파벳만 남기기 \n",
    "df['Cabin']=df['Cabin'].str[0]\n",
    "df.head()"
   ]
  },
  {
   "cell_type": "code",
   "execution_count": 16,
   "id": "c3b3b3c6",
   "metadata": {},
   "outputs": [
    {
     "data": {
      "text/plain": [
       "C    59\n",
       "B    47\n",
       "D    33\n",
       "E    32\n",
       "A    15\n",
       "F    13\n",
       "G     4\n",
       "T     1\n",
       "Name: Cabin, dtype: int64"
      ]
     },
     "execution_count": 16,
     "metadata": {},
     "output_type": "execute_result"
    }
   ],
   "source": [
    "df['Cabin'].value_counts()"
   ]
  },
  {
   "cell_type": "code",
   "execution_count": 17,
   "id": "864b00d6",
   "metadata": {},
   "outputs": [],
   "source": [
    "df['Cabin'] = df['Cabin'].fillna('C')"
   ]
  },
  {
   "cell_type": "code",
   "execution_count": 18,
   "id": "f6b533c8",
   "metadata": {},
   "outputs": [
    {
     "data": {
      "text/plain": [
       "PassengerId    0\n",
       "Survived       0\n",
       "Pclass         0\n",
       "Name           0\n",
       "Sex            0\n",
       "Age            0\n",
       "SibSp          0\n",
       "Parch          0\n",
       "Ticket         0\n",
       "Fare           0\n",
       "Cabin          0\n",
       "Embarked       2\n",
       "FamilySize     0\n",
       "dtype: int64"
      ]
     },
     "execution_count": 18,
     "metadata": {},
     "output_type": "execute_result"
    }
   ],
   "source": [
    "df.isnull().sum()"
   ]
  },
  {
   "cell_type": "code",
   "execution_count": 19,
   "id": "9345ca36",
   "metadata": {},
   "outputs": [],
   "source": [
    "#test 셋 Cabin 적용\n",
    "df_test['Cabin']=df_test['Cabin'].str[0]"
   ]
  },
  {
   "cell_type": "code",
   "execution_count": 20,
   "id": "250a52a4",
   "metadata": {},
   "outputs": [
    {
     "data": {
      "text/plain": [
       "C    35\n",
       "B    18\n",
       "D    13\n",
       "E     9\n",
       "F     8\n",
       "A     7\n",
       "G     1\n",
       "Name: Cabin, dtype: int64"
      ]
     },
     "execution_count": 20,
     "metadata": {},
     "output_type": "execute_result"
    }
   ],
   "source": [
    "df_test['Cabin'].value_counts()"
   ]
  },
  {
   "cell_type": "code",
   "execution_count": 21,
   "id": "b47b4987",
   "metadata": {},
   "outputs": [],
   "source": [
    "df_test['Cabin']=df_test['Cabin'].fillna('C')"
   ]
  },
  {
   "cell_type": "code",
   "execution_count": 22,
   "id": "a3570fea",
   "metadata": {},
   "outputs": [
    {
     "data": {
      "text/plain": [
       "S    644\n",
       "C    168\n",
       "Q     77\n",
       "Name: Embarked, dtype: int64"
      ]
     },
     "execution_count": 22,
     "metadata": {},
     "output_type": "execute_result"
    }
   ],
   "source": [
    "df['Embarked'].value_counts()"
   ]
  },
  {
   "cell_type": "code",
   "execution_count": 23,
   "id": "08dc3241",
   "metadata": {},
   "outputs": [],
   "source": [
    "df['Embarked']=df['Embarked'].fillna('S')"
   ]
  },
  {
   "cell_type": "code",
   "execution_count": 24,
   "id": "7e22f0f9",
   "metadata": {},
   "outputs": [
    {
     "data": {
      "text/plain": [
       "PassengerId    0\n",
       "Survived       0\n",
       "Pclass         0\n",
       "Name           0\n",
       "Sex            0\n",
       "Age            0\n",
       "SibSp          0\n",
       "Parch          0\n",
       "Ticket         0\n",
       "Fare           0\n",
       "Cabin          0\n",
       "Embarked       0\n",
       "FamilySize     0\n",
       "dtype: int64"
      ]
     },
     "execution_count": 24,
     "metadata": {},
     "output_type": "execute_result"
    }
   ],
   "source": [
    "df.isnull().sum()"
   ]
  },
  {
   "cell_type": "code",
   "execution_count": 25,
   "id": "96226d26",
   "metadata": {},
   "outputs": [
    {
     "data": {
      "text/plain": [
       "S    270\n",
       "C    102\n",
       "Q     46\n",
       "Name: Embarked, dtype: int64"
      ]
     },
     "execution_count": 25,
     "metadata": {},
     "output_type": "execute_result"
    }
   ],
   "source": [
    "df_test['Embarked'].value_counts()"
   ]
  },
  {
   "cell_type": "code",
   "execution_count": 26,
   "id": "bfab1d9c",
   "metadata": {},
   "outputs": [],
   "source": [
    "df_test['Embarked'] = df_test['Embarked'].fillna('S')"
   ]
  },
  {
   "cell_type": "code",
   "execution_count": 27,
   "id": "b15bb4d6",
   "metadata": {},
   "outputs": [
    {
     "data": {
      "text/plain": [
       "PassengerId    0\n",
       "Pclass         0\n",
       "Name           0\n",
       "Sex            0\n",
       "Age            0\n",
       "SibSp          0\n",
       "Parch          0\n",
       "Ticket         0\n",
       "Fare           0\n",
       "Cabin          0\n",
       "Embarked       0\n",
       "FamilySize     0\n",
       "dtype: int64"
      ]
     },
     "execution_count": 27,
     "metadata": {},
     "output_type": "execute_result"
    }
   ],
   "source": [
    "df_test.isnull().sum()"
   ]
  },
  {
   "cell_type": "code",
   "execution_count": 28,
   "id": "8f959cab",
   "metadata": {},
   "outputs": [
    {
     "data": {
      "text/html": [
       "<div>\n",
       "<style scoped>\n",
       "    .dataframe tbody tr th:only-of-type {\n",
       "        vertical-align: middle;\n",
       "    }\n",
       "\n",
       "    .dataframe tbody tr th {\n",
       "        vertical-align: top;\n",
       "    }\n",
       "\n",
       "    .dataframe thead th {\n",
       "        text-align: right;\n",
       "    }\n",
       "</style>\n",
       "<table border=\"1\" class=\"dataframe\">\n",
       "  <thead>\n",
       "    <tr style=\"text-align: right;\">\n",
       "      <th></th>\n",
       "      <th>PassengerId</th>\n",
       "      <th>Survived</th>\n",
       "      <th>Pclass</th>\n",
       "      <th>Name</th>\n",
       "      <th>Sex</th>\n",
       "      <th>Age</th>\n",
       "      <th>SibSp</th>\n",
       "      <th>Parch</th>\n",
       "      <th>Ticket</th>\n",
       "      <th>Fare</th>\n",
       "      <th>Cabin</th>\n",
       "      <th>Embarked</th>\n",
       "      <th>FamilySize</th>\n",
       "    </tr>\n",
       "  </thead>\n",
       "  <tbody>\n",
       "    <tr>\n",
       "      <th>0</th>\n",
       "      <td>1</td>\n",
       "      <td>0</td>\n",
       "      <td>3</td>\n",
       "      <td>Braund, Mr. Owen Harris</td>\n",
       "      <td>male</td>\n",
       "      <td>22.0</td>\n",
       "      <td>1</td>\n",
       "      <td>0</td>\n",
       "      <td>A/5 21171</td>\n",
       "      <td>7.2500</td>\n",
       "      <td>C</td>\n",
       "      <td>S</td>\n",
       "      <td>1</td>\n",
       "    </tr>\n",
       "    <tr>\n",
       "      <th>1</th>\n",
       "      <td>2</td>\n",
       "      <td>1</td>\n",
       "      <td>1</td>\n",
       "      <td>Cumings, Mrs. John Bradley (Florence Briggs Th...</td>\n",
       "      <td>female</td>\n",
       "      <td>38.0</td>\n",
       "      <td>1</td>\n",
       "      <td>0</td>\n",
       "      <td>PC 17599</td>\n",
       "      <td>71.2833</td>\n",
       "      <td>C</td>\n",
       "      <td>C</td>\n",
       "      <td>1</td>\n",
       "    </tr>\n",
       "    <tr>\n",
       "      <th>2</th>\n",
       "      <td>3</td>\n",
       "      <td>1</td>\n",
       "      <td>3</td>\n",
       "      <td>Heikkinen, Miss. Laina</td>\n",
       "      <td>female</td>\n",
       "      <td>26.0</td>\n",
       "      <td>0</td>\n",
       "      <td>0</td>\n",
       "      <td>STON/O2. 3101282</td>\n",
       "      <td>7.9250</td>\n",
       "      <td>C</td>\n",
       "      <td>S</td>\n",
       "      <td>0</td>\n",
       "    </tr>\n",
       "    <tr>\n",
       "      <th>3</th>\n",
       "      <td>4</td>\n",
       "      <td>1</td>\n",
       "      <td>1</td>\n",
       "      <td>Futrelle, Mrs. Jacques Heath (Lily May Peel)</td>\n",
       "      <td>female</td>\n",
       "      <td>35.0</td>\n",
       "      <td>1</td>\n",
       "      <td>0</td>\n",
       "      <td>113803</td>\n",
       "      <td>53.1000</td>\n",
       "      <td>C</td>\n",
       "      <td>S</td>\n",
       "      <td>1</td>\n",
       "    </tr>\n",
       "    <tr>\n",
       "      <th>4</th>\n",
       "      <td>5</td>\n",
       "      <td>0</td>\n",
       "      <td>3</td>\n",
       "      <td>Allen, Mr. William Henry</td>\n",
       "      <td>male</td>\n",
       "      <td>35.0</td>\n",
       "      <td>0</td>\n",
       "      <td>0</td>\n",
       "      <td>373450</td>\n",
       "      <td>8.0500</td>\n",
       "      <td>C</td>\n",
       "      <td>S</td>\n",
       "      <td>0</td>\n",
       "    </tr>\n",
       "  </tbody>\n",
       "</table>\n",
       "</div>"
      ],
      "text/plain": [
       "   PassengerId  Survived  Pclass  \\\n",
       "0            1         0       3   \n",
       "1            2         1       1   \n",
       "2            3         1       3   \n",
       "3            4         1       1   \n",
       "4            5         0       3   \n",
       "\n",
       "                                                Name     Sex   Age  SibSp  \\\n",
       "0                            Braund, Mr. Owen Harris    male  22.0      1   \n",
       "1  Cumings, Mrs. John Bradley (Florence Briggs Th...  female  38.0      1   \n",
       "2                             Heikkinen, Miss. Laina  female  26.0      0   \n",
       "3       Futrelle, Mrs. Jacques Heath (Lily May Peel)  female  35.0      1   \n",
       "4                           Allen, Mr. William Henry    male  35.0      0   \n",
       "\n",
       "   Parch            Ticket     Fare Cabin Embarked  FamilySize  \n",
       "0      0         A/5 21171   7.2500     C        S           1  \n",
       "1      0          PC 17599  71.2833     C        C           1  \n",
       "2      0  STON/O2. 3101282   7.9250     C        S           0  \n",
       "3      0            113803  53.1000     C        S           1  \n",
       "4      0            373450   8.0500     C        S           0  "
      ]
     },
     "execution_count": 28,
     "metadata": {},
     "output_type": "execute_result"
    }
   ],
   "source": [
    "df.head()"
   ]
  },
  {
   "cell_type": "code",
   "execution_count": 29,
   "id": "d5cec7cf",
   "metadata": {},
   "outputs": [
    {
     "data": {
      "text/plain": [
       "C    746\n",
       "B     47\n",
       "D     33\n",
       "E     32\n",
       "A     15\n",
       "F     13\n",
       "G      4\n",
       "T      1\n",
       "Name: Cabin, dtype: int64"
      ]
     },
     "execution_count": 29,
     "metadata": {},
     "output_type": "execute_result"
    }
   ],
   "source": [
    "df['Cabin'].value_counts()"
   ]
  },
  {
   "cell_type": "code",
   "execution_count": 30,
   "id": "b5a896ce",
   "metadata": {},
   "outputs": [],
   "source": [
    "# df.loc[df['Cabin']=='C','Cabin']=0\n",
    "# df.loc[df['Cabin']=='B','Cabin']=1\n",
    "\n",
    "df['Cabin'] = df['Cabin'].map({\n",
    "    'C':0,'B':1,'D':2,'E':3,'A':4,'F':5,'G':6,'T':7,\n",
    "})"
   ]
  },
  {
   "cell_type": "code",
   "execution_count": 31,
   "id": "22984798",
   "metadata": {},
   "outputs": [
    {
     "data": {
      "text/plain": [
       "0    746\n",
       "1     47\n",
       "2     33\n",
       "3     32\n",
       "4     15\n",
       "5     13\n",
       "6      4\n",
       "7      1\n",
       "Name: Cabin, dtype: int64"
      ]
     },
     "execution_count": 31,
     "metadata": {},
     "output_type": "execute_result"
    }
   ],
   "source": [
    "df['Cabin'].value_counts()"
   ]
  },
  {
   "cell_type": "code",
   "execution_count": 32,
   "id": "15267ba8",
   "metadata": {},
   "outputs": [],
   "source": [
    "df_test['Cabin'] = df_test['Cabin'].map({\n",
    "    'C':0,'B':1,'D':2,'E':3,'A':4,'F':5,'G':6,'T':7,\n",
    "})"
   ]
  },
  {
   "cell_type": "code",
   "execution_count": 33,
   "id": "eec90ed8",
   "metadata": {},
   "outputs": [
    {
     "data": {
      "text/plain": [
       "0    362\n",
       "1     18\n",
       "2     13\n",
       "3      9\n",
       "5      8\n",
       "4      7\n",
       "6      1\n",
       "Name: Cabin, dtype: int64"
      ]
     },
     "execution_count": 33,
     "metadata": {},
     "output_type": "execute_result"
    }
   ],
   "source": [
    "df_test['Cabin'].value_counts()"
   ]
  },
  {
   "cell_type": "code",
   "execution_count": 34,
   "id": "51c4a8ec",
   "metadata": {},
   "outputs": [
    {
     "data": {
      "text/html": [
       "<div>\n",
       "<style scoped>\n",
       "    .dataframe tbody tr th:only-of-type {\n",
       "        vertical-align: middle;\n",
       "    }\n",
       "\n",
       "    .dataframe tbody tr th {\n",
       "        vertical-align: top;\n",
       "    }\n",
       "\n",
       "    .dataframe thead th {\n",
       "        text-align: right;\n",
       "    }\n",
       "</style>\n",
       "<table border=\"1\" class=\"dataframe\">\n",
       "  <thead>\n",
       "    <tr style=\"text-align: right;\">\n",
       "      <th></th>\n",
       "      <th>PassengerId</th>\n",
       "      <th>Survived</th>\n",
       "      <th>Pclass</th>\n",
       "      <th>Name</th>\n",
       "      <th>Sex</th>\n",
       "      <th>Age</th>\n",
       "      <th>SibSp</th>\n",
       "      <th>Parch</th>\n",
       "      <th>Ticket</th>\n",
       "      <th>Fare</th>\n",
       "      <th>Cabin</th>\n",
       "      <th>Embarked</th>\n",
       "      <th>FamilySize</th>\n",
       "    </tr>\n",
       "  </thead>\n",
       "  <tbody>\n",
       "    <tr>\n",
       "      <th>0</th>\n",
       "      <td>1</td>\n",
       "      <td>0</td>\n",
       "      <td>3</td>\n",
       "      <td>Braund, Mr. Owen Harris</td>\n",
       "      <td>male</td>\n",
       "      <td>22.0</td>\n",
       "      <td>1</td>\n",
       "      <td>0</td>\n",
       "      <td>A/5 21171</td>\n",
       "      <td>7.2500</td>\n",
       "      <td>0</td>\n",
       "      <td>S</td>\n",
       "      <td>1</td>\n",
       "    </tr>\n",
       "    <tr>\n",
       "      <th>1</th>\n",
       "      <td>2</td>\n",
       "      <td>1</td>\n",
       "      <td>1</td>\n",
       "      <td>Cumings, Mrs. John Bradley (Florence Briggs Th...</td>\n",
       "      <td>female</td>\n",
       "      <td>38.0</td>\n",
       "      <td>1</td>\n",
       "      <td>0</td>\n",
       "      <td>PC 17599</td>\n",
       "      <td>71.2833</td>\n",
       "      <td>0</td>\n",
       "      <td>C</td>\n",
       "      <td>1</td>\n",
       "    </tr>\n",
       "    <tr>\n",
       "      <th>2</th>\n",
       "      <td>3</td>\n",
       "      <td>1</td>\n",
       "      <td>3</td>\n",
       "      <td>Heikkinen, Miss. Laina</td>\n",
       "      <td>female</td>\n",
       "      <td>26.0</td>\n",
       "      <td>0</td>\n",
       "      <td>0</td>\n",
       "      <td>STON/O2. 3101282</td>\n",
       "      <td>7.9250</td>\n",
       "      <td>0</td>\n",
       "      <td>S</td>\n",
       "      <td>0</td>\n",
       "    </tr>\n",
       "    <tr>\n",
       "      <th>3</th>\n",
       "      <td>4</td>\n",
       "      <td>1</td>\n",
       "      <td>1</td>\n",
       "      <td>Futrelle, Mrs. Jacques Heath (Lily May Peel)</td>\n",
       "      <td>female</td>\n",
       "      <td>35.0</td>\n",
       "      <td>1</td>\n",
       "      <td>0</td>\n",
       "      <td>113803</td>\n",
       "      <td>53.1000</td>\n",
       "      <td>0</td>\n",
       "      <td>S</td>\n",
       "      <td>1</td>\n",
       "    </tr>\n",
       "    <tr>\n",
       "      <th>4</th>\n",
       "      <td>5</td>\n",
       "      <td>0</td>\n",
       "      <td>3</td>\n",
       "      <td>Allen, Mr. William Henry</td>\n",
       "      <td>male</td>\n",
       "      <td>35.0</td>\n",
       "      <td>0</td>\n",
       "      <td>0</td>\n",
       "      <td>373450</td>\n",
       "      <td>8.0500</td>\n",
       "      <td>0</td>\n",
       "      <td>S</td>\n",
       "      <td>0</td>\n",
       "    </tr>\n",
       "  </tbody>\n",
       "</table>\n",
       "</div>"
      ],
      "text/plain": [
       "   PassengerId  Survived  Pclass  \\\n",
       "0            1         0       3   \n",
       "1            2         1       1   \n",
       "2            3         1       3   \n",
       "3            4         1       1   \n",
       "4            5         0       3   \n",
       "\n",
       "                                                Name     Sex   Age  SibSp  \\\n",
       "0                            Braund, Mr. Owen Harris    male  22.0      1   \n",
       "1  Cumings, Mrs. John Bradley (Florence Briggs Th...  female  38.0      1   \n",
       "2                             Heikkinen, Miss. Laina  female  26.0      0   \n",
       "3       Futrelle, Mrs. Jacques Heath (Lily May Peel)  female  35.0      1   \n",
       "4                           Allen, Mr. William Henry    male  35.0      0   \n",
       "\n",
       "   Parch            Ticket     Fare  Cabin Embarked  FamilySize  \n",
       "0      0         A/5 21171   7.2500      0        S           1  \n",
       "1      0          PC 17599  71.2833      0        C           1  \n",
       "2      0  STON/O2. 3101282   7.9250      0        S           0  \n",
       "3      0            113803  53.1000      0        S           1  \n",
       "4      0            373450   8.0500      0        S           0  "
      ]
     },
     "execution_count": 34,
     "metadata": {},
     "output_type": "execute_result"
    }
   ],
   "source": [
    "df.head()"
   ]
  },
  {
   "cell_type": "code",
   "execution_count": 35,
   "id": "4e71d8e9",
   "metadata": {},
   "outputs": [
    {
     "data": {
      "text/plain": [
       "S    646\n",
       "C    168\n",
       "Q     77\n",
       "Name: Embarked, dtype: int64"
      ]
     },
     "execution_count": 35,
     "metadata": {},
     "output_type": "execute_result"
    }
   ],
   "source": [
    "df['Embarked'].value_counts()"
   ]
  },
  {
   "cell_type": "code",
   "execution_count": 36,
   "id": "04bedccd",
   "metadata": {},
   "outputs": [],
   "source": [
    "df['Embarked'] = df['Embarked'].map({\n",
    "    'S':0,\n",
    "    'C':1,\n",
    "    'Q':2\n",
    "})"
   ]
  },
  {
   "cell_type": "code",
   "execution_count": 37,
   "id": "f1cca267",
   "metadata": {},
   "outputs": [
    {
     "data": {
      "text/plain": [
       "0    646\n",
       "1    168\n",
       "2     77\n",
       "Name: Embarked, dtype: int64"
      ]
     },
     "execution_count": 37,
     "metadata": {},
     "output_type": "execute_result"
    }
   ],
   "source": [
    "df['Embarked'].value_counts()"
   ]
  },
  {
   "cell_type": "code",
   "execution_count": 38,
   "id": "413cd906",
   "metadata": {},
   "outputs": [],
   "source": [
    "df_test['Embarked'] = df_test['Embarked'].map({\n",
    "    'S':0,\n",
    "    'C':1,\n",
    "    'Q':2\n",
    "})"
   ]
  },
  {
   "cell_type": "code",
   "execution_count": 39,
   "id": "8c80b792",
   "metadata": {},
   "outputs": [
    {
     "data": {
      "text/plain": [
       "0    270\n",
       "1    102\n",
       "2     46\n",
       "Name: Embarked, dtype: int64"
      ]
     },
     "execution_count": 39,
     "metadata": {},
     "output_type": "execute_result"
    }
   ],
   "source": [
    "df_test['Embarked'].value_counts()"
   ]
  },
  {
   "cell_type": "code",
   "execution_count": 40,
   "id": "41b84231",
   "metadata": {},
   "outputs": [
    {
     "data": {
      "text/plain": [
       "male      577\n",
       "female    314\n",
       "Name: Sex, dtype: int64"
      ]
     },
     "execution_count": 40,
     "metadata": {},
     "output_type": "execute_result"
    }
   ],
   "source": [
    "df['Sex'].value_counts()"
   ]
  },
  {
   "cell_type": "code",
   "execution_count": 41,
   "id": "d055d8a3",
   "metadata": {},
   "outputs": [],
   "source": [
    "df['Sex']=df['Sex'].map({\n",
    "    'male':0,\n",
    "    'female':1\n",
    "})\n",
    "\n",
    "df_test['Sex']=df_test['Sex'].map({\n",
    "    'male':0,\n",
    "    'female':1\n",
    "})"
   ]
  },
  {
   "cell_type": "code",
   "execution_count": 42,
   "id": "07ec9831",
   "metadata": {},
   "outputs": [
    {
     "data": {
      "text/plain": [
       "0    577\n",
       "1    314\n",
       "Name: Sex, dtype: int64"
      ]
     },
     "execution_count": 42,
     "metadata": {},
     "output_type": "execute_result"
    }
   ],
   "source": [
    "df['Sex'].value_counts()"
   ]
  },
  {
   "cell_type": "code",
   "execution_count": 43,
   "id": "118d8ff2",
   "metadata": {},
   "outputs": [
    {
     "data": {
      "text/plain": [
       "0    266\n",
       "1    152\n",
       "Name: Sex, dtype: int64"
      ]
     },
     "execution_count": 43,
     "metadata": {},
     "output_type": "execute_result"
    }
   ],
   "source": [
    "df_test['Sex'].value_counts()"
   ]
  },
  {
   "cell_type": "code",
   "execution_count": 44,
   "id": "692dff6b",
   "metadata": {},
   "outputs": [
    {
     "data": {
      "text/html": [
       "<div>\n",
       "<style scoped>\n",
       "    .dataframe tbody tr th:only-of-type {\n",
       "        vertical-align: middle;\n",
       "    }\n",
       "\n",
       "    .dataframe tbody tr th {\n",
       "        vertical-align: top;\n",
       "    }\n",
       "\n",
       "    .dataframe thead th {\n",
       "        text-align: right;\n",
       "    }\n",
       "</style>\n",
       "<table border=\"1\" class=\"dataframe\">\n",
       "  <thead>\n",
       "    <tr style=\"text-align: right;\">\n",
       "      <th></th>\n",
       "      <th>Survived</th>\n",
       "      <th>Pclass</th>\n",
       "      <th>Sex</th>\n",
       "      <th>Age</th>\n",
       "      <th>Fare</th>\n",
       "      <th>Cabin</th>\n",
       "      <th>Embarked</th>\n",
       "      <th>FamilySize</th>\n",
       "    </tr>\n",
       "  </thead>\n",
       "  <tbody>\n",
       "    <tr>\n",
       "      <th>0</th>\n",
       "      <td>0</td>\n",
       "      <td>3</td>\n",
       "      <td>0</td>\n",
       "      <td>22.0</td>\n",
       "      <td>7.2500</td>\n",
       "      <td>0</td>\n",
       "      <td>0</td>\n",
       "      <td>1</td>\n",
       "    </tr>\n",
       "    <tr>\n",
       "      <th>1</th>\n",
       "      <td>1</td>\n",
       "      <td>1</td>\n",
       "      <td>1</td>\n",
       "      <td>38.0</td>\n",
       "      <td>71.2833</td>\n",
       "      <td>0</td>\n",
       "      <td>1</td>\n",
       "      <td>1</td>\n",
       "    </tr>\n",
       "    <tr>\n",
       "      <th>2</th>\n",
       "      <td>1</td>\n",
       "      <td>3</td>\n",
       "      <td>1</td>\n",
       "      <td>26.0</td>\n",
       "      <td>7.9250</td>\n",
       "      <td>0</td>\n",
       "      <td>0</td>\n",
       "      <td>0</td>\n",
       "    </tr>\n",
       "    <tr>\n",
       "      <th>3</th>\n",
       "      <td>1</td>\n",
       "      <td>1</td>\n",
       "      <td>1</td>\n",
       "      <td>35.0</td>\n",
       "      <td>53.1000</td>\n",
       "      <td>0</td>\n",
       "      <td>0</td>\n",
       "      <td>1</td>\n",
       "    </tr>\n",
       "    <tr>\n",
       "      <th>4</th>\n",
       "      <td>0</td>\n",
       "      <td>3</td>\n",
       "      <td>0</td>\n",
       "      <td>35.0</td>\n",
       "      <td>8.0500</td>\n",
       "      <td>0</td>\n",
       "      <td>0</td>\n",
       "      <td>0</td>\n",
       "    </tr>\n",
       "  </tbody>\n",
       "</table>\n",
       "</div>"
      ],
      "text/plain": [
       "   Survived  Pclass  Sex   Age     Fare  Cabin  Embarked  FamilySize\n",
       "0         0       3    0  22.0   7.2500      0         0           1\n",
       "1         1       1    1  38.0  71.2833      0         1           1\n",
       "2         1       3    1  26.0   7.9250      0         0           0\n",
       "3         1       1    1  35.0  53.1000      0         0           1\n",
       "4         0       3    0  35.0   8.0500      0         0           0"
      ]
     },
     "execution_count": 44,
     "metadata": {},
     "output_type": "execute_result"
    }
   ],
   "source": [
    "train = df.drop(['Name','Ticket','SibSp','Parch','PassengerId'],axis=1)\n",
    "train.head()"
   ]
  },
  {
   "cell_type": "code",
   "execution_count": 45,
   "id": "afaf2d32",
   "metadata": {},
   "outputs": [
    {
     "data": {
      "text/html": [
       "<div>\n",
       "<style scoped>\n",
       "    .dataframe tbody tr th:only-of-type {\n",
       "        vertical-align: middle;\n",
       "    }\n",
       "\n",
       "    .dataframe tbody tr th {\n",
       "        vertical-align: top;\n",
       "    }\n",
       "\n",
       "    .dataframe thead th {\n",
       "        text-align: right;\n",
       "    }\n",
       "</style>\n",
       "<table border=\"1\" class=\"dataframe\">\n",
       "  <thead>\n",
       "    <tr style=\"text-align: right;\">\n",
       "      <th></th>\n",
       "      <th>Pclass</th>\n",
       "      <th>Sex</th>\n",
       "      <th>Age</th>\n",
       "      <th>Fare</th>\n",
       "      <th>Cabin</th>\n",
       "      <th>Embarked</th>\n",
       "      <th>FamilySize</th>\n",
       "    </tr>\n",
       "  </thead>\n",
       "  <tbody>\n",
       "    <tr>\n",
       "      <th>0</th>\n",
       "      <td>3</td>\n",
       "      <td>0</td>\n",
       "      <td>34.5</td>\n",
       "      <td>7.8292</td>\n",
       "      <td>0</td>\n",
       "      <td>2</td>\n",
       "      <td>0</td>\n",
       "    </tr>\n",
       "    <tr>\n",
       "      <th>1</th>\n",
       "      <td>3</td>\n",
       "      <td>1</td>\n",
       "      <td>47.0</td>\n",
       "      <td>7.0000</td>\n",
       "      <td>0</td>\n",
       "      <td>0</td>\n",
       "      <td>1</td>\n",
       "    </tr>\n",
       "    <tr>\n",
       "      <th>2</th>\n",
       "      <td>2</td>\n",
       "      <td>0</td>\n",
       "      <td>62.0</td>\n",
       "      <td>9.6875</td>\n",
       "      <td>0</td>\n",
       "      <td>2</td>\n",
       "      <td>0</td>\n",
       "    </tr>\n",
       "    <tr>\n",
       "      <th>3</th>\n",
       "      <td>3</td>\n",
       "      <td>0</td>\n",
       "      <td>27.0</td>\n",
       "      <td>8.6625</td>\n",
       "      <td>0</td>\n",
       "      <td>0</td>\n",
       "      <td>0</td>\n",
       "    </tr>\n",
       "    <tr>\n",
       "      <th>4</th>\n",
       "      <td>3</td>\n",
       "      <td>1</td>\n",
       "      <td>22.0</td>\n",
       "      <td>12.2875</td>\n",
       "      <td>0</td>\n",
       "      <td>0</td>\n",
       "      <td>2</td>\n",
       "    </tr>\n",
       "  </tbody>\n",
       "</table>\n",
       "</div>"
      ],
      "text/plain": [
       "   Pclass  Sex   Age     Fare  Cabin  Embarked  FamilySize\n",
       "0       3    0  34.5   7.8292      0         2           0\n",
       "1       3    1  47.0   7.0000      0         0           1\n",
       "2       2    0  62.0   9.6875      0         2           0\n",
       "3       3    0  27.0   8.6625      0         0           0\n",
       "4       3    1  22.0  12.2875      0         0           2"
      ]
     },
     "execution_count": 45,
     "metadata": {},
     "output_type": "execute_result"
    }
   ],
   "source": [
    "test = df_test.drop(['Name','Ticket','SibSp','Parch','PassengerId'],axis=1)\n",
    "test.head()"
   ]
  },
  {
   "cell_type": "code",
   "execution_count": 46,
   "id": "c21abcc9",
   "metadata": {},
   "outputs": [],
   "source": [
    "#Training set\n",
    "#모델의 학습에 사용되는 데이터\n",
    "\n",
    "#validation set\n",
    "#모델 제작 과정 중, 학습된 모델의 성능을 측정하기 위한 데이터\n",
    "\n",
    "#Test set 모델의 최종 성능을 평가하기 위한 데이터"
   ]
  },
  {
   "cell_type": "code",
   "execution_count": 47,
   "id": "876b73b9",
   "metadata": {},
   "outputs": [
    {
     "data": {
      "text/html": [
       "<div>\n",
       "<style scoped>\n",
       "    .dataframe tbody tr th:only-of-type {\n",
       "        vertical-align: middle;\n",
       "    }\n",
       "\n",
       "    .dataframe tbody tr th {\n",
       "        vertical-align: top;\n",
       "    }\n",
       "\n",
       "    .dataframe thead th {\n",
       "        text-align: right;\n",
       "    }\n",
       "</style>\n",
       "<table border=\"1\" class=\"dataframe\">\n",
       "  <thead>\n",
       "    <tr style=\"text-align: right;\">\n",
       "      <th></th>\n",
       "      <th>Pclass</th>\n",
       "      <th>Sex</th>\n",
       "      <th>Age</th>\n",
       "      <th>Fare</th>\n",
       "      <th>Cabin</th>\n",
       "      <th>Embarked</th>\n",
       "      <th>FamilySize</th>\n",
       "    </tr>\n",
       "  </thead>\n",
       "  <tbody>\n",
       "    <tr>\n",
       "      <th>0</th>\n",
       "      <td>3</td>\n",
       "      <td>0</td>\n",
       "      <td>22.0</td>\n",
       "      <td>7.2500</td>\n",
       "      <td>0</td>\n",
       "      <td>0</td>\n",
       "      <td>1</td>\n",
       "    </tr>\n",
       "    <tr>\n",
       "      <th>1</th>\n",
       "      <td>1</td>\n",
       "      <td>1</td>\n",
       "      <td>38.0</td>\n",
       "      <td>71.2833</td>\n",
       "      <td>0</td>\n",
       "      <td>1</td>\n",
       "      <td>1</td>\n",
       "    </tr>\n",
       "    <tr>\n",
       "      <th>2</th>\n",
       "      <td>3</td>\n",
       "      <td>1</td>\n",
       "      <td>26.0</td>\n",
       "      <td>7.9250</td>\n",
       "      <td>0</td>\n",
       "      <td>0</td>\n",
       "      <td>0</td>\n",
       "    </tr>\n",
       "    <tr>\n",
       "      <th>3</th>\n",
       "      <td>1</td>\n",
       "      <td>1</td>\n",
       "      <td>35.0</td>\n",
       "      <td>53.1000</td>\n",
       "      <td>0</td>\n",
       "      <td>0</td>\n",
       "      <td>1</td>\n",
       "    </tr>\n",
       "    <tr>\n",
       "      <th>4</th>\n",
       "      <td>3</td>\n",
       "      <td>0</td>\n",
       "      <td>35.0</td>\n",
       "      <td>8.0500</td>\n",
       "      <td>0</td>\n",
       "      <td>0</td>\n",
       "      <td>0</td>\n",
       "    </tr>\n",
       "  </tbody>\n",
       "</table>\n",
       "</div>"
      ],
      "text/plain": [
       "   Pclass  Sex   Age     Fare  Cabin  Embarked  FamilySize\n",
       "0       3    0  22.0   7.2500      0         0           1\n",
       "1       1    1  38.0  71.2833      0         1           1\n",
       "2       3    1  26.0   7.9250      0         0           0\n",
       "3       1    1  35.0  53.1000      0         0           1\n",
       "4       3    0  35.0   8.0500      0         0           0"
      ]
     },
     "execution_count": 47,
     "metadata": {},
     "output_type": "execute_result"
    }
   ],
   "source": [
    "train_data = train.drop('Survived',axis=1) #학습용 데이터\n",
    "target_data = train['Survived'] #학습용 데이터의 label\n",
    "train_data.head()"
   ]
  },
  {
   "cell_type": "code",
   "execution_count": 48,
   "id": "2d424be5",
   "metadata": {},
   "outputs": [
    {
     "data": {
      "text/plain": [
       "0    0\n",
       "1    1\n",
       "2    1\n",
       "3    1\n",
       "4    0\n",
       "Name: Survived, dtype: int64"
      ]
     },
     "execution_count": 48,
     "metadata": {},
     "output_type": "execute_result"
    }
   ],
   "source": [
    "target_data.head()"
   ]
  },
  {
   "cell_type": "code",
   "execution_count": 49,
   "id": "20b5d10f",
   "metadata": {},
   "outputs": [
    {
     "name": "stdout",
     "output_type": "stream",
     "text": [
      "(891, 7) (668, 7) (223, 7)\n"
     ]
    }
   ],
   "source": [
    "from sklearn.model_selection import train_test_split\n",
    "x_train,x_valid,y_train,y_valid = train_test_split(train_data,target_data)\n",
    "print(train_data.shape,x_train.shape,x_valid.shape)"
   ]
  },
  {
   "cell_type": "code",
   "execution_count": 50,
   "id": "f11387ea",
   "metadata": {},
   "outputs": [
    {
     "data": {
      "text/plain": [
       "DecisionTreeClassifier()"
      ]
     },
     "execution_count": 50,
     "metadata": {},
     "output_type": "execute_result"
    }
   ],
   "source": [
    "#scikit-learn의 Decision Tree Classifier를 사용하여 학습하기\n",
    "from sklearn.tree import DecisionTreeClassifier\n",
    "\n",
    "#Decison Tree 모델 생성\n",
    "tree_dec = DecisionTreeClassifier()\n",
    "\n",
    "#학습\n",
    "tree_dec.fit(x_train,y_train)"
   ]
  },
  {
   "cell_type": "code",
   "execution_count": 51,
   "id": "45711eb2",
   "metadata": {},
   "outputs": [
    {
     "name": "stdout",
     "output_type": "stream",
     "text": [
      "training set accuracy :  0.9910179640718563\n",
      "Validation set accuracy :  0.7668161434977578\n"
     ]
    }
   ],
   "source": [
    "#학습된 모델로 x_train의 결과를 얻어낸 다음 그 예측과 y_train을 비교해서 정확도를 보임\n",
    "print('training set accuracy : ',tree_dec.score(x_train,y_train))\n",
    "print('Validation set accuracy : ',tree_dec.score(x_valid,y_valid))"
   ]
  },
  {
   "cell_type": "code",
   "execution_count": 52,
   "id": "bcd74e0c",
   "metadata": {},
   "outputs": [
    {
     "data": {
      "text/plain": [
       "0      0\n",
       "1      1\n",
       "2      0\n",
       "3      0\n",
       "4      1\n",
       "      ..\n",
       "413    0\n",
       "414    1\n",
       "415    0\n",
       "416    0\n",
       "417    0\n",
       "Name: Sex, Length: 418, dtype: int64"
      ]
     },
     "execution_count": 52,
     "metadata": {},
     "output_type": "execute_result"
    }
   ],
   "source": [
    "test['Sex']"
   ]
  },
  {
   "cell_type": "code",
   "execution_count": 53,
   "id": "924829c9",
   "metadata": {},
   "outputs": [
    {
     "data": {
      "text/plain": [
       "array([0, 0, 1, 0, 1, 0, 1, 0, 1, 0, 0, 0, 1, 0, 1, 1, 0, 1, 0, 0, 0, 0,\n",
       "       1, 0, 0, 0, 1, 1, 1, 0, 0, 0, 1, 1, 0, 0, 0, 0, 0, 0, 0, 1, 0, 1,\n",
       "       1, 0, 1, 0, 1, 1, 0, 0, 1, 0, 0, 0, 0, 0, 0, 1, 0, 1, 0, 1, 1, 1,\n",
       "       1, 0, 0, 0, 1, 0, 0, 1, 1, 0, 0, 1, 0, 1, 1, 0, 0, 0, 1, 0, 1, 1,\n",
       "       0, 1, 1, 0, 1, 0, 0, 0, 1, 0, 0, 0, 1, 0, 0, 0, 1, 0, 0, 0, 0, 1,\n",
       "       0, 0, 1, 1, 1, 1, 0, 1, 0, 1, 1, 0, 1, 0, 0, 0, 0, 1, 1, 0, 0, 0,\n",
       "       0, 0, 0, 0, 0, 0, 0, 0, 0, 1, 1, 0, 1, 0, 0, 0, 1, 0, 1, 0, 1, 1,\n",
       "       0, 0, 1, 1, 1, 1, 1, 1, 0, 0, 0, 1, 1, 0, 1, 0, 0, 0, 0, 0, 0, 1,\n",
       "       1, 0, 1, 1, 0, 1, 1, 0, 1, 0, 1, 1, 0, 0, 0, 0, 0, 0, 1, 0, 1, 0,\n",
       "       0, 0, 1, 1, 0, 1, 0, 0, 0, 0, 1, 0, 0, 0, 0, 1, 0, 1, 0, 0, 1, 0,\n",
       "       1, 0, 1, 0, 1, 0, 0, 0, 0, 0, 0, 1, 0, 0, 0, 0, 0, 1, 1, 1, 1, 1,\n",
       "       0, 0, 0, 1, 1, 0, 1, 0, 0, 0, 0, 0, 1, 0, 0, 0, 1, 0, 0, 0, 1, 1,\n",
       "       1, 0, 0, 0, 0, 0, 0, 0, 1, 1, 0, 1, 0, 0, 0, 0, 0, 1, 0, 0, 1, 0,\n",
       "       0, 0, 0, 0, 0, 0, 0, 1, 0, 0, 0, 0, 0, 0, 0, 1, 0, 0, 0, 1, 0, 1,\n",
       "       1, 0, 0, 1, 0, 0, 1, 1, 1, 1, 0, 0, 0, 0, 1, 1, 1, 0, 1, 0, 0, 0,\n",
       "       1, 1, 0, 0, 0, 0, 1, 0, 0, 0, 0, 0, 0, 1, 0, 1, 0, 1, 0, 1, 1, 0,\n",
       "       0, 0, 1, 1, 1, 0, 0, 1, 0, 1, 1, 0, 1, 0, 0, 1, 1, 1, 0, 1, 0, 0,\n",
       "       1, 1, 0, 0, 0, 0, 0, 0, 1, 0, 0, 1, 0, 0, 0, 0, 1, 1, 0, 1, 0, 1,\n",
       "       0, 1, 0, 0, 1, 0, 1, 0, 1, 1, 0, 0, 1, 1, 0, 1, 0, 0, 1, 0, 0, 0],\n",
       "      dtype=int64)"
      ]
     },
     "execution_count": 53,
     "metadata": {},
     "output_type": "execute_result"
    }
   ],
   "source": [
    "#만들어진 Decision Tree로 test 데이터 판단\n",
    "prediction = tree_dec.predict(test)\n",
    "prediction"
   ]
  },
  {
   "cell_type": "code",
   "execution_count": 54,
   "id": "1b165041",
   "metadata": {},
   "outputs": [],
   "source": [
    "submit = pd.DataFrame({\n",
    "    'PassengerId':df_test['PassengerId'],\n",
    "    'Survived':prediction\n",
    "})\n",
    "submit.to_csv('submit.csv',index = False)"
   ]
  },
  {
   "cell_type": "code",
   "execution_count": 55,
   "id": "0222a60a",
   "metadata": {},
   "outputs": [
    {
     "data": {
      "text/html": [
       "<div>\n",
       "<style scoped>\n",
       "    .dataframe tbody tr th:only-of-type {\n",
       "        vertical-align: middle;\n",
       "    }\n",
       "\n",
       "    .dataframe tbody tr th {\n",
       "        vertical-align: top;\n",
       "    }\n",
       "\n",
       "    .dataframe thead th {\n",
       "        text-align: right;\n",
       "    }\n",
       "</style>\n",
       "<table border=\"1\" class=\"dataframe\">\n",
       "  <thead>\n",
       "    <tr style=\"text-align: right;\">\n",
       "      <th></th>\n",
       "      <th>PassengerId</th>\n",
       "      <th>Survived</th>\n",
       "    </tr>\n",
       "  </thead>\n",
       "  <tbody>\n",
       "    <tr>\n",
       "      <th>0</th>\n",
       "      <td>892</td>\n",
       "      <td>0</td>\n",
       "    </tr>\n",
       "    <tr>\n",
       "      <th>1</th>\n",
       "      <td>893</td>\n",
       "      <td>0</td>\n",
       "    </tr>\n",
       "    <tr>\n",
       "      <th>2</th>\n",
       "      <td>894</td>\n",
       "      <td>1</td>\n",
       "    </tr>\n",
       "    <tr>\n",
       "      <th>3</th>\n",
       "      <td>895</td>\n",
       "      <td>0</td>\n",
       "    </tr>\n",
       "    <tr>\n",
       "      <th>4</th>\n",
       "      <td>896</td>\n",
       "      <td>1</td>\n",
       "    </tr>\n",
       "  </tbody>\n",
       "</table>\n",
       "</div>"
      ],
      "text/plain": [
       "   PassengerId  Survived\n",
       "0          892         0\n",
       "1          893         0\n",
       "2          894         1\n",
       "3          895         0\n",
       "4          896         1"
      ]
     },
     "execution_count": 55,
     "metadata": {},
     "output_type": "execute_result"
    }
   ],
   "source": [
    "my_prediction = pd.read_csv('submit.csv')\n",
    "my_prediction.head()"
   ]
  },
  {
   "cell_type": "code",
   "execution_count": 56,
   "id": "41b25212",
   "metadata": {},
   "outputs": [
    {
     "data": {
      "text/plain": [
       "[Text(0.6165902634297521, 0.9772727272727273, 'Sex <= 0.5\\ngini = 0.475\\nsamples = 668\\nvalue = [408, 260]\\nclass = Unsurvived'),\n",
       " Text(0.39311079545454547, 0.9318181818181818, 'Cabin <= 0.5\\ngini = 0.305\\nsamples = 426\\nvalue = [346, 80]\\nclass = Unsurvived'),\n",
       " Text(0.20977530991735538, 0.8863636363636364, 'Age <= 0.96\\ngini = 0.253\\nsamples = 370\\nvalue = [315, 55]\\nclass = Unsurvived'),\n",
       " Text(0.20151084710743802, 0.8409090909090909, 'gini = 0.0\\nsamples = 4\\nvalue = [0, 4]\\nclass = survived'),\n",
       " Text(0.21803977272727273, 0.8409090909090909, 'Fare <= 7.91\\ngini = 0.24\\nsamples = 366\\nvalue = [315, 51]\\nclass = Unsurvived'),\n",
       " Text(0.12706611570247933, 0.7954545454545454, 'Age <= 29.35\\ngini = 0.157\\nsamples = 128\\nvalue = [117, 11]\\nclass = Unsurvived'),\n",
       " Text(0.08057851239669421, 0.75, 'Embarked <= 0.5\\ngini = 0.234\\nsamples = 59\\nvalue = [51, 8]\\nclass = Unsurvived'),\n",
       " Text(0.0371900826446281, 0.7045454545454546, 'Fare <= 7.01\\ngini = 0.159\\nsamples = 46\\nvalue = [42, 4]\\nclass = Unsurvived'),\n",
       " Text(0.01652892561983471, 0.6590909090909091, 'Age <= 22.0\\ngini = 0.5\\nsamples = 4\\nvalue = [2, 2]\\nclass = Unsurvived'),\n",
       " Text(0.008264462809917356, 0.6136363636363636, 'gini = 0.0\\nsamples = 2\\nvalue = [2, 0]\\nclass = Unsurvived'),\n",
       " Text(0.024793388429752067, 0.6136363636363636, 'gini = 0.0\\nsamples = 2\\nvalue = [0, 2]\\nclass = survived'),\n",
       " Text(0.05785123966942149, 0.6590909090909091, 'Fare <= 7.196\\ngini = 0.091\\nsamples = 42\\nvalue = [40, 2]\\nclass = Unsurvived'),\n",
       " Text(0.04132231404958678, 0.6136363636363636, 'Fare <= 7.098\\ngini = 0.278\\nsamples = 6\\nvalue = [5, 1]\\nclass = Unsurvived'),\n",
       " Text(0.03305785123966942, 0.5681818181818182, 'gini = 0.0\\nsamples = 5\\nvalue = [5, 0]\\nclass = Unsurvived'),\n",
       " Text(0.049586776859504134, 0.5681818181818182, 'gini = 0.0\\nsamples = 1\\nvalue = [0, 1]\\nclass = survived'),\n",
       " Text(0.0743801652892562, 0.6136363636363636, 'Age <= 26.5\\ngini = 0.054\\nsamples = 36\\nvalue = [35, 1]\\nclass = Unsurvived'),\n",
       " Text(0.06611570247933884, 0.5681818181818182, 'gini = 0.0\\nsamples = 28\\nvalue = [28, 0]\\nclass = Unsurvived'),\n",
       " Text(0.08264462809917356, 0.5681818181818182, 'Age <= 27.5\\ngini = 0.219\\nsamples = 8\\nvalue = [7, 1]\\nclass = Unsurvived'),\n",
       " Text(0.0743801652892562, 0.5227272727272727, 'Fare <= 7.846\\ngini = 0.5\\nsamples = 2\\nvalue = [1, 1]\\nclass = Unsurvived'),\n",
       " Text(0.06611570247933884, 0.4772727272727273, 'gini = 0.0\\nsamples = 1\\nvalue = [0, 1]\\nclass = survived'),\n",
       " Text(0.08264462809917356, 0.4772727272727273, 'gini = 0.0\\nsamples = 1\\nvalue = [1, 0]\\nclass = Unsurvived'),\n",
       " Text(0.09090909090909091, 0.5227272727272727, 'gini = 0.0\\nsamples = 6\\nvalue = [6, 0]\\nclass = Unsurvived'),\n",
       " Text(0.12396694214876033, 0.7045454545454546, 'Age <= 28.75\\ngini = 0.426\\nsamples = 13\\nvalue = [9, 4]\\nclass = Unsurvived'),\n",
       " Text(0.11570247933884298, 0.6590909090909091, 'Age <= 19.5\\ngini = 0.298\\nsamples = 11\\nvalue = [9, 2]\\nclass = Unsurvived'),\n",
       " Text(0.10743801652892562, 0.6136363636363636, 'gini = 0.0\\nsamples = 3\\nvalue = [3, 0]\\nclass = Unsurvived'),\n",
       " Text(0.12396694214876033, 0.6136363636363636, 'Age <= 22.75\\ngini = 0.375\\nsamples = 8\\nvalue = [6, 2]\\nclass = Unsurvived'),\n",
       " Text(0.11570247933884298, 0.5681818181818182, 'Embarked <= 1.5\\ngini = 0.48\\nsamples = 5\\nvalue = [3, 2]\\nclass = Unsurvived'),\n",
       " Text(0.10743801652892562, 0.5227272727272727, 'Fare <= 5.619\\ngini = 0.5\\nsamples = 4\\nvalue = [2, 2]\\nclass = Unsurvived'),\n",
       " Text(0.09917355371900827, 0.4772727272727273, 'gini = 0.0\\nsamples = 1\\nvalue = [1, 0]\\nclass = Unsurvived'),\n",
       " Text(0.11570247933884298, 0.4772727272727273, 'Fare <= 7.227\\ngini = 0.444\\nsamples = 3\\nvalue = [1, 2]\\nclass = survived'),\n",
       " Text(0.10743801652892562, 0.4318181818181818, 'gini = 0.0\\nsamples = 1\\nvalue = [0, 1]\\nclass = survived'),\n",
       " Text(0.12396694214876033, 0.4318181818181818, 'Age <= 21.0\\ngini = 0.5\\nsamples = 2\\nvalue = [1, 1]\\nclass = Unsurvived'),\n",
       " Text(0.11570247933884298, 0.38636363636363635, 'gini = 0.0\\nsamples = 1\\nvalue = [0, 1]\\nclass = survived'),\n",
       " Text(0.1322314049586777, 0.38636363636363635, 'gini = 0.0\\nsamples = 1\\nvalue = [1, 0]\\nclass = Unsurvived'),\n",
       " Text(0.12396694214876033, 0.5227272727272727, 'gini = 0.0\\nsamples = 1\\nvalue = [1, 0]\\nclass = Unsurvived'),\n",
       " Text(0.1322314049586777, 0.5681818181818182, 'gini = 0.0\\nsamples = 3\\nvalue = [3, 0]\\nclass = Unsurvived'),\n",
       " Text(0.1322314049586777, 0.6590909090909091, 'gini = 0.0\\nsamples = 2\\nvalue = [0, 2]\\nclass = survived'),\n",
       " Text(0.17355371900826447, 0.75, 'Age <= 32.5\\ngini = 0.083\\nsamples = 69\\nvalue = [66, 3]\\nclass = Unsurvived'),\n",
       " Text(0.1652892561983471, 0.7045454545454546, 'Age <= 31.5\\ngini = 0.124\\nsamples = 45\\nvalue = [42, 3]\\nclass = Unsurvived'),\n",
       " Text(0.1487603305785124, 0.6590909090909091, 'Embarked <= 0.5\\ngini = 0.091\\nsamples = 42\\nvalue = [40, 2]\\nclass = Unsurvived'),\n",
       " Text(0.14049586776859505, 0.6136363636363636, 'gini = 0.0\\nsamples = 20\\nvalue = [20, 0]\\nclass = Unsurvived'),\n",
       " Text(0.15702479338842976, 0.6136363636363636, 'Fare <= 7.227\\ngini = 0.165\\nsamples = 22\\nvalue = [20, 2]\\nclass = Unsurvived'),\n",
       " Text(0.1487603305785124, 0.5681818181818182, 'gini = 0.0\\nsamples = 6\\nvalue = [6, 0]\\nclass = Unsurvived'),\n",
       " Text(0.1652892561983471, 0.5681818181818182, 'Fare <= 7.479\\ngini = 0.219\\nsamples = 16\\nvalue = [14, 2]\\nclass = Unsurvived'),\n",
       " Text(0.1487603305785124, 0.5227272727272727, 'Age <= 29.85\\ngini = 0.32\\nsamples = 5\\nvalue = [4, 1]\\nclass = Unsurvived'),\n",
       " Text(0.14049586776859505, 0.4772727272727273, 'gini = 0.375\\nsamples = 4\\nvalue = [3, 1]\\nclass = Unsurvived'),\n",
       " Text(0.15702479338842976, 0.4772727272727273, 'gini = 0.0\\nsamples = 1\\nvalue = [1, 0]\\nclass = Unsurvived'),\n",
       " Text(0.18181818181818182, 0.5227272727272727, 'Fare <= 7.742\\ngini = 0.165\\nsamples = 11\\nvalue = [10, 1]\\nclass = Unsurvived'),\n",
       " Text(0.17355371900826447, 0.4772727272727273, 'gini = 0.0\\nsamples = 2\\nvalue = [2, 0]\\nclass = Unsurvived'),\n",
       " Text(0.19008264462809918, 0.4772727272727273, 'Fare <= 7.79\\ngini = 0.198\\nsamples = 9\\nvalue = [8, 1]\\nclass = Unsurvived'),\n",
       " Text(0.18181818181818182, 0.4318181818181818, 'FamilySize <= 0.5\\ngini = 0.245\\nsamples = 7\\nvalue = [6, 1]\\nclass = Unsurvived'),\n",
       " Text(0.17355371900826447, 0.38636363636363635, 'gini = 0.278\\nsamples = 6\\nvalue = [5, 1]\\nclass = Unsurvived'),\n",
       " Text(0.19008264462809918, 0.38636363636363635, 'gini = 0.0\\nsamples = 1\\nvalue = [1, 0]\\nclass = Unsurvived'),\n",
       " Text(0.19834710743801653, 0.4318181818181818, 'gini = 0.0\\nsamples = 2\\nvalue = [2, 0]\\nclass = Unsurvived'),\n",
       " Text(0.18181818181818182, 0.6590909090909091, 'Fare <= 7.802\\ngini = 0.444\\nsamples = 3\\nvalue = [2, 1]\\nclass = Unsurvived'),\n",
       " Text(0.17355371900826447, 0.6136363636363636, 'gini = 0.0\\nsamples = 1\\nvalue = [1, 0]\\nclass = Unsurvived'),\n",
       " Text(0.19008264462809918, 0.6136363636363636, 'Fare <= 7.875\\ngini = 0.5\\nsamples = 2\\nvalue = [1, 1]\\nclass = Unsurvived'),\n",
       " Text(0.18181818181818182, 0.5681818181818182, 'gini = 0.0\\nsamples = 1\\nvalue = [0, 1]\\nclass = survived'),\n",
       " Text(0.19834710743801653, 0.5681818181818182, 'gini = 0.0\\nsamples = 1\\nvalue = [1, 0]\\nclass = Unsurvived'),\n",
       " Text(0.18181818181818182, 0.7045454545454546, 'gini = 0.0\\nsamples = 24\\nvalue = [24, 0]\\nclass = Unsurvived'),\n",
       " Text(0.30901342975206614, 0.7954545454545454, 'Fare <= 7.988\\ngini = 0.28\\nsamples = 238\\nvalue = [198, 40]\\nclass = Unsurvived'),\n",
       " Text(0.23140495867768596, 0.75, 'FamilySize <= 1.5\\ngini = 0.494\\nsamples = 9\\nvalue = [5, 4]\\nclass = Unsurvived'),\n",
       " Text(0.2231404958677686, 0.7045454545454546, 'FamilySize <= 0.5\\ngini = 0.49\\nsamples = 7\\nvalue = [3, 4]\\nclass = survived'),\n",
       " Text(0.21487603305785125, 0.6590909090909091, 'Age <= 26.5\\ngini = 0.5\\nsamples = 6\\nvalue = [3, 3]\\nclass = Unsurvived'),\n",
       " Text(0.2066115702479339, 0.6136363636363636, 'gini = 0.0\\nsamples = 1\\nvalue = [1, 0]\\nclass = Unsurvived'),\n",
       " Text(0.2231404958677686, 0.6136363636363636, 'Age <= 41.5\\ngini = 0.48\\nsamples = 5\\nvalue = [2, 3]\\nclass = survived'),\n",
       " Text(0.21487603305785125, 0.5681818181818182, 'Age <= 35.5\\ngini = 0.5\\nsamples = 4\\nvalue = [2, 2]\\nclass = Unsurvived'),\n",
       " Text(0.2066115702479339, 0.5227272727272727, 'gini = 0.5\\nsamples = 2\\nvalue = [1, 1]\\nclass = Unsurvived'),\n",
       " Text(0.2231404958677686, 0.5227272727272727, 'gini = 0.5\\nsamples = 2\\nvalue = [1, 1]\\nclass = Unsurvived'),\n",
       " Text(0.23140495867768596, 0.5681818181818182, 'gini = 0.0\\nsamples = 1\\nvalue = [0, 1]\\nclass = survived'),\n",
       " Text(0.23140495867768596, 0.6590909090909091, 'gini = 0.0\\nsamples = 1\\nvalue = [0, 1]\\nclass = survived'),\n",
       " Text(0.2396694214876033, 0.7045454545454546, 'gini = 0.0\\nsamples = 2\\nvalue = [2, 0]\\nclass = Unsurvived'),\n",
       " Text(0.38662190082644626, 0.75, 'FamilySize <= 2.5\\ngini = 0.265\\nsamples = 229\\nvalue = [193, 36]\\nclass = Unsurvived'),\n",
       " Text(0.37835743801652894, 0.7045454545454546, 'Age <= 10.0\\ngini = 0.287\\nsamples = 207\\nvalue = [171, 36]\\nclass = Unsurvived'),\n",
       " Text(0.37009297520661155, 0.6590909090909091, 'gini = 0.0\\nsamples = 5\\nvalue = [0, 5]\\nclass = survived'),\n",
       " Text(0.38662190082644626, 0.6590909090909091, 'Fare <= 26.4\\ngini = 0.26\\nsamples = 202\\nvalue = [171, 31]\\nclass = Unsurvived'),\n",
       " Text(0.29390495867768596, 0.6136363636363636, 'Age <= 19.5\\ngini = 0.201\\nsamples = 150\\nvalue = [133, 17]\\nclass = Unsurvived'),\n",
       " Text(0.24793388429752067, 0.5681818181818182, 'Fare <= 8.104\\ngini = 0.415\\nsamples = 17\\nvalue = [12, 5]\\nclass = Unsurvived'),\n",
       " Text(0.2396694214876033, 0.5227272727272727, 'gini = 0.0\\nsamples = 3\\nvalue = [0, 3]\\nclass = survived'),\n",
       " Text(0.256198347107438, 0.5227272727272727, 'Embarked <= 0.5\\ngini = 0.245\\nsamples = 14\\nvalue = [12, 2]\\nclass = Unsurvived'),\n",
       " Text(0.2396694214876033, 0.4772727272727273, 'Pclass <= 2.5\\ngini = 0.153\\nsamples = 12\\nvalue = [11, 1]\\nclass = Unsurvived'),\n",
       " Text(0.23140495867768596, 0.4318181818181818, 'Age <= 18.5\\ngini = 0.375\\nsamples = 4\\nvalue = [3, 1]\\nclass = Unsurvived'),\n",
       " Text(0.2231404958677686, 0.38636363636363635, 'gini = 0.0\\nsamples = 3\\nvalue = [3, 0]\\nclass = Unsurvived'),\n",
       " Text(0.2396694214876033, 0.38636363636363635, 'gini = 0.0\\nsamples = 1\\nvalue = [0, 1]\\nclass = survived'),\n",
       " Text(0.24793388429752067, 0.4318181818181818, 'gini = 0.0\\nsamples = 8\\nvalue = [8, 0]\\nclass = Unsurvived'),\n",
       " Text(0.2727272727272727, 0.4772727272727273, 'Fare <= 15.015\\ngini = 0.5\\nsamples = 2\\nvalue = [1, 1]\\nclass = Unsurvived'),\n",
       " Text(0.2644628099173554, 0.4318181818181818, 'gini = 0.0\\nsamples = 1\\nvalue = [0, 1]\\nclass = survived'),\n",
       " Text(0.2809917355371901, 0.4318181818181818, 'gini = 0.0\\nsamples = 1\\nvalue = [1, 0]\\nclass = Unsurvived'),\n",
       " Text(0.33987603305785125, 0.5681818181818182, 'Age <= 25.5\\ngini = 0.164\\nsamples = 133\\nvalue = [121, 12]\\nclass = Unsurvived'),\n",
       " Text(0.33161157024793386, 0.5227272727272727, 'gini = 0.0\\nsamples = 24\\nvalue = [24, 0]\\nclass = Unsurvived'),\n",
       " Text(0.3481404958677686, 0.5227272727272727, 'Age <= 32.5\\ngini = 0.196\\nsamples = 109\\nvalue = [97, 12]\\nclass = Unsurvived'),\n",
       " Text(0.30578512396694213, 0.4772727272727273, 'Fare <= 8.081\\ngini = 0.248\\nsamples = 62\\nvalue = [53, 9]\\nclass = Unsurvived'),\n",
       " Text(0.2975206611570248, 0.4318181818181818, 'gini = 0.0\\nsamples = 15\\nvalue = [15, 0]\\nclass = Unsurvived'),\n",
       " Text(0.3140495867768595, 0.4318181818181818, 'Fare <= 8.238\\ngini = 0.31\\nsamples = 47\\nvalue = [38, 9]\\nclass = Unsurvived'),\n",
       " Text(0.30578512396694213, 0.38636363636363635, 'gini = 0.0\\nsamples = 1\\nvalue = [0, 1]\\nclass = survived'),\n",
       " Text(0.32231404958677684, 0.38636363636363635, 'Fare <= 9.492\\ngini = 0.287\\nsamples = 46\\nvalue = [38, 8]\\nclass = Unsurvived'),\n",
       " Text(0.3140495867768595, 0.3409090909090909, 'gini = 0.0\\nsamples = 6\\nvalue = [6, 0]\\nclass = Unsurvived'),\n",
       " Text(0.3305785123966942, 0.3409090909090909, 'Fare <= 10.0\\ngini = 0.32\\nsamples = 40\\nvalue = [32, 8]\\nclass = Unsurvived'),\n",
       " Text(0.30785123966942146, 0.29545454545454547, 'Age <= 28.5\\ngini = 0.444\\nsamples = 3\\nvalue = [1, 2]\\nclass = survived'),\n",
       " Text(0.29958677685950413, 0.25, 'gini = 0.0\\nsamples = 1\\nvalue = [1, 0]\\nclass = Unsurvived'),\n",
       " Text(0.31611570247933884, 0.25, 'gini = 0.0\\nsamples = 2\\nvalue = [0, 2]\\nclass = survived'),\n",
       " Text(0.35330578512396693, 0.29545454545454547, 'Embarked <= 0.5\\ngini = 0.272\\nsamples = 37\\nvalue = [31, 6]\\nclass = Unsurvived'),\n",
       " Text(0.33264462809917356, 0.25, 'Age <= 30.5\\ngini = 0.198\\nsamples = 27\\nvalue = [24, 3]\\nclass = Unsurvived'),\n",
       " Text(0.31611570247933884, 0.20454545454545456, 'Fare <= 13.25\\ngini = 0.091\\nsamples = 21\\nvalue = [20, 1]\\nclass = Unsurvived'),\n",
       " Text(0.30785123966942146, 0.1590909090909091, 'Age <= 29.35\\ngini = 0.198\\nsamples = 9\\nvalue = [8, 1]\\nclass = Unsurvived'),\n",
       " Text(0.29958677685950413, 0.11363636363636363, 'gini = 0.0\\nsamples = 5\\nvalue = [5, 0]\\nclass = Unsurvived'),\n",
       " Text(0.31611570247933884, 0.11363636363636363, 'Age <= 29.85\\ngini = 0.375\\nsamples = 4\\nvalue = [3, 1]\\nclass = Unsurvived'),\n",
       " Text(0.30785123966942146, 0.06818181818181818, 'gini = 0.0\\nsamples = 1\\nvalue = [0, 1]\\nclass = survived'),\n",
       " Text(0.3243801652892562, 0.06818181818181818, 'gini = 0.0\\nsamples = 3\\nvalue = [3, 0]\\nclass = Unsurvived'),\n",
       " Text(0.3243801652892562, 0.1590909090909091, 'gini = 0.0\\nsamples = 12\\nvalue = [12, 0]\\nclass = Unsurvived'),\n",
       " Text(0.34917355371900827, 0.20454545454545456, 'Fare <= 11.75\\ngini = 0.444\\nsamples = 6\\nvalue = [4, 2]\\nclass = Unsurvived'),\n",
       " Text(0.3409090909090909, 0.1590909090909091, 'gini = 0.0\\nsamples = 2\\nvalue = [2, 0]\\nclass = Unsurvived'),\n",
       " Text(0.3574380165289256, 0.1590909090909091, 'Pclass <= 2.5\\ngini = 0.5\\nsamples = 4\\nvalue = [2, 2]\\nclass = Unsurvived'),\n",
       " Text(0.34917355371900827, 0.11363636363636363, 'Fare <= 26.125\\ngini = 0.444\\nsamples = 3\\nvalue = [1, 2]\\nclass = survived'),\n",
       " Text(0.3409090909090909, 0.06818181818181818, 'gini = 0.0\\nsamples = 2\\nvalue = [0, 2]\\nclass = survived'),\n",
       " Text(0.3574380165289256, 0.06818181818181818, 'gini = 0.0\\nsamples = 1\\nvalue = [1, 0]\\nclass = Unsurvived'),\n",
       " Text(0.365702479338843, 0.11363636363636363, 'gini = 0.0\\nsamples = 1\\nvalue = [1, 0]\\nclass = Unsurvived'),\n",
       " Text(0.3739669421487603, 0.25, 'Fare <= 14.158\\ngini = 0.42\\nsamples = 10\\nvalue = [7, 3]\\nclass = Unsurvived'),\n",
       " Text(0.365702479338843, 0.20454545454545456, 'gini = 0.0\\nsamples = 1\\nvalue = [0, 1]\\nclass = survived'),\n",
       " Text(0.3822314049586777, 0.20454545454545456, 'Fare <= 17.144\\ngini = 0.346\\nsamples = 9\\nvalue = [7, 2]\\nclass = Unsurvived'),\n",
       " Text(0.3739669421487603, 0.1590909090909091, 'gini = 0.0\\nsamples = 4\\nvalue = [4, 0]\\nclass = Unsurvived'),\n",
       " Text(0.390495867768595, 0.1590909090909091, 'Fare <= 23.625\\ngini = 0.48\\nsamples = 5\\nvalue = [3, 2]\\nclass = Unsurvived'),\n",
       " Text(0.3822314049586777, 0.11363636363636363, 'Fare <= 20.233\\ngini = 0.444\\nsamples = 3\\nvalue = [1, 2]\\nclass = survived'),\n",
       " Text(0.3739669421487603, 0.06818181818181818, 'gini = 0.0\\nsamples = 1\\nvalue = [0, 1]\\nclass = survived'),\n",
       " Text(0.390495867768595, 0.06818181818181818, 'Embarked <= 1.5\\ngini = 0.5\\nsamples = 2\\nvalue = [1, 1]\\nclass = Unsurvived'),\n",
       " Text(0.3822314049586777, 0.022727272727272728, 'gini = 0.0\\nsamples = 1\\nvalue = [1, 0]\\nclass = Unsurvived'),\n",
       " Text(0.3987603305785124, 0.022727272727272728, 'gini = 0.0\\nsamples = 1\\nvalue = [0, 1]\\nclass = survived'),\n",
       " Text(0.3987603305785124, 0.11363636363636363, 'gini = 0.0\\nsamples = 2\\nvalue = [2, 0]\\nclass = Unsurvived'),\n",
       " Text(0.390495867768595, 0.4772727272727273, 'Age <= 41.5\\ngini = 0.12\\nsamples = 47\\nvalue = [44, 3]\\nclass = Unsurvived'),\n",
       " Text(0.3822314049586777, 0.4318181818181818, 'gini = 0.0\\nsamples = 23\\nvalue = [23, 0]\\nclass = Unsurvived'),\n",
       " Text(0.3987603305785124, 0.4318181818181818, 'Age <= 42.5\\ngini = 0.219\\nsamples = 24\\nvalue = [21, 3]\\nclass = Unsurvived'),\n",
       " Text(0.3822314049586777, 0.38636363636363635, 'FamilySize <= 0.5\\ngini = 0.5\\nsamples = 2\\nvalue = [1, 1]\\nclass = Unsurvived'),\n",
       " Text(0.3739669421487603, 0.3409090909090909, 'gini = 0.0\\nsamples = 1\\nvalue = [0, 1]\\nclass = survived'),\n",
       " Text(0.390495867768595, 0.3409090909090909, 'gini = 0.0\\nsamples = 1\\nvalue = [1, 0]\\nclass = Unsurvived'),\n",
       " Text(0.4152892561983471, 0.38636363636363635, 'Fare <= 11.425\\ngini = 0.165\\nsamples = 22\\nvalue = [20, 2]\\nclass = Unsurvived'),\n",
       " Text(0.40702479338842973, 0.3409090909090909, 'Age <= 44.5\\ngini = 0.32\\nsamples = 10\\nvalue = [8, 2]\\nclass = Unsurvived'),\n",
       " Text(0.3987603305785124, 0.29545454545454547, 'gini = 0.0\\nsamples = 2\\nvalue = [2, 0]\\nclass = Unsurvived'),\n",
       " Text(0.4152892561983471, 0.29545454545454547, 'Age <= 46.0\\ngini = 0.375\\nsamples = 8\\nvalue = [6, 2]\\nclass = Unsurvived'),\n",
       " Text(0.40702479338842973, 0.25, 'gini = 0.0\\nsamples = 1\\nvalue = [0, 1]\\nclass = survived'),\n",
       " Text(0.42355371900826444, 0.25, 'Pclass <= 2.5\\ngini = 0.245\\nsamples = 7\\nvalue = [6, 1]\\nclass = Unsurvived'),\n",
       " Text(0.4152892561983471, 0.20454545454545456, 'Age <= 64.0\\ngini = 0.444\\nsamples = 3\\nvalue = [2, 1]\\nclass = Unsurvived'),\n",
       " Text(0.40702479338842973, 0.1590909090909091, 'gini = 0.0\\nsamples = 1\\nvalue = [0, 1]\\nclass = survived'),\n",
       " Text(0.42355371900826444, 0.1590909090909091, 'gini = 0.0\\nsamples = 2\\nvalue = [2, 0]\\nclass = Unsurvived'),\n",
       " Text(0.4318181818181818, 0.20454545454545456, 'gini = 0.0\\nsamples = 4\\nvalue = [4, 0]\\nclass = Unsurvived'),\n",
       " Text(0.42355371900826444, 0.3409090909090909, 'gini = 0.0\\nsamples = 12\\nvalue = [12, 0]\\nclass = Unsurvived'),\n",
       " Text(0.4793388429752066, 0.6136363636363636, 'Pclass <= 2.5\\ngini = 0.393\\nsamples = 52\\nvalue = [38, 14]\\nclass = Unsurvived'),\n",
       " Text(0.44421487603305787, 0.5681818181818182, 'Fare <= 26.775\\ngini = 0.335\\nsamples = 47\\nvalue = [37, 10]\\nclass = Unsurvived'),\n",
       " Text(0.42355371900826444, 0.5227272727272727, 'Age <= 50.5\\ngini = 0.5\\nsamples = 8\\nvalue = [4, 4]\\nclass = Unsurvived'),\n",
       " Text(0.4152892561983471, 0.4772727272727273, 'gini = 0.0\\nsamples = 4\\nvalue = [0, 4]\\nclass = survived'),\n",
       " Text(0.4318181818181818, 0.4772727272727273, 'gini = 0.0\\nsamples = 4\\nvalue = [4, 0]\\nclass = Unsurvived'),\n",
       " Text(0.46487603305785125, 0.5227272727272727, 'Age <= 47.5\\ngini = 0.26\\nsamples = 39\\nvalue = [33, 6]\\nclass = Unsurvived'),\n",
       " Text(0.44834710743801653, 0.4772727272727273, 'Fare <= 36.125\\ngini = 0.175\\nsamples = 31\\nvalue = [28, 3]\\nclass = Unsurvived'),\n",
       " Text(0.44008264462809915, 0.4318181818181818, 'Fare <= 29.85\\ngini = 0.355\\nsamples = 13\\nvalue = [10, 3]\\nclass = Unsurvived'),\n",
       " Text(0.4318181818181818, 0.38636363636363635, 'gini = 0.0\\nsamples = 7\\nvalue = [7, 0]\\nclass = Unsurvived'),\n",
       " Text(0.44834710743801653, 0.38636363636363635, 'Fare <= 30.75\\ngini = 0.5\\nsamples = 6\\nvalue = [3, 3]\\nclass = Unsurvived'),\n",
       " Text(0.44008264462809915, 0.3409090909090909, 'gini = 0.0\\nsamples = 2\\nvalue = [0, 2]\\nclass = survived'),\n",
       " Text(0.45661157024793386, 0.3409090909090909, 'Fare <= 35.25\\ngini = 0.375\\nsamples = 4\\nvalue = [3, 1]\\nclass = Unsurvived'),\n",
       " Text(0.44834710743801653, 0.29545454545454547, 'gini = 0.0\\nsamples = 3\\nvalue = [3, 0]\\nclass = Unsurvived'),\n",
       " Text(0.46487603305785125, 0.29545454545454547, 'gini = 0.0\\nsamples = 1\\nvalue = [0, 1]\\nclass = survived'),\n",
       " Text(0.45661157024793386, 0.4318181818181818, 'gini = 0.0\\nsamples = 18\\nvalue = [18, 0]\\nclass = Unsurvived'),\n",
       " Text(0.48140495867768596, 0.4772727272727273, 'Age <= 50.5\\ngini = 0.469\\nsamples = 8\\nvalue = [5, 3]\\nclass = Unsurvived'),\n",
       " Text(0.4731404958677686, 0.4318181818181818, 'Embarked <= 0.5\\ngini = 0.375\\nsamples = 4\\nvalue = [1, 3]\\nclass = survived'),\n",
       " Text(0.46487603305785125, 0.38636363636363635, 'gini = 0.0\\nsamples = 2\\nvalue = [0, 2]\\nclass = survived'),\n",
       " Text(0.48140495867768596, 0.38636363636363635, 'FamilySize <= 1.5\\ngini = 0.5\\nsamples = 2\\nvalue = [1, 1]\\nclass = Unsurvived'),\n",
       " Text(0.4731404958677686, 0.3409090909090909, 'gini = 0.0\\nsamples = 1\\nvalue = [0, 1]\\nclass = survived'),\n",
       " Text(0.4896694214876033, 0.3409090909090909, 'gini = 0.0\\nsamples = 1\\nvalue = [1, 0]\\nclass = Unsurvived'),\n",
       " Text(0.4896694214876033, 0.4318181818181818, 'gini = 0.0\\nsamples = 4\\nvalue = [4, 0]\\nclass = Unsurvived'),\n",
       " Text(0.5144628099173554, 0.5681818181818182, 'Age <= 30.85\\ngini = 0.32\\nsamples = 5\\nvalue = [1, 4]\\nclass = survived'),\n",
       " Text(0.506198347107438, 0.5227272727272727, 'Age <= 27.85\\ngini = 0.444\\nsamples = 3\\nvalue = [1, 2]\\nclass = survived'),\n",
       " Text(0.49793388429752067, 0.4772727272727273, 'gini = 0.0\\nsamples = 1\\nvalue = [0, 1]\\nclass = survived'),\n",
       " Text(0.5144628099173554, 0.4772727272727273, 'gini = 0.5\\nsamples = 2\\nvalue = [1, 1]\\nclass = Unsurvived'),\n",
       " Text(0.5227272727272727, 0.5227272727272727, 'gini = 0.0\\nsamples = 2\\nvalue = [0, 2]\\nclass = survived'),\n",
       " Text(0.39488636363636365, 0.7045454545454546, 'gini = 0.0\\nsamples = 22\\nvalue = [22, 0]\\nclass = Unsurvived'),\n",
       " Text(0.5764462809917356, 0.8863636363636364, 'Age <= 15.0\\ngini = 0.494\\nsamples = 56\\nvalue = [31, 25]\\nclass = Unsurvived'),\n",
       " Text(0.5681818181818182, 0.8409090909090909, 'gini = 0.0\\nsamples = 5\\nvalue = [0, 5]\\nclass = survived'),\n",
       " Text(0.5847107438016529, 0.8409090909090909, 'Fare <= 7.9\\ngini = 0.477\\nsamples = 51\\nvalue = [31, 20]\\nclass = Unsurvived'),\n",
       " Text(0.5764462809917356, 0.7954545454545454, 'gini = 0.0\\nsamples = 6\\nvalue = [6, 0]\\nclass = Unsurvived'),\n",
       " Text(0.5929752066115702, 0.7954545454545454, 'Age <= 43.5\\ngini = 0.494\\nsamples = 45\\nvalue = [25, 20]\\nclass = Unsurvived'),\n",
       " Text(0.5557851239669421, 0.75, 'Age <= 31.5\\ngini = 0.476\\nsamples = 23\\nvalue = [9, 14]\\nclass = survived'),\n",
       " Text(0.5227272727272727, 0.7045454545454546, 'Fare <= 42.75\\ngini = 0.486\\nsamples = 12\\nvalue = [7, 5]\\nclass = Unsurvived'),\n",
       " Text(0.5144628099173554, 0.6590909090909091, 'gini = 0.0\\nsamples = 2\\nvalue = [0, 2]\\nclass = survived'),\n",
       " Text(0.53099173553719, 0.6590909090909091, 'Fare <= 55.05\\ngini = 0.42\\nsamples = 10\\nvalue = [7, 3]\\nclass = Unsurvived'),\n",
       " Text(0.5227272727272727, 0.6136363636363636, 'gini = 0.0\\nsamples = 5\\nvalue = [5, 0]\\nclass = Unsurvived'),\n",
       " Text(0.5392561983471075, 0.6136363636363636, 'Fare <= 70.323\\ngini = 0.48\\nsamples = 5\\nvalue = [2, 3]\\nclass = survived'),\n",
       " Text(0.53099173553719, 0.5681818181818182, 'gini = 0.0\\nsamples = 2\\nvalue = [0, 2]\\nclass = survived'),\n",
       " Text(0.5475206611570248, 0.5681818181818182, 'Fare <= 85.14\\ngini = 0.444\\nsamples = 3\\nvalue = [2, 1]\\nclass = Unsurvived'),\n",
       " Text(0.5392561983471075, 0.5227272727272727, 'gini = 0.0\\nsamples = 2\\nvalue = [2, 0]\\nclass = Unsurvived'),\n",
       " Text(0.5557851239669421, 0.5227272727272727, 'gini = 0.0\\nsamples = 1\\nvalue = [0, 1]\\nclass = survived'),\n",
       " Text(0.5888429752066116, 0.7045454545454546, 'Cabin <= 4.5\\ngini = 0.298\\nsamples = 11\\nvalue = [2, 9]\\nclass = survived'),\n",
       " Text(0.5805785123966942, 0.6590909090909091, 'Fare <= 12.938\\ngini = 0.18\\nsamples = 10\\nvalue = [1, 9]\\nclass = survived'),\n",
       " Text(0.5723140495867769, 0.6136363636363636, 'Embarked <= 0.5\\ngini = 0.5\\nsamples = 2\\nvalue = [1, 1]\\nclass = Unsurvived'),\n",
       " Text(0.5640495867768595, 0.5681818181818182, 'gini = 0.0\\nsamples = 1\\nvalue = [0, 1]\\nclass = survived'),\n",
       " Text(0.5805785123966942, 0.5681818181818182, 'gini = 0.0\\nsamples = 1\\nvalue = [1, 0]\\nclass = Unsurvived'),\n",
       " Text(0.5888429752066116, 0.6136363636363636, 'gini = 0.0\\nsamples = 8\\nvalue = [0, 8]\\nclass = survived'),\n",
       " Text(0.5971074380165289, 0.6590909090909091, 'gini = 0.0\\nsamples = 1\\nvalue = [1, 0]\\nclass = Unsurvived'),\n",
       " Text(0.6301652892561983, 0.75, 'Cabin <= 3.5\\ngini = 0.397\\nsamples = 22\\nvalue = [16, 6]\\nclass = Unsurvived'),\n",
       " Text(0.621900826446281, 0.7045454545454546, 'Age <= 47.5\\ngini = 0.32\\nsamples = 20\\nvalue = [16, 4]\\nclass = Unsurvived'),\n",
       " Text(0.6136363636363636, 0.6590909090909091, 'gini = 0.0\\nsamples = 6\\nvalue = [6, 0]\\nclass = Unsurvived'),\n",
       " Text(0.6301652892561983, 0.6590909090909091, 'Age <= 51.5\\ngini = 0.408\\nsamples = 14\\nvalue = [10, 4]\\nclass = Unsurvived'),\n",
       " Text(0.6136363636363636, 0.6136363636363636, 'Age <= 49.0\\ngini = 0.375\\nsamples = 4\\nvalue = [1, 3]\\nclass = survived'),\n",
       " Text(0.6053719008264463, 0.5681818181818182, 'gini = 0.0\\nsamples = 2\\nvalue = [0, 2]\\nclass = survived'),\n",
       " Text(0.621900826446281, 0.5681818181818182, 'FamilySize <= 0.5\\ngini = 0.5\\nsamples = 2\\nvalue = [1, 1]\\nclass = Unsurvived'),\n",
       " Text(0.6136363636363636, 0.5227272727272727, 'gini = 0.0\\nsamples = 1\\nvalue = [0, 1]\\nclass = survived'),\n",
       " Text(0.6301652892561983, 0.5227272727272727, 'gini = 0.0\\nsamples = 1\\nvalue = [1, 0]\\nclass = Unsurvived'),\n",
       " Text(0.6466942148760331, 0.6136363636363636, 'Fare <= 78.244\\ngini = 0.18\\nsamples = 10\\nvalue = [9, 1]\\nclass = Unsurvived'),\n",
       " Text(0.6384297520661157, 0.5681818181818182, 'gini = 0.0\\nsamples = 7\\nvalue = [7, 0]\\nclass = Unsurvived'),\n",
       " Text(0.6549586776859504, 0.5681818181818182, 'Cabin <= 1.5\\ngini = 0.444\\nsamples = 3\\nvalue = [2, 1]\\nclass = Unsurvived'),\n",
       " Text(0.6466942148760331, 0.5227272727272727, 'gini = 0.0\\nsamples = 1\\nvalue = [0, 1]\\nclass = survived'),\n",
       " Text(0.6632231404958677, 0.5227272727272727, 'gini = 0.0\\nsamples = 2\\nvalue = [2, 0]\\nclass = Unsurvived'),\n",
       " Text(0.6384297520661157, 0.7045454545454546, 'gini = 0.0\\nsamples = 2\\nvalue = [0, 2]\\nclass = survived'),\n",
       " Text(0.8400697314049587, 0.9318181818181818, 'Pclass <= 2.5\\ngini = 0.381\\nsamples = 242\\nvalue = [62, 180]\\nclass = survived'),\n",
       " Text(0.7458677685950413, 0.8863636363636364, 'Age <= 2.5\\ngini = 0.115\\nsamples = 131\\nvalue = [8, 123]\\nclass = survived'),\n",
       " Text(0.7252066115702479, 0.8409090909090909, 'FamilySize <= 2.5\\ngini = 0.5\\nsamples = 2\\nvalue = [1, 1]\\nclass = Unsurvived'),\n",
       " Text(0.7169421487603306, 0.7954545454545454, 'gini = 0.0\\nsamples = 1\\nvalue = [0, 1]\\nclass = survived'),\n",
       " Text(0.7334710743801653, 0.7954545454545454, 'gini = 0.0\\nsamples = 1\\nvalue = [1, 0]\\nclass = Unsurvived'),\n",
       " Text(0.7665289256198347, 0.8409090909090909, 'Fare <= 28.856\\ngini = 0.103\\nsamples = 129\\nvalue = [7, 122]\\nclass = survived'),\n",
       " Text(0.75, 0.7954545454545454, 'Fare <= 28.231\\ngini = 0.198\\nsamples = 54\\nvalue = [6, 48]\\nclass = survived'),\n",
       " Text(0.7417355371900827, 0.75, 'Age <= 56.0\\ngini = 0.171\\nsamples = 53\\nvalue = [5, 48]\\nclass = survived'),\n",
       " Text(0.7210743801652892, 0.7045454545454546, 'Age <= 37.0\\ngini = 0.145\\nsamples = 51\\nvalue = [4, 47]\\nclass = survived'),\n",
       " Text(0.7045454545454546, 0.6590909090909091, 'Age <= 26.5\\ngini = 0.097\\nsamples = 39\\nvalue = [2, 37]\\nclass = survived'),\n",
       " Text(0.6962809917355371, 0.6136363636363636, 'Age <= 25.5\\ngini = 0.188\\nsamples = 19\\nvalue = [2, 17]\\nclass = survived'),\n",
       " Text(0.6880165289256198, 0.5681818181818182, 'Age <= 23.5\\ngini = 0.105\\nsamples = 18\\nvalue = [1, 17]\\nclass = survived'),\n",
       " Text(0.6797520661157025, 0.5227272727272727, 'gini = 0.0\\nsamples = 14\\nvalue = [0, 14]\\nclass = survived'),\n",
       " Text(0.6962809917355371, 0.5227272727272727, 'FamilySize <= 0.5\\ngini = 0.375\\nsamples = 4\\nvalue = [1, 3]\\nclass = survived'),\n",
       " Text(0.6880165289256198, 0.4772727272727273, 'gini = 0.0\\nsamples = 1\\nvalue = [1, 0]\\nclass = Unsurvived'),\n",
       " Text(0.7045454545454546, 0.4772727272727273, 'gini = 0.0\\nsamples = 3\\nvalue = [0, 3]\\nclass = survived'),\n",
       " Text(0.7045454545454546, 0.5681818181818182, 'gini = 0.0\\nsamples = 1\\nvalue = [1, 0]\\nclass = Unsurvived'),\n",
       " Text(0.7128099173553719, 0.6136363636363636, 'gini = 0.0\\nsamples = 20\\nvalue = [0, 20]\\nclass = survived'),\n",
       " Text(0.737603305785124, 0.6590909090909091, 'Age <= 39.5\\ngini = 0.278\\nsamples = 12\\nvalue = [2, 10]\\nclass = survived'),\n",
       " Text(0.7293388429752066, 0.6136363636363636, 'gini = 0.0\\nsamples = 1\\nvalue = [1, 0]\\nclass = Unsurvived'),\n",
       " Text(0.7458677685950413, 0.6136363636363636, 'Fare <= 25.965\\ngini = 0.165\\nsamples = 11\\nvalue = [1, 10]\\nclass = survived'),\n",
       " Text(0.737603305785124, 0.5681818181818182, 'gini = 0.0\\nsamples = 7\\nvalue = [0, 7]\\nclass = survived'),\n",
       " Text(0.7541322314049587, 0.5681818181818182, 'Fare <= 26.125\\ngini = 0.375\\nsamples = 4\\nvalue = [1, 3]\\nclass = survived'),\n",
       " Text(0.7458677685950413, 0.5227272727272727, 'Age <= 43.0\\ngini = 0.5\\nsamples = 2\\nvalue = [1, 1]\\nclass = Unsurvived'),\n",
       " Text(0.737603305785124, 0.4772727272727273, 'gini = 0.0\\nsamples = 1\\nvalue = [0, 1]\\nclass = survived'),\n",
       " Text(0.7541322314049587, 0.4772727272727273, 'gini = 0.0\\nsamples = 1\\nvalue = [1, 0]\\nclass = Unsurvived'),\n",
       " Text(0.762396694214876, 0.5227272727272727, 'gini = 0.0\\nsamples = 2\\nvalue = [0, 2]\\nclass = survived'),\n",
       " Text(0.762396694214876, 0.7045454545454546, 'Cabin <= 1.5\\ngini = 0.5\\nsamples = 2\\nvalue = [1, 1]\\nclass = Unsurvived'),\n",
       " Text(0.7541322314049587, 0.6590909090909091, 'gini = 0.0\\nsamples = 1\\nvalue = [0, 1]\\nclass = survived'),\n",
       " Text(0.7706611570247934, 0.6590909090909091, 'gini = 0.0\\nsamples = 1\\nvalue = [1, 0]\\nclass = Unsurvived'),\n",
       " Text(0.7582644628099173, 0.75, 'gini = 0.0\\nsamples = 1\\nvalue = [1, 0]\\nclass = Unsurvived'),\n",
       " Text(0.7830578512396694, 0.7954545454545454, 'FamilySize <= 2.5\\ngini = 0.026\\nsamples = 75\\nvalue = [1, 74]\\nclass = survived'),\n",
       " Text(0.7747933884297521, 0.75, 'gini = 0.0\\nsamples = 67\\nvalue = [0, 67]\\nclass = survived'),\n",
       " Text(0.7913223140495868, 0.75, 'Age <= 24.0\\ngini = 0.219\\nsamples = 8\\nvalue = [1, 7]\\nclass = survived'),\n",
       " Text(0.7830578512396694, 0.7045454545454546, 'gini = 0.0\\nsamples = 5\\nvalue = [0, 5]\\nclass = survived'),\n",
       " Text(0.7995867768595041, 0.7045454545454546, 'Fare <= 135.775\\ngini = 0.444\\nsamples = 3\\nvalue = [1, 2]\\nclass = survived'),\n",
       " Text(0.7913223140495868, 0.6590909090909091, 'gini = 0.0\\nsamples = 2\\nvalue = [0, 2]\\nclass = survived'),\n",
       " Text(0.8078512396694215, 0.6590909090909091, 'gini = 0.0\\nsamples = 1\\nvalue = [1, 0]\\nclass = Unsurvived'),\n",
       " Text(0.934271694214876, 0.8863636363636364, 'Fare <= 23.7\\ngini = 0.5\\nsamples = 111\\nvalue = [54, 57]\\nclass = survived'),\n",
       " Text(0.8933367768595041, 0.8409090909090909, 'Age <= 38.0\\ngini = 0.475\\nsamples = 90\\nvalue = [35, 55]\\nclass = survived'),\n",
       " Text(0.8620867768595041, 0.7954545454545454, 'Age <= 7.0\\ngini = 0.459\\nsamples = 84\\nvalue = [30, 54]\\nclass = survived'),\n",
       " Text(0.8243801652892562, 0.75, 'FamilySize <= 3.5\\ngini = 0.18\\nsamples = 10\\nvalue = [1, 9]\\nclass = survived'),\n",
       " Text(0.8161157024793388, 0.7045454545454546, 'gini = 0.0\\nsamples = 9\\nvalue = [0, 9]\\nclass = survived'),\n",
       " Text(0.8326446280991735, 0.7045454545454546, 'gini = 0.0\\nsamples = 1\\nvalue = [1, 0]\\nclass = Unsurvived'),\n",
       " Text(0.8997933884297521, 0.75, 'Fare <= 8.04\\ngini = 0.477\\nsamples = 74\\nvalue = [29, 45]\\nclass = survived'),\n",
       " Text(0.8491735537190083, 0.7045454545454546, 'Fare <= 6.987\\ngini = 0.388\\nsamples = 38\\nvalue = [10, 28]\\nclass = survived'),\n",
       " Text(0.8409090909090909, 0.6590909090909091, 'gini = 0.0\\nsamples = 1\\nvalue = [1, 0]\\nclass = Unsurvived'),\n",
       " Text(0.8574380165289256, 0.6590909090909091, 'Fare <= 7.744\\ngini = 0.368\\nsamples = 37\\nvalue = [9, 28]\\nclass = survived'),\n",
       " Text(0.8491735537190083, 0.6136363636363636, 'gini = 0.0\\nsamples = 8\\nvalue = [0, 8]\\nclass = survived'),\n",
       " Text(0.8657024793388429, 0.6136363636363636, 'Age <= 14.5\\ngini = 0.428\\nsamples = 29\\nvalue = [9, 20]\\nclass = survived'),\n",
       " Text(0.8574380165289256, 0.5681818181818182, 'gini = 0.0\\nsamples = 1\\nvalue = [1, 0]\\nclass = Unsurvived'),\n",
       " Text(0.8739669421487604, 0.5681818181818182, 'Age <= 30.1\\ngini = 0.408\\nsamples = 28\\nvalue = [8, 20]\\nclass = survived'),\n",
       " Text(0.8657024793388429, 0.5227272727272727, 'FamilySize <= 0.5\\ngini = 0.384\\nsamples = 27\\nvalue = [7, 20]\\nclass = survived'),\n",
       " Text(0.8388429752066116, 0.4772727272727273, 'Embarked <= 1.0\\ngini = 0.34\\nsamples = 23\\nvalue = [5, 18]\\nclass = survived'),\n",
       " Text(0.8099173553719008, 0.4318181818181818, 'Age <= 20.0\\ngini = 0.469\\nsamples = 8\\nvalue = [3, 5]\\nclass = survived'),\n",
       " Text(0.8016528925619835, 0.38636363636363635, 'gini = 0.0\\nsamples = 1\\nvalue = [1, 0]\\nclass = Unsurvived'),\n",
       " Text(0.8181818181818182, 0.38636363636363635, 'Age <= 27.5\\ngini = 0.408\\nsamples = 7\\nvalue = [2, 5]\\nclass = survived'),\n",
       " Text(0.8099173553719008, 0.3409090909090909, 'Age <= 25.5\\ngini = 0.278\\nsamples = 6\\nvalue = [1, 5]\\nclass = survived'),\n",
       " Text(0.8016528925619835, 0.29545454545454547, 'Age <= 23.5\\ngini = 0.444\\nsamples = 3\\nvalue = [1, 2]\\nclass = survived'),\n",
       " Text(0.7933884297520661, 0.25, 'gini = 0.0\\nsamples = 2\\nvalue = [0, 2]\\nclass = survived'),\n",
       " Text(0.8099173553719008, 0.25, 'gini = 0.0\\nsamples = 1\\nvalue = [1, 0]\\nclass = Unsurvived'),\n",
       " Text(0.8181818181818182, 0.29545454545454547, 'gini = 0.0\\nsamples = 3\\nvalue = [0, 3]\\nclass = survived'),\n",
       " Text(0.8264462809917356, 0.3409090909090909, 'gini = 0.0\\nsamples = 1\\nvalue = [1, 0]\\nclass = Unsurvived'),\n",
       " Text(0.8677685950413223, 0.4318181818181818, 'Fare <= 7.769\\ngini = 0.231\\nsamples = 15\\nvalue = [2, 13]\\nclass = survived'),\n",
       " Text(0.859504132231405, 0.38636363636363635, 'Age <= 21.5\\ngini = 0.32\\nsamples = 10\\nvalue = [2, 8]\\nclass = survived'),\n",
       " Text(0.8429752066115702, 0.3409090909090909, 'Age <= 18.5\\ngini = 0.5\\nsamples = 2\\nvalue = [1, 1]\\nclass = Unsurvived'),\n",
       " Text(0.8347107438016529, 0.29545454545454547, 'gini = 0.0\\nsamples = 1\\nvalue = [0, 1]\\nclass = survived'),\n",
       " Text(0.8512396694214877, 0.29545454545454547, 'gini = 0.0\\nsamples = 1\\nvalue = [1, 0]\\nclass = Unsurvived'),\n",
       " Text(0.8760330578512396, 0.3409090909090909, 'Age <= 25.85\\ngini = 0.219\\nsamples = 8\\nvalue = [1, 7]\\nclass = survived'),\n",
       " Text(0.8677685950413223, 0.29545454545454547, 'gini = 0.0\\nsamples = 1\\nvalue = [0, 1]\\nclass = survived'),\n",
       " Text(0.8842975206611571, 0.29545454545454547, 'gini = 0.245\\nsamples = 7\\nvalue = [1, 6]\\nclass = survived'),\n",
       " Text(0.8760330578512396, 0.38636363636363635, 'gini = 0.0\\nsamples = 5\\nvalue = [0, 5]\\nclass = survived'),\n",
       " Text(0.8925619834710744, 0.4772727272727273, 'Age <= 22.0\\ngini = 0.5\\nsamples = 4\\nvalue = [2, 2]\\nclass = Unsurvived'),\n",
       " Text(0.8842975206611571, 0.4318181818181818, 'gini = 0.0\\nsamples = 2\\nvalue = [0, 2]\\nclass = survived'),\n",
       " Text(0.9008264462809917, 0.4318181818181818, 'gini = 0.0\\nsamples = 2\\nvalue = [2, 0]\\nclass = Unsurvived'),\n",
       " Text(0.8822314049586777, 0.5227272727272727, 'gini = 0.0\\nsamples = 1\\nvalue = [1, 0]\\nclass = Unsurvived'),\n",
       " Text(0.9504132231404959, 0.7045454545454546, 'Fare <= 15.373\\ngini = 0.498\\nsamples = 36\\nvalue = [19, 17]\\nclass = Unsurvived'),\n",
       " Text(0.9256198347107438, 0.6590909090909091, 'Age <= 19.0\\ngini = 0.444\\nsamples = 21\\nvalue = [14, 7]\\nclass = Unsurvived'),\n",
       " Text(0.9008264462809917, 0.6136363636363636, 'Fare <= 12.848\\ngini = 0.49\\nsamples = 7\\nvalue = [3, 4]\\nclass = survived'),\n",
       " Text(0.8925619834710744, 0.5681818181818182, 'gini = 0.0\\nsamples = 3\\nvalue = [0, 3]\\nclass = survived'),\n",
       " Text(0.9090909090909091, 0.5681818181818182, 'Age <= 14.75\\ngini = 0.375\\nsamples = 4\\nvalue = [3, 1]\\nclass = Unsurvived'),\n",
       " Text(0.9008264462809917, 0.5227272727272727, 'gini = 0.0\\nsamples = 2\\nvalue = [2, 0]\\nclass = Unsurvived'),\n",
       " Text(0.9173553719008265, 0.5227272727272727, 'Fare <= 14.456\\ngini = 0.5\\nsamples = 2\\nvalue = [1, 1]\\nclass = Unsurvived'),\n",
       " Text(0.9090909090909091, 0.4772727272727273, 'gini = 0.0\\nsamples = 1\\nvalue = [0, 1]\\nclass = survived'),\n",
       " Text(0.9256198347107438, 0.4772727272727273, 'gini = 0.0\\nsamples = 1\\nvalue = [1, 0]\\nclass = Unsurvived'),\n",
       " Text(0.9504132231404959, 0.6136363636363636, 'Age <= 30.35\\ngini = 0.337\\nsamples = 14\\nvalue = [11, 3]\\nclass = Unsurvived'),\n",
       " Text(0.9421487603305785, 0.5681818181818182, 'Fare <= 10.825\\ngini = 0.26\\nsamples = 13\\nvalue = [11, 2]\\nclass = Unsurvived'),\n",
       " Text(0.9338842975206612, 0.5227272727272727, 'gini = 0.0\\nsamples = 9\\nvalue = [9, 0]\\nclass = Unsurvived'),\n",
       " Text(0.9504132231404959, 0.5227272727272727, 'Embarked <= 0.5\\ngini = 0.5\\nsamples = 4\\nvalue = [2, 2]\\nclass = Unsurvived'),\n",
       " Text(0.9421487603305785, 0.4772727272727273, 'gini = 0.0\\nsamples = 2\\nvalue = [0, 2]\\nclass = survived'),\n",
       " Text(0.9586776859504132, 0.4772727272727273, 'gini = 0.0\\nsamples = 2\\nvalue = [2, 0]\\nclass = Unsurvived'),\n",
       " Text(0.9586776859504132, 0.5681818181818182, 'gini = 0.0\\nsamples = 1\\nvalue = [0, 1]\\nclass = survived'),\n",
       " Text(0.9752066115702479, 0.6590909090909091, 'Age <= 21.0\\ngini = 0.444\\nsamples = 15\\nvalue = [5, 10]\\nclass = survived'),\n",
       " Text(0.9669421487603306, 0.6136363636363636, 'gini = 0.0\\nsamples = 2\\nvalue = [2, 0]\\nclass = Unsurvived'),\n",
       " Text(0.9834710743801653, 0.6136363636363636, 'FamilySize <= 3.5\\ngini = 0.355\\nsamples = 13\\nvalue = [3, 10]\\nclass = survived'),\n",
       " Text(0.9752066115702479, 0.5681818181818182, 'Age <= 30.35\\ngini = 0.278\\nsamples = 12\\nvalue = [2, 10]\\nclass = survived'),\n",
       " Text(0.9669421487603306, 0.5227272727272727, 'gini = 0.0\\nsamples = 7\\nvalue = [0, 7]\\nclass = survived'),\n",
       " Text(0.9834710743801653, 0.5227272727272727, 'Age <= 32.5\\ngini = 0.48\\nsamples = 5\\nvalue = [2, 3]\\nclass = survived'),\n",
       " Text(0.9752066115702479, 0.4772727272727273, 'gini = 0.0\\nsamples = 2\\nvalue = [2, 0]\\nclass = Unsurvived'),\n",
       " Text(0.9917355371900827, 0.4772727272727273, 'gini = 0.0\\nsamples = 3\\nvalue = [0, 3]\\nclass = survived'),\n",
       " Text(0.9917355371900827, 0.5681818181818182, 'gini = 0.0\\nsamples = 1\\nvalue = [1, 0]\\nclass = Unsurvived'),\n",
       " Text(0.9245867768595041, 0.7954545454545454, 'Age <= 55.0\\ngini = 0.278\\nsamples = 6\\nvalue = [5, 1]\\nclass = Unsurvived'),\n",
       " Text(0.9163223140495868, 0.75, 'gini = 0.0\\nsamples = 5\\nvalue = [5, 0]\\nclass = Unsurvived'),\n",
       " Text(0.9328512396694215, 0.75, 'gini = 0.0\\nsamples = 1\\nvalue = [0, 1]\\nclass = survived'),\n",
       " Text(0.9752066115702479, 0.8409090909090909, 'FamilySize <= 1.5\\ngini = 0.172\\nsamples = 21\\nvalue = [19, 2]\\nclass = Unsurvived'),\n",
       " Text(0.9669421487603306, 0.7954545454545454, 'gini = 0.0\\nsamples = 1\\nvalue = [0, 1]\\nclass = survived'),\n",
       " Text(0.9834710743801653, 0.7954545454545454, 'Age <= 5.5\\ngini = 0.095\\nsamples = 20\\nvalue = [19, 1]\\nclass = Unsurvived'),\n",
       " Text(0.9752066115702479, 0.75, 'Fare <= 31.331\\ngini = 0.444\\nsamples = 3\\nvalue = [2, 1]\\nclass = Unsurvived'),\n",
       " Text(0.9669421487603306, 0.7045454545454546, 'gini = 0.0\\nsamples = 2\\nvalue = [2, 0]\\nclass = Unsurvived'),\n",
       " Text(0.9834710743801653, 0.7045454545454546, 'gini = 0.0\\nsamples = 1\\nvalue = [0, 1]\\nclass = survived'),\n",
       " Text(0.9917355371900827, 0.75, 'gini = 0.0\\nsamples = 17\\nvalue = [17, 0]\\nclass = Unsurvived')]"
      ]
     },
     "execution_count": 56,
     "metadata": {},
     "output_type": "execute_result"
    },
    {
     "data": {
      "image/png": "[encoded data removed]",
      "text/plain": [
       "<Figure size 1440x1224 with 1 Axes>"
      ]
     },
     "metadata": {
      "needs_background": "light"
     },
     "output_type": "display_data"
    }
   ],
   "source": [
    "#시각화\n",
    "from sklearn import tree\n",
    "import matplotlib.pyplot as plt\n",
    "plt.figure(figsize=(20,17))\n",
    "feature_names = ['Pclass','Sex','Age','Fare','Cabin','Embarked','FamilySize']\n",
    "tree.plot_tree(tree_dec,\n",
    "              class_names=['Unsurvived','survived'],\n",
    "              feature_names=feature_names,\n",
    "              impurity=True,\n",
    "              filled=True,\n",
    "              rounded=True)"
   ]
  },
  {
   "cell_type": "code",
   "execution_count": 57,
   "id": "06698475",
   "metadata": {},
   "outputs": [
    {
     "name": "stdout",
     "output_type": "stream",
     "text": [
      "importance :  [0.08474277 0.30808198 0.2696409  0.22030364 0.04765266 0.02513929\n",
      " 0.04443875]\n"
     ]
    }
   ],
   "source": [
    "print('importance : ',tree_dec.feature_importances_)"
   ]
  },
  {
   "cell_type": "code",
   "execution_count": 58,
   "id": "e30bce80",
   "metadata": {},
   "outputs": [
    {
     "name": "stdout",
     "output_type": "stream",
     "text": [
      "Pclass:0.085\n",
      "Sex:0.308\n",
      "Age:0.270\n",
      "Fare:0.220\n",
      "Cabin:0.048\n",
      "Embarked:0.025\n",
      "FamilySize:0.044\n"
     ]
    }
   ],
   "source": [
    "for name,value in zip(feature_names,tree_dec.feature_importances_):\n",
    "    print('{0}:{1:.3f}'.format(name,value))"
   ]
  },
  {
   "cell_type": "code",
   "execution_count": 59,
   "id": "ac702a9f",
   "metadata": {},
   "outputs": [
    {
     "data": {
      "text/plain": [
       "<AxesSubplot:>"
      ]
     },
     "execution_count": 59,
     "metadata": {},
     "output_type": "execute_result"
    },
    {
     "data": {
      "image/png": "[encoded data removed]",
      "text/plain": [
       "<Figure size 432x288 with 1 Axes>"
      ]
     },
     "metadata": {
      "needs_background": "light"
     },
     "output_type": "display_data"
    }
   ],
   "source": [
    "import seaborn as sns\n",
    "sns.barplot(x=tree_dec.feature_importances_,y=feature_names)"
   ]
  },
  {
   "cell_type": "code",
   "execution_count": 60,
   "id": "7db73b9f",
   "metadata": {},
   "outputs": [
    {
     "data": {
      "text/plain": [
       "GridSearchCV(cv=5, estimator=DecisionTreeClassifier(),\n",
       "             param_grid={'max_depth': [2, 3, 5, 10],\n",
       "                         'min_samples_leaf': [1, 5, 8],\n",
       "                         'min_samples_split': [2, 3, 5]},\n",
       "             scoring='accuracy')"
      ]
     },
     "execution_count": 60,
     "metadata": {},
     "output_type": "execute_result"
    }
   ],
   "source": [
    "from sklearn.model_selection import GridSearchCV\n",
    "from sklearn.metrics import accuracy_score\n",
    "\n",
    "parameters = {'max_depth':[2,3,5,10],\n",
    "              'min_samples_split':[2,3,5],\n",
    "              'min_samples_leaf':[1,5,8]}\n",
    "\n",
    "grid_dclf = GridSearchCV(tree_dec,\n",
    "                        param_grid = parameters,\n",
    "                        scoring='accuracy',\n",
    "                        cv=5)\n",
    "grid_dclf"
   ]
  },
  {
   "cell_type": "code",
   "execution_count": 61,
   "id": "ea5f2cf5",
   "metadata": {},
   "outputs": [
    {
     "data": {
      "text/plain": [
       "GridSearchCV(cv=5, estimator=DecisionTreeClassifier(),\n",
       "             param_grid={'max_depth': [2, 3, 5, 10],\n",
       "                         'min_samples_leaf': [1, 5, 8],\n",
       "                         'min_samples_split': [2, 3, 5]},\n",
       "             scoring='accuracy')"
      ]
     },
     "execution_count": 61,
     "metadata": {},
     "output_type": "execute_result"
    }
   ],
   "source": [
    "grid_dclf.fit(x_train,y_train)"
   ]
  },
  {
   "cell_type": "code",
   "execution_count": 62,
   "id": "3d967544",
   "metadata": {},
   "outputs": [
    {
     "name": "stdout",
     "output_type": "stream",
     "text": [
      "GrodSearchCV 최적 하이퍼 파라미터:{'max_depth': 3, 'min_samples_leaf': 8, 'min_samples_split': 2}\n"
     ]
    }
   ],
   "source": [
    "print(f'GrodSearchCV 최적 하이퍼 파라미터:{grid_dclf.best_params_}')"
   ]
  },
  {
   "cell_type": "code",
   "execution_count": 63,
   "id": "f154f175",
   "metadata": {},
   "outputs": [
    {
     "name": "stdout",
     "output_type": "stream",
     "text": [
      "GrodSearchCV 최고 정확도:0.8055\n"
     ]
    }
   ],
   "source": [
    "print(f'GrodSearchCV 최고 정확도:{round(grid_dclf.best_score_,4)}')"
   ]
  },
  {
   "cell_type": "code",
   "execution_count": 64,
   "id": "4f2adc5a",
   "metadata": {},
   "outputs": [
    {
     "name": "stdout",
     "output_type": "stream",
     "text": [
      "테스트 세트에서의 DecisionTreeClassifier 정확도 : 0.8206\n"
     ]
    }
   ],
   "source": [
    "best_dclf = grid_dclf.best_estimator_\n",
    "#GridSearchCV의 최적 하이퍼 파라미터로 학습된 Estimator로 예측 및 평가 수행\n",
    "dpredictions = best_dclf.predict(x_valid)\n",
    "accuracy = accuracy_score(y_valid,dpredictions)\n",
    "print(f'테스트 세트에서의 DecisionTreeClassifier 정확도 : {round(accuracy,4)}')"
   ]
  },
  {
   "cell_type": "code",
   "execution_count": 65,
   "id": "e1de0336",
   "metadata": {},
   "outputs": [
    {
     "name": "stdout",
     "output_type": "stream",
     "text": [
      "DecisionTreeClassifier 정확도 :0.7623\n"
     ]
    }
   ],
   "source": [
    "tree_dec.fit(x_train,y_train)\n",
    "dt_pred = tree_dec.predict(x_valid)\n",
    "print('DecisionTreeClassifier 정확도 :{0:.4f}'.format(accuracy_score(y_valid,dt_pred)))"
   ]
  },
  {
   "cell_type": "code",
   "execution_count": 66,
   "id": "aff348fe",
   "metadata": {},
   "outputs": [
    {
     "name": "stdout",
     "output_type": "stream",
     "text": [
      "0.7623318385650224\n",
      "총223명 중 76.233% 정확도로 생존율 맞춤\n"
     ]
    }
   ],
   "source": [
    "prediction = tree_dec.predict(x_valid)\n",
    "accuracy = accuracy_score(prediction,y_valid)\n",
    "print(accuracy)\n",
    "length=y_valid.shape[0]\n",
    "print(f'총{length}명 중 {accuracy * 100:.3f}% 정확도로 생존율 맞춤')"
   ]
  },
  {
   "cell_type": "code",
   "execution_count": 67,
   "id": "c6eccb1b",
   "metadata": {},
   "outputs": [
    {
     "data": {
      "text/plain": [
       "[Text(0.5, 0.875, 'Sex <= 0.5\\ngini = 0.475\\nsamples = 668\\nvalue = [408, 260]\\nclass = Unsurvived'),\n",
       " Text(0.25, 0.625, 'Cabin <= 0.5\\ngini = 0.305\\nsamples = 426\\nvalue = [346, 80]\\nclass = Unsurvived'),\n",
       " Text(0.125, 0.375, 'Age <= 3.5\\ngini = 0.253\\nsamples = 370\\nvalue = [315, 55]\\nclass = Unsurvived'),\n",
       " Text(0.0625, 0.125, 'gini = 0.48\\nsamples = 10\\nvalue = [4, 6]\\nclass = survived'),\n",
       " Text(0.1875, 0.125, 'gini = 0.235\\nsamples = 360\\nvalue = [311, 49]\\nclass = Unsurvived'),\n",
       " Text(0.375, 0.375, 'Age <= 43.5\\ngini = 0.494\\nsamples = 56\\nvalue = [31, 25]\\nclass = Unsurvived'),\n",
       " Text(0.3125, 0.125, 'gini = 0.493\\nsamples = 34\\nvalue = [15, 19]\\nclass = survived'),\n",
       " Text(0.4375, 0.125, 'gini = 0.397\\nsamples = 22\\nvalue = [16, 6]\\nclass = Unsurvived'),\n",
       " Text(0.75, 0.625, 'Pclass <= 2.5\\ngini = 0.381\\nsamples = 242\\nvalue = [62, 180]\\nclass = survived'),\n",
       " Text(0.625, 0.375, 'Fare <= 28.856\\ngini = 0.115\\nsamples = 131\\nvalue = [8, 123]\\nclass = survived'),\n",
       " Text(0.5625, 0.125, 'gini = 0.194\\nsamples = 55\\nvalue = [6, 49]\\nclass = survived'),\n",
       " Text(0.6875, 0.125, 'gini = 0.051\\nsamples = 76\\nvalue = [2, 74]\\nclass = survived'),\n",
       " Text(0.875, 0.375, 'Fare <= 23.7\\ngini = 0.5\\nsamples = 111\\nvalue = [54, 57]\\nclass = survived'),\n",
       " Text(0.8125, 0.125, 'gini = 0.475\\nsamples = 90\\nvalue = [35, 55]\\nclass = survived'),\n",
       " Text(0.9375, 0.125, 'gini = 0.172\\nsamples = 21\\nvalue = [19, 2]\\nclass = Unsurvived')]"
      ]
     },
     "execution_count": 67,
     "metadata": {},
     "output_type": "execute_result"
    },
    {
     "data": {
      "image/png": "[encoded data removed]",
      "text/plain": [
       "<Figure size 1440x1224 with 1 Axes>"
      ]
     },
     "metadata": {
      "needs_background": "light"
     },
     "output_type": "display_data"
    }
   ],
   "source": [
    "#시각화\n",
    "plt.figure(figsize=(20,17))\n",
    "feature_names = ['Pclass','Sex','Age','Fare','Cabin','Embarked','FamilySize']\n",
    "tree.plot_tree(best_dclf,\n",
    "              class_names=['Unsurvived','survived'],\n",
    "              feature_names=feature_names,\n",
    "              impurity=True,\n",
    "              filled=True,\n",
    "              rounded=True)"
   ]
  },
  {
   "cell_type": "code",
   "execution_count": 68,
   "id": "055ee82d",
   "metadata": {},
   "outputs": [
    {
     "name": "stdout",
     "output_type": "stream",
     "text": [
      "예측 : \n",
      " [1 1 0 0 1 0 1 0 0 0 0 0 0 0 0 0 1 0 0 0 0 0 1 1 0 0 0 1 0 0 0 1 0 1 0 0 0\n",
      " 0 0 0 0 0 0 1 1 0 0 0 0 1 0 0 0 0 0 0 1 0 0 0 1 0 0 0 0 0 1 0 0 1 1 1 0 0\n",
      " 0 0 1 0 0 0 0 0 1 0 0 1 0 0 0 1 0 0 0 0 1 1 1 0 0 0 1 0 1 0 0 1 0 1 1 0 0\n",
      " 0 0 0 0 1 0 0 1 0 0 1 0 0 1 0 1 0 0 1 0 1 0 0 0 0 0 0 1 1 0 1 1 1 0 0 0 0\n",
      " 0 0 0 0 0 1 0 0 0 1 0 0 0 0 0 0 0 0 0 0 1 0 0 1 1 0 0 0 1 0 0 0 1 0 1 1 0\n",
      " 1 0 1 1 0 1 0 0 0 1 1 0 0 0 0 1 0 0 1 1 1 0 0 1 0 1 1 0 0 1 0 0 1 0 0 0 0\n",
      " 1]\n",
      "정답 : \n",
      " 573    1\n",
      "307    1\n",
      "142    1\n",
      "37     0\n",
      "358    1\n",
      "      ..\n",
      "468    0\n",
      "261    1\n",
      "240    0\n",
      "883    0\n",
      "757    0\n",
      "Name: Survived, Length: 223, dtype: int64\n",
      "0.7309417040358744\n"
     ]
    }
   ],
   "source": [
    "from sklearn.neighbors import KNeighborsClassifier\n",
    "\n",
    "nf_clf = KNeighborsClassifier()\n",
    "nf_clf.fit(x_train,y_train)\n",
    "predicts = nf_clf.predict(x_valid)\n",
    "print('예측 : \\n',predicts)\n",
    "print('정답 : \\n',y_valid)\n",
    "print(accuracy_score(y_valid,predicts))"
   ]
  },
  {
   "cell_type": "code",
   "execution_count": 69,
   "id": "5b95957c",
   "metadata": {},
   "outputs": [
    {
     "name": "stdout",
     "output_type": "stream",
     "text": [
      "LogisticRegression 정확도 :0.8072\n"
     ]
    }
   ],
   "source": [
    "#LogisticRegression 학습/예측/평가\n",
    "from sklearn.linear_model import LogisticRegression\n",
    "\n",
    "lr_clf = LogisticRegression()\n",
    "lr_clf.fit(x_train,y_train)\n",
    "lr_pred = lr_clf.predict(x_valid)\n",
    "print('LogisticRegression 정확도 :{0:.4f}'.format(accuracy_score(y_valid,lr_pred)))"
   ]
  },
  {
   "cell_type": "code",
   "execution_count": null,
   "id": "5f24aa24",
   "metadata": {},
   "outputs": [],
   "source": []
  }
 ],
 "metadata": {
  "kernelspec": {
   "display_name": "Python 3 (ipykernel)",
   "language": "python",
   "name": "python3"
  },
  "language_info": {
   "codemirror_mode": {
    "name": "ipython",
    "version": 3
   },
   "file_extension": ".py",
   "mimetype": "text/x-python",
   "name": "python",
   "nbconvert_exporter": "python",
   "pygments_lexer": "ipython3",
   "version": "3.9.12"
  }
 },
 "nbformat": 4,
 "nbformat_minor": 5
}
