{
 "cells": [
  {
   "cell_type": "code",
   "execution_count": 1,
   "id": "f594c8c5",
   "metadata": {},
   "outputs": [
    {
     "data": {
      "text/html": [
       "<div>\n",
       "<style scoped>\n",
       "    .dataframe tbody tr th:only-of-type {\n",
       "        vertical-align: middle;\n",
       "    }\n",
       "\n",
       "    .dataframe tbody tr th {\n",
       "        vertical-align: top;\n",
       "    }\n",
       "\n",
       "    .dataframe thead th {\n",
       "        text-align: right;\n",
       "    }\n",
       "</style>\n",
       "<table border=\"1\" class=\"dataframe\">\n",
       "  <thead>\n",
       "    <tr style=\"text-align: right;\">\n",
       "      <th></th>\n",
       "      <th>PassengerId</th>\n",
       "      <th>Survived</th>\n",
       "      <th>Pclass</th>\n",
       "      <th>Name</th>\n",
       "      <th>Sex</th>\n",
       "      <th>Age</th>\n",
       "      <th>SibSp</th>\n",
       "      <th>Parch</th>\n",
       "      <th>Ticket</th>\n",
       "      <th>Fare</th>\n",
       "      <th>Cabin</th>\n",
       "      <th>Embarked</th>\n",
       "    </tr>\n",
       "  </thead>\n",
       "  <tbody>\n",
       "    <tr>\n",
       "      <th>0</th>\n",
       "      <td>1</td>\n",
       "      <td>0</td>\n",
       "      <td>3</td>\n",
       "      <td>Braund, Mr. Owen Harris</td>\n",
       "      <td>male</td>\n",
       "      <td>22.0</td>\n",
       "      <td>1</td>\n",
       "      <td>0</td>\n",
       "      <td>A/5 21171</td>\n",
       "      <td>7.2500</td>\n",
       "      <td>NaN</td>\n",
       "      <td>S</td>\n",
       "    </tr>\n",
       "    <tr>\n",
       "      <th>1</th>\n",
       "      <td>2</td>\n",
       "      <td>1</td>\n",
       "      <td>1</td>\n",
       "      <td>Cumings, Mrs. John Bradley (Florence Briggs Th...</td>\n",
       "      <td>female</td>\n",
       "      <td>38.0</td>\n",
       "      <td>1</td>\n",
       "      <td>0</td>\n",
       "      <td>PC 17599</td>\n",
       "      <td>71.2833</td>\n",
       "      <td>C85</td>\n",
       "      <td>C</td>\n",
       "    </tr>\n",
       "    <tr>\n",
       "      <th>2</th>\n",
       "      <td>3</td>\n",
       "      <td>1</td>\n",
       "      <td>3</td>\n",
       "      <td>Heikkinen, Miss. Laina</td>\n",
       "      <td>female</td>\n",
       "      <td>26.0</td>\n",
       "      <td>0</td>\n",
       "      <td>0</td>\n",
       "      <td>STON/O2. 3101282</td>\n",
       "      <td>7.9250</td>\n",
       "      <td>NaN</td>\n",
       "      <td>S</td>\n",
       "    </tr>\n",
       "    <tr>\n",
       "      <th>3</th>\n",
       "      <td>4</td>\n",
       "      <td>1</td>\n",
       "      <td>1</td>\n",
       "      <td>Futrelle, Mrs. Jacques Heath (Lily May Peel)</td>\n",
       "      <td>female</td>\n",
       "      <td>35.0</td>\n",
       "      <td>1</td>\n",
       "      <td>0</td>\n",
       "      <td>113803</td>\n",
       "      <td>53.1000</td>\n",
       "      <td>C123</td>\n",
       "      <td>S</td>\n",
       "    </tr>\n",
       "    <tr>\n",
       "      <th>4</th>\n",
       "      <td>5</td>\n",
       "      <td>0</td>\n",
       "      <td>3</td>\n",
       "      <td>Allen, Mr. William Henry</td>\n",
       "      <td>male</td>\n",
       "      <td>35.0</td>\n",
       "      <td>0</td>\n",
       "      <td>0</td>\n",
       "      <td>373450</td>\n",
       "      <td>8.0500</td>\n",
       "      <td>NaN</td>\n",
       "      <td>S</td>\n",
       "    </tr>\n",
       "  </tbody>\n",
       "</table>\n",
       "</div>"
      ],
      "text/plain": [
       "   PassengerId  Survived  Pclass  \\\n",
       "0            1         0       3   \n",
       "1            2         1       1   \n",
       "2            3         1       3   \n",
       "3            4         1       1   \n",
       "4            5         0       3   \n",
       "\n",
       "                                                Name     Sex   Age  SibSp  \\\n",
       "0                            Braund, Mr. Owen Harris    male  22.0      1   \n",
       "1  Cumings, Mrs. John Bradley (Florence Briggs Th...  female  38.0      1   \n",
       "2                             Heikkinen, Miss. Laina  female  26.0      0   \n",
       "3       Futrelle, Mrs. Jacques Heath (Lily May Peel)  female  35.0      1   \n",
       "4                           Allen, Mr. William Henry    male  35.0      0   \n",
       "\n",
       "   Parch            Ticket     Fare Cabin Embarked  \n",
       "0      0         A/5 21171   7.2500   NaN        S  \n",
       "1      0          PC 17599  71.2833   C85        C  \n",
       "2      0  STON/O2. 3101282   7.9250   NaN        S  \n",
       "3      0            113803  53.1000  C123        S  \n",
       "4      0            373450   8.0500   NaN        S  "
      ]
     },
     "execution_count": 1,
     "metadata": {},
     "output_type": "execute_result"
    }
   ],
   "source": [
    "import pandas as pd\n",
    "import numpy as np\n",
    "\n",
    "# train.csv 읽어 5줄 출력\n",
    "df = pd.read_csv('train.csv')\n",
    "df.head()"
   ]
  },
  {
   "cell_type": "code",
   "execution_count": 2,
   "id": "48bbe333",
   "metadata": {},
   "outputs": [
    {
     "data": {
      "text/html": [
       "<div>\n",
       "<style scoped>\n",
       "    .dataframe tbody tr th:only-of-type {\n",
       "        vertical-align: middle;\n",
       "    }\n",
       "\n",
       "    .dataframe tbody tr th {\n",
       "        vertical-align: top;\n",
       "    }\n",
       "\n",
       "    .dataframe thead th {\n",
       "        text-align: right;\n",
       "    }\n",
       "</style>\n",
       "<table border=\"1\" class=\"dataframe\">\n",
       "  <thead>\n",
       "    <tr style=\"text-align: right;\">\n",
       "      <th></th>\n",
       "      <th>Pclass</th>\n",
       "      <th>Sex</th>\n",
       "      <th>Embarked</th>\n",
       "    </tr>\n",
       "  </thead>\n",
       "  <tbody>\n",
       "    <tr>\n",
       "      <th>0</th>\n",
       "      <td>3</td>\n",
       "      <td>male</td>\n",
       "      <td>S</td>\n",
       "    </tr>\n",
       "    <tr>\n",
       "      <th>1</th>\n",
       "      <td>1</td>\n",
       "      <td>female</td>\n",
       "      <td>C</td>\n",
       "    </tr>\n",
       "    <tr>\n",
       "      <th>2</th>\n",
       "      <td>3</td>\n",
       "      <td>female</td>\n",
       "      <td>S</td>\n",
       "    </tr>\n",
       "    <tr>\n",
       "      <th>3</th>\n",
       "      <td>1</td>\n",
       "      <td>female</td>\n",
       "      <td>S</td>\n",
       "    </tr>\n",
       "    <tr>\n",
       "      <th>4</th>\n",
       "      <td>3</td>\n",
       "      <td>male</td>\n",
       "      <td>S</td>\n",
       "    </tr>\n",
       "  </tbody>\n",
       "</table>\n",
       "</div>"
      ],
      "text/plain": [
       "   Pclass     Sex Embarked\n",
       "0       3    male        S\n",
       "1       1  female        C\n",
       "2       3  female        S\n",
       "3       1  female        S\n",
       "4       3    male        S"
      ]
     },
     "execution_count": 2,
     "metadata": {},
     "output_type": "execute_result"
    }
   ],
   "source": [
    "# Pclass  Sex  Embarked 만 추출해서 5개출력\n",
    "df[['Pclass','Sex','Embarked']].head()"
   ]
  },
  {
   "cell_type": "code",
   "execution_count": 3,
   "id": "e4804b3c",
   "metadata": {},
   "outputs": [
    {
     "data": {
      "text/html": [
       "<div>\n",
       "<style scoped>\n",
       "    .dataframe tbody tr th:only-of-type {\n",
       "        vertical-align: middle;\n",
       "    }\n",
       "\n",
       "    .dataframe tbody tr th {\n",
       "        vertical-align: top;\n",
       "    }\n",
       "\n",
       "    .dataframe thead th {\n",
       "        text-align: right;\n",
       "    }\n",
       "</style>\n",
       "<table border=\"1\" class=\"dataframe\">\n",
       "  <thead>\n",
       "    <tr style=\"text-align: right;\">\n",
       "      <th></th>\n",
       "      <th>PassengerId</th>\n",
       "      <th>Pclass</th>\n",
       "      <th>Name</th>\n",
       "      <th>Sex</th>\n",
       "      <th>Age</th>\n",
       "      <th>SibSp</th>\n",
       "      <th>Parch</th>\n",
       "      <th>Ticket</th>\n",
       "      <th>Fare</th>\n",
       "      <th>Cabin</th>\n",
       "      <th>Embarked</th>\n",
       "    </tr>\n",
       "  </thead>\n",
       "  <tbody>\n",
       "    <tr>\n",
       "      <th>0</th>\n",
       "      <td>892</td>\n",
       "      <td>3</td>\n",
       "      <td>Kelly, Mr. James</td>\n",
       "      <td>male</td>\n",
       "      <td>34.5</td>\n",
       "      <td>0</td>\n",
       "      <td>0</td>\n",
       "      <td>330911</td>\n",
       "      <td>7.8292</td>\n",
       "      <td>NaN</td>\n",
       "      <td>Q</td>\n",
       "    </tr>\n",
       "    <tr>\n",
       "      <th>1</th>\n",
       "      <td>893</td>\n",
       "      <td>3</td>\n",
       "      <td>Wilkes, Mrs. James (Ellen Needs)</td>\n",
       "      <td>female</td>\n",
       "      <td>47.0</td>\n",
       "      <td>1</td>\n",
       "      <td>0</td>\n",
       "      <td>363272</td>\n",
       "      <td>7.0000</td>\n",
       "      <td>NaN</td>\n",
       "      <td>S</td>\n",
       "    </tr>\n",
       "    <tr>\n",
       "      <th>2</th>\n",
       "      <td>894</td>\n",
       "      <td>2</td>\n",
       "      <td>Myles, Mr. Thomas Francis</td>\n",
       "      <td>male</td>\n",
       "      <td>62.0</td>\n",
       "      <td>0</td>\n",
       "      <td>0</td>\n",
       "      <td>240276</td>\n",
       "      <td>9.6875</td>\n",
       "      <td>NaN</td>\n",
       "      <td>Q</td>\n",
       "    </tr>\n",
       "    <tr>\n",
       "      <th>3</th>\n",
       "      <td>895</td>\n",
       "      <td>3</td>\n",
       "      <td>Wirz, Mr. Albert</td>\n",
       "      <td>male</td>\n",
       "      <td>27.0</td>\n",
       "      <td>0</td>\n",
       "      <td>0</td>\n",
       "      <td>315154</td>\n",
       "      <td>8.6625</td>\n",
       "      <td>NaN</td>\n",
       "      <td>S</td>\n",
       "    </tr>\n",
       "    <tr>\n",
       "      <th>4</th>\n",
       "      <td>896</td>\n",
       "      <td>3</td>\n",
       "      <td>Hirvonen, Mrs. Alexander (Helga E Lindqvist)</td>\n",
       "      <td>female</td>\n",
       "      <td>22.0</td>\n",
       "      <td>1</td>\n",
       "      <td>1</td>\n",
       "      <td>3101298</td>\n",
       "      <td>12.2875</td>\n",
       "      <td>NaN</td>\n",
       "      <td>S</td>\n",
       "    </tr>\n",
       "  </tbody>\n",
       "</table>\n",
       "</div>"
      ],
      "text/plain": [
       "   PassengerId  Pclass                                          Name     Sex  \\\n",
       "0          892       3                              Kelly, Mr. James    male   \n",
       "1          893       3              Wilkes, Mrs. James (Ellen Needs)  female   \n",
       "2          894       2                     Myles, Mr. Thomas Francis    male   \n",
       "3          895       3                              Wirz, Mr. Albert    male   \n",
       "4          896       3  Hirvonen, Mrs. Alexander (Helga E Lindqvist)  female   \n",
       "\n",
       "    Age  SibSp  Parch   Ticket     Fare Cabin Embarked  \n",
       "0  34.5      0      0   330911   7.8292   NaN        Q  \n",
       "1  47.0      1      0   363272   7.0000   NaN        S  \n",
       "2  62.0      0      0   240276   9.6875   NaN        Q  \n",
       "3  27.0      0      0   315154   8.6625   NaN        S  \n",
       "4  22.0      1      1  3101298  12.2875   NaN        S  "
      ]
     },
     "execution_count": 3,
     "metadata": {},
     "output_type": "execute_result"
    }
   ],
   "source": [
    "# test데이터 불러오기 5줄 출력\n",
    "df_test = pd.read_csv('test.csv')\n",
    "df_test.head()"
   ]
  },
  {
   "cell_type": "code",
   "execution_count": 4,
   "id": "eddca9af",
   "metadata": {},
   "outputs": [
    {
     "data": {
      "text/plain": [
       "0      22.0\n",
       "1      38.0\n",
       "2      26.0\n",
       "3      35.0\n",
       "4      35.0\n",
       "       ... \n",
       "886    27.0\n",
       "887    19.0\n",
       "888     NaN\n",
       "889    26.0\n",
       "890    32.0\n",
       "Name: Age, Length: 891, dtype: float64"
      ]
     },
     "execution_count": 4,
     "metadata": {},
     "output_type": "execute_result"
    }
   ],
   "source": [
    "df['Age']"
   ]
  },
  {
   "cell_type": "code",
   "execution_count": 5,
   "id": "3d51c5b0",
   "metadata": {},
   "outputs": [
    {
     "data": {
      "text/plain": [
       "PassengerId      0\n",
       "Pclass           0\n",
       "Name             0\n",
       "Sex              0\n",
       "Age             86\n",
       "SibSp            0\n",
       "Parch            0\n",
       "Ticket           0\n",
       "Fare             1\n",
       "Cabin          327\n",
       "Embarked         0\n",
       "dtype: int64"
      ]
     },
     "execution_count": 5,
     "metadata": {},
     "output_type": "execute_result"
    }
   ],
   "source": [
    "df_test.isnull().sum()"
   ]
  },
  {
   "cell_type": "code",
   "execution_count": 6,
   "id": "98f05f6c",
   "metadata": {},
   "outputs": [
    {
     "data": {
      "text/html": [
       "<div>\n",
       "<style scoped>\n",
       "    .dataframe tbody tr th:only-of-type {\n",
       "        vertical-align: middle;\n",
       "    }\n",
       "\n",
       "    .dataframe tbody tr th {\n",
       "        vertical-align: top;\n",
       "    }\n",
       "\n",
       "    .dataframe thead th {\n",
       "        text-align: right;\n",
       "    }\n",
       "</style>\n",
       "<table border=\"1\" class=\"dataframe\">\n",
       "  <thead>\n",
       "    <tr style=\"text-align: right;\">\n",
       "      <th></th>\n",
       "      <th>PassengerId</th>\n",
       "      <th>Survived</th>\n",
       "      <th>Pclass</th>\n",
       "      <th>Name</th>\n",
       "      <th>Sex</th>\n",
       "      <th>Age</th>\n",
       "      <th>SibSp</th>\n",
       "      <th>Parch</th>\n",
       "      <th>Ticket</th>\n",
       "      <th>Fare</th>\n",
       "      <th>Cabin</th>\n",
       "      <th>Embarked</th>\n",
       "    </tr>\n",
       "  </thead>\n",
       "  <tbody>\n",
       "    <tr>\n",
       "      <th>0</th>\n",
       "      <td>1</td>\n",
       "      <td>0</td>\n",
       "      <td>3</td>\n",
       "      <td>Braund, Mr. Owen Harris</td>\n",
       "      <td>male</td>\n",
       "      <td>22.000000</td>\n",
       "      <td>1</td>\n",
       "      <td>0</td>\n",
       "      <td>A/5 21171</td>\n",
       "      <td>7.2500</td>\n",
       "      <td>NaN</td>\n",
       "      <td>S</td>\n",
       "    </tr>\n",
       "    <tr>\n",
       "      <th>1</th>\n",
       "      <td>2</td>\n",
       "      <td>1</td>\n",
       "      <td>1</td>\n",
       "      <td>Cumings, Mrs. John Bradley (Florence Briggs Th...</td>\n",
       "      <td>female</td>\n",
       "      <td>38.000000</td>\n",
       "      <td>1</td>\n",
       "      <td>0</td>\n",
       "      <td>PC 17599</td>\n",
       "      <td>71.2833</td>\n",
       "      <td>C85</td>\n",
       "      <td>C</td>\n",
       "    </tr>\n",
       "    <tr>\n",
       "      <th>2</th>\n",
       "      <td>3</td>\n",
       "      <td>1</td>\n",
       "      <td>3</td>\n",
       "      <td>Heikkinen, Miss. Laina</td>\n",
       "      <td>female</td>\n",
       "      <td>26.000000</td>\n",
       "      <td>0</td>\n",
       "      <td>0</td>\n",
       "      <td>STON/O2. 3101282</td>\n",
       "      <td>7.9250</td>\n",
       "      <td>NaN</td>\n",
       "      <td>S</td>\n",
       "    </tr>\n",
       "    <tr>\n",
       "      <th>3</th>\n",
       "      <td>4</td>\n",
       "      <td>1</td>\n",
       "      <td>1</td>\n",
       "      <td>Futrelle, Mrs. Jacques Heath (Lily May Peel)</td>\n",
       "      <td>female</td>\n",
       "      <td>35.000000</td>\n",
       "      <td>1</td>\n",
       "      <td>0</td>\n",
       "      <td>113803</td>\n",
       "      <td>53.1000</td>\n",
       "      <td>C123</td>\n",
       "      <td>S</td>\n",
       "    </tr>\n",
       "    <tr>\n",
       "      <th>4</th>\n",
       "      <td>5</td>\n",
       "      <td>0</td>\n",
       "      <td>3</td>\n",
       "      <td>Allen, Mr. William Henry</td>\n",
       "      <td>male</td>\n",
       "      <td>35.000000</td>\n",
       "      <td>0</td>\n",
       "      <td>0</td>\n",
       "      <td>373450</td>\n",
       "      <td>8.0500</td>\n",
       "      <td>NaN</td>\n",
       "      <td>S</td>\n",
       "    </tr>\n",
       "    <tr>\n",
       "      <th>5</th>\n",
       "      <td>6</td>\n",
       "      <td>0</td>\n",
       "      <td>3</td>\n",
       "      <td>Moran, Mr. James</td>\n",
       "      <td>male</td>\n",
       "      <td>29.699118</td>\n",
       "      <td>0</td>\n",
       "      <td>0</td>\n",
       "      <td>330877</td>\n",
       "      <td>8.4583</td>\n",
       "      <td>NaN</td>\n",
       "      <td>Q</td>\n",
       "    </tr>\n",
       "    <tr>\n",
       "      <th>6</th>\n",
       "      <td>7</td>\n",
       "      <td>0</td>\n",
       "      <td>1</td>\n",
       "      <td>McCarthy, Mr. Timothy J</td>\n",
       "      <td>male</td>\n",
       "      <td>54.000000</td>\n",
       "      <td>0</td>\n",
       "      <td>0</td>\n",
       "      <td>17463</td>\n",
       "      <td>51.8625</td>\n",
       "      <td>E46</td>\n",
       "      <td>S</td>\n",
       "    </tr>\n",
       "    <tr>\n",
       "      <th>7</th>\n",
       "      <td>8</td>\n",
       "      <td>0</td>\n",
       "      <td>3</td>\n",
       "      <td>Palsson, Master. Gosta Leonard</td>\n",
       "      <td>male</td>\n",
       "      <td>2.000000</td>\n",
       "      <td>3</td>\n",
       "      <td>1</td>\n",
       "      <td>349909</td>\n",
       "      <td>21.0750</td>\n",
       "      <td>NaN</td>\n",
       "      <td>S</td>\n",
       "    </tr>\n",
       "    <tr>\n",
       "      <th>8</th>\n",
       "      <td>9</td>\n",
       "      <td>1</td>\n",
       "      <td>3</td>\n",
       "      <td>Johnson, Mrs. Oscar W (Elisabeth Vilhelmina Berg)</td>\n",
       "      <td>female</td>\n",
       "      <td>27.000000</td>\n",
       "      <td>0</td>\n",
       "      <td>2</td>\n",
       "      <td>347742</td>\n",
       "      <td>11.1333</td>\n",
       "      <td>NaN</td>\n",
       "      <td>S</td>\n",
       "    </tr>\n",
       "    <tr>\n",
       "      <th>9</th>\n",
       "      <td>10</td>\n",
       "      <td>1</td>\n",
       "      <td>2</td>\n",
       "      <td>Nasser, Mrs. Nicholas (Adele Achem)</td>\n",
       "      <td>female</td>\n",
       "      <td>14.000000</td>\n",
       "      <td>1</td>\n",
       "      <td>0</td>\n",
       "      <td>237736</td>\n",
       "      <td>30.0708</td>\n",
       "      <td>NaN</td>\n",
       "      <td>C</td>\n",
       "    </tr>\n",
       "  </tbody>\n",
       "</table>\n",
       "</div>"
      ],
      "text/plain": [
       "   PassengerId  Survived  Pclass  \\\n",
       "0            1         0       3   \n",
       "1            2         1       1   \n",
       "2            3         1       3   \n",
       "3            4         1       1   \n",
       "4            5         0       3   \n",
       "5            6         0       3   \n",
       "6            7         0       1   \n",
       "7            8         0       3   \n",
       "8            9         1       3   \n",
       "9           10         1       2   \n",
       "\n",
       "                                                Name     Sex        Age  \\\n",
       "0                            Braund, Mr. Owen Harris    male  22.000000   \n",
       "1  Cumings, Mrs. John Bradley (Florence Briggs Th...  female  38.000000   \n",
       "2                             Heikkinen, Miss. Laina  female  26.000000   \n",
       "3       Futrelle, Mrs. Jacques Heath (Lily May Peel)  female  35.000000   \n",
       "4                           Allen, Mr. William Henry    male  35.000000   \n",
       "5                                   Moran, Mr. James    male  29.699118   \n",
       "6                            McCarthy, Mr. Timothy J    male  54.000000   \n",
       "7                     Palsson, Master. Gosta Leonard    male   2.000000   \n",
       "8  Johnson, Mrs. Oscar W (Elisabeth Vilhelmina Berg)  female  27.000000   \n",
       "9                Nasser, Mrs. Nicholas (Adele Achem)  female  14.000000   \n",
       "\n",
       "   SibSp  Parch            Ticket     Fare Cabin Embarked  \n",
       "0      1      0         A/5 21171   7.2500   NaN        S  \n",
       "1      1      0          PC 17599  71.2833   C85        C  \n",
       "2      0      0  STON/O2. 3101282   7.9250   NaN        S  \n",
       "3      1      0            113803  53.1000  C123        S  \n",
       "4      0      0            373450   8.0500   NaN        S  \n",
       "5      0      0            330877   8.4583   NaN        Q  \n",
       "6      0      0             17463  51.8625   E46        S  \n",
       "7      3      1            349909  21.0750   NaN        S  \n",
       "8      0      2            347742  11.1333   NaN        S  \n",
       "9      1      0            237736  30.0708   NaN        C  "
      ]
     },
     "execution_count": 6,
     "metadata": {},
     "output_type": "execute_result"
    }
   ],
   "source": [
    "# Age : 비어 있는 값을 나이의 평균으로 채우기\n",
    "df['Age'] = df['Age'].fillna(df['Age'].mean())\n",
    "df.head(10)"
   ]
  },
  {
   "cell_type": "code",
   "execution_count": 7,
   "id": "1d22f48b",
   "metadata": {},
   "outputs": [
    {
     "data": {
      "text/plain": [
       "PassengerId      0\n",
       "Survived         0\n",
       "Pclass           0\n",
       "Name             0\n",
       "Sex              0\n",
       "Age              0\n",
       "SibSp            0\n",
       "Parch            0\n",
       "Ticket           0\n",
       "Fare             0\n",
       "Cabin          687\n",
       "Embarked         2\n",
       "dtype: int64"
      ]
     },
     "execution_count": 7,
     "metadata": {},
     "output_type": "execute_result"
    }
   ],
   "source": [
    "df.isnull().sum()"
   ]
  },
  {
   "cell_type": "code",
   "execution_count": 8,
   "id": "41b9d3fc",
   "metadata": {},
   "outputs": [
    {
     "data": {
      "text/plain": [
       "PassengerId      0\n",
       "Pclass           0\n",
       "Name             0\n",
       "Sex              0\n",
       "Age             86\n",
       "SibSp            0\n",
       "Parch            0\n",
       "Ticket           0\n",
       "Fare             1\n",
       "Cabin          327\n",
       "Embarked         0\n",
       "dtype: int64"
      ]
     },
     "execution_count": 8,
     "metadata": {},
     "output_type": "execute_result"
    }
   ],
   "source": [
    "# test 셋도 적용\n",
    "df_test.isnull().sum()"
   ]
  },
  {
   "cell_type": "code",
   "execution_count": 9,
   "id": "b7bf34a4",
   "metadata": {},
   "outputs": [],
   "source": [
    "# test 셋도 적용\n",
    "df_test['Age'] = df_test['Age'].fillna(df_test['Age'].mean())"
   ]
  },
  {
   "cell_type": "code",
   "execution_count": 10,
   "id": "e5938e67",
   "metadata": {},
   "outputs": [
    {
     "data": {
      "text/plain": [
       "PassengerId      0\n",
       "Pclass           0\n",
       "Name             0\n",
       "Sex              0\n",
       "Age              0\n",
       "SibSp            0\n",
       "Parch            0\n",
       "Ticket           0\n",
       "Fare             1\n",
       "Cabin          327\n",
       "Embarked         0\n",
       "dtype: int64"
      ]
     },
     "execution_count": 10,
     "metadata": {},
     "output_type": "execute_result"
    }
   ],
   "source": [
    "df_test.isnull().sum()"
   ]
  },
  {
   "cell_type": "code",
   "execution_count": 11,
   "id": "46451be3",
   "metadata": {},
   "outputs": [],
   "source": [
    "# Fare  빈칸(NaN) 을 평균으로 대체 (훈련용, 테스트용 모두 대체)\n",
    "df['Fare'] = df['Fare'].fillna(df['Fare'].mean())\n",
    "df_test['Fare'] = df_test['Fare'].fillna(df_test['Fare'].mean())"
   ]
  },
  {
   "cell_type": "code",
   "execution_count": 12,
   "id": "ad9aa2ae",
   "metadata": {},
   "outputs": [
    {
     "data": {
      "text/plain": [
       "PassengerId      0\n",
       "Pclass           0\n",
       "Name             0\n",
       "Sex              0\n",
       "Age              0\n",
       "SibSp            0\n",
       "Parch            0\n",
       "Ticket           0\n",
       "Fare             0\n",
       "Cabin          327\n",
       "Embarked         0\n",
       "dtype: int64"
      ]
     },
     "execution_count": 12,
     "metadata": {},
     "output_type": "execute_result"
    }
   ],
   "source": [
    "df_test.isnull().sum()"
   ]
  },
  {
   "cell_type": "code",
   "execution_count": 13,
   "id": "5be4b92a",
   "metadata": {},
   "outputs": [
    {
     "data": {
      "text/html": [
       "<div>\n",
       "<style scoped>\n",
       "    .dataframe tbody tr th:only-of-type {\n",
       "        vertical-align: middle;\n",
       "    }\n",
       "\n",
       "    .dataframe tbody tr th {\n",
       "        vertical-align: top;\n",
       "    }\n",
       "\n",
       "    .dataframe thead th {\n",
       "        text-align: right;\n",
       "    }\n",
       "</style>\n",
       "<table border=\"1\" class=\"dataframe\">\n",
       "  <thead>\n",
       "    <tr style=\"text-align: right;\">\n",
       "      <th></th>\n",
       "      <th>PassengerId</th>\n",
       "      <th>Survived</th>\n",
       "      <th>Pclass</th>\n",
       "      <th>Name</th>\n",
       "      <th>Sex</th>\n",
       "      <th>Age</th>\n",
       "      <th>SibSp</th>\n",
       "      <th>Parch</th>\n",
       "      <th>Ticket</th>\n",
       "      <th>Fare</th>\n",
       "      <th>Cabin</th>\n",
       "      <th>Embarked</th>\n",
       "      <th>FamilySize</th>\n",
       "    </tr>\n",
       "  </thead>\n",
       "  <tbody>\n",
       "    <tr>\n",
       "      <th>0</th>\n",
       "      <td>1</td>\n",
       "      <td>0</td>\n",
       "      <td>3</td>\n",
       "      <td>Braund, Mr. Owen Harris</td>\n",
       "      <td>male</td>\n",
       "      <td>22.0</td>\n",
       "      <td>1</td>\n",
       "      <td>0</td>\n",
       "      <td>A/5 21171</td>\n",
       "      <td>7.2500</td>\n",
       "      <td>NaN</td>\n",
       "      <td>S</td>\n",
       "      <td>1</td>\n",
       "    </tr>\n",
       "    <tr>\n",
       "      <th>1</th>\n",
       "      <td>2</td>\n",
       "      <td>1</td>\n",
       "      <td>1</td>\n",
       "      <td>Cumings, Mrs. John Bradley (Florence Briggs Th...</td>\n",
       "      <td>female</td>\n",
       "      <td>38.0</td>\n",
       "      <td>1</td>\n",
       "      <td>0</td>\n",
       "      <td>PC 17599</td>\n",
       "      <td>71.2833</td>\n",
       "      <td>C85</td>\n",
       "      <td>C</td>\n",
       "      <td>1</td>\n",
       "    </tr>\n",
       "    <tr>\n",
       "      <th>2</th>\n",
       "      <td>3</td>\n",
       "      <td>1</td>\n",
       "      <td>3</td>\n",
       "      <td>Heikkinen, Miss. Laina</td>\n",
       "      <td>female</td>\n",
       "      <td>26.0</td>\n",
       "      <td>0</td>\n",
       "      <td>0</td>\n",
       "      <td>STON/O2. 3101282</td>\n",
       "      <td>7.9250</td>\n",
       "      <td>NaN</td>\n",
       "      <td>S</td>\n",
       "      <td>0</td>\n",
       "    </tr>\n",
       "    <tr>\n",
       "      <th>3</th>\n",
       "      <td>4</td>\n",
       "      <td>1</td>\n",
       "      <td>1</td>\n",
       "      <td>Futrelle, Mrs. Jacques Heath (Lily May Peel)</td>\n",
       "      <td>female</td>\n",
       "      <td>35.0</td>\n",
       "      <td>1</td>\n",
       "      <td>0</td>\n",
       "      <td>113803</td>\n",
       "      <td>53.1000</td>\n",
       "      <td>C123</td>\n",
       "      <td>S</td>\n",
       "      <td>1</td>\n",
       "    </tr>\n",
       "    <tr>\n",
       "      <th>4</th>\n",
       "      <td>5</td>\n",
       "      <td>0</td>\n",
       "      <td>3</td>\n",
       "      <td>Allen, Mr. William Henry</td>\n",
       "      <td>male</td>\n",
       "      <td>35.0</td>\n",
       "      <td>0</td>\n",
       "      <td>0</td>\n",
       "      <td>373450</td>\n",
       "      <td>8.0500</td>\n",
       "      <td>NaN</td>\n",
       "      <td>S</td>\n",
       "      <td>0</td>\n",
       "    </tr>\n",
       "  </tbody>\n",
       "</table>\n",
       "</div>"
      ],
      "text/plain": [
       "   PassengerId  Survived  Pclass  \\\n",
       "0            1         0       3   \n",
       "1            2         1       1   \n",
       "2            3         1       3   \n",
       "3            4         1       1   \n",
       "4            5         0       3   \n",
       "\n",
       "                                                Name     Sex   Age  SibSp  \\\n",
       "0                            Braund, Mr. Owen Harris    male  22.0      1   \n",
       "1  Cumings, Mrs. John Bradley (Florence Briggs Th...  female  38.0      1   \n",
       "2                             Heikkinen, Miss. Laina  female  26.0      0   \n",
       "3       Futrelle, Mrs. Jacques Heath (Lily May Peel)  female  35.0      1   \n",
       "4                           Allen, Mr. William Henry    male  35.0      0   \n",
       "\n",
       "   Parch            Ticket     Fare Cabin Embarked  FamilySize  \n",
       "0      0         A/5 21171   7.2500   NaN        S           1  \n",
       "1      0          PC 17599  71.2833   C85        C           1  \n",
       "2      0  STON/O2. 3101282   7.9250   NaN        S           0  \n",
       "3      0            113803  53.1000  C123        S           1  \n",
       "4      0            373450   8.0500   NaN        S           0  "
      ]
     },
     "execution_count": 13,
     "metadata": {},
     "output_type": "execute_result"
    }
   ],
   "source": [
    "#SibSp와 Parch를 더하여 FamilySize 생성\n",
    "df['FamilySize']=df['SibSp']+df['Parch']\n",
    "df.head()"
   ]
  },
  {
   "cell_type": "code",
   "execution_count": 14,
   "id": "d46efae9",
   "metadata": {},
   "outputs": [
    {
     "data": {
      "text/html": [
       "<div>\n",
       "<style scoped>\n",
       "    .dataframe tbody tr th:only-of-type {\n",
       "        vertical-align: middle;\n",
       "    }\n",
       "\n",
       "    .dataframe tbody tr th {\n",
       "        vertical-align: top;\n",
       "    }\n",
       "\n",
       "    .dataframe thead th {\n",
       "        text-align: right;\n",
       "    }\n",
       "</style>\n",
       "<table border=\"1\" class=\"dataframe\">\n",
       "  <thead>\n",
       "    <tr style=\"text-align: right;\">\n",
       "      <th></th>\n",
       "      <th>PassengerId</th>\n",
       "      <th>Pclass</th>\n",
       "      <th>Name</th>\n",
       "      <th>Sex</th>\n",
       "      <th>Age</th>\n",
       "      <th>SibSp</th>\n",
       "      <th>Parch</th>\n",
       "      <th>Ticket</th>\n",
       "      <th>Fare</th>\n",
       "      <th>Cabin</th>\n",
       "      <th>Embarked</th>\n",
       "      <th>FamilySize</th>\n",
       "    </tr>\n",
       "  </thead>\n",
       "  <tbody>\n",
       "    <tr>\n",
       "      <th>0</th>\n",
       "      <td>892</td>\n",
       "      <td>3</td>\n",
       "      <td>Kelly, Mr. James</td>\n",
       "      <td>male</td>\n",
       "      <td>34.5</td>\n",
       "      <td>0</td>\n",
       "      <td>0</td>\n",
       "      <td>330911</td>\n",
       "      <td>7.8292</td>\n",
       "      <td>NaN</td>\n",
       "      <td>Q</td>\n",
       "      <td>0</td>\n",
       "    </tr>\n",
       "    <tr>\n",
       "      <th>1</th>\n",
       "      <td>893</td>\n",
       "      <td>3</td>\n",
       "      <td>Wilkes, Mrs. James (Ellen Needs)</td>\n",
       "      <td>female</td>\n",
       "      <td>47.0</td>\n",
       "      <td>1</td>\n",
       "      <td>0</td>\n",
       "      <td>363272</td>\n",
       "      <td>7.0000</td>\n",
       "      <td>NaN</td>\n",
       "      <td>S</td>\n",
       "      <td>1</td>\n",
       "    </tr>\n",
       "    <tr>\n",
       "      <th>2</th>\n",
       "      <td>894</td>\n",
       "      <td>2</td>\n",
       "      <td>Myles, Mr. Thomas Francis</td>\n",
       "      <td>male</td>\n",
       "      <td>62.0</td>\n",
       "      <td>0</td>\n",
       "      <td>0</td>\n",
       "      <td>240276</td>\n",
       "      <td>9.6875</td>\n",
       "      <td>NaN</td>\n",
       "      <td>Q</td>\n",
       "      <td>0</td>\n",
       "    </tr>\n",
       "    <tr>\n",
       "      <th>3</th>\n",
       "      <td>895</td>\n",
       "      <td>3</td>\n",
       "      <td>Wirz, Mr. Albert</td>\n",
       "      <td>male</td>\n",
       "      <td>27.0</td>\n",
       "      <td>0</td>\n",
       "      <td>0</td>\n",
       "      <td>315154</td>\n",
       "      <td>8.6625</td>\n",
       "      <td>NaN</td>\n",
       "      <td>S</td>\n",
       "      <td>0</td>\n",
       "    </tr>\n",
       "    <tr>\n",
       "      <th>4</th>\n",
       "      <td>896</td>\n",
       "      <td>3</td>\n",
       "      <td>Hirvonen, Mrs. Alexander (Helga E Lindqvist)</td>\n",
       "      <td>female</td>\n",
       "      <td>22.0</td>\n",
       "      <td>1</td>\n",
       "      <td>1</td>\n",
       "      <td>3101298</td>\n",
       "      <td>12.2875</td>\n",
       "      <td>NaN</td>\n",
       "      <td>S</td>\n",
       "      <td>2</td>\n",
       "    </tr>\n",
       "  </tbody>\n",
       "</table>\n",
       "</div>"
      ],
      "text/plain": [
       "   PassengerId  Pclass                                          Name     Sex  \\\n",
       "0          892       3                              Kelly, Mr. James    male   \n",
       "1          893       3              Wilkes, Mrs. James (Ellen Needs)  female   \n",
       "2          894       2                     Myles, Mr. Thomas Francis    male   \n",
       "3          895       3                              Wirz, Mr. Albert    male   \n",
       "4          896       3  Hirvonen, Mrs. Alexander (Helga E Lindqvist)  female   \n",
       "\n",
       "    Age  SibSp  Parch   Ticket     Fare Cabin Embarked  FamilySize  \n",
       "0  34.5      0      0   330911   7.8292   NaN        Q           0  \n",
       "1  47.0      1      0   363272   7.0000   NaN        S           1  \n",
       "2  62.0      0      0   240276   9.6875   NaN        Q           0  \n",
       "3  27.0      0      0   315154   8.6625   NaN        S           0  \n",
       "4  22.0      1      1  3101298  12.2875   NaN        S           2  "
      ]
     },
     "execution_count": 14,
     "metadata": {},
     "output_type": "execute_result"
    }
   ],
   "source": [
    "df_test['FamilySize']=df_test['SibSp']+df_test['Parch']\n",
    "df_test.head()"
   ]
  },
  {
   "cell_type": "code",
   "execution_count": 15,
   "id": "8755b13b",
   "metadata": {},
   "outputs": [
    {
     "data": {
      "text/plain": [
       "0       NaN\n",
       "1       C85\n",
       "2       NaN\n",
       "3      C123\n",
       "4       NaN\n",
       "       ... \n",
       "886     NaN\n",
       "887     B42\n",
       "888     NaN\n",
       "889    C148\n",
       "890     NaN\n",
       "Name: Cabin, Length: 891, dtype: object"
      ]
     },
     "execution_count": 15,
     "metadata": {},
     "output_type": "execute_result"
    }
   ],
   "source": [
    "df['Cabin']"
   ]
  },
  {
   "cell_type": "code",
   "execution_count": 16,
   "id": "71d2333b",
   "metadata": {},
   "outputs": [
    {
     "data": {
      "text/html": [
       "<div>\n",
       "<style scoped>\n",
       "    .dataframe tbody tr th:only-of-type {\n",
       "        vertical-align: middle;\n",
       "    }\n",
       "\n",
       "    .dataframe tbody tr th {\n",
       "        vertical-align: top;\n",
       "    }\n",
       "\n",
       "    .dataframe thead th {\n",
       "        text-align: right;\n",
       "    }\n",
       "</style>\n",
       "<table border=\"1\" class=\"dataframe\">\n",
       "  <thead>\n",
       "    <tr style=\"text-align: right;\">\n",
       "      <th></th>\n",
       "      <th>PassengerId</th>\n",
       "      <th>Survived</th>\n",
       "      <th>Pclass</th>\n",
       "      <th>Name</th>\n",
       "      <th>Sex</th>\n",
       "      <th>Age</th>\n",
       "      <th>SibSp</th>\n",
       "      <th>Parch</th>\n",
       "      <th>Ticket</th>\n",
       "      <th>Fare</th>\n",
       "      <th>Cabin</th>\n",
       "      <th>Embarked</th>\n",
       "      <th>FamilySize</th>\n",
       "    </tr>\n",
       "  </thead>\n",
       "  <tbody>\n",
       "    <tr>\n",
       "      <th>0</th>\n",
       "      <td>1</td>\n",
       "      <td>0</td>\n",
       "      <td>3</td>\n",
       "      <td>Braund, Mr. Owen Harris</td>\n",
       "      <td>male</td>\n",
       "      <td>22.0</td>\n",
       "      <td>1</td>\n",
       "      <td>0</td>\n",
       "      <td>A/5 21171</td>\n",
       "      <td>7.2500</td>\n",
       "      <td>NaN</td>\n",
       "      <td>S</td>\n",
       "      <td>1</td>\n",
       "    </tr>\n",
       "    <tr>\n",
       "      <th>1</th>\n",
       "      <td>2</td>\n",
       "      <td>1</td>\n",
       "      <td>1</td>\n",
       "      <td>Cumings, Mrs. John Bradley (Florence Briggs Th...</td>\n",
       "      <td>female</td>\n",
       "      <td>38.0</td>\n",
       "      <td>1</td>\n",
       "      <td>0</td>\n",
       "      <td>PC 17599</td>\n",
       "      <td>71.2833</td>\n",
       "      <td>C</td>\n",
       "      <td>C</td>\n",
       "      <td>1</td>\n",
       "    </tr>\n",
       "    <tr>\n",
       "      <th>2</th>\n",
       "      <td>3</td>\n",
       "      <td>1</td>\n",
       "      <td>3</td>\n",
       "      <td>Heikkinen, Miss. Laina</td>\n",
       "      <td>female</td>\n",
       "      <td>26.0</td>\n",
       "      <td>0</td>\n",
       "      <td>0</td>\n",
       "      <td>STON/O2. 3101282</td>\n",
       "      <td>7.9250</td>\n",
       "      <td>NaN</td>\n",
       "      <td>S</td>\n",
       "      <td>0</td>\n",
       "    </tr>\n",
       "    <tr>\n",
       "      <th>3</th>\n",
       "      <td>4</td>\n",
       "      <td>1</td>\n",
       "      <td>1</td>\n",
       "      <td>Futrelle, Mrs. Jacques Heath (Lily May Peel)</td>\n",
       "      <td>female</td>\n",
       "      <td>35.0</td>\n",
       "      <td>1</td>\n",
       "      <td>0</td>\n",
       "      <td>113803</td>\n",
       "      <td>53.1000</td>\n",
       "      <td>C</td>\n",
       "      <td>S</td>\n",
       "      <td>1</td>\n",
       "    </tr>\n",
       "    <tr>\n",
       "      <th>4</th>\n",
       "      <td>5</td>\n",
       "      <td>0</td>\n",
       "      <td>3</td>\n",
       "      <td>Allen, Mr. William Henry</td>\n",
       "      <td>male</td>\n",
       "      <td>35.0</td>\n",
       "      <td>0</td>\n",
       "      <td>0</td>\n",
       "      <td>373450</td>\n",
       "      <td>8.0500</td>\n",
       "      <td>NaN</td>\n",
       "      <td>S</td>\n",
       "      <td>0</td>\n",
       "    </tr>\n",
       "  </tbody>\n",
       "</table>\n",
       "</div>"
      ],
      "text/plain": [
       "   PassengerId  Survived  Pclass  \\\n",
       "0            1         0       3   \n",
       "1            2         1       1   \n",
       "2            3         1       3   \n",
       "3            4         1       1   \n",
       "4            5         0       3   \n",
       "\n",
       "                                                Name     Sex   Age  SibSp  \\\n",
       "0                            Braund, Mr. Owen Harris    male  22.0      1   \n",
       "1  Cumings, Mrs. John Bradley (Florence Briggs Th...  female  38.0      1   \n",
       "2                             Heikkinen, Miss. Laina  female  26.0      0   \n",
       "3       Futrelle, Mrs. Jacques Heath (Lily May Peel)  female  35.0      1   \n",
       "4                           Allen, Mr. William Henry    male  35.0      0   \n",
       "\n",
       "   Parch            Ticket     Fare Cabin Embarked  FamilySize  \n",
       "0      0         A/5 21171   7.2500   NaN        S           1  \n",
       "1      0          PC 17599  71.2833     C        C           1  \n",
       "2      0  STON/O2. 3101282   7.9250   NaN        S           0  \n",
       "3      0            113803  53.1000     C        S           1  \n",
       "4      0            373450   8.0500   NaN        S           0  "
      ]
     },
     "execution_count": 16,
     "metadata": {},
     "output_type": "execute_result"
    }
   ],
   "source": [
    "#Cabin(객실) 정보에서 번호만 삭제하고 \n",
    "#객실 종류에 해당하는 알파벳만 남기기\n",
    "df['Cabin']=df['Cabin'].str[0]\n",
    "df.head()"
   ]
  },
  {
   "cell_type": "code",
   "execution_count": 17,
   "id": "92299569",
   "metadata": {},
   "outputs": [
    {
     "data": {
      "text/plain": [
       "C    59\n",
       "B    47\n",
       "D    33\n",
       "E    32\n",
       "A    15\n",
       "F    13\n",
       "G     4\n",
       "T     1\n",
       "Name: Cabin, dtype: int64"
      ]
     },
     "execution_count": 17,
     "metadata": {},
     "output_type": "execute_result"
    }
   ],
   "source": [
    "# Cabin의 객실 NaN : 가장 많은 알파벳으로 대체\n",
    "df['Cabin'].value_counts()"
   ]
  },
  {
   "cell_type": "code",
   "execution_count": 18,
   "id": "cb47c613",
   "metadata": {},
   "outputs": [],
   "source": [
    "df['Cabin'] = df['Cabin'].fillna('C')"
   ]
  },
  {
   "cell_type": "code",
   "execution_count": 19,
   "id": "59db8175",
   "metadata": {},
   "outputs": [
    {
     "data": {
      "text/plain": [
       "PassengerId    0\n",
       "Survived       0\n",
       "Pclass         0\n",
       "Name           0\n",
       "Sex            0\n",
       "Age            0\n",
       "SibSp          0\n",
       "Parch          0\n",
       "Ticket         0\n",
       "Fare           0\n",
       "Cabin          0\n",
       "Embarked       2\n",
       "FamilySize     0\n",
       "dtype: int64"
      ]
     },
     "execution_count": 19,
     "metadata": {},
     "output_type": "execute_result"
    }
   ],
   "source": [
    "df.isnull().sum()"
   ]
  },
  {
   "cell_type": "code",
   "execution_count": 20,
   "id": "18562abb",
   "metadata": {},
   "outputs": [],
   "source": [
    "# test 셋 Cabin 적용\n",
    "df_test['Cabin'] = df_test['Cabin'].str[0]"
   ]
  },
  {
   "cell_type": "code",
   "execution_count": 21,
   "id": "6d98ee60",
   "metadata": {},
   "outputs": [
    {
     "data": {
      "text/plain": [
       "C    35\n",
       "B    18\n",
       "D    13\n",
       "E     9\n",
       "F     8\n",
       "A     7\n",
       "G     1\n",
       "Name: Cabin, dtype: int64"
      ]
     },
     "execution_count": 21,
     "metadata": {},
     "output_type": "execute_result"
    }
   ],
   "source": [
    "df_test['Cabin'].value_counts()"
   ]
  },
  {
   "cell_type": "code",
   "execution_count": 22,
   "id": "e54b3cec",
   "metadata": {},
   "outputs": [],
   "source": [
    "df_test['Cabin']=df_test['Cabin'].fillna('C')"
   ]
  },
  {
   "cell_type": "code",
   "execution_count": 23,
   "id": "ee6c49e0",
   "metadata": {},
   "outputs": [
    {
     "data": {
      "text/plain": [
       "PassengerId    0\n",
       "Pclass         0\n",
       "Name           0\n",
       "Sex            0\n",
       "Age            0\n",
       "SibSp          0\n",
       "Parch          0\n",
       "Ticket         0\n",
       "Fare           0\n",
       "Cabin          0\n",
       "Embarked       0\n",
       "FamilySize     0\n",
       "dtype: int64"
      ]
     },
     "execution_count": 23,
     "metadata": {},
     "output_type": "execute_result"
    }
   ],
   "source": [
    "df_test.isnull().sum()"
   ]
  },
  {
   "cell_type": "code",
   "execution_count": 24,
   "id": "e3ad0d24",
   "metadata": {},
   "outputs": [
    {
     "data": {
      "text/plain": [
       "PassengerId    0\n",
       "Survived       0\n",
       "Pclass         0\n",
       "Name           0\n",
       "Sex            0\n",
       "Age            0\n",
       "SibSp          0\n",
       "Parch          0\n",
       "Ticket         0\n",
       "Fare           0\n",
       "Cabin          0\n",
       "Embarked       2\n",
       "FamilySize     0\n",
       "dtype: int64"
      ]
     },
     "execution_count": 24,
     "metadata": {},
     "output_type": "execute_result"
    }
   ],
   "source": [
    "df.isnull().sum()"
   ]
  },
  {
   "cell_type": "code",
   "execution_count": 25,
   "id": "ae679559",
   "metadata": {},
   "outputs": [
    {
     "data": {
      "text/plain": [
       "S    644\n",
       "C    168\n",
       "Q     77\n",
       "Name: Embarked, dtype: int64"
      ]
     },
     "execution_count": 25,
     "metadata": {},
     "output_type": "execute_result"
    }
   ],
   "source": [
    "df['Embarked'].value_counts()"
   ]
  },
  {
   "cell_type": "code",
   "execution_count": 26,
   "id": "2bf9e772",
   "metadata": {},
   "outputs": [],
   "source": [
    "# Embarked   : NaN  가장 많은 값으로 대체\n",
    "df['Embarked']=df['Embarked'].fillna('S')"
   ]
  },
  {
   "cell_type": "code",
   "execution_count": 27,
   "id": "02a871e3",
   "metadata": {},
   "outputs": [
    {
     "data": {
      "text/plain": [
       "PassengerId    0\n",
       "Survived       0\n",
       "Pclass         0\n",
       "Name           0\n",
       "Sex            0\n",
       "Age            0\n",
       "SibSp          0\n",
       "Parch          0\n",
       "Ticket         0\n",
       "Fare           0\n",
       "Cabin          0\n",
       "Embarked       0\n",
       "FamilySize     0\n",
       "dtype: int64"
      ]
     },
     "execution_count": 27,
     "metadata": {},
     "output_type": "execute_result"
    }
   ],
   "source": [
    "df.isnull().sum()"
   ]
  },
  {
   "cell_type": "code",
   "execution_count": 28,
   "id": "24245846",
   "metadata": {},
   "outputs": [
    {
     "data": {
      "text/plain": [
       "S    270\n",
       "C    102\n",
       "Q     46\n",
       "Name: Embarked, dtype: int64"
      ]
     },
     "execution_count": 28,
     "metadata": {},
     "output_type": "execute_result"
    }
   ],
   "source": [
    "#  test 셋에도 적용 Embarked   : NaN  가장 많은 값으로 대체\n",
    "df_test['Embarked'].value_counts()"
   ]
  },
  {
   "cell_type": "code",
   "execution_count": 29,
   "id": "f79df37e",
   "metadata": {},
   "outputs": [],
   "source": [
    "df_test['Embarked'] = df_test['Embarked'].fillna('S')"
   ]
  },
  {
   "cell_type": "code",
   "execution_count": 30,
   "id": "442f8808",
   "metadata": {},
   "outputs": [
    {
     "data": {
      "text/plain": [
       "PassengerId    0\n",
       "Pclass         0\n",
       "Name           0\n",
       "Sex            0\n",
       "Age            0\n",
       "SibSp          0\n",
       "Parch          0\n",
       "Ticket         0\n",
       "Fare           0\n",
       "Cabin          0\n",
       "Embarked       0\n",
       "FamilySize     0\n",
       "dtype: int64"
      ]
     },
     "execution_count": 30,
     "metadata": {},
     "output_type": "execute_result"
    }
   ],
   "source": [
    "df_test.isnull().sum()"
   ]
  },
  {
   "cell_type": "code",
   "execution_count": 31,
   "id": "81b42e36",
   "metadata": {},
   "outputs": [
    {
     "data": {
      "text/plain": [
       "C    746\n",
       "B     47\n",
       "D     33\n",
       "E     32\n",
       "A     15\n",
       "F     13\n",
       "G      4\n",
       "T      1\n",
       "Name: Cabin, dtype: int64"
      ]
     },
     "execution_count": 31,
     "metadata": {},
     "output_type": "execute_result"
    }
   ],
   "source": [
    "df['Cabin'].value_counts()"
   ]
  },
  {
   "cell_type": "code",
   "execution_count": 32,
   "id": "1118a975",
   "metadata": {},
   "outputs": [],
   "source": [
    "# 문자 를 숫자로 변환\n",
    "# df.loc[df['Cabin']=='C', 'Cabin'] =0\n",
    "# df.loc[df['Cabin']=='B', 'Cabin'] =1\n",
    "\n",
    "df['Cabin'] = df['Cabin'].map({\n",
    "    'C': 0,\n",
    "    'B': 1,\n",
    "    'D': 2,\n",
    "    'E': 3,\n",
    "    'A': 4,\n",
    "    'F': 5,\n",
    "    'G': 6,\n",
    "    'T': 7\n",
    "})"
   ]
  },
  {
   "cell_type": "code",
   "execution_count": 33,
   "id": "7f0020e8",
   "metadata": {},
   "outputs": [
    {
     "data": {
      "text/plain": [
       "0    746\n",
       "1     47\n",
       "2     33\n",
       "3     32\n",
       "4     15\n",
       "5     13\n",
       "6      4\n",
       "7      1\n",
       "Name: Cabin, dtype: int64"
      ]
     },
     "execution_count": 33,
     "metadata": {},
     "output_type": "execute_result"
    }
   ],
   "source": [
    "df['Cabin'].value_counts()"
   ]
  },
  {
   "cell_type": "code",
   "execution_count": 34,
   "id": "887d5e30",
   "metadata": {},
   "outputs": [],
   "source": [
    "# test 셋 적용\n",
    "df_test['Cabin'] = df_test['Cabin'].map({\n",
    "    'C': 0,\n",
    "    'B': 1,\n",
    "    'D': 2,\n",
    "    'E': 3,\n",
    "    'A': 4,\n",
    "    'F': 5,\n",
    "    'G': 6,\n",
    "    'T': 7\n",
    "})"
   ]
  },
  {
   "cell_type": "code",
   "execution_count": 35,
   "id": "a532889f",
   "metadata": {},
   "outputs": [
    {
     "data": {
      "text/plain": [
       "0    362\n",
       "1     18\n",
       "2     13\n",
       "3      9\n",
       "5      8\n",
       "4      7\n",
       "6      1\n",
       "Name: Cabin, dtype: int64"
      ]
     },
     "execution_count": 35,
     "metadata": {},
     "output_type": "execute_result"
    }
   ],
   "source": [
    "df_test['Cabin'].value_counts()"
   ]
  },
  {
   "cell_type": "code",
   "execution_count": 36,
   "id": "3d14f63a",
   "metadata": {},
   "outputs": [
    {
     "data": {
      "text/html": [
       "<div>\n",
       "<style scoped>\n",
       "    .dataframe tbody tr th:only-of-type {\n",
       "        vertical-align: middle;\n",
       "    }\n",
       "\n",
       "    .dataframe tbody tr th {\n",
       "        vertical-align: top;\n",
       "    }\n",
       "\n",
       "    .dataframe thead th {\n",
       "        text-align: right;\n",
       "    }\n",
       "</style>\n",
       "<table border=\"1\" class=\"dataframe\">\n",
       "  <thead>\n",
       "    <tr style=\"text-align: right;\">\n",
       "      <th></th>\n",
       "      <th>PassengerId</th>\n",
       "      <th>Survived</th>\n",
       "      <th>Pclass</th>\n",
       "      <th>Name</th>\n",
       "      <th>Sex</th>\n",
       "      <th>Age</th>\n",
       "      <th>SibSp</th>\n",
       "      <th>Parch</th>\n",
       "      <th>Ticket</th>\n",
       "      <th>Fare</th>\n",
       "      <th>Cabin</th>\n",
       "      <th>Embarked</th>\n",
       "      <th>FamilySize</th>\n",
       "    </tr>\n",
       "  </thead>\n",
       "  <tbody>\n",
       "    <tr>\n",
       "      <th>0</th>\n",
       "      <td>1</td>\n",
       "      <td>0</td>\n",
       "      <td>3</td>\n",
       "      <td>Braund, Mr. Owen Harris</td>\n",
       "      <td>male</td>\n",
       "      <td>22.0</td>\n",
       "      <td>1</td>\n",
       "      <td>0</td>\n",
       "      <td>A/5 21171</td>\n",
       "      <td>7.2500</td>\n",
       "      <td>0</td>\n",
       "      <td>S</td>\n",
       "      <td>1</td>\n",
       "    </tr>\n",
       "    <tr>\n",
       "      <th>1</th>\n",
       "      <td>2</td>\n",
       "      <td>1</td>\n",
       "      <td>1</td>\n",
       "      <td>Cumings, Mrs. John Bradley (Florence Briggs Th...</td>\n",
       "      <td>female</td>\n",
       "      <td>38.0</td>\n",
       "      <td>1</td>\n",
       "      <td>0</td>\n",
       "      <td>PC 17599</td>\n",
       "      <td>71.2833</td>\n",
       "      <td>0</td>\n",
       "      <td>C</td>\n",
       "      <td>1</td>\n",
       "    </tr>\n",
       "    <tr>\n",
       "      <th>2</th>\n",
       "      <td>3</td>\n",
       "      <td>1</td>\n",
       "      <td>3</td>\n",
       "      <td>Heikkinen, Miss. Laina</td>\n",
       "      <td>female</td>\n",
       "      <td>26.0</td>\n",
       "      <td>0</td>\n",
       "      <td>0</td>\n",
       "      <td>STON/O2. 3101282</td>\n",
       "      <td>7.9250</td>\n",
       "      <td>0</td>\n",
       "      <td>S</td>\n",
       "      <td>0</td>\n",
       "    </tr>\n",
       "    <tr>\n",
       "      <th>3</th>\n",
       "      <td>4</td>\n",
       "      <td>1</td>\n",
       "      <td>1</td>\n",
       "      <td>Futrelle, Mrs. Jacques Heath (Lily May Peel)</td>\n",
       "      <td>female</td>\n",
       "      <td>35.0</td>\n",
       "      <td>1</td>\n",
       "      <td>0</td>\n",
       "      <td>113803</td>\n",
       "      <td>53.1000</td>\n",
       "      <td>0</td>\n",
       "      <td>S</td>\n",
       "      <td>1</td>\n",
       "    </tr>\n",
       "    <tr>\n",
       "      <th>4</th>\n",
       "      <td>5</td>\n",
       "      <td>0</td>\n",
       "      <td>3</td>\n",
       "      <td>Allen, Mr. William Henry</td>\n",
       "      <td>male</td>\n",
       "      <td>35.0</td>\n",
       "      <td>0</td>\n",
       "      <td>0</td>\n",
       "      <td>373450</td>\n",
       "      <td>8.0500</td>\n",
       "      <td>0</td>\n",
       "      <td>S</td>\n",
       "      <td>0</td>\n",
       "    </tr>\n",
       "  </tbody>\n",
       "</table>\n",
       "</div>"
      ],
      "text/plain": [
       "   PassengerId  Survived  Pclass  \\\n",
       "0            1         0       3   \n",
       "1            2         1       1   \n",
       "2            3         1       3   \n",
       "3            4         1       1   \n",
       "4            5         0       3   \n",
       "\n",
       "                                                Name     Sex   Age  SibSp  \\\n",
       "0                            Braund, Mr. Owen Harris    male  22.0      1   \n",
       "1  Cumings, Mrs. John Bradley (Florence Briggs Th...  female  38.0      1   \n",
       "2                             Heikkinen, Miss. Laina  female  26.0      0   \n",
       "3       Futrelle, Mrs. Jacques Heath (Lily May Peel)  female  35.0      1   \n",
       "4                           Allen, Mr. William Henry    male  35.0      0   \n",
       "\n",
       "   Parch            Ticket     Fare  Cabin Embarked  FamilySize  \n",
       "0      0         A/5 21171   7.2500      0        S           1  \n",
       "1      0          PC 17599  71.2833      0        C           1  \n",
       "2      0  STON/O2. 3101282   7.9250      0        S           0  \n",
       "3      0            113803  53.1000      0        S           1  \n",
       "4      0            373450   8.0500      0        S           0  "
      ]
     },
     "execution_count": 36,
     "metadata": {},
     "output_type": "execute_result"
    }
   ],
   "source": [
    "df.head()"
   ]
  },
  {
   "cell_type": "code",
   "execution_count": 37,
   "id": "c37710c6",
   "metadata": {},
   "outputs": [
    {
     "data": {
      "text/plain": [
       "S    646\n",
       "C    168\n",
       "Q     77\n",
       "Name: Embarked, dtype: int64"
      ]
     },
     "execution_count": 37,
     "metadata": {},
     "output_type": "execute_result"
    }
   ],
   "source": [
    "# Embarked의 문자값을 숫자로 변환\n",
    "df['Embarked'].value_counts()"
   ]
  },
  {
   "cell_type": "code",
   "execution_count": 38,
   "id": "ee5763d8",
   "metadata": {},
   "outputs": [],
   "source": [
    "df['Embarked'] = df['Embarked'].map({\n",
    "    'S': 0,\n",
    "    'C': 1,\n",
    "    'Q': 2\n",
    "})"
   ]
  },
  {
   "cell_type": "code",
   "execution_count": 39,
   "id": "f95a2362",
   "metadata": {},
   "outputs": [
    {
     "data": {
      "text/plain": [
       "0    646\n",
       "1    168\n",
       "2     77\n",
       "Name: Embarked, dtype: int64"
      ]
     },
     "execution_count": 39,
     "metadata": {},
     "output_type": "execute_result"
    }
   ],
   "source": [
    "df['Embarked'].value_counts()"
   ]
  },
  {
   "cell_type": "code",
   "execution_count": 40,
   "id": "8bbc7c46",
   "metadata": {},
   "outputs": [],
   "source": [
    "df_test['Embarked'] = df_test['Embarked'].map({\n",
    "    'S': 0,\n",
    "    'C': 1,\n",
    "    'Q': 2\n",
    "})"
   ]
  },
  {
   "cell_type": "code",
   "execution_count": 41,
   "id": "de0ad7f9",
   "metadata": {},
   "outputs": [
    {
     "data": {
      "text/plain": [
       "0    270\n",
       "1    102\n",
       "2     46\n",
       "Name: Embarked, dtype: int64"
      ]
     },
     "execution_count": 41,
     "metadata": {},
     "output_type": "execute_result"
    }
   ],
   "source": [
    "df_test['Embarked'].value_counts()"
   ]
  },
  {
   "cell_type": "code",
   "execution_count": 42,
   "id": "5b9a203d",
   "metadata": {},
   "outputs": [
    {
     "data": {
      "text/plain": [
       "male      577\n",
       "female    314\n",
       "Name: Sex, dtype: int64"
      ]
     },
     "execution_count": 42,
     "metadata": {},
     "output_type": "execute_result"
    }
   ],
   "source": [
    "# Sex의 문자값을 숫자로 변환\n",
    "df['Sex'].value_counts()"
   ]
  },
  {
   "cell_type": "code",
   "execution_count": 43,
   "id": "10ea1e8f",
   "metadata": {},
   "outputs": [],
   "source": [
    "df['Sex'] = df['Sex'].map({\n",
    "    'male' : 0,\n",
    "    'female' : 1\n",
    "})\n",
    "\n",
    "df_test['Sex'] = df_test['Sex'].map({\n",
    "    'male' : 0,\n",
    "    'female' : 1\n",
    "})"
   ]
  },
  {
   "cell_type": "code",
   "execution_count": 44,
   "id": "3267f558",
   "metadata": {},
   "outputs": [
    {
     "data": {
      "text/plain": [
       "0    577\n",
       "1    314\n",
       "Name: Sex, dtype: int64"
      ]
     },
     "execution_count": 44,
     "metadata": {},
     "output_type": "execute_result"
    }
   ],
   "source": [
    "df['Sex'].value_counts()"
   ]
  },
  {
   "cell_type": "code",
   "execution_count": 45,
   "id": "80690978",
   "metadata": {},
   "outputs": [
    {
     "data": {
      "text/plain": [
       "0    266\n",
       "1    152\n",
       "Name: Sex, dtype: int64"
      ]
     },
     "execution_count": 45,
     "metadata": {},
     "output_type": "execute_result"
    }
   ],
   "source": [
    "df_test['Sex'].value_counts()"
   ]
  },
  {
   "cell_type": "code",
   "execution_count": 46,
   "id": "1c69a767",
   "metadata": {},
   "outputs": [
    {
     "data": {
      "text/html": [
       "<div>\n",
       "<style scoped>\n",
       "    .dataframe tbody tr th:only-of-type {\n",
       "        vertical-align: middle;\n",
       "    }\n",
       "\n",
       "    .dataframe tbody tr th {\n",
       "        vertical-align: top;\n",
       "    }\n",
       "\n",
       "    .dataframe thead th {\n",
       "        text-align: right;\n",
       "    }\n",
       "</style>\n",
       "<table border=\"1\" class=\"dataframe\">\n",
       "  <thead>\n",
       "    <tr style=\"text-align: right;\">\n",
       "      <th></th>\n",
       "      <th>Survived</th>\n",
       "      <th>Pclass</th>\n",
       "      <th>Sex</th>\n",
       "      <th>Age</th>\n",
       "      <th>Fare</th>\n",
       "      <th>Cabin</th>\n",
       "      <th>Embarked</th>\n",
       "      <th>FamilySize</th>\n",
       "    </tr>\n",
       "  </thead>\n",
       "  <tbody>\n",
       "    <tr>\n",
       "      <th>0</th>\n",
       "      <td>0</td>\n",
       "      <td>3</td>\n",
       "      <td>0</td>\n",
       "      <td>22.0</td>\n",
       "      <td>7.2500</td>\n",
       "      <td>0</td>\n",
       "      <td>0</td>\n",
       "      <td>1</td>\n",
       "    </tr>\n",
       "    <tr>\n",
       "      <th>1</th>\n",
       "      <td>1</td>\n",
       "      <td>1</td>\n",
       "      <td>1</td>\n",
       "      <td>38.0</td>\n",
       "      <td>71.2833</td>\n",
       "      <td>0</td>\n",
       "      <td>1</td>\n",
       "      <td>1</td>\n",
       "    </tr>\n",
       "    <tr>\n",
       "      <th>2</th>\n",
       "      <td>1</td>\n",
       "      <td>3</td>\n",
       "      <td>1</td>\n",
       "      <td>26.0</td>\n",
       "      <td>7.9250</td>\n",
       "      <td>0</td>\n",
       "      <td>0</td>\n",
       "      <td>0</td>\n",
       "    </tr>\n",
       "    <tr>\n",
       "      <th>3</th>\n",
       "      <td>1</td>\n",
       "      <td>1</td>\n",
       "      <td>1</td>\n",
       "      <td>35.0</td>\n",
       "      <td>53.1000</td>\n",
       "      <td>0</td>\n",
       "      <td>0</td>\n",
       "      <td>1</td>\n",
       "    </tr>\n",
       "    <tr>\n",
       "      <th>4</th>\n",
       "      <td>0</td>\n",
       "      <td>3</td>\n",
       "      <td>0</td>\n",
       "      <td>35.0</td>\n",
       "      <td>8.0500</td>\n",
       "      <td>0</td>\n",
       "      <td>0</td>\n",
       "      <td>0</td>\n",
       "    </tr>\n",
       "  </tbody>\n",
       "</table>\n",
       "</div>"
      ],
      "text/plain": [
       "   Survived  Pclass  Sex   Age     Fare  Cabin  Embarked  FamilySize\n",
       "0         0       3    0  22.0   7.2500      0         0           1\n",
       "1         1       1    1  38.0  71.2833      0         1           1\n",
       "2         1       3    1  26.0   7.9250      0         0           0\n",
       "3         1       1    1  35.0  53.1000      0         0           1\n",
       "4         0       3    0  35.0   8.0500      0         0           0"
      ]
     },
     "execution_count": 46,
     "metadata": {},
     "output_type": "execute_result"
    }
   ],
   "source": [
    "# 더이상 필요없는 열 삭제\n",
    "train=df.drop(['Name', 'Ticket','SibSp','Parch','PassengerId'],axis=1)\n",
    "train.head()"
   ]
  },
  {
   "cell_type": "code",
   "execution_count": 47,
   "id": "9c497753",
   "metadata": {},
   "outputs": [
    {
     "data": {
      "text/html": [
       "<div>\n",
       "<style scoped>\n",
       "    .dataframe tbody tr th:only-of-type {\n",
       "        vertical-align: middle;\n",
       "    }\n",
       "\n",
       "    .dataframe tbody tr th {\n",
       "        vertical-align: top;\n",
       "    }\n",
       "\n",
       "    .dataframe thead th {\n",
       "        text-align: right;\n",
       "    }\n",
       "</style>\n",
       "<table border=\"1\" class=\"dataframe\">\n",
       "  <thead>\n",
       "    <tr style=\"text-align: right;\">\n",
       "      <th></th>\n",
       "      <th>Pclass</th>\n",
       "      <th>Sex</th>\n",
       "      <th>Age</th>\n",
       "      <th>Fare</th>\n",
       "      <th>Cabin</th>\n",
       "      <th>Embarked</th>\n",
       "      <th>FamilySize</th>\n",
       "    </tr>\n",
       "  </thead>\n",
       "  <tbody>\n",
       "    <tr>\n",
       "      <th>0</th>\n",
       "      <td>3</td>\n",
       "      <td>0</td>\n",
       "      <td>34.5</td>\n",
       "      <td>7.8292</td>\n",
       "      <td>0</td>\n",
       "      <td>2</td>\n",
       "      <td>0</td>\n",
       "    </tr>\n",
       "    <tr>\n",
       "      <th>1</th>\n",
       "      <td>3</td>\n",
       "      <td>1</td>\n",
       "      <td>47.0</td>\n",
       "      <td>7.0000</td>\n",
       "      <td>0</td>\n",
       "      <td>0</td>\n",
       "      <td>1</td>\n",
       "    </tr>\n",
       "    <tr>\n",
       "      <th>2</th>\n",
       "      <td>2</td>\n",
       "      <td>0</td>\n",
       "      <td>62.0</td>\n",
       "      <td>9.6875</td>\n",
       "      <td>0</td>\n",
       "      <td>2</td>\n",
       "      <td>0</td>\n",
       "    </tr>\n",
       "    <tr>\n",
       "      <th>3</th>\n",
       "      <td>3</td>\n",
       "      <td>0</td>\n",
       "      <td>27.0</td>\n",
       "      <td>8.6625</td>\n",
       "      <td>0</td>\n",
       "      <td>0</td>\n",
       "      <td>0</td>\n",
       "    </tr>\n",
       "    <tr>\n",
       "      <th>4</th>\n",
       "      <td>3</td>\n",
       "      <td>1</td>\n",
       "      <td>22.0</td>\n",
       "      <td>12.2875</td>\n",
       "      <td>0</td>\n",
       "      <td>0</td>\n",
       "      <td>2</td>\n",
       "    </tr>\n",
       "  </tbody>\n",
       "</table>\n",
       "</div>"
      ],
      "text/plain": [
       "   Pclass  Sex   Age     Fare  Cabin  Embarked  FamilySize\n",
       "0       3    0  34.5   7.8292      0         2           0\n",
       "1       3    1  47.0   7.0000      0         0           1\n",
       "2       2    0  62.0   9.6875      0         2           0\n",
       "3       3    0  27.0   8.6625      0         0           0\n",
       "4       3    1  22.0  12.2875      0         0           2"
      ]
     },
     "execution_count": 47,
     "metadata": {},
     "output_type": "execute_result"
    }
   ],
   "source": [
    "test=df_test.drop(['Name', 'Ticket','SibSp','Parch','PassengerId'],axis=1)\n",
    "test.head()"
   ]
  },
  {
   "cell_type": "code",
   "execution_count": 48,
   "id": "d4377104",
   "metadata": {},
   "outputs": [],
   "source": [
    "# Training set\n",
    "# 모델의 학습에 사용되는 데이터\n",
    "\n",
    "# Validation set\n",
    "# 모델 제작 과정 중, 학습된 모델의 성능을 측정하기 위한 데이터\n",
    "\n",
    "# Test set 모델의 최종 성능을 평가하기 위한 데이터"
   ]
  },
  {
   "cell_type": "code",
   "execution_count": 49,
   "id": "a8cb862e",
   "metadata": {},
   "outputs": [
    {
     "data": {
      "text/html": [
       "<div>\n",
       "<style scoped>\n",
       "    .dataframe tbody tr th:only-of-type {\n",
       "        vertical-align: middle;\n",
       "    }\n",
       "\n",
       "    .dataframe tbody tr th {\n",
       "        vertical-align: top;\n",
       "    }\n",
       "\n",
       "    .dataframe thead th {\n",
       "        text-align: right;\n",
       "    }\n",
       "</style>\n",
       "<table border=\"1\" class=\"dataframe\">\n",
       "  <thead>\n",
       "    <tr style=\"text-align: right;\">\n",
       "      <th></th>\n",
       "      <th>Pclass</th>\n",
       "      <th>Sex</th>\n",
       "      <th>Age</th>\n",
       "      <th>Fare</th>\n",
       "      <th>Cabin</th>\n",
       "      <th>Embarked</th>\n",
       "      <th>FamilySize</th>\n",
       "    </tr>\n",
       "  </thead>\n",
       "  <tbody>\n",
       "    <tr>\n",
       "      <th>0</th>\n",
       "      <td>3</td>\n",
       "      <td>0</td>\n",
       "      <td>22.0</td>\n",
       "      <td>7.2500</td>\n",
       "      <td>0</td>\n",
       "      <td>0</td>\n",
       "      <td>1</td>\n",
       "    </tr>\n",
       "    <tr>\n",
       "      <th>1</th>\n",
       "      <td>1</td>\n",
       "      <td>1</td>\n",
       "      <td>38.0</td>\n",
       "      <td>71.2833</td>\n",
       "      <td>0</td>\n",
       "      <td>1</td>\n",
       "      <td>1</td>\n",
       "    </tr>\n",
       "    <tr>\n",
       "      <th>2</th>\n",
       "      <td>3</td>\n",
       "      <td>1</td>\n",
       "      <td>26.0</td>\n",
       "      <td>7.9250</td>\n",
       "      <td>0</td>\n",
       "      <td>0</td>\n",
       "      <td>0</td>\n",
       "    </tr>\n",
       "    <tr>\n",
       "      <th>3</th>\n",
       "      <td>1</td>\n",
       "      <td>1</td>\n",
       "      <td>35.0</td>\n",
       "      <td>53.1000</td>\n",
       "      <td>0</td>\n",
       "      <td>0</td>\n",
       "      <td>1</td>\n",
       "    </tr>\n",
       "    <tr>\n",
       "      <th>4</th>\n",
       "      <td>3</td>\n",
       "      <td>0</td>\n",
       "      <td>35.0</td>\n",
       "      <td>8.0500</td>\n",
       "      <td>0</td>\n",
       "      <td>0</td>\n",
       "      <td>0</td>\n",
       "    </tr>\n",
       "  </tbody>\n",
       "</table>\n",
       "</div>"
      ],
      "text/plain": [
       "   Pclass  Sex   Age     Fare  Cabin  Embarked  FamilySize\n",
       "0       3    0  22.0   7.2500      0         0           1\n",
       "1       1    1  38.0  71.2833      0         1           1\n",
       "2       3    1  26.0   7.9250      0         0           0\n",
       "3       1    1  35.0  53.1000      0         0           1\n",
       "4       3    0  35.0   8.0500      0         0           0"
      ]
     },
     "execution_count": 49,
     "metadata": {},
     "output_type": "execute_result"
    }
   ],
   "source": [
    "train_data = train.drop('Survived',axis=1)  # 학습용 데이터\n",
    "target_data = train['Survived']  # 학습용 데이터의 label\n",
    "train_data.head()"
   ]
  },
  {
   "cell_type": "code",
   "execution_count": 50,
   "id": "3a337987",
   "metadata": {},
   "outputs": [
    {
     "data": {
      "text/plain": [
       "0    0\n",
       "1    1\n",
       "2    1\n",
       "3    1\n",
       "4    0\n",
       "Name: Survived, dtype: int64"
      ]
     },
     "execution_count": 50,
     "metadata": {},
     "output_type": "execute_result"
    }
   ],
   "source": [
    "target_data.head()"
   ]
  },
  {
   "cell_type": "code",
   "execution_count": 51,
   "id": "84098260",
   "metadata": {},
   "outputs": [
    {
     "name": "stdout",
     "output_type": "stream",
     "text": [
      "(891, 7) (668, 7) (223, 7)\n"
     ]
    }
   ],
   "source": [
    "from sklearn.model_selection import train_test_split\n",
    "\n",
    "x_train, x_valid, y_train, y_valid = train_test_split(train_data, target_data)\n",
    "print(train_data.shape, x_train.shape, x_valid.shape)"
   ]
  },
  {
   "cell_type": "code",
   "execution_count": 52,
   "id": "b9e8872a",
   "metadata": {},
   "outputs": [
    {
     "data": {
      "text/plain": [
       "DecisionTreeClassifier()"
      ]
     },
     "execution_count": 52,
     "metadata": {},
     "output_type": "execute_result"
    }
   ],
   "source": [
    "# scikit-learn의 Decision Tree Classifier를 사용하여 학습하기\n",
    "from sklearn.tree import DecisionTreeClassifier\n",
    "\n",
    "# Decison Tree로 모델 생성\n",
    "tree_dec = DecisionTreeClassifier()\n",
    "\n",
    "# 학습\n",
    "tree_dec.fit(x_train,y_train)"
   ]
  },
  {
   "cell_type": "code",
   "execution_count": 54,
   "id": "77fa1406",
   "metadata": {},
   "outputs": [
    {
     "name": "stdout",
     "output_type": "stream",
     "text": [
      "training set acccuracy : 0.9835329341317365\n",
      "Validation set acccuracy : 0.7713004484304933\n"
     ]
    }
   ],
   "source": [
    "# 학습된 모델로 x_train의 결과를 얻어낸 다음 \n",
    "# 그 예측과 y_train을 비교해서 정확도를 보임\n",
    "print('training set acccuracy :' , tree_dec.score(x_train,y_train))\n",
    "print('Validation set acccuracy :' , tree_dec.score(x_valid,y_valid))"
   ]
  },
  {
   "cell_type": "code",
   "execution_count": 55,
   "id": "5b3385db",
   "metadata": {},
   "outputs": [
    {
     "data": {
      "text/plain": [
       "array([0, 0, 0, 1, 1, 0, 0, 0, 1, 0, 0, 0, 1, 0, 1, 1, 0, 1, 1, 0, 0, 1,\n",
       "       1, 1, 0, 0, 1, 1, 1, 0, 0, 0, 1, 0, 1, 0, 0, 0, 0, 1, 0, 0, 0, 1,\n",
       "       1, 0, 1, 0, 1, 1, 1, 0, 1, 0, 0, 0, 0, 0, 0, 1, 0, 1, 0, 1, 1, 1,\n",
       "       1, 1, 0, 0, 1, 0, 1, 0, 1, 0, 0, 1, 0, 1, 1, 0, 0, 0, 1, 0, 1, 0,\n",
       "       0, 0, 0, 0, 1, 0, 0, 1, 1, 0, 1, 0, 1, 0, 0, 0, 1, 0, 1, 0, 0, 0,\n",
       "       0, 0, 1, 1, 1, 0, 0, 1, 0, 1, 1, 0, 1, 0, 0, 0, 0, 0, 0, 0, 0, 0,\n",
       "       0, 0, 0, 0, 0, 0, 0, 0, 0, 1, 0, 0, 0, 0, 0, 0, 0, 0, 1, 0, 0, 1,\n",
       "       0, 0, 1, 1, 1, 0, 0, 1, 0, 0, 0, 0, 0, 0, 1, 0, 0, 0, 0, 0, 0, 1,\n",
       "       1, 0, 1, 1, 0, 1, 1, 0, 1, 0, 1, 0, 0, 0, 0, 0, 0, 0, 0, 0, 1, 0,\n",
       "       0, 0, 0, 1, 0, 1, 0, 0, 0, 0, 1, 0, 0, 0, 0, 1, 1, 0, 0, 1, 1, 0,\n",
       "       1, 0, 1, 1, 1, 0, 0, 0, 0, 0, 0, 1, 0, 0, 0, 0, 0, 1, 1, 1, 1, 1,\n",
       "       1, 0, 0, 1, 1, 0, 1, 0, 0, 0, 1, 0, 0, 0, 0, 0, 1, 0, 0, 0, 1, 1,\n",
       "       1, 0, 0, 0, 0, 0, 0, 0, 1, 0, 0, 1, 0, 0, 0, 0, 0, 1, 0, 0, 1, 0,\n",
       "       0, 0, 0, 0, 0, 0, 0, 0, 0, 0, 0, 0, 0, 0, 0, 0, 0, 0, 0, 1, 1, 1,\n",
       "       0, 0, 0, 1, 0, 0, 1, 1, 0, 0, 0, 0, 0, 0, 0, 1, 1, 0, 1, 0, 0, 0,\n",
       "       1, 1, 0, 0, 0, 0, 1, 0, 0, 0, 0, 0, 0, 1, 0, 1, 0, 0, 0, 1, 1, 0,\n",
       "       0, 0, 1, 1, 1, 0, 0, 0, 0, 1, 1, 1, 1, 0, 0, 1, 1, 1, 0, 1, 0, 0,\n",
       "       1, 1, 0, 0, 1, 0, 0, 0, 0, 0, 0, 1, 0, 0, 1, 0, 0, 1, 0, 0, 0, 1,\n",
       "       0, 1, 0, 0, 1, 0, 1, 0, 1, 0, 0, 0, 0, 1, 0, 1, 0, 0, 1, 0, 0, 0],\n",
       "      dtype=int64)"
      ]
     },
     "execution_count": 55,
     "metadata": {},
     "output_type": "execute_result"
    }
   ],
   "source": [
    " # 만들어진 Decision Tree로 test 데이터 판단\n",
    "prediction  = tree_dec.predict(test)\n",
    "prediction"
   ]
  },
  {
   "cell_type": "code",
   "execution_count": 56,
   "id": "38a7364b",
   "metadata": {},
   "outputs": [],
   "source": [
    "submit = pd.DataFrame({\n",
    "    'PassengerId' : df_test['PassengerId'],\n",
    "    'Survived':prediction\n",
    "})\n",
    "submit.to_csv('submit.csv', index=False)"
   ]
  },
  {
   "cell_type": "code",
   "execution_count": 57,
   "id": "98bcf27b",
   "metadata": {},
   "outputs": [
    {
     "data": {
      "text/html": [
       "<div>\n",
       "<style scoped>\n",
       "    .dataframe tbody tr th:only-of-type {\n",
       "        vertical-align: middle;\n",
       "    }\n",
       "\n",
       "    .dataframe tbody tr th {\n",
       "        vertical-align: top;\n",
       "    }\n",
       "\n",
       "    .dataframe thead th {\n",
       "        text-align: right;\n",
       "    }\n",
       "</style>\n",
       "<table border=\"1\" class=\"dataframe\">\n",
       "  <thead>\n",
       "    <tr style=\"text-align: right;\">\n",
       "      <th></th>\n",
       "      <th>PassengerId</th>\n",
       "      <th>Survived</th>\n",
       "    </tr>\n",
       "  </thead>\n",
       "  <tbody>\n",
       "    <tr>\n",
       "      <th>0</th>\n",
       "      <td>892</td>\n",
       "      <td>0</td>\n",
       "    </tr>\n",
       "    <tr>\n",
       "      <th>1</th>\n",
       "      <td>893</td>\n",
       "      <td>0</td>\n",
       "    </tr>\n",
       "    <tr>\n",
       "      <th>2</th>\n",
       "      <td>894</td>\n",
       "      <td>0</td>\n",
       "    </tr>\n",
       "    <tr>\n",
       "      <th>3</th>\n",
       "      <td>895</td>\n",
       "      <td>1</td>\n",
       "    </tr>\n",
       "    <tr>\n",
       "      <th>4</th>\n",
       "      <td>896</td>\n",
       "      <td>1</td>\n",
       "    </tr>\n",
       "  </tbody>\n",
       "</table>\n",
       "</div>"
      ],
      "text/plain": [
       "   PassengerId  Survived\n",
       "0          892         0\n",
       "1          893         0\n",
       "2          894         0\n",
       "3          895         1\n",
       "4          896         1"
      ]
     },
     "execution_count": 57,
     "metadata": {},
     "output_type": "execute_result"
    }
   ],
   "source": [
    "my_prediction = pd.read_csv('submit.csv')\n",
    "my_prediction.head()"
   ]
  },
  {
   "cell_type": "code",
   "execution_count": 60,
   "id": "5d95ca19",
   "metadata": {},
   "outputs": [
    {
     "data": {
      "text/plain": [
       "[Text(789.9557960721345, 898.4500000000002, 'Sex <= 0.5\\ngini = 0.468\\nsamples = 668\\nvalue = [419, 249]\\nclass = Unsurvived'),\n",
       " Text(617.196177124506, 847.1100000000001, 'Cabin <= 0.5\\ngini = 0.295\\nsamples = 433\\nvalue = [355, 78]\\nclass = Unsurvived'),\n",
       " Text(447.0168601778656, 795.7700000000001, 'Age <= 0.96\\ngini = 0.241\\nsamples = 378\\nvalue = [325, 53]\\nclass = Unsurvived'),\n",
       " Text(438.19472579051387, 744.4300000000001, 'gini = 0.0\\nsamples = 4\\nvalue = [0, 4]\\nclass = Survived'),\n",
       " Text(455.83899456521743, 744.4300000000001, 'Fare <= 49.55\\ngini = 0.228\\nsamples = 374\\nvalue = [325, 49]\\nclass = Unsurvived'),\n",
       " Text(263.25111166007906, 693.0900000000001, 'Pclass <= 1.5\\ngini = 0.201\\nsamples = 345\\nvalue = [306, 39]\\nclass = Unsurvived'),\n",
       " Text(44.1106719367589, 641.7500000000001, 'Age <= 35.5\\ngini = 0.42\\nsamples = 20\\nvalue = [14, 6]\\nclass = Unsurvived'),\n",
       " Text(26.466403162055336, 590.4100000000001, 'Fare <= 30.75\\ngini = 0.5\\nsamples = 10\\nvalue = [5, 5]\\nclass = Unsurvived'),\n",
       " Text(17.64426877470356, 539.0700000000002, 'Fare <= 26.237\\ngini = 0.469\\nsamples = 8\\nvalue = [3, 5]\\nclass = Survived'),\n",
       " Text(8.82213438735178, 487.7300000000001, 'gini = 0.0\\nsamples = 1\\nvalue = [1, 0]\\nclass = Unsurvived'),\n",
       " Text(26.466403162055336, 487.7300000000001, 'Age <= 28.85\\ngini = 0.408\\nsamples = 7\\nvalue = [2, 5]\\nclass = Survived'),\n",
       " Text(17.64426877470356, 436.3900000000001, 'gini = 0.0\\nsamples = 2\\nvalue = [0, 2]\\nclass = Survived'),\n",
       " Text(35.28853754940712, 436.3900000000001, 'Age <= 32.0\\ngini = 0.48\\nsamples = 5\\nvalue = [2, 3]\\nclass = Survived'),\n",
       " Text(26.466403162055336, 385.05000000000007, 'Fare <= 28.725\\ngini = 0.5\\nsamples = 4\\nvalue = [2, 2]\\nclass = Unsurvived'),\n",
       " Text(17.64426877470356, 333.71000000000004, 'Embarked <= 0.5\\ngini = 0.444\\nsamples = 3\\nvalue = [2, 1]\\nclass = Unsurvived'),\n",
       " Text(8.82213438735178, 282.3700000000001, 'gini = 0.5\\nsamples = 2\\nvalue = [1, 1]\\nclass = Unsurvived'),\n",
       " Text(26.466403162055336, 282.3700000000001, 'gini = 0.0\\nsamples = 1\\nvalue = [1, 0]\\nclass = Unsurvived'),\n",
       " Text(35.28853754940712, 333.71000000000004, 'gini = 0.0\\nsamples = 1\\nvalue = [0, 1]\\nclass = Survived'),\n",
       " Text(44.1106719367589, 385.05000000000007, 'gini = 0.0\\nsamples = 1\\nvalue = [0, 1]\\nclass = Survived'),\n",
       " Text(35.28853754940712, 539.0700000000002, 'gini = 0.0\\nsamples = 2\\nvalue = [2, 0]\\nclass = Unsurvived'),\n",
       " Text(61.75494071146245, 590.4100000000001, 'Fare <= 30.1\\ngini = 0.18\\nsamples = 10\\nvalue = [9, 1]\\nclass = Unsurvived'),\n",
       " Text(52.93280632411067, 539.0700000000002, 'gini = 0.0\\nsamples = 8\\nvalue = [8, 0]\\nclass = Unsurvived'),\n",
       " Text(70.57707509881423, 539.0700000000002, 'Age <= 53.5\\ngini = 0.5\\nsamples = 2\\nvalue = [1, 1]\\nclass = Unsurvived'),\n",
       " Text(61.75494071146245, 487.7300000000001, 'gini = 0.0\\nsamples = 1\\nvalue = [0, 1]\\nclass = Survived'),\n",
       " Text(79.39920948616601, 487.7300000000001, 'gini = 0.0\\nsamples = 1\\nvalue = [1, 0]\\nclass = Unsurvived'),\n",
       " Text(482.39155138339925, 641.7500000000001, 'Age <= 32.25\\ngini = 0.182\\nsamples = 325\\nvalue = [292, 33]\\nclass = Unsurvived'),\n",
       " Text(386.93330039525694, 590.4100000000001, 'Age <= 30.75\\ngini = 0.212\\nsamples = 249\\nvalue = [219, 30]\\nclass = Unsurvived'),\n",
       " Text(275.4160079051384, 539.0700000000002, 'Embarked <= 0.5\\ngini = 0.192\\nsamples = 233\\nvalue = [208, 25]\\nclass = Unsurvived'),\n",
       " Text(127.36956521739131, 487.7300000000001, 'Age <= 9.5\\ngini = 0.154\\nsamples = 178\\nvalue = [163, 15]\\nclass = Unsurvived'),\n",
       " Text(70.57707509881423, 436.3900000000001, 'Fare <= 20.825\\ngini = 0.444\\nsamples = 9\\nvalue = [6, 3]\\nclass = Unsurvived'),\n",
       " Text(61.75494071146245, 385.05000000000007, 'gini = 0.0\\nsamples = 3\\nvalue = [0, 3]\\nclass = Survived'),\n",
       " Text(79.39920948616601, 385.05000000000007, 'gini = 0.0\\nsamples = 6\\nvalue = [6, 0]\\nclass = Unsurvived'),\n",
       " Text(184.1620553359684, 436.3900000000001, 'Fare <= 7.798\\ngini = 0.132\\nsamples = 169\\nvalue = [157, 12]\\nclass = Unsurvived'),\n",
       " Text(97.04347826086958, 385.05000000000007, 'Fare <= 7.663\\ngini = 0.266\\nsamples = 38\\nvalue = [32, 6]\\nclass = Unsurvived'),\n",
       " Text(66.16600790513834, 333.71000000000004, 'Age <= 27.35\\ngini = 0.153\\nsamples = 24\\nvalue = [22, 2]\\nclass = Unsurvived'),\n",
       " Text(57.34387351778656, 282.3700000000001, 'Fare <= 3.525\\ngini = 0.245\\nsamples = 14\\nvalue = [12, 2]\\nclass = Unsurvived'),\n",
       " Text(48.52173913043479, 231.0300000000001, 'gini = 0.0\\nsamples = 1\\nvalue = [0, 1]\\nclass = Survived'),\n",
       " Text(66.16600790513834, 231.0300000000001, 'Age <= 23.0\\ngini = 0.142\\nsamples = 13\\nvalue = [12, 1]\\nclass = Unsurvived'),\n",
       " Text(57.34387351778656, 179.69000000000005, 'gini = 0.0\\nsamples = 7\\nvalue = [7, 0]\\nclass = Unsurvived'),\n",
       " Text(74.98814229249012, 179.69000000000005, 'Age <= 24.5\\ngini = 0.278\\nsamples = 6\\nvalue = [5, 1]\\nclass = Unsurvived'),\n",
       " Text(66.16600790513834, 128.35000000000002, 'Fare <= 7.096\\ngini = 0.444\\nsamples = 3\\nvalue = [2, 1]\\nclass = Unsurvived'),\n",
       " Text(57.34387351778656, 77.0100000000001, 'gini = 0.0\\nsamples = 1\\nvalue = [1, 0]\\nclass = Unsurvived'),\n",
       " Text(74.98814229249012, 77.0100000000001, 'Fare <= 7.319\\ngini = 0.5\\nsamples = 2\\nvalue = [1, 1]\\nclass = Unsurvived'),\n",
       " Text(66.16600790513834, 25.670000000000073, 'gini = 0.0\\nsamples = 1\\nvalue = [0, 1]\\nclass = Survived'),\n",
       " Text(83.8102766798419, 25.670000000000073, 'gini = 0.0\\nsamples = 1\\nvalue = [1, 0]\\nclass = Unsurvived'),\n",
       " Text(83.8102766798419, 128.35000000000002, 'gini = 0.0\\nsamples = 3\\nvalue = [3, 0]\\nclass = Unsurvived'),\n",
       " Text(74.98814229249012, 282.3700000000001, 'gini = 0.0\\nsamples = 10\\nvalue = [10, 0]\\nclass = Unsurvived'),\n",
       " Text(127.9209486166008, 333.71000000000004, 'Age <= 19.5\\ngini = 0.408\\nsamples = 14\\nvalue = [10, 4]\\nclass = Unsurvived'),\n",
       " Text(119.09881422924902, 282.3700000000001, 'gini = 0.0\\nsamples = 3\\nvalue = [3, 0]\\nclass = Unsurvived'),\n",
       " Text(136.7430830039526, 282.3700000000001, 'Fare <= 7.785\\ngini = 0.463\\nsamples = 11\\nvalue = [7, 4]\\nclass = Unsurvived'),\n",
       " Text(119.09881422924902, 231.0300000000001, 'FamilySize <= 0.5\\ngini = 0.408\\nsamples = 7\\nvalue = [5, 2]\\nclass = Unsurvived'),\n",
       " Text(110.27667984189723, 179.69000000000005, 'Age <= 29.35\\ngini = 0.32\\nsamples = 5\\nvalue = [4, 1]\\nclass = Unsurvived'),\n",
       " Text(101.45454545454547, 128.35000000000002, 'gini = 0.0\\nsamples = 3\\nvalue = [3, 0]\\nclass = Unsurvived'),\n",
       " Text(119.09881422924902, 128.35000000000002, 'gini = 0.5\\nsamples = 2\\nvalue = [1, 1]\\nclass = Unsurvived'),\n",
       " Text(127.9209486166008, 179.69000000000005, 'gini = 0.5\\nsamples = 2\\nvalue = [1, 1]\\nclass = Unsurvived'),\n",
       " Text(154.38735177865613, 231.0300000000001, 'Age <= 21.5\\ngini = 0.5\\nsamples = 4\\nvalue = [2, 2]\\nclass = Unsurvived'),\n",
       " Text(145.56521739130434, 179.69000000000005, 'gini = 0.0\\nsamples = 1\\nvalue = [0, 1]\\nclass = Survived'),\n",
       " Text(163.2094861660079, 179.69000000000005, 'Age <= 24.5\\ngini = 0.444\\nsamples = 3\\nvalue = [2, 1]\\nclass = Unsurvived'),\n",
       " Text(154.38735177865613, 128.35000000000002, 'gini = 0.0\\nsamples = 1\\nvalue = [1, 0]\\nclass = Unsurvived'),\n",
       " Text(172.0316205533597, 128.35000000000002, 'Age <= 27.5\\ngini = 0.5\\nsamples = 2\\nvalue = [1, 1]\\nclass = Unsurvived'),\n",
       " Text(163.2094861660079, 77.0100000000001, 'gini = 0.0\\nsamples = 1\\nvalue = [0, 1]\\nclass = Survived'),\n",
       " Text(180.85375494071147, 77.0100000000001, 'gini = 0.0\\nsamples = 1\\nvalue = [1, 0]\\nclass = Unsurvived'),\n",
       " Text(271.2806324110672, 385.05000000000007, 'Age <= 20.5\\ngini = 0.087\\nsamples = 131\\nvalue = [125, 6]\\nclass = Unsurvived'),\n",
       " Text(238.19762845849803, 333.71000000000004, 'Fare <= 8.104\\ngini = 0.193\\nsamples = 37\\nvalue = [33, 4]\\nclass = Unsurvived'),\n",
       " Text(207.3201581027668, 282.3700000000001, 'Age <= 18.5\\ngini = 0.397\\nsamples = 11\\nvalue = [8, 3]\\nclass = Unsurvived'),\n",
       " Text(189.67588932806325, 231.0300000000001, 'Age <= 17.0\\ngini = 0.444\\nsamples = 3\\nvalue = [1, 2]\\nclass = Survived'),\n",
       " Text(180.85375494071147, 179.69000000000005, 'gini = 0.5\\nsamples = 2\\nvalue = [1, 1]\\nclass = Unsurvived'),\n",
       " Text(198.49802371541503, 179.69000000000005, 'gini = 0.0\\nsamples = 1\\nvalue = [0, 1]\\nclass = Survived'),\n",
       " Text(224.96442687747037, 231.0300000000001, 'FamilySize <= 0.5\\ngini = 0.219\\nsamples = 8\\nvalue = [7, 1]\\nclass = Unsurvived'),\n",
       " Text(216.1422924901186, 179.69000000000005, 'gini = 0.0\\nsamples = 7\\nvalue = [7, 0]\\nclass = Unsurvived'),\n",
       " Text(233.78656126482215, 179.69000000000005, 'gini = 0.0\\nsamples = 1\\nvalue = [0, 1]\\nclass = Survived'),\n",
       " Text(269.07509881422925, 282.3700000000001, 'Pclass <= 2.5\\ngini = 0.074\\nsamples = 26\\nvalue = [25, 1]\\nclass = Unsurvived'),\n",
       " Text(260.2529644268775, 231.0300000000001, 'Fare <= 11.0\\ngini = 0.219\\nsamples = 8\\nvalue = [7, 1]\\nclass = Unsurvived'),\n",
       " Text(251.43083003952572, 179.69000000000005, 'gini = 0.5\\nsamples = 2\\nvalue = [1, 1]\\nclass = Unsurvived'),\n",
       " Text(269.07509881422925, 179.69000000000005, 'gini = 0.0\\nsamples = 6\\nvalue = [6, 0]\\nclass = Unsurvived'),\n",
       " Text(277.89723320158106, 231.0300000000001, 'gini = 0.0\\nsamples = 18\\nvalue = [18, 0]\\nclass = Unsurvived'),\n",
       " Text(304.3636363636364, 333.71000000000004, 'Fare <= 8.548\\ngini = 0.042\\nsamples = 94\\nvalue = [92, 2]\\nclass = Unsurvived'),\n",
       " Text(295.5415019762846, 282.3700000000001, 'gini = 0.0\\nsamples = 48\\nvalue = [48, 0]\\nclass = Unsurvived'),\n",
       " Text(313.1857707509882, 282.3700000000001, 'Fare <= 8.831\\ngini = 0.083\\nsamples = 46\\nvalue = [44, 2]\\nclass = Unsurvived'),\n",
       " Text(295.5415019762846, 231.0300000000001, 'Age <= 26.5\\ngini = 0.375\\nsamples = 4\\nvalue = [3, 1]\\nclass = Unsurvived'),\n",
       " Text(286.7193675889328, 179.69000000000005, 'gini = 0.0\\nsamples = 2\\nvalue = [2, 0]\\nclass = Unsurvived'),\n",
       " Text(304.3636363636364, 179.69000000000005, 'Age <= 28.35\\ngini = 0.5\\nsamples = 2\\nvalue = [1, 1]\\nclass = Unsurvived'),\n",
       " Text(295.5415019762846, 128.35000000000002, 'gini = 0.0\\nsamples = 1\\nvalue = [0, 1]\\nclass = Survived'),\n",
       " Text(313.1857707509882, 128.35000000000002, 'gini = 0.0\\nsamples = 1\\nvalue = [1, 0]\\nclass = Unsurvived'),\n",
       " Text(330.83003952569175, 231.0300000000001, 'Age <= 29.35\\ngini = 0.046\\nsamples = 42\\nvalue = [41, 1]\\nclass = Unsurvived'),\n",
       " Text(322.00790513833994, 179.69000000000005, 'gini = 0.0\\nsamples = 31\\nvalue = [31, 0]\\nclass = Unsurvived'),\n",
       " Text(339.6521739130435, 179.69000000000005, 'Fare <= 13.75\\ngini = 0.165\\nsamples = 11\\nvalue = [10, 1]\\nclass = Unsurvived'),\n",
       " Text(330.83003952569175, 128.35000000000002, 'Age <= 29.85\\ngini = 0.32\\nsamples = 5\\nvalue = [4, 1]\\nclass = Unsurvived'),\n",
       " Text(322.00790513833994, 77.0100000000001, 'gini = 0.0\\nsamples = 1\\nvalue = [0, 1]\\nclass = Survived'),\n",
       " Text(339.6521739130435, 77.0100000000001, 'gini = 0.0\\nsamples = 4\\nvalue = [4, 0]\\nclass = Unsurvived'),\n",
       " Text(348.4743083003953, 128.35000000000002, 'gini = 0.0\\nsamples = 6\\nvalue = [6, 0]\\nclass = Unsurvived'),\n",
       " Text(423.4624505928854, 487.7300000000001, 'Fare <= 9.977\\ngini = 0.298\\nsamples = 55\\nvalue = [45, 10]\\nclass = Unsurvived'),\n",
       " Text(392.5849802371542, 436.3900000000001, 'Age <= 29.35\\ngini = 0.229\\nsamples = 38\\nvalue = [33, 5]\\nclass = Unsurvived'),\n",
       " Text(374.9407114624506, 385.05000000000007, 'Age <= 27.0\\ngini = 0.42\\nsamples = 10\\nvalue = [7, 3]\\nclass = Unsurvived'),\n",
       " Text(366.1185770750988, 333.71000000000004, 'Age <= 19.5\\ngini = 0.346\\nsamples = 9\\nvalue = [7, 2]\\nclass = Unsurvived'),\n",
       " Text(357.29644268774706, 282.3700000000001, 'gini = 0.0\\nsamples = 3\\nvalue = [3, 0]\\nclass = Unsurvived'),\n",
       " Text(374.9407114624506, 282.3700000000001, 'Age <= 22.75\\ngini = 0.444\\nsamples = 6\\nvalue = [4, 2]\\nclass = Unsurvived'),\n",
       " Text(366.1185770750988, 231.0300000000001, 'Fare <= 7.227\\ngini = 0.444\\nsamples = 3\\nvalue = [1, 2]\\nclass = Survived'),\n",
       " Text(357.29644268774706, 179.69000000000005, 'gini = 0.0\\nsamples = 1\\nvalue = [0, 1]\\nclass = Survived'),\n",
       " Text(374.9407114624506, 179.69000000000005, 'Age <= 21.0\\ngini = 0.5\\nsamples = 2\\nvalue = [1, 1]\\nclass = Unsurvived'),\n",
       " Text(366.1185770750988, 128.35000000000002, 'gini = 0.0\\nsamples = 1\\nvalue = [0, 1]\\nclass = Survived'),\n",
       " Text(383.7628458498024, 128.35000000000002, 'gini = 0.0\\nsamples = 1\\nvalue = [1, 0]\\nclass = Unsurvived'),\n",
       " Text(383.7628458498024, 231.0300000000001, 'gini = 0.0\\nsamples = 3\\nvalue = [3, 0]\\nclass = Unsurvived'),\n",
       " Text(383.7628458498024, 333.71000000000004, 'gini = 0.0\\nsamples = 1\\nvalue = [0, 1]\\nclass = Survived'),\n",
       " Text(410.22924901185775, 385.05000000000007, 'Fare <= 7.227\\ngini = 0.133\\nsamples = 28\\nvalue = [26, 2]\\nclass = Unsurvived'),\n",
       " Text(401.40711462450594, 333.71000000000004, 'gini = 0.0\\nsamples = 7\\nvalue = [7, 0]\\nclass = Unsurvived'),\n",
       " Text(419.0513833992095, 333.71000000000004, 'Fare <= 7.79\\ngini = 0.172\\nsamples = 21\\nvalue = [19, 2]\\nclass = Unsurvived'),\n",
       " Text(410.22924901185775, 282.3700000000001, 'Age <= 29.85\\ngini = 0.219\\nsamples = 16\\nvalue = [14, 2]\\nclass = Unsurvived'),\n",
       " Text(401.40711462450594, 231.0300000000001, 'Embarked <= 1.5\\ngini = 0.231\\nsamples = 15\\nvalue = [13, 2]\\nclass = Unsurvived'),\n",
       " Text(392.5849802371542, 179.69000000000005, 'gini = 0.32\\nsamples = 5\\nvalue = [4, 1]\\nclass = Unsurvived'),\n",
       " Text(410.22924901185775, 179.69000000000005, 'Fare <= 7.742\\ngini = 0.18\\nsamples = 10\\nvalue = [9, 1]\\nclass = Unsurvived'),\n",
       " Text(401.40711462450594, 128.35000000000002, 'gini = 0.0\\nsamples = 3\\nvalue = [3, 0]\\nclass = Unsurvived'),\n",
       " Text(419.0513833992095, 128.35000000000002, 'gini = 0.245\\nsamples = 7\\nvalue = [6, 1]\\nclass = Unsurvived'),\n",
       " Text(419.0513833992095, 231.0300000000001, 'gini = 0.0\\nsamples = 1\\nvalue = [1, 0]\\nclass = Unsurvived'),\n",
       " Text(427.8735177865613, 282.3700000000001, 'gini = 0.0\\nsamples = 5\\nvalue = [5, 0]\\nclass = Unsurvived'),\n",
       " Text(454.3399209486166, 436.3900000000001, 'Fare <= 14.158\\ngini = 0.415\\nsamples = 17\\nvalue = [12, 5]\\nclass = Unsurvived'),\n",
       " Text(445.51778656126487, 385.05000000000007, 'gini = 0.0\\nsamples = 2\\nvalue = [0, 2]\\nclass = Survived'),\n",
       " Text(463.16205533596843, 385.05000000000007, 'Fare <= 20.233\\ngini = 0.32\\nsamples = 15\\nvalue = [12, 3]\\nclass = Unsurvived'),\n",
       " Text(454.3399209486166, 333.71000000000004, 'FamilySize <= 1.5\\ngini = 0.469\\nsamples = 8\\nvalue = [5, 3]\\nclass = Unsurvived'),\n",
       " Text(445.51778656126487, 282.3700000000001, 'Fare <= 17.144\\ngini = 0.278\\nsamples = 6\\nvalue = [5, 1]\\nclass = Unsurvived'),\n",
       " Text(436.69565217391306, 231.0300000000001, 'gini = 0.0\\nsamples = 4\\nvalue = [4, 0]\\nclass = Unsurvived'),\n",
       " Text(454.3399209486166, 231.0300000000001, 'Age <= 18.5\\ngini = 0.5\\nsamples = 2\\nvalue = [1, 1]\\nclass = Unsurvived'),\n",
       " Text(445.51778656126487, 179.69000000000005, 'gini = 0.0\\nsamples = 1\\nvalue = [1, 0]\\nclass = Unsurvived'),\n",
       " Text(463.16205533596843, 179.69000000000005, 'gini = 0.0\\nsamples = 1\\nvalue = [0, 1]\\nclass = Survived'),\n",
       " Text(463.16205533596843, 282.3700000000001, 'gini = 0.0\\nsamples = 2\\nvalue = [0, 2]\\nclass = Survived'),\n",
       " Text(471.9841897233202, 333.71000000000004, 'gini = 0.0\\nsamples = 7\\nvalue = [7, 0]\\nclass = Unsurvived'),\n",
       " Text(498.4505928853755, 539.0700000000002, 'Fare <= 7.815\\ngini = 0.43\\nsamples = 16\\nvalue = [11, 5]\\nclass = Unsurvived'),\n",
       " Text(489.62845849802375, 487.7300000000001, 'gini = 0.0\\nsamples = 3\\nvalue = [3, 0]\\nclass = Unsurvived'),\n",
       " Text(507.2727272727273, 487.7300000000001, 'Fare <= 7.875\\ngini = 0.473\\nsamples = 13\\nvalue = [8, 5]\\nclass = Unsurvived'),\n",
       " Text(498.4505928853755, 436.3900000000001, 'gini = 0.0\\nsamples = 1\\nvalue = [0, 1]\\nclass = Survived'),\n",
       " Text(516.0948616600791, 436.3900000000001, 'Fare <= 11.75\\ngini = 0.444\\nsamples = 12\\nvalue = [8, 4]\\nclass = Unsurvived'),\n",
       " Text(498.4505928853755, 385.05000000000007, 'Fare <= 8.144\\ngini = 0.375\\nsamples = 8\\nvalue = [6, 2]\\nclass = Unsurvived'),\n",
       " Text(489.62845849802375, 333.71000000000004, 'Age <= 31.5\\ngini = 0.48\\nsamples = 5\\nvalue = [3, 2]\\nclass = Unsurvived'),\n",
       " Text(480.806324110672, 282.3700000000001, 'gini = 0.0\\nsamples = 1\\nvalue = [0, 1]\\nclass = Survived'),\n",
       " Text(498.4505928853755, 282.3700000000001, 'Fare <= 7.91\\ngini = 0.375\\nsamples = 4\\nvalue = [3, 1]\\nclass = Unsurvived'),\n",
       " Text(489.62845849802375, 231.0300000000001, 'gini = 0.0\\nsamples = 1\\nvalue = [1, 0]\\nclass = Unsurvived'),\n",
       " Text(507.2727272727273, 231.0300000000001, 'gini = 0.444\\nsamples = 3\\nvalue = [2, 1]\\nclass = Unsurvived'),\n",
       " Text(507.2727272727273, 333.71000000000004, 'gini = 0.0\\nsamples = 3\\nvalue = [3, 0]\\nclass = Unsurvived'),\n",
       " Text(533.7391304347826, 385.05000000000007, 'Embarked <= 0.5\\ngini = 0.5\\nsamples = 4\\nvalue = [2, 2]\\nclass = Unsurvived'),\n",
       " Text(524.9169960474309, 333.71000000000004, 'Pclass <= 2.5\\ngini = 0.444\\nsamples = 3\\nvalue = [1, 2]\\nclass = Survived'),\n",
       " Text(516.0948616600791, 282.3700000000001, 'gini = 0.0\\nsamples = 2\\nvalue = [0, 2]\\nclass = Survived'),\n",
       " Text(533.7391304347826, 282.3700000000001, 'gini = 0.0\\nsamples = 1\\nvalue = [1, 0]\\nclass = Unsurvived'),\n",
       " Text(542.5612648221344, 333.71000000000004, 'gini = 0.0\\nsamples = 1\\nvalue = [1, 0]\\nclass = Unsurvived'),\n",
       " Text(577.8498023715415, 590.4100000000001, 'Fare <= 8.227\\ngini = 0.076\\nsamples = 76\\nvalue = [73, 3]\\nclass = Unsurvived'),\n",
       " Text(569.0276679841897, 539.0700000000002, 'Fare <= 7.91\\ngini = 0.161\\nsamples = 34\\nvalue = [31, 3]\\nclass = Unsurvived'),\n",
       " Text(560.205533596838, 487.7300000000001, 'gini = 0.0\\nsamples = 23\\nvalue = [23, 0]\\nclass = Unsurvived'),\n",
       " Text(577.8498023715415, 487.7300000000001, 'Fare <= 7.988\\ngini = 0.397\\nsamples = 11\\nvalue = [8, 3]\\nclass = Unsurvived'),\n",
       " Text(560.205533596838, 436.3900000000001, 'Age <= 41.5\\ngini = 0.444\\nsamples = 3\\nvalue = [1, 2]\\nclass = Survived'),\n",
       " Text(551.3833992094862, 385.05000000000007, 'gini = 0.5\\nsamples = 2\\nvalue = [1, 1]\\nclass = Unsurvived'),\n",
       " Text(569.0276679841897, 385.05000000000007, 'gini = 0.0\\nsamples = 1\\nvalue = [0, 1]\\nclass = Survived'),\n",
       " Text(595.4940711462451, 436.3900000000001, 'Age <= 44.5\\ngini = 0.219\\nsamples = 8\\nvalue = [7, 1]\\nclass = Unsurvived'),\n",
       " Text(586.6719367588934, 385.05000000000007, 'gini = 0.0\\nsamples = 4\\nvalue = [4, 0]\\nclass = Unsurvived'),\n",
       " Text(604.3162055335969, 385.05000000000007, 'Age <= 47.5\\ngini = 0.375\\nsamples = 4\\nvalue = [3, 1]\\nclass = Unsurvived'),\n",
       " Text(595.4940711462451, 333.71000000000004, 'gini = 0.0\\nsamples = 1\\nvalue = [0, 1]\\nclass = Survived'),\n",
       " Text(613.1383399209486, 333.71000000000004, 'gini = 0.0\\nsamples = 3\\nvalue = [3, 0]\\nclass = Unsurvived'),\n",
       " Text(586.6719367588934, 539.0700000000002, 'gini = 0.0\\nsamples = 42\\nvalue = [42, 0]\\nclass = Unsurvived'),\n",
       " Text(648.4268774703557, 693.0900000000001, 'Fare <= 61.548\\ngini = 0.452\\nsamples = 29\\nvalue = [19, 10]\\nclass = Unsurvived'),\n",
       " Text(630.7826086956522, 641.7500000000001, 'Fare <= 52.55\\ngini = 0.444\\nsamples = 9\\nvalue = [3, 6]\\nclass = Survived'),\n",
       " Text(621.9604743083005, 590.4100000000001, 'gini = 0.0\\nsamples = 1\\nvalue = [0, 1]\\nclass = Survived'),\n",
       " Text(639.604743083004, 590.4100000000001, 'Age <= 34.5\\ngini = 0.469\\nsamples = 8\\nvalue = [3, 5]\\nclass = Survived'),\n",
       " Text(630.7826086956522, 539.0700000000002, 'Age <= 30.85\\ngini = 0.408\\nsamples = 7\\nvalue = [2, 5]\\nclass = Survived'),\n",
       " Text(621.9604743083005, 487.7300000000001, 'Age <= 27.0\\ngini = 0.48\\nsamples = 5\\nvalue = [2, 3]\\nclass = Survived'),\n",
       " Text(613.1383399209486, 436.3900000000001, 'gini = 0.0\\nsamples = 1\\nvalue = [0, 1]\\nclass = Survived'),\n",
       " Text(630.7826086956522, 436.3900000000001, 'Age <= 28.85\\ngini = 0.5\\nsamples = 4\\nvalue = [2, 2]\\nclass = Unsurvived'),\n",
       " Text(621.9604743083005, 385.05000000000007, 'gini = 0.0\\nsamples = 1\\nvalue = [1, 0]\\nclass = Unsurvived'),\n",
       " Text(639.604743083004, 385.05000000000007, 'gini = 0.444\\nsamples = 3\\nvalue = [1, 2]\\nclass = Survived'),\n",
       " Text(639.604743083004, 487.7300000000001, 'gini = 0.0\\nsamples = 2\\nvalue = [0, 2]\\nclass = Survived'),\n",
       " Text(648.4268774703557, 539.0700000000002, 'gini = 0.0\\nsamples = 1\\nvalue = [1, 0]\\nclass = Unsurvived'),\n",
       " Text(666.0711462450594, 641.7500000000001, 'Fare <= 86.29\\ngini = 0.32\\nsamples = 20\\nvalue = [16, 4]\\nclass = Unsurvived'),\n",
       " Text(657.2490118577075, 590.4100000000001, 'gini = 0.0\\nsamples = 11\\nvalue = [11, 0]\\nclass = Unsurvived'),\n",
       " Text(674.8932806324111, 590.4100000000001, 'Fare <= 172.575\\ngini = 0.494\\nsamples = 9\\nvalue = [5, 4]\\nclass = Unsurvived'),\n",
       " Text(666.0711462450594, 539.0700000000002, 'Embarked <= 1.5\\ngini = 0.444\\nsamples = 6\\nvalue = [2, 4]\\nclass = Survived'),\n",
       " Text(657.2490118577075, 487.7300000000001, 'Age <= 43.5\\ngini = 0.32\\nsamples = 5\\nvalue = [1, 4]\\nclass = Survived'),\n",
       " Text(648.4268774703557, 436.3900000000001, 'gini = 0.0\\nsamples = 2\\nvalue = [0, 2]\\nclass = Survived'),\n",
       " Text(666.0711462450594, 436.3900000000001, 'Fare <= 99.994\\ngini = 0.444\\nsamples = 3\\nvalue = [1, 2]\\nclass = Survived'),\n",
       " Text(657.2490118577075, 385.05000000000007, 'gini = 0.0\\nsamples = 1\\nvalue = [0, 1]\\nclass = Survived'),\n",
       " Text(674.8932806324111, 385.05000000000007, 'Age <= 49.5\\ngini = 0.5\\nsamples = 2\\nvalue = [1, 1]\\nclass = Unsurvived'),\n",
       " Text(666.0711462450594, 333.71000000000004, 'gini = 0.0\\nsamples = 1\\nvalue = [1, 0]\\nclass = Unsurvived'),\n",
       " Text(683.7154150197629, 333.71000000000004, 'gini = 0.0\\nsamples = 1\\nvalue = [0, 1]\\nclass = Survived'),\n",
       " Text(674.8932806324111, 487.7300000000001, 'gini = 0.0\\nsamples = 1\\nvalue = [1, 0]\\nclass = Unsurvived'),\n",
       " Text(683.7154150197629, 539.0700000000002, 'gini = 0.0\\nsamples = 3\\nvalue = [3, 0]\\nclass = Unsurvived'),\n",
       " Text(787.3754940711462, 795.7700000000001, 'Age <= 57.0\\ngini = 0.496\\nsamples = 55\\nvalue = [30, 25]\\nclass = Unsurvived'),\n",
       " Text(778.5533596837945, 744.4300000000001, 'Fare <= 7.9\\ngini = 0.498\\nsamples = 47\\nvalue = [22, 25]\\nclass = Survived'),\n",
       " Text(769.7312252964427, 693.0900000000001, 'gini = 0.0\\nsamples = 7\\nvalue = [7, 0]\\nclass = Unsurvived'),\n",
       " Text(787.3754940711462, 693.0900000000001, 'FamilySize <= 0.5\\ngini = 0.469\\nsamples = 40\\nvalue = [15, 25]\\nclass = Survived'),\n",
       " Text(749.8814229249012, 641.7500000000001, 'Fare <= 30.598\\ngini = 0.499\\nsamples = 23\\nvalue = [12, 11]\\nclass = Unsurvived'),\n",
       " Text(719.00395256917, 590.4100000000001, 'Age <= 30.85\\ngini = 0.397\\nsamples = 11\\nvalue = [3, 8]\\nclass = Survived'),\n",
       " Text(701.3596837944665, 539.0700000000002, 'Age <= 29.35\\ngini = 0.444\\nsamples = 3\\nvalue = [2, 1]\\nclass = Unsurvived'),\n",
       " Text(692.5375494071146, 487.7300000000001, 'gini = 0.0\\nsamples = 1\\nvalue = [1, 0]\\nclass = Unsurvived'),\n",
       " Text(710.1818181818182, 487.7300000000001, 'Fare <= 28.0\\ngini = 0.5\\nsamples = 2\\nvalue = [1, 1]\\nclass = Unsurvived'),\n",
       " Text(701.3596837944665, 436.3900000000001, 'gini = 0.0\\nsamples = 1\\nvalue = [1, 0]\\nclass = Unsurvived'),\n",
       " Text(719.00395256917, 436.3900000000001, 'gini = 0.0\\nsamples = 1\\nvalue = [0, 1]\\nclass = Survived'),\n",
       " Text(736.6482213438736, 539.0700000000002, 'Embarked <= 0.5\\ngini = 0.219\\nsamples = 8\\nvalue = [1, 7]\\nclass = Survived'),\n",
       " Text(727.8260869565217, 487.7300000000001, 'gini = 0.0\\nsamples = 6\\nvalue = [0, 6]\\nclass = Survived'),\n",
       " Text(745.4703557312254, 487.7300000000001, 'Pclass <= 1.5\\ngini = 0.5\\nsamples = 2\\nvalue = [1, 1]\\nclass = Unsurvived'),\n",
       " Text(736.6482213438736, 436.3900000000001, 'gini = 0.0\\nsamples = 1\\nvalue = [0, 1]\\nclass = Survived'),\n",
       " Text(754.2924901185771, 436.3900000000001, 'gini = 0.0\\nsamples = 1\\nvalue = [1, 0]\\nclass = Unsurvived'),\n",
       " Text(780.7588932806325, 590.4100000000001, 'Fare <= 295.765\\ngini = 0.375\\nsamples = 12\\nvalue = [9, 3]\\nclass = Unsurvived'),\n",
       " Text(771.9367588932807, 539.0700000000002, 'Embarked <= 0.5\\ngini = 0.298\\nsamples = 11\\nvalue = [9, 2]\\nclass = Unsurvived'),\n",
       " Text(763.1146245059289, 487.7300000000001, 'gini = 0.0\\nsamples = 5\\nvalue = [5, 0]\\nclass = Unsurvived'),\n",
       " Text(780.7588932806325, 487.7300000000001, 'Fare <= 77.965\\ngini = 0.444\\nsamples = 6\\nvalue = [4, 2]\\nclass = Unsurvived'),\n",
       " Text(771.9367588932807, 436.3900000000001, 'Age <= 31.5\\ngini = 0.5\\nsamples = 4\\nvalue = [2, 2]\\nclass = Unsurvived'),\n",
       " Text(763.1146245059289, 385.05000000000007, 'gini = 0.0\\nsamples = 1\\nvalue = [0, 1]\\nclass = Survived'),\n",
       " Text(780.7588932806325, 385.05000000000007, 'Fare <= 33.098\\ngini = 0.444\\nsamples = 3\\nvalue = [2, 1]\\nclass = Unsurvived'),\n",
       " Text(771.9367588932807, 333.71000000000004, 'gini = 0.0\\nsamples = 1\\nvalue = [1, 0]\\nclass = Unsurvived'),\n",
       " Text(789.5810276679842, 333.71000000000004, 'Fare <= 37.812\\ngini = 0.5\\nsamples = 2\\nvalue = [1, 1]\\nclass = Unsurvived'),\n",
       " Text(780.7588932806325, 282.3700000000001, 'gini = 0.0\\nsamples = 1\\nvalue = [0, 1]\\nclass = Survived'),\n",
       " Text(798.403162055336, 282.3700000000001, 'gini = 0.0\\nsamples = 1\\nvalue = [1, 0]\\nclass = Unsurvived'),\n",
       " Text(789.5810276679842, 436.3900000000001, 'gini = 0.0\\nsamples = 2\\nvalue = [2, 0]\\nclass = Unsurvived'),\n",
       " Text(789.5810276679842, 539.0700000000002, 'gini = 0.0\\nsamples = 1\\nvalue = [0, 1]\\nclass = Survived'),\n",
       " Text(824.8695652173914, 641.7500000000001, 'Age <= 49.5\\ngini = 0.291\\nsamples = 17\\nvalue = [3, 14]\\nclass = Survived'),\n",
       " Text(816.0474308300396, 590.4100000000001, 'Age <= 24.5\\ngini = 0.219\\nsamples = 16\\nvalue = [2, 14]\\nclass = Survived'),\n",
       " Text(807.2252964426877, 539.0700000000002, 'Age <= 15.0\\ngini = 0.444\\nsamples = 6\\nvalue = [2, 4]\\nclass = Survived'),\n",
       " Text(798.403162055336, 487.7300000000001, 'gini = 0.0\\nsamples = 4\\nvalue = [0, 4]\\nclass = Survived'),\n",
       " Text(816.0474308300396, 487.7300000000001, 'gini = 0.0\\nsamples = 2\\nvalue = [2, 0]\\nclass = Unsurvived'),\n",
       " Text(824.8695652173914, 539.0700000000002, 'gini = 0.0\\nsamples = 10\\nvalue = [0, 10]\\nclass = Survived'),\n",
       " Text(833.6916996047431, 590.4100000000001, 'gini = 0.0\\nsamples = 1\\nvalue = [1, 0]\\nclass = Unsurvived'),\n",
       " Text(796.1976284584981, 744.4300000000001, 'gini = 0.0\\nsamples = 8\\nvalue = [8, 0]\\nclass = Unsurvived'),\n",
       " Text(962.7154150197629, 847.1100000000001, 'Pclass <= 2.5\\ngini = 0.396\\nsamples = 235\\nvalue = [64, 171]\\nclass = Survived'),\n",
       " Text(886.6245059288539, 795.7700000000001, 'Age <= 2.5\\ngini = 0.137\\nsamples = 122\\nvalue = [9, 113]\\nclass = Survived'),\n",
       " Text(877.802371541502, 744.4300000000001, 'gini = 0.0\\nsamples = 1\\nvalue = [1, 0]\\nclass = Unsurvived'),\n",
       " Text(895.4466403162056, 744.4300000000001, 'Fare <= 28.856\\ngini = 0.123\\nsamples = 121\\nvalue = [8, 113]\\nclass = Survived'),\n",
       " Text(877.802371541502, 693.0900000000001, 'Fare <= 28.231\\ngini = 0.249\\nsamples = 48\\nvalue = [7, 41]\\nclass = Survived'),\n",
       " Text(868.9802371541502, 641.7500000000001, 'Age <= 56.0\\ngini = 0.223\\nsamples = 47\\nvalue = [6, 41]\\nclass = Survived'),\n",
       " Text(851.3359683794467, 590.4100000000001, 'Age <= 23.5\\ngini = 0.198\\nsamples = 45\\nvalue = [5, 40]\\nclass = Survived'),\n",
       " Text(842.5138339920949, 539.0700000000002, 'gini = 0.0\\nsamples = 10\\nvalue = [0, 10]\\nclass = Survived'),\n",
       " Text(860.1581027667985, 539.0700000000002, 'Age <= 27.5\\ngini = 0.245\\nsamples = 35\\nvalue = [5, 30]\\nclass = Survived'),\n",
       " Text(842.5138339920949, 487.7300000000001, 'FamilySize <= 0.5\\ngini = 0.49\\nsamples = 7\\nvalue = [3, 4]\\nclass = Survived'),\n",
       " Text(833.6916996047431, 436.3900000000001, 'gini = 0.0\\nsamples = 1\\nvalue = [1, 0]\\nclass = Unsurvived'),\n",
       " Text(851.3359683794467, 436.3900000000001, 'Age <= 25.5\\ngini = 0.444\\nsamples = 6\\nvalue = [2, 4]\\nclass = Survived'),\n",
       " Text(842.5138339920949, 385.05000000000007, 'gini = 0.0\\nsamples = 3\\nvalue = [0, 3]\\nclass = Survived'),\n",
       " Text(860.1581027667985, 385.05000000000007, 'Embarked <= 0.5\\ngini = 0.444\\nsamples = 3\\nvalue = [2, 1]\\nclass = Unsurvived'),\n",
       " Text(851.3359683794467, 333.71000000000004, 'gini = 0.0\\nsamples = 2\\nvalue = [2, 0]\\nclass = Unsurvived'),\n",
       " Text(868.9802371541502, 333.71000000000004, 'gini = 0.0\\nsamples = 1\\nvalue = [0, 1]\\nclass = Survived'),\n",
       " Text(877.802371541502, 487.7300000000001, 'Age <= 37.0\\ngini = 0.133\\nsamples = 28\\nvalue = [2, 26]\\nclass = Survived'),\n",
       " Text(868.9802371541502, 436.3900000000001, 'gini = 0.0\\nsamples = 16\\nvalue = [0, 16]\\nclass = Survived'),\n",
       " Text(886.6245059288539, 436.3900000000001, 'Age <= 39.5\\ngini = 0.278\\nsamples = 12\\nvalue = [2, 10]\\nclass = Survived'),\n",
       " Text(877.802371541502, 385.05000000000007, 'gini = 0.0\\nsamples = 1\\nvalue = [1, 0]\\nclass = Unsurvived'),\n",
       " Text(895.4466403162056, 385.05000000000007, 'Age <= 44.5\\ngini = 0.165\\nsamples = 11\\nvalue = [1, 10]\\nclass = Survived'),\n",
       " Text(886.6245059288539, 333.71000000000004, 'Age <= 43.0\\ngini = 0.375\\nsamples = 4\\nvalue = [1, 3]\\nclass = Survived'),\n",
       " Text(877.802371541502, 282.3700000000001, 'gini = 0.0\\nsamples = 2\\nvalue = [0, 2]\\nclass = Survived'),\n",
       " Text(895.4466403162056, 282.3700000000001, 'Cabin <= 0.5\\ngini = 0.5\\nsamples = 2\\nvalue = [1, 1]\\nclass = Unsurvived'),\n",
       " Text(886.6245059288539, 231.0300000000001, 'gini = 0.0\\nsamples = 1\\nvalue = [1, 0]\\nclass = Unsurvived'),\n",
       " Text(904.2687747035574, 231.0300000000001, 'gini = 0.0\\nsamples = 1\\nvalue = [0, 1]\\nclass = Survived'),\n",
       " Text(904.2687747035574, 333.71000000000004, 'gini = 0.0\\nsamples = 7\\nvalue = [0, 7]\\nclass = Survived'),\n",
       " Text(886.6245059288539, 590.4100000000001, 'Cabin <= 1.5\\ngini = 0.5\\nsamples = 2\\nvalue = [1, 1]\\nclass = Unsurvived'),\n",
       " Text(877.802371541502, 539.0700000000002, 'gini = 0.0\\nsamples = 1\\nvalue = [0, 1]\\nclass = Survived'),\n",
       " Text(895.4466403162056, 539.0700000000002, 'gini = 0.0\\nsamples = 1\\nvalue = [1, 0]\\nclass = Unsurvived'),\n",
       " Text(886.6245059288539, 641.7500000000001, 'gini = 0.0\\nsamples = 1\\nvalue = [1, 0]\\nclass = Unsurvived'),\n",
       " Text(913.0909090909091, 693.0900000000001, 'FamilySize <= 2.5\\ngini = 0.027\\nsamples = 73\\nvalue = [1, 72]\\nclass = Survived'),\n",
       " Text(904.2687747035574, 641.7500000000001, 'gini = 0.0\\nsamples = 61\\nvalue = [0, 61]\\nclass = Survived'),\n",
       " Text(921.9130434782609, 641.7500000000001, 'Age <= 24.5\\ngini = 0.153\\nsamples = 12\\nvalue = [1, 11]\\nclass = Survived'),\n",
       " Text(913.0909090909091, 590.4100000000001, 'gini = 0.0\\nsamples = 9\\nvalue = [0, 9]\\nclass = Survived'),\n",
       " Text(930.7351778656127, 590.4100000000001, 'Fare <= 135.775\\ngini = 0.444\\nsamples = 3\\nvalue = [1, 2]\\nclass = Survived'),\n",
       " Text(921.9130434782609, 539.0700000000002, 'gini = 0.0\\nsamples = 2\\nvalue = [0, 2]\\nclass = Survived'),\n",
       " Text(939.5573122529645, 539.0700000000002, 'gini = 0.0\\nsamples = 1\\nvalue = [1, 0]\\nclass = Unsurvived'),\n",
       " Text(1038.806324110672, 795.7700000000001, 'FamilySize <= 3.5\\ngini = 0.5\\nsamples = 113\\nvalue = [55, 58]\\nclass = Survived'),\n",
       " Text(1016.7509881422926, 744.4300000000001, 'Age <= 36.5\\ngini = 0.478\\nsamples = 91\\nvalue = [36, 55]\\nclass = Survived'),\n",
       " Text(999.106719367589, 693.0900000000001, 'Age <= 7.0\\ngini = 0.459\\nsamples = 84\\nvalue = [30, 54]\\nclass = Survived'),\n",
       " Text(990.2845849802372, 641.7500000000001, 'gini = 0.0\\nsamples = 9\\nvalue = [0, 9]\\nclass = Survived'),\n",
       " Text(1007.9288537549407, 641.7500000000001, 'Fare <= 8.04\\ngini = 0.48\\nsamples = 75\\nvalue = [30, 45]\\nclass = Survived'),\n",
       " Text(966.0237154150199, 590.4100000000001, 'Age <= 30.1\\ngini = 0.389\\nsamples = 34\\nvalue = [9, 25]\\nclass = Survived'),\n",
       " Text(957.201581027668, 539.0700000000002, 'Fare <= 6.987\\ngini = 0.367\\nsamples = 33\\nvalue = [8, 25]\\nclass = Survived'),\n",
       " Text(948.3794466403162, 487.7300000000001, 'gini = 0.0\\nsamples = 1\\nvalue = [1, 0]\\nclass = Unsurvived'),\n",
       " Text(966.0237154150199, 487.7300000000001, 'FamilySize <= 1.5\\ngini = 0.342\\nsamples = 32\\nvalue = [7, 25]\\nclass = Survived'),\n",
       " Text(957.201581027668, 436.3900000000001, 'Fare <= 7.59\\ngini = 0.312\\nsamples = 31\\nvalue = [6, 25]\\nclass = Survived'),\n",
       " Text(948.3794466403162, 385.05000000000007, 'gini = 0.0\\nsamples = 6\\nvalue = [0, 6]\\nclass = Survived'),\n",
       " Text(966.0237154150199, 385.05000000000007, 'Fare <= 7.64\\ngini = 0.365\\nsamples = 25\\nvalue = [6, 19]\\nclass = Survived'),\n",
       " Text(957.201581027668, 333.71000000000004, 'gini = 0.0\\nsamples = 1\\nvalue = [1, 0]\\nclass = Unsurvived'),\n",
       " Text(974.8458498023716, 333.71000000000004, 'Age <= 14.5\\ngini = 0.33\\nsamples = 24\\nvalue = [5, 19]\\nclass = Survived'),\n",
       " Text(966.0237154150199, 282.3700000000001, 'gini = 0.0\\nsamples = 1\\nvalue = [1, 0]\\nclass = Unsurvived'),\n",
       " Text(983.6679841897234, 282.3700000000001, 'Fare <= 7.802\\ngini = 0.287\\nsamples = 23\\nvalue = [4, 19]\\nclass = Survived'),\n",
       " Text(974.8458498023716, 231.0300000000001, 'Fare <= 7.763\\ngini = 0.375\\nsamples = 16\\nvalue = [4, 12]\\nclass = Survived'),\n",
       " Text(952.7905138339921, 179.69000000000005, 'Fare <= 7.742\\ngini = 0.26\\nsamples = 13\\nvalue = [2, 11]\\nclass = Survived'),\n",
       " Text(943.9683794466404, 128.35000000000002, 'gini = 0.0\\nsamples = 3\\nvalue = [0, 3]\\nclass = Survived'),\n",
       " Text(961.612648221344, 128.35000000000002, 'Age <= 21.5\\ngini = 0.32\\nsamples = 10\\nvalue = [2, 8]\\nclass = Survived'),\n",
       " Text(943.9683794466404, 77.0100000000001, 'Age <= 18.5\\ngini = 0.5\\nsamples = 2\\nvalue = [1, 1]\\nclass = Unsurvived'),\n",
       " Text(935.1462450592886, 25.670000000000073, 'gini = 0.0\\nsamples = 1\\nvalue = [0, 1]\\nclass = Survived'),\n",
       " Text(952.7905138339921, 25.670000000000073, 'gini = 0.0\\nsamples = 1\\nvalue = [1, 0]\\nclass = Unsurvived'),\n",
       " Text(979.2569169960475, 77.0100000000001, 'Age <= 25.85\\ngini = 0.219\\nsamples = 8\\nvalue = [1, 7]\\nclass = Survived'),\n",
       " Text(970.4347826086957, 25.670000000000073, 'gini = 0.0\\nsamples = 2\\nvalue = [0, 2]\\nclass = Survived'),\n",
       " Text(988.0790513833992, 25.670000000000073, 'gini = 0.278\\nsamples = 6\\nvalue = [1, 5]\\nclass = Survived'),\n",
       " Text(996.901185770751, 179.69000000000005, 'Age <= 20.0\\ngini = 0.444\\nsamples = 3\\nvalue = [2, 1]\\nclass = Unsurvived'),\n",
       " Text(988.0790513833992, 128.35000000000002, 'gini = 0.0\\nsamples = 1\\nvalue = [1, 0]\\nclass = Unsurvived'),\n",
       " Text(1005.7233201581029, 128.35000000000002, 'Age <= 23.5\\ngini = 0.5\\nsamples = 2\\nvalue = [1, 1]\\nclass = Unsurvived'),\n",
       " Text(996.901185770751, 77.0100000000001, 'gini = 0.0\\nsamples = 1\\nvalue = [0, 1]\\nclass = Survived'),\n",
       " Text(1014.5454545454546, 77.0100000000001, 'gini = 0.0\\nsamples = 1\\nvalue = [1, 0]\\nclass = Unsurvived'),\n",
       " Text(992.4901185770751, 231.0300000000001, 'gini = 0.0\\nsamples = 7\\nvalue = [0, 7]\\nclass = Survived'),\n",
       " Text(974.8458498023716, 436.3900000000001, 'gini = 0.0\\nsamples = 1\\nvalue = [1, 0]\\nclass = Unsurvived'),\n",
       " Text(974.8458498023716, 539.0700000000002, 'gini = 0.0\\nsamples = 1\\nvalue = [1, 0]\\nclass = Unsurvived'),\n",
       " Text(1049.8339920948617, 590.4100000000001, 'Fare <= 15.373\\ngini = 0.5\\nsamples = 41\\nvalue = [21, 20]\\nclass = Unsurvived'),\n",
       " Text(1027.7786561264822, 539.0700000000002, 'Age <= 30.5\\ngini = 0.375\\nsamples = 20\\nvalue = [15, 5]\\nclass = Unsurvived'),\n",
       " Text(1018.9565217391305, 487.7300000000001, 'FamilySize <= 0.5\\ngini = 0.332\\nsamples = 19\\nvalue = [15, 4]\\nclass = Unsurvived'),\n",
       " Text(1010.1343873517787, 436.3900000000001, 'gini = 0.0\\nsamples = 7\\nvalue = [7, 0]\\nclass = Unsurvived'),\n",
       " Text(1027.7786561264822, 436.3900000000001, 'Fare <= 13.465\\ngini = 0.444\\nsamples = 12\\nvalue = [8, 4]\\nclass = Unsurvived'),\n",
       " Text(1018.9565217391305, 385.05000000000007, 'Fare <= 10.798\\ngini = 0.49\\nsamples = 7\\nvalue = [3, 4]\\nclass = Survived'),\n",
       " Text(1010.1343873517787, 333.71000000000004, 'Age <= 19.0\\ngini = 0.375\\nsamples = 4\\nvalue = [3, 1]\\nclass = Unsurvived'),\n",
       " Text(1001.312252964427, 282.3700000000001, 'gini = 0.0\\nsamples = 1\\nvalue = [0, 1]\\nclass = Survived'),\n",
       " Text(1018.9565217391305, 282.3700000000001, 'gini = 0.0\\nsamples = 3\\nvalue = [3, 0]\\nclass = Unsurvived'),\n",
       " Text(1027.7786561264822, 333.71000000000004, 'gini = 0.0\\nsamples = 3\\nvalue = [0, 3]\\nclass = Survived'),\n",
       " Text(1036.600790513834, 385.05000000000007, 'gini = 0.0\\nsamples = 5\\nvalue = [5, 0]\\nclass = Unsurvived'),\n",
       " Text(1036.600790513834, 487.7300000000001, 'gini = 0.0\\nsamples = 1\\nvalue = [0, 1]\\nclass = Survived'),\n",
       " Text(1071.8893280632412, 539.0700000000002, 'Age <= 21.0\\ngini = 0.408\\nsamples = 21\\nvalue = [6, 15]\\nclass = Survived'),\n",
       " Text(1063.0671936758895, 487.7300000000001, 'gini = 0.0\\nsamples = 2\\nvalue = [2, 0]\\nclass = Unsurvived'),\n",
       " Text(1080.711462450593, 487.7300000000001, 'Age <= 29.85\\ngini = 0.332\\nsamples = 19\\nvalue = [4, 15]\\nclass = Survived'),\n",
       " Text(1063.0671936758895, 436.3900000000001, 'Age <= 27.85\\ngini = 0.153\\nsamples = 12\\nvalue = [1, 11]\\nclass = Survived'),\n",
       " Text(1054.2450592885377, 385.05000000000007, 'Age <= 25.0\\ngini = 0.375\\nsamples = 4\\nvalue = [1, 3]\\nclass = Survived'),\n",
       " Text(1045.4229249011858, 333.71000000000004, 'gini = 0.0\\nsamples = 3\\nvalue = [0, 3]\\nclass = Survived'),\n",
       " Text(1063.0671936758895, 333.71000000000004, 'gini = 0.0\\nsamples = 1\\nvalue = [1, 0]\\nclass = Unsurvived'),\n",
       " Text(1071.8893280632412, 385.05000000000007, 'gini = 0.0\\nsamples = 8\\nvalue = [0, 8]\\nclass = Survived'),\n",
       " Text(1098.3557312252965, 436.3900000000001, 'Age <= 32.5\\ngini = 0.49\\nsamples = 7\\nvalue = [3, 4]\\nclass = Survived'),\n",
       " Text(1089.5335968379447, 385.05000000000007, 'Fare <= 19.262\\ngini = 0.375\\nsamples = 4\\nvalue = [3, 1]\\nclass = Unsurvived'),\n",
       " Text(1080.711462450593, 333.71000000000004, 'gini = 0.0\\nsamples = 2\\nvalue = [2, 0]\\nclass = Unsurvived'),\n",
       " Text(1098.3557312252965, 333.71000000000004, 'Age <= 30.5\\ngini = 0.5\\nsamples = 2\\nvalue = [1, 1]\\nclass = Unsurvived'),\n",
       " Text(1089.5335968379447, 282.3700000000001, 'gini = 0.0\\nsamples = 1\\nvalue = [1, 0]\\nclass = Unsurvived'),\n",
       " Text(1107.1778656126482, 282.3700000000001, 'gini = 0.0\\nsamples = 1\\nvalue = [0, 1]\\nclass = Survived'),\n",
       " Text(1107.1778656126482, 385.05000000000007, 'gini = 0.0\\nsamples = 3\\nvalue = [0, 3]\\nclass = Survived'),\n",
       " Text(1034.395256916996, 693.0900000000001, 'Age <= 55.0\\ngini = 0.245\\nsamples = 7\\nvalue = [6, 1]\\nclass = Unsurvived'),\n",
       " Text(1025.5731225296443, 641.7500000000001, 'gini = 0.0\\nsamples = 6\\nvalue = [6, 0]\\nclass = Unsurvived'),\n",
       " Text(1043.217391304348, 641.7500000000001, 'gini = 0.0\\nsamples = 1\\nvalue = [0, 1]\\nclass = Survived'),\n",
       " Text(1060.8616600790515, 744.4300000000001, 'Fare <= 14.5\\ngini = 0.236\\nsamples = 22\\nvalue = [19, 3]\\nclass = Unsurvived'),\n",
       " Text(1052.0395256916997, 693.0900000000001, 'gini = 0.0\\nsamples = 1\\nvalue = [0, 1]\\nclass = Survived'),\n",
       " Text(1069.6837944664032, 693.0900000000001, 'Fare <= 31.331\\ngini = 0.172\\nsamples = 21\\nvalue = [19, 2]\\nclass = Unsurvived'),\n",
       " Text(1060.8616600790515, 641.7500000000001, 'gini = 0.0\\nsamples = 12\\nvalue = [12, 0]\\nclass = Unsurvived'),\n",
       " Text(1078.505928853755, 641.7500000000001, 'Fare <= 32.881\\ngini = 0.346\\nsamples = 9\\nvalue = [7, 2]\\nclass = Unsurvived'),\n",
       " Text(1069.6837944664032, 590.4100000000001, 'gini = 0.0\\nsamples = 2\\nvalue = [0, 2]\\nclass = Survived'),\n",
       " Text(1087.3280632411067, 590.4100000000001, 'gini = 0.0\\nsamples = 7\\nvalue = [7, 0]\\nclass = Unsurvived')]"
      ]
     },
     "execution_count": 60,
     "metadata": {},
     "output_type": "execute_result"
    },
    {
     "data": {
      "image/png": "[encoded data removed]",
      "text/plain": [
       "<Figure size 1440x1224 with 1 Axes>"
      ]
     },
     "metadata": {
      "needs_background": "light"
     },
     "output_type": "display_data"
    }
   ],
   "source": [
    "# 시각화\n",
    "from sklearn import tree\n",
    "import matplotlib.pyplot as plt\n",
    "plt.figure(figsize=(20,17))\n",
    "feature_names=['Pclass', 'Sex', 'Age', 'Fare', 'Cabin', 'Embarked','FamilySize']\n",
    "tree.plot_tree(tree_dec,\n",
    "              class_names=['Unsurvived','Survived'],\n",
    "              feature_names=feature_names,\n",
    "              impurity=True,\n",
    "              filled=True,\n",
    "              rounded=True)\n",
    "\n"
   ]
  },
  {
   "cell_type": "code",
   "execution_count": 61,
   "id": "c3c0ddda",
   "metadata": {},
   "outputs": [
    {
     "name": "stdout",
     "output_type": "stream",
     "text": [
      "importance :  [0.08033819 0.30573533 0.25926611 0.23937846 0.03845764 0.01882151\n",
      " 0.05800277]\n"
     ]
    }
   ],
   "source": [
    "# Pclass\tSex\tAge\tFare\tCabin\tEmbarked\tFamilySize\n",
    "print(\"importance : \" , tree_dec.feature_importances_)"
   ]
  },
  {
   "cell_type": "code",
   "execution_count": 62,
   "id": "8fbe9015",
   "metadata": {},
   "outputs": [
    {
     "name": "stdout",
     "output_type": "stream",
     "text": [
      "Pclass: 0.080\n",
      "Sex: 0.306\n",
      "Age: 0.259\n",
      "Fare: 0.239\n",
      "Cabin: 0.038\n",
      "Embarked: 0.019\n",
      "FamilySize: 0.058\n"
     ]
    }
   ],
   "source": [
    "for name, value in zip(feature_names, tree_dec.feature_importances_):\n",
    "    print('{0}: {1:.3f}'.format(name, value))"
   ]
  },
  {
   "cell_type": "code",
   "execution_count": 63,
   "id": "ea8e4f28",
   "metadata": {},
   "outputs": [
    {
     "data": {
      "text/plain": [
       "<AxesSubplot:>"
      ]
     },
     "execution_count": 63,
     "metadata": {},
     "output_type": "execute_result"
    },
    {
     "data": {
      "image/png": "[encoded data removed]",
      "text/plain": [
       "<Figure size 432x288 with 1 Axes>"
      ]
     },
     "metadata": {
      "needs_background": "light"
     },
     "output_type": "display_data"
    }
   ],
   "source": [
    "import seaborn as sns\n",
    "sns.barplot(x=tree_dec.feature_importances_, y=feature_names)"
   ]
  },
  {
   "cell_type": "code",
   "execution_count": 76,
   "id": "28e6d0e5",
   "metadata": {},
   "outputs": [
    {
     "data": {
      "text/plain": [
       "GridSearchCV(cv=5, estimator=DecisionTreeClassifier(),\n",
       "             param_grid={'max_depth': [2, 3, 5, 10],\n",
       "                         'min_samples_leaf': [1, 5, 8],\n",
       "                         'min_samples_split': [2, 3, 5]},\n",
       "             scoring='accuracy')"
      ]
     },
     "execution_count": 76,
     "metadata": {},
     "output_type": "execute_result"
    }
   ],
   "source": [
    "from sklearn.model_selection import GridSearchCV\n",
    "from sklearn.metrics import accuracy_score\n",
    "\n",
    "parameters = {\n",
    "             'max_depth': [2, 3, 5, 10],\n",
    "             'min_samples_split': [2, 3, 5],\n",
    "             'min_samples_leaf': [1, 5, 8]\n",
    "}\n",
    "\n",
    "# parameters = {\n",
    "#              'max_depth': [8, 10, 12,15],\n",
    "#              'min_samples_split': [4, 5,7],\n",
    "#              'min_samples_leaf': [1, 2, 3]\n",
    "# }\n",
    "\n",
    "grid_dclf = GridSearchCV(tree_dec,\n",
    "                        param_grid=parameters,\n",
    "                        scoring='accuracy',\n",
    "                        cv=5)\n",
    "grid_dclf"
   ]
  },
  {
   "cell_type": "code",
   "execution_count": 77,
   "id": "750e851f",
   "metadata": {},
   "outputs": [
    {
     "data": {
      "text/plain": [
       "GridSearchCV(cv=5, estimator=DecisionTreeClassifier(),\n",
       "             param_grid={'max_depth': [2, 3, 5, 10],\n",
       "                         'min_samples_leaf': [1, 5, 8],\n",
       "                         'min_samples_split': [2, 3, 5]},\n",
       "             scoring='accuracy')"
      ]
     },
     "execution_count": 77,
     "metadata": {},
     "output_type": "execute_result"
    }
   ],
   "source": [
    "grid_dclf.fit(x_train, y_train)"
   ]
  },
  {
   "cell_type": "code",
   "execution_count": 78,
   "id": "df290e1d",
   "metadata": {},
   "outputs": [
    {
     "name": "stdout",
     "output_type": "stream",
     "text": [
      "GridSearchCV 최적 하이퍼 파라미터:{'max_depth': 10, 'min_samples_leaf': 8, 'min_samples_split': 5}\n"
     ]
    }
   ],
   "source": [
    "print(f'GridSearchCV 최적 하이퍼 파라미터:{grid_dclf.best_params_}')"
   ]
  },
  {
   "cell_type": "code",
   "execution_count": 79,
   "id": "3025aa11",
   "metadata": {},
   "outputs": [
    {
     "name": "stdout",
     "output_type": "stream",
     "text": [
      "GridSearchCV 최고 정확도 : 0.7964\n"
     ]
    }
   ],
   "source": [
    "print(f'GridSearchCV 최고 정확도 : {round(grid_dclf.best_score_,4)}')"
   ]
  },
  {
   "cell_type": "code",
   "execution_count": 80,
   "id": "eae2a6d9",
   "metadata": {},
   "outputs": [
    {
     "name": "stdout",
     "output_type": "stream",
     "text": [
      "테스트 세트에서의 DecisionTreeClassifier 정확도: 0.8072\n"
     ]
    }
   ],
   "source": [
    "best_dclf = grid_dclf.best_estimator_\n",
    "# GridSearchCV의 최적 하이퍼 파라미터로 학습된 Estimator로 예측 및 평가 수행\n",
    "dpredictions = best_dclf.predict(x_valid)\n",
    "accuracy = accuracy_score(y_valid, dpredictions)\n",
    "print(f'테스트 세트에서의 DecisionTreeClassifier 정확도: {round(accuracy, 4)}')"
   ]
  },
  {
   "cell_type": "code",
   "execution_count": 82,
   "id": "b8b360c1",
   "metadata": {},
   "outputs": [
    {
     "name": "stdout",
     "output_type": "stream",
     "text": [
      "DecisionTreeClassifier 정확도: 0.7713\n"
     ]
    }
   ],
   "source": [
    "# DecisionTreeClassifier 학습/예측/평가\n",
    "tree_dec.fit(x_train, y_train)\n",
    "dt_pred = tree_dec.predict(x_valid)\n",
    "print('DecisionTreeClassifier 정확도: {0:.4f}'\n",
    "       .format(accuracy_score(y_valid, dt_pred)))"
   ]
  },
  {
   "cell_type": "code",
   "execution_count": 84,
   "id": "2bb35987",
   "metadata": {},
   "outputs": [
    {
     "name": "stdout",
     "output_type": "stream",
     "text": [
      "0.7713004484304933\n",
      "총 223명 중 77.130% 정확도로 생존을 맞춤\n"
     ]
    }
   ],
   "source": [
    "# 검증용(valid) 데이터로 검증 후 결과를 비교하여 결과 확인 \n",
    "prediction = tree_dec.predict(x_valid)  \n",
    "accuracy = accuracy_score(prediction, y_valid)\n",
    "print(accuracy)\n",
    "length = y_valid.shape[0]\n",
    "print(f'총 {length}명 중 {accuracy * 100:.3f}% 정확도로 생존을 맞춤')"
   ]
  },
  {
   "cell_type": "code",
   "execution_count": 85,
   "id": "ad0c705d",
   "metadata": {},
   "outputs": [
    {
     "data": {
      "text/plain": [
       "[Text(639.1745689655172, 882.1145454545456, 'Sex <= 0.5\\ngini = 0.468\\nsamples = 668\\nvalue = [419, 249]\\nclass = Unsurvived'),\n",
       " Text(406.07327586206895, 798.1036363636365, 'Cabin <= 0.5\\ngini = 0.295\\nsamples = 433\\nvalue = [355, 78]\\nclass = Unsurvived'),\n",
       " Text(247.73275862068965, 714.0927272727274, 'Fare <= 49.55\\ngini = 0.241\\nsamples = 378\\nvalue = [325, 53]\\nclass = Unsurvived'),\n",
       " Text(142.70689655172413, 630.0818181818183, 'Age <= 13.0\\ngini = 0.212\\nsamples = 348\\nvalue = [306, 42]\\nclass = Unsurvived'),\n",
       " Text(64.13793103448276, 546.0709090909093, 'FamilySize <= 3.5\\ngini = 0.465\\nsamples = 19\\nvalue = [12, 7]\\nclass = Unsurvived'),\n",
       " Text(38.48275862068965, 462.0600000000001, 'gini = 0.219\\nsamples = 8\\nvalue = [1, 7]\\nclass = Survived'),\n",
       " Text(89.79310344827586, 462.0600000000001, 'gini = 0.0\\nsamples = 11\\nvalue = [11, 0]\\nclass = Unsurvived'),\n",
       " Text(221.27586206896552, 546.0709090909093, 'Pclass <= 1.5\\ngini = 0.19\\nsamples = 329\\nvalue = [294, 35]\\nclass = Unsurvived'),\n",
       " Text(141.10344827586206, 462.0600000000001, 'Age <= 35.5\\ngini = 0.42\\nsamples = 20\\nvalue = [14, 6]\\nclass = Unsurvived'),\n",
       " Text(115.44827586206897, 378.049090909091, 'gini = 0.5\\nsamples = 10\\nvalue = [5, 5]\\nclass = Unsurvived'),\n",
       " Text(166.75862068965517, 378.049090909091, 'gini = 0.18\\nsamples = 10\\nvalue = [9, 1]\\nclass = Unsurvived'),\n",
       " Text(301.44827586206895, 462.0600000000001, 'Age <= 32.25\\ngini = 0.17\\nsamples = 309\\nvalue = [280, 29]\\nclass = Unsurvived'),\n",
       " Text(218.06896551724137, 378.049090909091, 'Age <= 30.75\\ngini = 0.198\\nsamples = 233\\nvalue = [207, 26]\\nclass = Unsurvived'),\n",
       " Text(192.41379310344828, 294.0381818181819, 'Embarked <= 0.5\\ngini = 0.175\\nsamples = 217\\nvalue = [196, 21]\\nclass = Unsurvived'),\n",
       " Text(102.62068965517241, 210.02727272727282, 'Fare <= 7.798\\ngini = 0.133\\nsamples = 167\\nvalue = [155, 12]\\nclass = Unsurvived'),\n",
       " Text(51.310344827586206, 126.01636363636374, 'Fare <= 7.663\\ngini = 0.266\\nsamples = 38\\nvalue = [32, 6]\\nclass = Unsurvived'),\n",
       " Text(25.655172413793103, 42.005454545454654, 'gini = 0.153\\nsamples = 24\\nvalue = [22, 2]\\nclass = Unsurvived'),\n",
       " Text(76.9655172413793, 42.005454545454654, 'gini = 0.408\\nsamples = 14\\nvalue = [10, 4]\\nclass = Unsurvived'),\n",
       " Text(153.9310344827586, 126.01636363636374, 'Age <= 20.5\\ngini = 0.089\\nsamples = 129\\nvalue = [123, 6]\\nclass = Unsurvived'),\n",
       " Text(128.27586206896552, 42.005454545454654, 'gini = 0.202\\nsamples = 35\\nvalue = [31, 4]\\nclass = Unsurvived'),\n",
       " Text(179.58620689655172, 42.005454545454654, 'gini = 0.042\\nsamples = 94\\nvalue = [92, 2]\\nclass = Unsurvived'),\n",
       " Text(282.2068965517241, 210.02727272727282, 'Fare <= 11.287\\ngini = 0.295\\nsamples = 50\\nvalue = [41, 9]\\nclass = Unsurvived'),\n",
       " Text(256.55172413793105, 126.01636363636374, 'Age <= 29.35\\ngini = 0.229\\nsamples = 38\\nvalue = [33, 5]\\nclass = Unsurvived'),\n",
       " Text(230.89655172413794, 42.005454545454654, 'gini = 0.42\\nsamples = 10\\nvalue = [7, 3]\\nclass = Unsurvived'),\n",
       " Text(282.2068965517241, 42.005454545454654, 'gini = 0.133\\nsamples = 28\\nvalue = [26, 2]\\nclass = Unsurvived'),\n",
       " Text(307.8620689655172, 126.01636363636374, 'gini = 0.444\\nsamples = 12\\nvalue = [8, 4]\\nclass = Unsurvived'),\n",
       " Text(243.72413793103448, 294.0381818181819, 'gini = 0.43\\nsamples = 16\\nvalue = [11, 5]\\nclass = Unsurvived'),\n",
       " Text(384.82758620689657, 378.049090909091, 'Fare <= 8.227\\ngini = 0.076\\nsamples = 76\\nvalue = [73, 3]\\nclass = Unsurvived'),\n",
       " Text(359.17241379310343, 294.0381818181819, 'Fare <= 7.91\\ngini = 0.161\\nsamples = 34\\nvalue = [31, 3]\\nclass = Unsurvived'),\n",
       " Text(333.51724137931035, 210.02727272727282, 'gini = 0.0\\nsamples = 23\\nvalue = [23, 0]\\nclass = Unsurvived'),\n",
       " Text(384.82758620689657, 210.02727272727282, 'gini = 0.397\\nsamples = 11\\nvalue = [8, 3]\\nclass = Unsurvived'),\n",
       " Text(410.48275862068965, 294.0381818181819, 'gini = 0.0\\nsamples = 42\\nvalue = [42, 0]\\nclass = Unsurvived'),\n",
       " Text(352.7586206896552, 630.0818181818183, 'Fare <= 61.548\\ngini = 0.464\\nsamples = 30\\nvalue = [19, 11]\\nclass = Unsurvived'),\n",
       " Text(327.1034482758621, 546.0709090909093, 'gini = 0.444\\nsamples = 9\\nvalue = [3, 6]\\nclass = Survived'),\n",
       " Text(378.41379310344826, 546.0709090909093, 'Fare <= 86.29\\ngini = 0.363\\nsamples = 21\\nvalue = [16, 5]\\nclass = Unsurvived'),\n",
       " Text(352.7586206896552, 462.0600000000001, 'gini = 0.0\\nsamples = 11\\nvalue = [11, 0]\\nclass = Unsurvived'),\n",
       " Text(404.0689655172414, 462.0600000000001, 'gini = 0.5\\nsamples = 10\\nvalue = [5, 5]\\nclass = Unsurvived'),\n",
       " Text(564.4137931034483, 714.0927272727274, 'Age <= 57.0\\ngini = 0.496\\nsamples = 55\\nvalue = [30, 25]\\nclass = Unsurvived'),\n",
       " Text(538.7586206896551, 630.0818181818183, 'FamilySize <= 0.5\\ngini = 0.498\\nsamples = 47\\nvalue = [22, 25]\\nclass = Survived'),\n",
       " Text(487.44827586206895, 546.0709090909093, 'Cabin <= 3.5\\ngini = 0.464\\nsamples = 30\\nvalue = [19, 11]\\nclass = Unsurvived'),\n",
       " Text(461.7931034482759, 462.0600000000001, 'Fare <= 28.275\\ngini = 0.499\\nsamples = 19\\nvalue = [9, 10]\\nclass = Survived'),\n",
       " Text(436.13793103448273, 378.049090909091, 'gini = 0.48\\nsamples = 10\\nvalue = [4, 6]\\nclass = Survived'),\n",
       " Text(487.44827586206895, 378.049090909091, 'gini = 0.494\\nsamples = 9\\nvalue = [5, 4]\\nclass = Unsurvived'),\n",
       " Text(513.1034482758621, 462.0600000000001, 'gini = 0.165\\nsamples = 11\\nvalue = [10, 1]\\nclass = Unsurvived'),\n",
       " Text(590.0689655172414, 546.0709090909093, 'Age <= 26.0\\ngini = 0.291\\nsamples = 17\\nvalue = [3, 14]\\nclass = Survived'),\n",
       " Text(564.4137931034483, 462.0600000000001, 'gini = 0.375\\nsamples = 8\\nvalue = [2, 6]\\nclass = Survived'),\n",
       " Text(615.7241379310344, 462.0600000000001, 'gini = 0.198\\nsamples = 9\\nvalue = [1, 8]\\nclass = Survived'),\n",
       " Text(590.0689655172414, 630.0818181818183, 'gini = 0.0\\nsamples = 8\\nvalue = [8, 0]\\nclass = Unsurvived'),\n",
       " Text(872.2758620689655, 798.1036363636365, 'Pclass <= 2.5\\ngini = 0.396\\nsamples = 235\\nvalue = [64, 171]\\nclass = Survived'),\n",
       " Text(769.6551724137931, 714.0927272727274, 'Fare <= 28.856\\ngini = 0.137\\nsamples = 122\\nvalue = [9, 113]\\nclass = Survived'),\n",
       " Text(718.3448275862069, 630.0818181818183, 'Age <= 37.0\\ngini = 0.249\\nsamples = 48\\nvalue = [7, 41]\\nclass = Survived'),\n",
       " Text(692.6896551724138, 546.0709090909093, 'Age <= 27.5\\ngini = 0.165\\nsamples = 33\\nvalue = [3, 30]\\nclass = Survived'),\n",
       " Text(667.0344827586207, 462.0600000000001, 'Age <= 21.0\\ngini = 0.291\\nsamples = 17\\nvalue = [3, 14]\\nclass = Survived'),\n",
       " Text(641.3793103448276, 378.049090909091, 'gini = 0.0\\nsamples = 9\\nvalue = [0, 9]\\nclass = Survived'),\n",
       " Text(692.6896551724138, 378.049090909091, 'gini = 0.469\\nsamples = 8\\nvalue = [3, 5]\\nclass = Survived'),\n",
       " Text(718.3448275862069, 462.0600000000001, 'gini = 0.0\\nsamples = 16\\nvalue = [0, 16]\\nclass = Survived'),\n",
       " Text(744.0, 546.0709090909093, 'gini = 0.391\\nsamples = 15\\nvalue = [4, 11]\\nclass = Survived'),\n",
       " Text(820.9655172413793, 630.0818181818183, 'FamilySize <= 2.5\\ngini = 0.053\\nsamples = 74\\nvalue = [2, 72]\\nclass = Survived'),\n",
       " Text(795.3103448275862, 546.0709090909093, 'gini = 0.0\\nsamples = 61\\nvalue = [0, 61]\\nclass = Survived'),\n",
       " Text(846.6206896551724, 546.0709090909093, 'gini = 0.26\\nsamples = 13\\nvalue = [2, 11]\\nclass = Survived'),\n",
       " Text(974.8965517241379, 714.0927272727274, 'FamilySize <= 3.5\\ngini = 0.5\\nsamples = 113\\nvalue = [55, 58]\\nclass = Survived'),\n",
       " Text(923.5862068965517, 630.0818181818183, 'Age <= 7.0\\ngini = 0.478\\nsamples = 91\\nvalue = [36, 55]\\nclass = Survived'),\n",
       " Text(897.9310344827586, 546.0709090909093, 'gini = 0.0\\nsamples = 9\\nvalue = [0, 9]\\nclass = Survived'),\n",
       " Text(949.2413793103448, 546.0709090909093, 'Fare <= 8.04\\ngini = 0.493\\nsamples = 82\\nvalue = [36, 46]\\nclass = Survived'),\n",
       " Text(885.1034482758621, 462.0600000000001, 'Fare <= 7.802\\ngini = 0.408\\nsamples = 35\\nvalue = [10, 25]\\nclass = Survived'),\n",
       " Text(859.448275862069, 378.049090909091, 'Fare <= 7.742\\ngini = 0.444\\nsamples = 27\\nvalue = [9, 18]\\nclass = Survived'),\n",
       " Text(833.7931034482758, 294.0381818181819, 'gini = 0.298\\nsamples = 11\\nvalue = [2, 9]\\nclass = Survived'),\n",
       " Text(885.1034482758621, 294.0381818181819, 'gini = 0.492\\nsamples = 16\\nvalue = [7, 9]\\nclass = Survived'),\n",
       " Text(910.7586206896551, 378.049090909091, 'gini = 0.219\\nsamples = 8\\nvalue = [1, 7]\\nclass = Survived'),\n",
       " Text(1013.3793103448276, 462.0600000000001, 'Fare <= 15.373\\ngini = 0.494\\nsamples = 47\\nvalue = [26, 21]\\nclass = Unsurvived'),\n",
       " Text(962.0689655172414, 378.049090909091, 'Fare <= 13.465\\ngini = 0.365\\nsamples = 25\\nvalue = [19, 6]\\nclass = Unsurvived'),\n",
       " Text(936.4137931034483, 294.0381818181819, 'FamilySize <= 0.5\\ngini = 0.457\\nsamples = 17\\nvalue = [11, 6]\\nclass = Unsurvived'),\n",
       " Text(910.7586206896551, 210.02727272727282, 'gini = 0.346\\nsamples = 9\\nvalue = [7, 2]\\nclass = Unsurvived'),\n",
       " Text(962.0689655172414, 210.02727272727282, 'gini = 0.5\\nsamples = 8\\nvalue = [4, 4]\\nclass = Unsurvived'),\n",
       " Text(987.7241379310344, 294.0381818181819, 'gini = 0.0\\nsamples = 8\\nvalue = [8, 0]\\nclass = Unsurvived'),\n",
       " Text(1064.6896551724137, 378.049090909091, 'Embarked <= 0.5\\ngini = 0.434\\nsamples = 22\\nvalue = [7, 15]\\nclass = Survived'),\n",
       " Text(1039.0344827586207, 294.0381818181819, 'gini = 0.497\\nsamples = 13\\nvalue = [6, 7]\\nclass = Survived'),\n",
       " Text(1090.344827586207, 294.0381818181819, 'gini = 0.198\\nsamples = 9\\nvalue = [1, 8]\\nclass = Survived'),\n",
       " Text(1026.2068965517242, 630.0818181818183, 'FamilySize <= 5.5\\ngini = 0.236\\nsamples = 22\\nvalue = [19, 3]\\nclass = Unsurvived'),\n",
       " Text(1000.551724137931, 546.0709090909093, 'gini = 0.0\\nsamples = 12\\nvalue = [12, 0]\\nclass = Unsurvived'),\n",
       " Text(1051.8620689655172, 546.0709090909093, 'gini = 0.42\\nsamples = 10\\nvalue = [7, 3]\\nclass = Unsurvived')]"
      ]
     },
     "execution_count": 85,
     "metadata": {},
     "output_type": "execute_result"
    },
    {
     "data": {
      "image/png": "[encoded data removed]",
      "text/plain": [
       "<Figure size 1440x1224 with 1 Axes>"
      ]
     },
     "metadata": {
      "needs_background": "light"
     },
     "output_type": "display_data"
    }
   ],
   "source": [
    "# 시각화\n",
    "plt.figure(figsize=(20,17))\n",
    "feature_names=['Pclass', 'Sex', 'Age', 'Fare', 'Cabin', 'Embarked','FamilySize']\n",
    "tree.plot_tree(best_dclf,\n",
    "              class_names=['Unsurvived','Survived'],\n",
    "              feature_names=feature_names,\n",
    "              impurity=True,\n",
    "              filled=True,\n",
    "              rounded=True)"
   ]
  },
  {
   "cell_type": "code",
   "execution_count": null,
   "id": "7bd3c017",
   "metadata": {},
   "outputs": [],
   "source": []
  }
 ],
 "metadata": {
  "kernelspec": {
   "display_name": "Python 3 (ipykernel)",
   "language": "python",
   "name": "python3"
  },
  "language_info": {
   "codemirror_mode": {
    "name": "ipython",
    "version": 3
   },
   "file_extension": ".py",
   "mimetype": "text/x-python",
   "name": "python",
   "nbconvert_exporter": "python",
   "pygments_lexer": "ipython3",
   "version": "3.9.12"
  }
 },
 "nbformat": 4,
 "nbformat_minor": 5
}
