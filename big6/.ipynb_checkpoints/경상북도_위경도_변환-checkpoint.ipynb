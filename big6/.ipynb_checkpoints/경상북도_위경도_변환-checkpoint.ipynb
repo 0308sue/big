{
 "cells": [
  {
   "cell_type": "code",
   "execution_count": 1,
   "id": "cfbbf720",
   "metadata": {},
   "outputs": [],
   "source": [
    "# pip install geopy"
   ]
  },
  {
   "cell_type": "code",
   "execution_count": 2,
   "id": "2ba9c357",
   "metadata": {},
   "outputs": [
    {
     "name": "stdout",
     "output_type": "stream",
     "text": [
      "39.8275432 , 127.6507525\n"
     ]
    }
   ],
   "source": [
    "from geopy.geocoders import Nominatim\n",
    "from pprint import pprint\n",
    "import re\n",
    "app = Nominatim(user_agent='tutorial')\n",
    "location = app.geocode('서호')\n",
    "# location = '구미 해평(도흥리-일선교)'\n",
    "# location = re.sub('[(].*[)]', '', location)\n",
    "# #위도\n",
    "# print(location)\n",
    "#경도 \n",
    "print(location.latitude,',',location.longitude)\n",
    "# print(location.longitude)\n"
   ]
  },
  {
   "cell_type": "code",
   "execution_count": 3,
   "id": "d243e819",
   "metadata": {},
   "outputs": [],
   "source": [
    "from geopy.geocoders import Nominatim\n",
    "from pprint import pprint\n",
    "import re\n",
    "app = Nominatim(user_agent='tutorial')\n",
    "def getlalo(df):\n",
    "    latitude = [] #리스트 생성\n",
    "    longitude = [] #리스트 생성\n",
    "    lalo = pd.DataFrame()\n",
    "    for row in df['구분'] : #'구분' 값을 얻어옴  \n",
    "        row = re.sub('[(].*[)]', '', row)\n",
    "        location = app.geocode(row) \n",
    "        if(location is None):  \n",
    "            latitude.append('-')\n",
    "            longitude.append('-')\n",
    "        else : \n",
    "            latitude.append(location.latitude)\n",
    "            longitude.append(location.longitude)\n",
    "\n",
    "    lalo['위도'] = latitude #열에 순차대로 원소를 대입\n",
    "    lalo['경도'] = longitude #열에 순차대로 원소를 대입\n",
    "    update_num = [2,16,17,18,19,20]\n",
    "    update_data = ['일선교','방어진항','영일대해수욕장','대진항','구산 해수욕장','고포해수욕장']\n",
    "    for index, value in enumerate(update_data) :\n",
    "        location = app.geocode(value) \n",
    "        i = update_num[index]\n",
    "        lalo.loc[i, '위도'] = location.latitude\n",
    "        lalo.loc[i, '경도'] = location.longitude\n",
    "    addr = pd.concat([df,lalo],axis=1)\n",
    "    return addr"
   ]
  },
  {
   "cell_type": "code",
   "execution_count": 19,
   "id": "bd2b23fd",
   "metadata": {
    "scrolled": true
   },
   "outputs": [],
   "source": [
    "import pandas as pd\n",
    "import re\n",
    "files = ['경상북도 지역별 개체수 분포데이터_2018년~ 2022년','경상북도 지역별 개체수 분포데이터 2017년10월~2018년03월','경상북도 지역별 개체수 분포데이터 2018년10월~2019년03월','경상북도 지역별 개체수 분포데이터 2019년10월~2020년03월','경상북도 지역별 개체수 분포데이터 2020년10월~ 2021년03월','경상북도 지역별 개체수 분포데이터 2021년10월~2022년03월']\n",
    "\n",
    "for f in files:\n",
    "    f1=f+'.csv'\n",
    "    df = pd.read_csv(f1, encoding='utf8')\n",
    "    addr = getlalo(df)\n",
    "    addr.to_csv(f+'_위경도추가.csv', encoding='CP949')"
   ]
  },
  {
   "cell_type": "code",
   "execution_count": null,
   "id": "7347829f",
   "metadata": {},
   "outputs": [],
   "source": []
  }
 ],
 "metadata": {
  "kernelspec": {
   "display_name": "Python 3 (ipykernel)",
   "language": "python",
   "name": "python3"
  },
  "language_info": {
   "codemirror_mode": {
    "name": "ipython",
    "version": 3
   },
   "file_extension": ".py",
   "mimetype": "text/x-python",
   "name": "python",
   "nbconvert_exporter": "python",
   "pygments_lexer": "ipython3",
   "version": "3.9.12"
  }
 },
 "nbformat": 4,
 "nbformat_minor": 5
}
