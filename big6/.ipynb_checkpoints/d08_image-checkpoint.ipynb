{
 "cells": [
  {
   "cell_type": "code",
   "execution_count": 1,
   "id": "bdabc0b2",
   "metadata": {},
   "outputs": [],
   "source": [
    "from PIL import Image,ImageFilter"
   ]
  },
  {
   "cell_type": "code",
   "execution_count": 2,
   "id": "1ea0a78a",
   "metadata": {},
   "outputs": [
    {
     "data": {
      "text/plain": [
       "(800, 600)"
      ]
     },
     "execution_count": 2,
     "metadata": {},
     "output_type": "execute_result"
    }
   ],
   "source": [
    "im = Image.open('k_wordCloud.jpg')\n",
    "im.size"
   ]
  },
  {
   "cell_type": "code",
   "execution_count": null,
   "id": "3f68d012",
   "metadata": {},
   "outputs": [],
   "source": [
    "im.save('k_wordCloud.jpg')"
   ]
  }
 ],
 "metadata": {
  "kernelspec": {
   "display_name": "Python 3 (ipykernel)",
   "language": "python",
   "name": "python3"
  },
  "language_info": {
   "codemirror_mode": {
    "name": "ipython",
    "version": 3
   },
   "file_extension": ".py",
   "mimetype": "text/x-python",
   "name": "python",
   "nbconvert_exporter": "python",
   "pygments_lexer": "ipython3",
   "version": "3.9.12"
  }
 },
 "nbformat": 4,
 "nbformat_minor": 5
}
