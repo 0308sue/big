{
 "cells": [
  {
   "cell_type": "markdown",
   "id": "ae5f3b9d",
   "metadata": {},
   "source": [
    "### 1.정확도(Accuracy) : 실제데이터와 예측데이터가 얼마나 같은지를 판단하는 지표\n",
    "+ 정확도 =  예측 데이처가 동일한 데이터 건수 / 전체 예측데이터 건수\n",
    "+ 직관적으로 모델 예측 성능을 나타내는 평가 지표이지만 이진 분류의 경우 데이터의 구성에 따라 모델 성능을 왜곡할 수 있음 가령 타이타닉 예제에서도 여성의 샨조"
   ]
  },
  {
   "cell_type": "code",
   "execution_count": 1,
   "id": "b7103066",
   "metadata": {},
   "outputs": [],
   "source": [
    "import pandas as pd\n",
    "import numpy as np"
   ]
  },
  {
   "cell_type": "code",
   "execution_count": 2,
   "id": "1fb32a58",
   "metadata": {},
   "outputs": [],
   "source": [
    "### fit()메서드는 아무것도 수행하지 않고, \n",
    "#predict()는 Sex 피처가 1이면 0,그렇지 않으면 1로 예측하는 단순한 분류기 생성\n",
    "\n",
    "from sklearn.base import BaseEstimator\n",
    "class MyDummyClassifier(BaseEstimator):\n",
    "    #fit() 메소드는 아무것도 수행하지 않고\n",
    "    def fit(self,X,y=None):\n",
    "        pass\n",
    "    #predict 메소드는 단순히 Sex 피처가 1이면 0, 아니면 1로 예측\n",
    "    def predict(self,X):\n",
    "        pred = np.zeros((X.shape[0],1))\n",
    "        for i in range(X.shape[0]):\n",
    "            if X['Sex'].iloc[i] == 1:\n",
    "                pred[i]=0\n",
    "            else:\n",
    "                pred[i] = 1\n",
    "        return pred"
   ]
  },
  {
   "cell_type": "code",
   "execution_count": 3,
   "id": "3c8c241c",
   "metadata": {},
   "outputs": [],
   "source": [
    "#생성된 MyDummyClassifier를 이용해 타이타닉 생존자 예측 수행\n",
    "from sklearn.model_selection import train_test_split\n",
    "from sklearn.metrics import accuracy_score\n",
    "from sklearn.preprocessing import LabelEncoder"
   ]
  },
  {
   "cell_type": "code",
   "execution_count": 13,
   "id": "2b381a22",
   "metadata": {},
   "outputs": [],
   "source": [
    "#Null 처리 함수\n",
    "def fillna(df):\n",
    "    df['Age'].fillna(df['Age'].mean(),inplace=True)\n",
    "    df['Cabin'].fillna('N',inplace=True)\n",
    "    df['Embarked'].fillna('N',inplace=True)\n",
    "    df['Fare'].fillna(0,inplace=True)\n",
    "    \n",
    "#불필요한 feature 제거\n",
    "def drop_features(df):\n",
    "    df.drop(['PassengerId','Name','Ticket'],axis=1,inplace=True)\n",
    "    return df\n",
    "\n",
    "#Label Encoding 수행\n",
    "def format_features(df):\n",
    "    df['Cabin']=df['Cabin'].str[:1]\n",
    "    features = ['Cabin','Sex','Embarked']\n",
    "    for feature in features:\n",
    "        le =  LabelEncoder()\n",
    "        le.fit(df[feature])\n",
    "        df[feature] = le.transform(df[feature])\n",
    "    return df\n",
    "\n",
    "#위에서 만든 함수 실행\n",
    "def transform_features(df):\n",
    "    df = fillna(df)\n",
    "    df = drop_features(df)\n",
    "    df = format_features(df)\n",
    "    return df"
   ]
  },
  {
   "cell_type": "code",
   "execution_count": 14,
   "id": "4d02e832",
   "metadata": {},
   "outputs": [
    {
     "ename": "AttributeError",
     "evalue": "'NoneType' object has no attribute 'drop'",
     "output_type": "error",
     "traceback": [
      "\u001b[1;31m---------------------------------------------------------------------------\u001b[0m",
      "\u001b[1;31mAttributeError\u001b[0m                            Traceback (most recent call last)",
      "Input \u001b[1;32mIn [14]\u001b[0m, in \u001b[0;36m<cell line: 9>\u001b[1;34m()\u001b[0m\n\u001b[0;32m      4\u001b[0m X_titanic_df \u001b[38;5;241m=\u001b[39m titanic_df\u001b[38;5;241m.\u001b[39mdrop([\u001b[38;5;124m'\u001b[39m\u001b[38;5;124mSurvived\u001b[39m\u001b[38;5;124m'\u001b[39m],axis\u001b[38;5;241m=\u001b[39m\u001b[38;5;241m1\u001b[39m)\n\u001b[0;32m      5\u001b[0m \u001b[38;5;66;03m# fillna(X_titanic_df)\u001b[39;00m\n\u001b[0;32m      6\u001b[0m \u001b[38;5;66;03m# drop_features(X_titanic_df)\u001b[39;00m\n\u001b[0;32m      7\u001b[0m \u001b[38;5;66;03m# format_features(X_titanic_df)\u001b[39;00m\n\u001b[0;32m      8\u001b[0m \u001b[38;5;66;03m# X_titanic_df\u001b[39;00m\n\u001b[1;32m----> 9\u001b[0m X_titanic_df \u001b[38;5;241m=\u001b[39m \u001b[43mtransform_features\u001b[49m\u001b[43m(\u001b[49m\u001b[43mX_titanic_df\u001b[49m\u001b[43m)\u001b[49m\n",
      "Input \u001b[1;32mIn [13]\u001b[0m, in \u001b[0;36mtransform_features\u001b[1;34m(df)\u001b[0m\n\u001b[0;32m     24\u001b[0m \u001b[38;5;28;01mdef\u001b[39;00m \u001b[38;5;21mtransform_features\u001b[39m(df):\n\u001b[0;32m     25\u001b[0m     df \u001b[38;5;241m=\u001b[39m fillna(df)\n\u001b[1;32m---> 26\u001b[0m     df \u001b[38;5;241m=\u001b[39m \u001b[43mdrop_features\u001b[49m\u001b[43m(\u001b[49m\u001b[43mdf\u001b[49m\u001b[43m)\u001b[49m\n\u001b[0;32m     27\u001b[0m     df \u001b[38;5;241m=\u001b[39m format_features(df)\n\u001b[0;32m     28\u001b[0m     \u001b[38;5;28;01mreturn\u001b[39;00m df\n",
      "Input \u001b[1;32mIn [13]\u001b[0m, in \u001b[0;36mdrop_features\u001b[1;34m(df)\u001b[0m\n\u001b[0;32m      9\u001b[0m \u001b[38;5;28;01mdef\u001b[39;00m \u001b[38;5;21mdrop_features\u001b[39m(df):\n\u001b[1;32m---> 10\u001b[0m     \u001b[43mdf\u001b[49m\u001b[38;5;241;43m.\u001b[39;49m\u001b[43mdrop\u001b[49m([\u001b[38;5;124m'\u001b[39m\u001b[38;5;124mPassengerId\u001b[39m\u001b[38;5;124m'\u001b[39m,\u001b[38;5;124m'\u001b[39m\u001b[38;5;124mName\u001b[39m\u001b[38;5;124m'\u001b[39m,\u001b[38;5;124m'\u001b[39m\u001b[38;5;124mTicket\u001b[39m\u001b[38;5;124m'\u001b[39m],axis\u001b[38;5;241m=\u001b[39m\u001b[38;5;241m1\u001b[39m,inplace\u001b[38;5;241m=\u001b[39m\u001b[38;5;28;01mTrue\u001b[39;00m)\n\u001b[0;32m     11\u001b[0m     \u001b[38;5;28;01mreturn\u001b[39;00m df\n",
      "\u001b[1;31mAttributeError\u001b[0m: 'NoneType' object has no attribute 'drop'"
     ]
    }
   ],
   "source": [
    "#타이타닉 데이터 로딩 및 학습 데이터 / 테스트 데이터 분할 \n",
    "titanic_df = pd.read_csv('train.csv')\n",
    "y_titanic_df = titanic_df['Survived']\n",
    "X_titanic_df = titanic_df.drop(['Survived'],axis=1)\n",
    "# fillna(X_titanic_df)\n",
    "# drop_features(X_titanic_df)\n",
    "# format_features(X_titanic_df)\n",
    "# X_titanic_df\n",
    "X_titanic_df = transform_features(X_titanic_df)\n",
    "# X_train,X_test,y_train,y_test = train_test_split(X_titanic_df,y_titanic_d,test_size=0.2,random_state=0)"
   ]
  },
  {
   "cell_type": "code",
   "execution_count": null,
   "id": "11c1b9bc",
   "metadata": {},
   "outputs": [],
   "source": [
    "# 위에서 생성한 Dummy Classifier를 활용해서 학습/예측/평가 수행\n",
    "myclf = MyDummyClassifier()\n",
    "myclf.fit(X_train,y_train)\n",
    "mypredictions = myclf.predict(X_test)\n",
    "print('Dummy Classifier의 정확도:{0:.4f}'.formant(accuracy_score(y_test,mypredictions)))"
   ]
  }
 ],
 "metadata": {
  "kernelspec": {
   "display_name": "Python 3 (ipykernel)",
   "language": "python",
   "name": "python3"
  },
  "language_info": {
   "codemirror_mode": {
    "name": "ipython",
    "version": 3
   },
   "file_extension": ".py",
   "mimetype": "text/x-python",
   "name": "python",
   "nbconvert_exporter": "python",
   "pygments_lexer": "ipython3",
   "version": "3.9.12"
  }
 },
 "nbformat": 4,
 "nbformat_minor": 5
}
