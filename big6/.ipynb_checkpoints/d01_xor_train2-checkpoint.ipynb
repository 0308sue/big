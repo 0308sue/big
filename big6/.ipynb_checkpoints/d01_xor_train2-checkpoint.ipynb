{
 "cells": [
  {
   "cell_type": "code",
   "execution_count": 1,
   "id": "63d02c90",
   "metadata": {},
   "outputs": [],
   "source": [
    "from sklearn import svm,metrics\n",
    "import pandas as pd"
   ]
  },
  {
   "cell_type": "code",
   "execution_count": 4,
   "id": "8605b299",
   "metadata": {},
   "outputs": [
    {
     "name": "stdout",
     "output_type": "stream",
     "text": [
      "   0  1  2\n",
      "0  0  0  0\n",
      "1  0  1  1\n",
      "2  1  0  1\n",
      "3  1  1  0\n"
     ]
    },
    {
     "data": {
      "text/plain": [
       "0    0\n",
       "1    1\n",
       "2    1\n",
       "3    0\n",
       "Name: 2, dtype: int64"
      ]
     },
     "execution_count": 4,
     "metadata": {},
     "output_type": "execute_result"
    }
   ],
   "source": [
    "xor_data =[\n",
    "    [0,0,0],[0,1,1],[1,0,1],[1,1,0]\n",
    "]\n",
    "xor_df = pd.DataFrame(xor_data)\n",
    "print(xor_df)\n",
    "\n",
    "#데이터와 레이블 분리\n",
    "xor_data = xor_df.loc[:,0:1]\n",
    "xor_label = xor_df.loc[:,2]\n",
    "xor_label"
   ]
  },
  {
   "cell_type": "code",
   "execution_count": 5,
   "id": "0020145a",
   "metadata": {},
   "outputs": [
    {
     "data": {
      "text/plain": [
       "SVC()"
      ]
     },
     "execution_count": 5,
     "metadata": {},
     "output_type": "execute_result"
    }
   ],
   "source": [
    "#데이터 학습\n",
    "clf = svm.SVC()\n",
    "clf.fit(xor_data,xor_label)"
   ]
  },
  {
   "cell_type": "code",
   "execution_count": 6,
   "id": "a36d1f6e",
   "metadata": {},
   "outputs": [],
   "source": [
    "pre = clf.predict(xor_data)"
   ]
  },
  {
   "cell_type": "code",
   "execution_count": 7,
   "id": "9f51c2f4",
   "metadata": {},
   "outputs": [
    {
     "ename": "NameError",
     "evalue": "name 'ac_score' is not defined",
     "output_type": "error",
     "traceback": [
      "\u001b[1;31m---------------------------------------------------------------------------\u001b[0m",
      "\u001b[1;31mNameError\u001b[0m                                 Traceback (most recent call last)",
      "Input \u001b[1;32mIn [7]\u001b[0m, in \u001b[0;36m<cell line: 2>\u001b[1;34m()\u001b[0m\n\u001b[0;32m      1\u001b[0m metrics\u001b[38;5;241m.\u001b[39maccuracy_score(xor_label,pre)\n\u001b[1;32m----> 2\u001b[0m \u001b[38;5;28mprint\u001b[39m(\u001b[38;5;124m'\u001b[39m\u001b[38;5;124m정답률 : \u001b[39m\u001b[38;5;124m'\u001b[39m,\u001b[43mac_score\u001b[49m)\n",
      "\u001b[1;31mNameError\u001b[0m: name 'ac_score' is not defined"
     ]
    }
   ],
   "source": [
    "ac_score = metrics.accuracy_score(xor_label,pre)\n",
    "print('정답률 : ',ac_score)"
   ]
  },
  {
   "cell_type": "code",
   "execution_count": null,
   "id": "f0727594",
   "metadata": {},
   "outputs": [],
   "source": []
  }
 ],
 "metadata": {
  "kernelspec": {
   "display_name": "Python 3 (ipykernel)",
   "language": "python",
   "name": "python3"
  },
  "language_info": {
   "codemirror_mode": {
    "name": "ipython",
    "version": 3
   },
   "file_extension": ".py",
   "mimetype": "text/x-python",
   "name": "python",
   "nbconvert_exporter": "python",
   "pygments_lexer": "ipython3",
   "version": "3.9.12"
  }
 },
 "nbformat": 4,
 "nbformat_minor": 5
}
