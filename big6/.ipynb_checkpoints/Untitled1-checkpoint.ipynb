{
 "cells": [
  {
   "cell_type": "code",
   "execution_count": 1,
   "id": "22cf3150",
   "metadata": {},
   "outputs": [
    {
     "name": "stdout",
     "output_type": "stream",
     "text": [
      "Collecting pytagcloud\n",
      "  Downloading pytagcloud-0.3.5.tar.gz (754 kB)\n",
      "Building wheels for collected packages: pytagcloud\n",
      "  Building wheel for pytagcloud (setup.py): started\n",
      "  Building wheel for pytagcloud (setup.py): finished with status 'done'\n",
      "  Created wheel for pytagcloud: filename=pytagcloud-0.3.5-py3-none-any.whl size=759866 sha256=727d78be2e49622f48563f2b4d0e7e53afc6e123230e958fb7afc4a7da0ad05f\n",
      "  Stored in directory: c:\\users\\admin\\appdata\\local\\pip\\cache\\wheels\\74\\9f\\93\\6322d7ac8b7c348b7d625f95919691d20cd46d2989dc61b165\n",
      "Successfully built pytagcloud\n",
      "Installing collected packages: pytagcloud\n",
      "Successfully installed pytagcloud-0.3.5\n",
      "Collecting pygame\n",
      "  Downloading pygame-2.1.2-cp39-cp39-win_amd64.whl (8.4 MB)\n",
      "Installing collected packages: pygame\n",
      "Successfully installed pygame-2.1.2\n",
      "Collecting simplejson\n",
      "  Downloading simplejson-3.17.6-cp39-cp39-win_amd64.whl (75 kB)\n",
      "Installing collected packages: simplejson\n",
      "Successfully installed simplejson-3.17.6\n"
     ]
    }
   ],
   "source": [
    "# ! pip install pytagcloud\n",
    "# ! pip install pygame\n",
    "# ! pip install simplejson"
   ]
  },
  {
   "cell_type": "code",
   "execution_count": 2,
   "id": "f025a110",
   "metadata": {},
   "outputs": [
    {
     "name": "stdout",
     "output_type": "stream",
     "text": [
      "pygame 2.1.2 (SDL 2.0.18, Python 3.9.12)\n",
      "Hello from the pygame community. https://www.pygame.org/contribute.html\n"
     ]
    }
   ],
   "source": [
    "import json\n",
    "from konlpy.tag import Okt\n",
    "from collections import Counter\n",
    "import pytagcloud"
   ]
  },
  {
   "cell_type": "code",
   "execution_count": 4,
   "id": "9a8db285",
   "metadata": {},
   "outputs": [
    {
     "name": "stdout",
     "output_type": "stream",
     "text": [
      "지금은 지금은 공부 공부 자바 자바 자바 공부 자바 자바 파이썬\n"
     ]
    }
   ],
   "source": [
    "f= open('data.txt',encoding='utf-8')\n",
    "data = f.read()\n",
    "print(data)\n",
    "f.close()"
   ]
  },
  {
   "cell_type": "code",
   "execution_count": 6,
   "id": "abf14a7b",
   "metadata": {},
   "outputs": [
    {
     "data": {
      "text/plain": [
       "[('자바', 5), ('공부', 3), ('지금', 2), ('파이썬', 1)]"
      ]
     },
     "execution_count": 6,
     "metadata": {},
     "output_type": "execute_result"
    }
   ],
   "source": [
    "nlp = Okt()\n",
    "nouns = nlp.nouns(data)\n",
    "count = Counter(nouns)\n",
    "tag2 = count.most_common(10)\n",
    "tag2"
   ]
  },
  {
   "cell_type": "code",
   "execution_count": null,
   "id": "80d2f4c1",
   "metadata": {},
   "outputs": [],
   "source": [
    "taglist = pytagcloud.make_tags(tag2,maxsize=50)\n",
    "pytagcloud.create_tag_image(taglist,'pytag_word_data.png',size=(640,480),fontname='korean',rectangular=False)"
   ]
  }
 ],
 "metadata": {
  "kernelspec": {
   "display_name": "Python 3 (ipykernel)",
   "language": "python",
   "name": "python3"
  },
  "language_info": {
   "codemirror_mode": {
    "name": "ipython",
    "version": 3
   },
   "file_extension": ".py",
   "mimetype": "text/x-python",
   "name": "python",
   "nbconvert_exporter": "python",
   "pygments_lexer": "ipython3",
   "version": "3.9.12"
  }
 },
 "nbformat": 4,
 "nbformat_minor": 5
}
