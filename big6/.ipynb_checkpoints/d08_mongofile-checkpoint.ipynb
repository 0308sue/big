{
 "cells": [
  {
   "cell_type": "code",
   "execution_count": 1,
   "id": "67279648",
   "metadata": {},
   "outputs": [
    {
     "name": "stdout",
     "output_type": "stream",
     "text": [
      "Collecting pymongo\n",
      "  Downloading pymongo-4.2.0-cp39-cp39-win_amd64.whl (374 kB)\n",
      "Installing collected packages: pymongo\n",
      "Successfully installed pymongo-4.2.0\n"
     ]
    },
    {
     "name": "stderr",
     "output_type": "stream",
     "text": [
      "ERROR: Could not find a version that satisfies the requirement gridfs (from versions: none)\n",
      "ERROR: No matching distribution found for gridfs\n"
     ]
    }
   ],
   "source": [
    "# !pip install pymongo\n",
    "# !pip install gridfs"
   ]
  },
  {
   "cell_type": "code",
   "execution_count": 3,
   "id": "d2552848",
   "metadata": {},
   "outputs": [
    {
     "data": {
      "text/plain": [
       "Database(MongoClient(host=['localhost:27017'], document_class=dict, tz_aware=False, connect=True), 'pyhton_test')"
      ]
     },
     "execution_count": 3,
     "metadata": {},
     "output_type": "execute_result"
    }
   ],
   "source": [
    "from pymongo import MongoClient\n",
    "from gridfs import GridFS\n",
    "db = MongoClient().pyhton_test\n",
    "db"
   ]
  },
  {
   "cell_type": "code",
   "execution_count": 4,
   "id": "4179378d",
   "metadata": {},
   "outputs": [
    {
     "data": {
      "text/plain": [
       "<gridfs.GridFS at 0x1b035cf9700>"
      ]
     },
     "execution_count": 4,
     "metadata": {},
     "output_type": "execute_result"
    }
   ],
   "source": [
    "fs = GridFS(db)\n",
    "fs"
   ]
  },
  {
   "cell_type": "code",
   "execution_count": 5,
   "id": "36a82742",
   "metadata": {},
   "outputs": [
    {
     "name": "stdout",
     "output_type": "stream",
     "text": [
      "f =  <_io.BufferedReader name='test.txt'>\n"
     ]
    }
   ],
   "source": [
    "with open('test.txt','rb') as f:\n",
    "    fs.put(f,filename = 'test.txt')\n",
    "    print('f = ',f)"
   ]
  },
  {
   "cell_type": "code",
   "execution_count": 6,
   "id": "0347cb0d",
   "metadata": {},
   "outputs": [
    {
     "name": "stdout",
     "output_type": "stream",
     "text": [
      "<pymongo.cursor.Cursor object at 0x000001B035CCC730>\n"
     ]
    }
   ],
   "source": [
    "print(db.fs.files.find())"
   ]
  },
  {
   "cell_type": "code",
   "execution_count": 7,
   "id": "20ee7885",
   "metadata": {},
   "outputs": [
    {
     "name": "stdout",
     "output_type": "stream",
     "text": [
      "len :  1\n"
     ]
    }
   ],
   "source": [
    "fs_list = list(db.fs.files.find())\n",
    "print('len : ',len(fs_list))"
   ]
  },
  {
   "cell_type": "code",
   "execution_count": 8,
   "id": "3ac69511",
   "metadata": {},
   "outputs": [
    {
     "data": {
      "text/plain": [
       "[{'_id': ObjectId('62e09d5ac64320e5067a4619'),\n",
       "  'filename': 'test.txt',\n",
       "  'chunkSize': 261120,\n",
       "  'length': 56,\n",
       "  'uploadDate': datetime.datetime(2022, 7, 27, 2, 5, 14, 842000)}]"
      ]
     },
     "execution_count": 8,
     "metadata": {},
     "output_type": "execute_result"
    }
   ],
   "source": [
    "fs_list"
   ]
  },
  {
   "cell_type": "code",
   "execution_count": 9,
   "id": "f8394017",
   "metadata": {},
   "outputs": [
    {
     "data": {
      "text/plain": [
       "'mongo test 몽고DB DRIDFS에 저장할 내용입니다.'"
      ]
     },
     "execution_count": 9,
     "metadata": {},
     "output_type": "execute_result"
    }
   ],
   "source": [
    "f = fs.get_last_version(filename='test.txt')\n",
    "f_decode = f.read().decode('utf-8')\n",
    "f_decode"
   ]
  },
  {
   "cell_type": "code",
   "execution_count": null,
   "id": "45cf7f8f",
   "metadata": {},
   "outputs": [],
   "source": []
  }
 ],
 "metadata": {
  "kernelspec": {
   "display_name": "Python 3 (ipykernel)",
   "language": "python",
   "name": "python3"
  },
  "language_info": {
   "codemirror_mode": {
    "name": "ipython",
    "version": 3
   },
   "file_extension": ".py",
   "mimetype": "text/x-python",
   "name": "python",
   "nbconvert_exporter": "python",
   "pygments_lexer": "ipython3",
   "version": "3.9.12"
  }
 },
 "nbformat": 4,
 "nbformat_minor": 5
}
