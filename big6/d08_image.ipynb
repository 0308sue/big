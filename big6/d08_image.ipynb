{
 "cells": [
  {
   "cell_type": "code",
   "execution_count": 1,
   "id": "66d2df4d",
   "metadata": {},
   "outputs": [],
   "source": [
    "from PIL import Image,ImageFilter"
   ]
  },
  {
   "cell_type": "code",
   "execution_count": 2,
   "id": "fb930d60",
   "metadata": {},
   "outputs": [
    {
     "data": {
      "text/plain": [
       "(800, 600)"
      ]
     },
     "execution_count": 2,
     "metadata": {},
     "output_type": "execute_result"
    }
   ],
   "source": [
    "im = Image.open('k_wordCloud.jpg')\n",
    "im.size"
   ]
  },
  {
   "cell_type": "code",
   "execution_count": 3,
   "id": "c40cf3ec",
   "metadata": {},
   "outputs": [],
   "source": [
    "im.save('k_wordCloud.jpg')"
   ]
  },
  {
   "cell_type": "code",
   "execution_count": 4,
   "id": "3c0e08ba",
   "metadata": {},
   "outputs": [],
   "source": [
    "im = Image.open('k_wordCloud.jpg')\n",
    "size=(64,64)\n",
    "im.thumbnail(size)\n",
    "im.save('k_wordCloud_crop.jpg')"
   ]
  },
  {
   "cell_type": "code",
   "execution_count": 5,
   "id": "f10ec09c",
   "metadata": {},
   "outputs": [],
   "source": [
    "im = Image.open('k_wordCloud.jpg')\n",
    "cropImage = im.crop((100,100,150,150))\n",
    "cropImage.save('k_wordCloud_crop.jpg')"
   ]
  },
  {
   "cell_type": "code",
   "execution_count": 6,
   "id": "f538f7e7",
   "metadata": {},
   "outputs": [],
   "source": [
    "img3 = im.rotate(90)\n",
    "img3.save('k_wordCloud_rotate.jpg')"
   ]
  },
  {
   "cell_type": "code",
   "execution_count": 8,
   "id": "aa18dbae",
   "metadata": {},
   "outputs": [],
   "source": [
    "im = Image.open('k_wordCloud.jpg')\n",
    "blurImage = im.filter(ImageFilter.BLUR)\n",
    "blurImage.save('k_wordCloud_blur.jpg')"
   ]
  },
  {
   "cell_type": "code",
   "execution_count": null,
   "id": "12fe8972",
   "metadata": {},
   "outputs": [],
   "source": []
  }
 ],
 "metadata": {
  "kernelspec": {
   "display_name": "Python 3 (ipykernel)",
   "language": "python",
   "name": "python3"
  },
  "language_info": {
   "codemirror_mode": {
    "name": "ipython",
    "version": 3
   },
   "file_extension": ".py",
   "mimetype": "text/x-python",
   "name": "python",
   "nbconvert_exporter": "python",
   "pygments_lexer": "ipython3",
   "version": "3.9.12"
  }
 },
 "nbformat": 4,
 "nbformat_minor": 5
}
