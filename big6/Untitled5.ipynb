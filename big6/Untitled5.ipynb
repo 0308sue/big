{
 "cells": [
  {
   "cell_type": "code",
   "execution_count": 1,
   "id": "21d3dcfe",
   "metadata": {},
   "outputs": [],
   "source": [
    "import numpy as np\n",
    "from folium import folium,plugins"
   ]
  },
  {
   "cell_type": "code",
   "execution_count": 3,
   "id": "caea69d4",
   "metadata": {},
   "outputs": [],
   "source": [
    "N = 100\n",
    "data = np.array(\n",
    "[\n",
    "    np.random.uniform(low = 35,high=38,size=N),np.random.uniform(low = 125,high=129,size=N)\n",
    "]).T\n",
    "popups = [str(i) for i in range(N)]\n",
    "m = folium.Map([37.566345,126.977893],zoom_start=10)\n",
    "\n",
    "plugins.MarkerCluster(data,popups=popups).add_to(m)\n",
    "m.save('folium_map_cluster.html')"
   ]
  },
  {
   "cell_type": "code",
   "execution_count": null,
   "id": "76115105",
   "metadata": {},
   "outputs": [],
   "source": []
  }
 ],
 "metadata": {
  "kernelspec": {
   "display_name": "Python 3 (ipykernel)",
   "language": "python",
   "name": "python3"
  },
  "language_info": {
   "codemirror_mode": {
    "name": "ipython",
    "version": 3
   },
   "file_extension": ".py",
   "mimetype": "text/x-python",
   "name": "python",
   "nbconvert_exporter": "python",
   "pygments_lexer": "ipython3",
   "version": "3.9.12"
  }
 },
 "nbformat": 4,
 "nbformat_minor": 5
}
