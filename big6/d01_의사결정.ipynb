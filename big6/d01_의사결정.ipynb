{
 "cells": [
  {
   "cell_type": "code",
   "execution_count": 2,
   "id": "5671d124",
   "metadata": {},
   "outputs": [],
   "source": [
    "#Decision Tree\n",
    "#날개유무/몸무게/골밀도/날 수 있는지\n",
    "\n",
    "data = { \n",
    "'wing': [False,True,True,True,True],\n",
    "'weight':['light','heavy','light','heavy','light'],\n",
    "'density':['low','high','high','high','low'],\n",
    "'fly':[False,False,False,False,True]}"
   ]
  },
  {
   "cell_type": "code",
   "execution_count": 6,
   "id": "2cebef02",
   "metadata": {},
   "outputs": [
    {
     "name": "stdout",
     "output_type": "stream",
     "text": [
      "펭귄 : 날 수 있는 지 확인합니다.\n"
     ]
    }
   ],
   "source": [
    "target_index = 1\n",
    "target_names = ['고양이','펭귄','닭','타조','참새']\n",
    "print(target_names[target_index],\": 날 수 있는 지 확인합니다.\")"
   ]
  },
  {
   "cell_type": "code",
   "execution_count": 7,
   "id": "feb981ae",
   "metadata": {},
   "outputs": [
    {
     "name": "stdout",
     "output_type": "stream",
     "text": [
      "날 수 없다\n"
     ]
    }
   ],
   "source": [
    "if data['wing'][target_index]:\n",
    "    if data['weight'][target_index]=='heavy':\n",
    "        print('날 수 없다')\n",
    "    else:\n",
    "        if data['density'][target_index]=='high':\n",
    "            print('날 수 없다')\n",
    "        else:\n",
    "            print('날 수 있다')\n",
    "else :\n",
    "    print('날 수 없다')"
   ]
  },
  {
   "cell_type": "code",
   "execution_count": 15,
   "id": "a9f33cf6",
   "metadata": {},
   "outputs": [],
   "source": [
    "# 나이 : 0~100,발사이즈 : 0~350 성별 판단\n",
    "data = { \n",
    "'age': [28,22,11,10],\n",
    "'fsize':[270,235,280,220],\n",
    "'density':['male','female','male','female']}"
   ]
  },
  {
   "cell_type": "code",
   "execution_count": 16,
   "id": "424cfcf0",
   "metadata": {},
   "outputs": [
    {
     "name": "stdout",
     "output_type": "stream",
     "text": [
      "2번회원 : 성별을 확인합니다.\n"
     ]
    }
   ],
   "source": [
    "target_index = 1\n",
    "target_names = ['1번회원','2번회원','3번회원','4번회원']\n",
    "print(target_names[target_index],\": 성별을 확인합니다.\")"
   ]
  },
  {
   "cell_type": "code",
   "execution_count": 17,
   "id": "a4d43906",
   "metadata": {},
   "outputs": [
    {
     "name": "stdout",
     "output_type": "stream",
     "text": [
      "female\n"
     ]
    }
   ],
   "source": [
    "if data['age'][target_index]<=20:\n",
    "    if data['fsize'][target_index]<=250:\n",
    "        print('female')\n",
    "    else:\n",
    "        print('male')\n",
    "else :\n",
    "    if data['fsize'][target_index]>=260:\n",
    "        print('male')\n",
    "    else:\n",
    "        print('female')"
   ]
  },
  {
   "cell_type": "code",
   "execution_count": null,
   "id": "1af20479",
   "metadata": {},
   "outputs": [],
   "source": []
  }
 ],
 "metadata": {
  "kernelspec": {
   "display_name": "Python 3 (ipykernel)",
   "language": "python",
   "name": "python3"
  },
  "language_info": {
   "codemirror_mode": {
    "name": "ipython",
    "version": 3
   },
   "file_extension": ".py",
   "mimetype": "text/x-python",
   "name": "python",
   "nbconvert_exporter": "python",
   "pygments_lexer": "ipython3",
   "version": "3.9.12"
  }
 },
 "nbformat": 4,
 "nbformat_minor": 5
}
