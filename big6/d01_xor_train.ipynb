{
 "cells": [
  {
   "cell_type": "code",
   "execution_count": 1,
   "id": "8ea11d5c",
   "metadata": {},
   "outputs": [
    {
     "data": {
      "text/plain": [
       "[[0, 0], [0, 1], [1, 0], [1, 1]]"
      ]
     },
     "execution_count": 1,
     "metadata": {},
     "output_type": "execute_result"
    }
   ],
   "source": [
    "from sklearn import svm\n",
    "\n",
    "xor_data =[\n",
    "    [0,0,0],[0,1,1],[1,0,1],[1,1,0]\n",
    "]\n",
    "\n",
    "#데이터와 레이블을 분리하기\n",
    "data = []\n",
    "label = []\n",
    "\n",
    "for row in xor_data:\n",
    "    p = row[0]\n",
    "    q = row[1]\n",
    "    r = row[2]\n",
    "    data.append([p,q])\n",
    "    label.append(r)\n",
    "data"
   ]
  },
  {
   "cell_type": "code",
   "execution_count": 2,
   "id": "54150dc8",
   "metadata": {},
   "outputs": [
    {
     "data": {
      "text/plain": [
       "[0, 1, 1, 0]"
      ]
     },
     "execution_count": 2,
     "metadata": {},
     "output_type": "execute_result"
    }
   ],
   "source": [
    "label"
   ]
  },
  {
   "cell_type": "code",
   "execution_count": 3,
   "id": "aebdadca",
   "metadata": {},
   "outputs": [
    {
     "data": {
      "text/plain": [
       "SVC()"
      ]
     },
     "execution_count": 3,
     "metadata": {},
     "output_type": "execute_result"
    }
   ],
   "source": [
    "#데이터 학습\n",
    "\n",
    "clf = svm.SVC()\n",
    "clf.fit(data,label)"
   ]
  },
  {
   "cell_type": "code",
   "execution_count": 4,
   "id": "d30ae0ca",
   "metadata": {},
   "outputs": [
    {
     "name": "stdout",
     "output_type": "stream",
     "text": [
      "예측 결과 :  [0 1 1 0]\n"
     ]
    }
   ],
   "source": [
    "# 데이터 예측\n",
    "\n",
    "pre = clf.predict(data)\n",
    "print(\"예측 결과 : \",pre)"
   ]
  },
  {
   "cell_type": "code",
   "execution_count": 5,
   "id": "7452cba2",
   "metadata": {},
   "outputs": [
    {
     "name": "stdout",
     "output_type": "stream",
     "text": [
      "정답률 :  4 / 4 = 1.0\n"
     ]
    }
   ],
   "source": [
    "ok = 0 \n",
    "total = 0\n",
    "for idx,answer in enumerate(label):\n",
    "    p = pre[idx]\n",
    "    if p == answer:\n",
    "        ok+=1\n",
    "    total +=1\n",
    "print(\"정답률 : \",ok,\"/\",total,\"=\",ok/total)"
   ]
  },
  {
   "cell_type": "code",
   "execution_count": null,
   "id": "99c044e2",
   "metadata": {},
   "outputs": [],
   "source": []
  }
 ],
 "metadata": {
  "kernelspec": {
   "display_name": "Python 3 (ipykernel)",
   "language": "python",
   "name": "python3"
  },
  "language_info": {
   "codemirror_mode": {
    "name": "ipython",
    "version": 3
   },
   "file_extension": ".py",
   "mimetype": "text/x-python",
   "name": "python",
   "nbconvert_exporter": "python",
   "pygments_lexer": "ipython3",
   "version": "3.9.12"
  }
 },
 "nbformat": 4,
 "nbformat_minor": 5
}
