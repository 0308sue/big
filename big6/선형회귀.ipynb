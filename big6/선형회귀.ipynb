{
 "cells": [
  {
   "cell_type": "code",
   "execution_count": 1,
   "id": "15ddc70d",
   "metadata": {},
   "outputs": [],
   "source": [
    "data = [(1,2),(2,2.5),(3,2),(3,3),(4,3),(5,5),(6,2),(7,4),(8,5)]"
   ]
  },
  {
   "cell_type": "code",
   "execution_count": 4,
   "id": "412b1a73",
   "metadata": {},
   "outputs": [
    {
     "name": "stdout",
     "output_type": "stream",
     "text": [
      "6.650000000000001\n"
     ]
    }
   ],
   "source": [
    "a = 0.4\n",
    "b = 1.4\n",
    "\n",
    "sums = 0\n",
    "for (x,y) in data:\n",
    "    predict = a*x+b\n",
    "    sums += (y-predict)*(y-predict)\n",
    "print(sums)"
   ]
  },
  {
   "cell_type": "code",
   "execution_count": null,
   "id": "b372b57d",
   "metadata": {},
   "outputs": [],
   "source": []
  }
 ],
 "metadata": {
  "kernelspec": {
   "display_name": "Python 3 (ipykernel)",
   "language": "python",
   "name": "python3"
  },
  "language_info": {
   "codemirror_mode": {
    "name": "ipython",
    "version": 3
   },
   "file_extension": ".py",
   "mimetype": "text/x-python",
   "name": "python",
   "nbconvert_exporter": "python",
   "pygments_lexer": "ipython3",
   "version": "3.9.12"
  }
 },
 "nbformat": 4,
 "nbformat_minor": 5
}
